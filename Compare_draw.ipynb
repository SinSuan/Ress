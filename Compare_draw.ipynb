{
 "cells": [
  {
   "cell_type": "code",
   "execution_count": 1,
   "metadata": {},
   "outputs": [],
   "source": [
    "import configparser\n",
    "import os\n",
    "\n",
    "from dotenv import load_dotenv\n",
    "\n",
    "load_dotenv(\".env\")\n",
    "\n",
    "CONFIG = configparser.ConfigParser()\n",
    "PATH_CONFIG = os.getenv('path_2_config')\n",
    "\n",
    "ENVIRONMENT = os.getenv('environment')\n",
    "if ENVIRONMENT==\"windows\":\n",
    "    CONFIG.read(PATH_CONFIG, encoding='utf-8')\n",
    "else:\n",
    "    CONFIG.read(PATH_CONFIG)\n",
    "\n",
    "DEBUGGER = CONFIG[\"DEBUGGER\"][\"DEBUGGER\"]"
   ]
  },
  {
   "cell_type": "markdown",
   "metadata": {},
   "source": [
    "# 畫圖"
   ]
  },
  {
   "cell_type": "code",
   "execution_count": 2,
   "metadata": {},
   "outputs": [],
   "source": [
    "# folder_record_Evo = [\n",
    "#     \"D:\\\\實習\\\\evoprompt\\\\Ress\\\\record\\\\2024_0724_0240_Evo\",\n",
    "#     \"D:\\\\實習\\\\evoprompt\\\\Ress\\\\record\\\\2024_0724_0439_Evo\",\n",
    "#     \"D:\\\\實習\\\\evoprompt\\\\Ress\\\\record\\\\2024_0724_0629_Evo\",\n",
    "#     \"D:\\\\實習\\\\evoprompt\\\\Ress\\\\record\\\\2024_0724_0820_Evo\",\n",
    "#     \"D:\\\\實習\\\\evoprompt\\\\Ress\\\\record\\\\2024_0724_1012_Evo\"\n",
    "# ]\n",
    "\n",
    "# for folder in folder_record_Evo:\n",
    "#     for i in range(6):\n",
    "#         wrong_path = f\"{folder}\\\\{i:02d}_ReSS.json\"\n",
    "#         with open(wrong_path,  'r', encoding='utf-8') as file:\n",
    "#             record = json.load(file)\n",
    "        \n",
    "#         correct_path = f\"{folder}\\\\{i:02d}_Evo.json\"\n",
    "#         with open(correct_path, 'w') as file:\n",
    "#             json.dump(record, file, indent=4)"
   ]
  },
  {
   "cell_type": "code",
   "execution_count": 3,
   "metadata": {},
   "outputs": [],
   "source": [
    "folder_experiment1 = 'D:\\\\實習\\\\evoprompt\\\\Ress\\\\record\\\\experiment1'\n",
    "folder_experiment2 = 'D:\\\\實習\\\\evoprompt\\\\Ress\\\\record\\\\experiment2'\n"
   ]
  },
  {
   "cell_type": "code",
   "execution_count": 4,
   "metadata": {},
   "outputs": [
    {
     "data": {
      "text/plain": [
       "array([[12, 12, 12, 12, 12, 12]])"
      ]
     },
     "execution_count": 4,
     "metadata": {},
     "output_type": "execute_result"
    }
   ],
   "source": [
    "import json\n",
    "import numpy as np \n",
    "\n",
    "# folder_record_Evo = [\n",
    "#     f\"{folder_experiment1}\\\\2024_0724_0240_Evo\",\n",
    "#     f\"{folder_experiment1}\\\\2024_0724_0439_Evo\",\n",
    "#     f\"{folder_experiment1}\\\\2024_0724_0629_Evo\",\n",
    "#     f\"{folder_experiment1}\\\\2024_0724_0820_Evo\",\n",
    "#     f\"{folder_experiment1}\\\\2024_0724_1012_Evo\"\n",
    "# ]\n",
    "\n",
    "folder_record_Evo = [\n",
    "    f\"{folder_experiment2}\\\\2024_0725_1226_Evo\"\n",
    "    # f\"{folder_experiment2}\\\\2024_0725_1414_Evo\"\n",
    "]\n",
    "\n",
    "ttl_experiment_evo = []\n",
    "for folder in folder_record_Evo:\n",
    "    ttl_socre = [12]\n",
    "    for i in range(5):\n",
    "        path_Evo = f\"{folder}\\\\{i:02d}_Evo.json\"\n",
    "        with open(path_Evo, 'r', encoding='utf-8') as file:\n",
    "            record = json.load(file)\n",
    "        score = record[\"best_promt\"][\"score\"]\n",
    "        ttl_socre.append(score)\n",
    "    ttl_experiment_evo.append(ttl_socre)\n",
    "\n",
    "ttl_experiment_evo = np.array(ttl_experiment_evo)\n",
    "ttl_experiment_evo\n",
    "\n",
    "ttl_experiment_evo = np.array([\n",
    "    [12, 12, 12, 12, 12, 12],\n",
    "    [12, 13, 13, 13, 13, 13]\n",
    "])"
   ]
  },
  {
   "cell_type": "code",
   "execution_count": 5,
   "metadata": {},
   "outputs": [
    {
     "data": {
      "text/plain": [
       "array([12., 12., 12., 12., 12., 12.])"
      ]
     },
     "execution_count": 5,
     "metadata": {},
     "output_type": "execute_result"
    }
   ],
   "source": [
    "avg_score_evo = np.mean(ttl_experiment_evo, axis=0)\n",
    "avg_score_evo"
   ]
  },
  {
   "cell_type": "code",
   "execution_count": 6,
   "metadata": {},
   "outputs": [
    {
     "data": {
      "text/plain": [
       "array([[12, 12, 12, 12, 12, 12, 12, 12, 12, 12, 12, 12, 12, 12, 12, 12,\n",
       "        12, 12, 12, 12, 12],\n",
       "       [12, 12, 12, 12, 12, 12, 12, 12, 12, 12, 12, 12, 12, 12, 12, 12,\n",
       "        13, 13, 13, 13, 13],\n",
       "       [12, 12, 12, 12, 12, 12, 12, 12, 12, 12, 12, 12, 12, 12, 12, 12,\n",
       "        12, 12, 12, 12, 12],\n",
       "       [12, 12, 12, 12, 12, 12, 12, 12, 12, 12, 12, 12, 12, 12, 12, 13,\n",
       "        13, 13, 13, 13, 13],\n",
       "       [12, 12, 12, 12, 12, 12, 12, 12, 12, 12, 12, 12, 12, 12, 12, 12,\n",
       "        12, 12, 12, 12, 12]])"
      ]
     },
     "execution_count": 6,
     "metadata": {},
     "output_type": "execute_result"
    }
   ],
   "source": [
    "import json\n",
    "import numpy as np \n",
    "\n",
    "# path_record_ReSS = [\n",
    "#     f\"{folder_experiment1}\\\\2024_0723_1258_ReSS.json\",\n",
    "#     f\"{folder_experiment1}\\\\2024_0723_1628_ReSS.json\",\n",
    "#     f\"{folder_experiment1}\\\\2024_0723_1802_ReSS.json\",\n",
    "#     f\"{folder_experiment1}\\\\2024_0723_1933_ReSS.json\",\n",
    "#     f\"{folder_experiment1}\\\\2024_0723_2102_ReSS.json\",\n",
    "# ]\n",
    "\n",
    "path_record_ReSS = [\n",
    "    f\"{folder_experiment2}\\\\2024_0724_1848_ReSS.json\",\n",
    "    f\"{folder_experiment2}\\\\2024_0724_2037_ReSS.json\",\n",
    "    f\"{folder_experiment2}\\\\2024_0724_2230_ReSS.json\",\n",
    "    f\"{folder_experiment2}\\\\2024_0725_0019_ReSS.json\",\n",
    "    f\"{folder_experiment2}\\\\2024_0725_0254_ReSS.json\"\n",
    "]\n",
    "\n",
    "ttl_experiment_ress = []\n",
    "for path in path_record_ReSS:\n",
    "    with open(path, 'r', encoding='utf-8') as file:\n",
    "        record = json.load(file)\n",
    "    ttl_socre = [12]\n",
    "    for r in record[\"record\"]:\n",
    "        r_sorted = sorted(r,  key=lambda x: x['score'],  reverse=True)\n",
    "        score = r_sorted[0][\"score\"]\n",
    "        ttl_socre.append(score)\n",
    "    ttl_experiment_ress.append(ttl_socre)\n",
    "\n",
    "ttl_experiment_ress = np.array(ttl_experiment_ress)\n",
    "ttl_experiment_ress"
   ]
  },
  {
   "cell_type": "code",
   "execution_count": 7,
   "metadata": {},
   "outputs": [
    {
     "data": {
      "text/plain": [
       "array([12. , 12. , 12. , 12. , 12. , 12. , 12. , 12. , 12. , 12. , 12. ,\n",
       "       12. , 12. , 12. , 12. , 12.2, 12.4, 12.4, 12.4, 12.4, 12.4])"
      ]
     },
     "execution_count": 7,
     "metadata": {},
     "output_type": "execute_result"
    }
   ],
   "source": [
    "avg_score_ress = np.mean(ttl_experiment_ress, axis=0)\n",
    "avg_score_ress"
   ]
  },
  {
   "cell_type": "code",
   "execution_count": 8,
   "metadata": {},
   "outputs": [
    {
     "name": "stdout",
     "output_type": "stream",
     "text": [
      "20\n",
      "5\n"
     ]
    }
   ],
   "source": [
    "print(len(avg_score_ress[:-1]))\n",
    "print(len(avg_score_evo[:-1]))"
   ]
  },
  {
   "cell_type": "code",
   "execution_count": 9,
   "metadata": {},
   "outputs": [],
   "source": [
    "idx = range(0,21,4)\n",
    "idx = np.array(idx).reshape(-1,1)"
   ]
  },
  {
   "cell_type": "code",
   "execution_count": 10,
   "metadata": {},
   "outputs": [
    {
     "data": {
      "text/plain": [
       "21"
      ]
     },
     "execution_count": 10,
     "metadata": {},
     "output_type": "execute_result"
    }
   ],
   "source": [
    "len(avg_score_ress)"
   ]
  },
  {
   "cell_type": "code",
   "execution_count": 11,
   "metadata": {},
   "outputs": [
    {
     "data": {
      "text/plain": [
       "array([12. , 12. , 12. , 12. , 12.4, 12.4])"
      ]
     },
     "metadata": {},
     "output_type": "display_data"
    },
    {
     "data": {
      "text/plain": [
       "array([12., 12., 12., 12., 12.])"
      ]
     },
     "metadata": {},
     "output_type": "display_data"
    }
   ],
   "source": [
    "display(avg_score_ress[idx].reshape(-1), avg_score_evo[:-1])"
   ]
  },
  {
   "cell_type": "code",
   "execution_count": 23,
   "metadata": {},
   "outputs": [
    {
     "data": {
      "image/png": "[encoded data removed]",
      "text/plain": [
       "<Figure size 1000x500 with 1 Axes>"
      ]
     },
     "metadata": {},
     "output_type": "display_data"
    }
   ],
   "source": [
    "import matplotlib.pyplot as plt\n",
    "\n",
    "# 数据\n",
    "# a = avg_score_ress[:-1]/20\n",
    "# b = avg_score_evo[:-1]/20\n",
    "avg_score_ress\n",
    "avg_score_evo\n",
    "ttl_experiment_ress\n",
    "ttl_experiment_evo\n",
    "\n",
    "# 索引对齐\n",
    "indices_ReSS = [0, 4, 8, 12, 16, 20]\n",
    "indices_Evo = [0, 1, 2, 3, 4, 5]\n",
    "\n",
    "# 绘图\n",
    "plt.figure(figsize=(10, 5))\n",
    "\n",
    "# # ReSS\n",
    "# plt.plot(range(21), ttl_experiment_ress[-1], marker='x', label=f'Ress', color=(1,0,0,0.2))\n",
    "# for i, experiment in enumerate(ttl_experiment_ress[:-1]):\n",
    "#     plt.plot(range(21), experiment, marker='x', color=(1,0,0,0.2))\n",
    "\n",
    "# # Evo DE\n",
    "# plt.plot(range(0,21,4), ttl_experiment_evo[-1], marker='o', label=f'Evo', color=(0,0,1,0.2))\n",
    "# for i, experiment in enumerate(ttl_experiment_evo[:-1]):\n",
    "#     plt.plot(range(0,21,4), experiment, marker='o', color=(0,0,1,0.2))\n",
    "\n",
    "# avg\n",
    "plt.plot(range(21), avg_score_ress, marker='x', linestyle='--', label=f'Ress-avg', color=(0,0.6,0))\n",
    "plt.plot(range(0,21,4), avg_score_evo, marker='o', linestyle='--', label=f'Evo-avg', color=(1,0.75,0))\n",
    "# best\n",
    "plt.plot(range(21), ttl_experiment_ress[1], marker='x', label=f'Ress-best', color=(0,0.6,0))\n",
    "plt.plot(range(0,21,4), ttl_experiment_evo[0], marker='o', label=f'Evo-best', color=(1,0.75,0))\n",
    "\n",
    "\n",
    "# 添加标题和标签\n",
    "plt.title('20 questions from Quality', fontsize=18)\n",
    "plt.xlabel('# of new prompts', fontsize=14)\n",
    "plt.ylabel('# of correct answers', fontsize=14)\n",
    "plt.legend()\n",
    "\n",
    "# 規定座標軸\n",
    "plt.xticks(range(0,21))\n",
    "# plt.yticks(range(12,14))\n",
    "plt.yticks([12,12.5,13])\n",
    "plt.ylim(11.9, 13.1)\n",
    "\n",
    "# 調整圖例\n",
    "plt.legend(handlelength=4, loc='upper left')\n",
    "\n",
    "# 显示图形\n",
    "plt.grid(True)\n",
    "plt.show()\n"
   ]
  },
  {
   "cell_type": "code",
   "execution_count": null,
   "metadata": {},
   "outputs": [],
   "source": []
  }
 ],
 "metadata": {
  "kernelspec": {
   "display_name": "Python 3",
   "language": "python",
   "name": "python3"
  },
  "language_info": {
   "codemirror_mode": {
    "name": "ipython",
    "version": 3
   },
   "file_extension": ".py",
   "mimetype": "text/x-python",
   "name": "python",
   "nbconvert_exporter": "python",
   "pygments_lexer": "ipython3",
   "version": "3.11.9"
  }
 },
 "nbformat": 4,
 "nbformat_minor": 2
}
