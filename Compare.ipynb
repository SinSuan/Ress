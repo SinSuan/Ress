{
 "cells": [
  {
   "cell_type": "markdown",
   "metadata": {},
   "source": [
    "# 實驗"
   ]
  },
  {
   "cell_type": "code",
   "execution_count": 1,
   "metadata": {},
   "outputs": [],
   "source": [
    "import configparser\n",
    "import os\n",
    "\n",
    "from dotenv import load_dotenv\n",
    "\n",
    "load_dotenv(\".env\")\n",
    "\n",
    "CONFIG = configparser.ConfigParser()\n",
    "PATH_CONFIG = os.getenv('path_2_config')\n",
    "\n",
    "ENVIRONMENT = os.getenv('environment')\n",
    "if ENVIRONMENT==\"windows\":\n",
    "    CONFIG.read(PATH_CONFIG, encoding='utf-8')\n",
    "else:\n",
    "    CONFIG.read(PATH_CONFIG)\n",
    "\n",
    "DEBUGGER = CONFIG[\"DEBUGGER\"][\"DEBUGGER\"]"
   ]
  },
  {
   "cell_type": "markdown",
   "metadata": {},
   "source": [
    "## 超參數設定\n"
   ]
  },
  {
   "cell_type": "markdown",
   "metadata": {},
   "source": [
    "### 停止條件"
   ]
  },
  {
   "cell_type": "code",
   "execution_count": 2,
   "metadata": {},
   "outputs": [],
   "source": [
    "PATH_STOP_FILE = os.path.join(os.getcwd(), 'stop_true.txt') # 人工 early stop 的檔案位置\n",
    "NUM_NEW_PROMPT = 20   # 必須是 prompt_population 的倍數\n",
    "STOP_SCORE=100  # 練蠱終止條件(我是設超過baseline做100題後的分數，這邊看你資料量來設)"
   ]
  },
  {
   "cell_type": "markdown",
   "metadata": {},
   "source": [
    "### 路徑"
   ]
  },
  {
   "cell_type": "code",
   "execution_count": 3,
   "metadata": {},
   "outputs": [],
   "source": [
    "from pathlib import Path\n",
    "\n",
    "folder_record = Path(CONFIG[\"datapath\"][\"record_folder\"])\n",
    "name_experiment = \"experiment_test\" # 主要是改這行\n",
    "FOLDER_EXPERIMENT = folder_record / name_experiment"
   ]
  },
  {
   "cell_type": "markdown",
   "metadata": {},
   "source": [
    "## 製作初始化資料\n",
    "\n",
    "**只有要建立新資料的時候才需要跑**"
   ]
  },
  {
   "cell_type": "code",
   "execution_count": 4,
   "metadata": {},
   "outputs": [
    {
     "name": "stderr",
     "output_type": "stream",
     "text": [
      "C:\\Users\\vicky\\AppData\\Local\\Packages\\PythonSoftwareFoundation.Python.3.11_qbz5n2kfra8p0\\LocalCache\\local-packages\\Python311\\site-packages\\tqdm\\auto.py:21: TqdmWarning: IProgress not found. Please update jupyter and ipywidgets. See https://ipywidgets.readthedocs.io/en/stable/user_install.html\n",
      "  from .autonotebook import tqdm as notebook_tqdm\n"
     ]
    },
    {
     "name": "stdout",
     "output_type": "stream",
     "text": [
      "目前使用模型為:Breeze\n"
     ]
    },
    {
     "name": "stderr",
     "output_type": "stream",
     "text": [
      "100%|██████████| 30/30 [06:43<00:00, 13.44s/it]\n",
      "100%|██████████| 7/7 [01:37<00:00, 13.89s/it]\n",
      "100%|██████████| 30/30 [07:27<00:00, 14.90s/it]\n",
      "100%|██████████| 7/7 [01:40<00:00, 14.35s/it]\n",
      "100%|██████████| 30/30 [06:49<00:00, 13.65s/it]\n",
      "100%|██████████| 7/7 [01:36<00:00, 13.77s/it]\n",
      "100%|██████████| 30/30 [07:32<00:00, 15.07s/it]\n",
      "100%|██████████| 7/7 [01:42<00:00, 14.64s/it]\n"
     ]
    }
   ],
   "source": [
    "from main import init_setting\n",
    "\n",
    "type_llm = \"Breeze\"\n",
    "# type_embedding = \"multi-qa-mpnet-base-dot-v1\"\n",
    "type_embedding = \"bgem3\"\n",
    "# type_embedding = None\n",
    "\n",
    "# path_prompt = CONFIG[\"datapath\"][\"init_os_prompt\"]\n",
    "# path_prompt = \"D:\\\\實習\\\\evoprompt\\\\Ress\\\\dataset\\\\init_os_prompt_corpus_2024_0724_1357.json\"\n",
    "path_prompt = \"D:\\\\實習\\\\evoprompt\\\\Ress\\\\dataset\\\\init_os_prompt_corpus.json\"\n",
    "\n",
    "path_data = CONFIG[\"datapath\"][\"Final_Quality\"]\n",
    "print(f\"{path_data=}\")\n",
    "\n",
    "ttl_model, ttl_dataset, ttl_pair_os_prompt_scores = init_setting(type_llm, type_embedding, path_data, path_prompt)"
   ]
  },
  {
   "cell_type": "code",
   "execution_count": 5,
   "metadata": {},
   "outputs": [],
   "source": [
    "import json\n",
    "from utils.tools import get_file_name, time_now\n",
    "\n",
    "t = time_now()\n",
    "path_folder = \"D:\\\\實習\\\\evoprompt\\\\Ress\\\\init_prompt\"\n",
    "path_file = f\"{path_folder}/{t}_20data.json\"\n",
    "data = {\n",
    "    \"corpus\": get_file_name(path_data),\n",
    "    \"type_llm\": type_llm,\n",
    "    \"type_embedding\": type_embedding,\n",
    "    \"prompt_popularion\": ttl_pair_os_prompt_scores,\n",
    "    \"data\": ttl_dataset\n",
    "}\n",
    "with open(path_file, 'w') as file:\n",
    "    json.dump(data, file, indent=4)"
   ]
  },
  {
   "cell_type": "markdown",
   "metadata": {},
   "source": [
    "## 初始化"
   ]
  },
  {
   "cell_type": "code",
   "execution_count": 4,
   "metadata": {},
   "outputs": [],
   "source": [
    "import json\n",
    "\n",
    "from utils.call_model.embedding import Encoder\n",
    "from utils.call_model.llm import LLM\n",
    "\n",
    "def get_init(path_init = None):\n",
    "    \n",
    "    if path_init==None:\n",
    "        path_init = \"D:\\\\實習\\\\evoprompt\\\\Ress\\\\init_prompt\\\\2024_0726_1212_data_30-7.json\"\n",
    "        # path_init = \"D:\\\\實習\\\\evoprompt\\\\Ress\\\\init_prompt\\\\test.json\"\n",
    "    with open(path_init,  'r') as file:\n",
    "        record_init = json.load(file)\n",
    "\n",
    "    # 指定 llm\n",
    "    llm = LLM(record_init[\"type_llm\"])\n",
    "\n",
    "    # 指定 embedding model\n",
    "    if record_init[\"type_embedding\"] is None:\n",
    "        embedding_model = None\n",
    "    else:\n",
    "        embedding_model = Encoder(record_init[\"type_embedding\"])\n",
    "\n",
    "    ttl_model = (llm, embedding_model)\n",
    "    \n",
    "    return ttl_model, record_init"
   ]
  },
  {
   "cell_type": "markdown",
   "metadata": {},
   "source": [
    "## ReSS"
   ]
  },
  {
   "cell_type": "code",
   "execution_count": 5,
   "metadata": {},
   "outputs": [
    {
     "name": "stderr",
     "output_type": "stream",
     "text": [
      "C:\\Users\\vicky\\AppData\\Local\\Packages\\PythonSoftwareFoundation.Python.3.11_qbz5n2kfra8p0\\LocalCache\\local-packages\\Python311\\site-packages\\tqdm\\auto.py:21: TqdmWarning: IProgress not found. Please update jupyter and ipywidgets. See https://ipywidgets.readthedocs.io/en/stable/user_install.html\n",
      "  from .autonotebook import tqdm as notebook_tqdm\n"
     ]
    }
   ],
   "source": [
    "import json\n",
    "from utils.ReSS import ReSS\n",
    "from utils.tools import time_now\n",
    "\n",
    "def test_ReSS():\n",
    "    \"\"\" 每生成一個 prompt 就存一次 population\n",
    "    \"\"\"\n",
    "    ttl_model, record_init = get_init()\n",
    "    corpus = record_init[\"corpus\"]\n",
    "    type_llm = record_init[\"type_llm\"]\n",
    "    type_embedding = record_init[\"type_embedding\"]\n",
    "    ttl_pair_os_prompt_scores = record_init[\"prompt_popularion\"]\n",
    "    ttl_dataset = record_init[\"data\"]\n",
    "    \n",
    "    ttl_dataset = {\n",
    "        \"train_split\": ttl_dataset[\"train_split\"][:1],\n",
    "        \"dev_split\": ttl_dataset[\"dev_split\"][:1]\n",
    "    }\n",
    "\n",
    "    # stop_run_num = NUM_NEW_PROMPT   # 或是設一個回合數來終止(本來我會讓他跑到天荒地老所以沒有用for loop)\n",
    "    stop_run_num = 1\n",
    "\n",
    "    record_population = []\n",
    "\n",
    "    # record_population.append(ttl_pair_os_prompt_scores)\n",
    "    sorted_pair = sorted(ttl_pair_os_prompt_scores,  key=lambda x: x['train_score'],  reverse=True)\n",
    "    while(\n",
    "        sorted_pair[0]['train_score']<STOP_SCORE\n",
    "        and stop_run_num>0\n",
    "        and not os.path.exists(PATH_STOP_FILE)   # 人工 early stop\n",
    "    ):\n",
    "        new_population = ReSS(ttl_model, ttl_dataset, sorted_pair)\n",
    "        \n",
    "        record_population.append(new_population)\n",
    "        sorted_pair = sorted(new_population,  key=lambda x: x['train_score'],  reverse=True)\n",
    "\n",
    "        stop_run_num -= 1\n",
    "\n",
    "    # 儲存結果\n",
    "    t = time_now()\n",
    "    file_path = FOLDER_EXPERIMENT / f\"{t}_ReSS.json\"\n",
    "    data = {\n",
    "        \"corpus\": corpus,\n",
    "        \"type_llm\": type_llm,\n",
    "        \"type_embedding\": type_embedding,\n",
    "        \"best_promt\": sorted_pair[0],\n",
    "        \"record\": record_population\n",
    "    }\n",
    "    with open(file_path, 'w') as file:\n",
    "        json.dump(data, file, indent=4)\n",
    "    print(f\"\\n\\n\\nthe result is saved at:\\n{file_path}\")"
   ]
  },
  {
   "cell_type": "code",
   "execution_count": 6,
   "metadata": {},
   "outputs": [
    {
     "name": "stderr",
     "output_type": "stream",
     "text": [
      "100%|██████████| 1/1 [00:02<00:00,  2.09s/it]\n",
      "100%|██████████| 1/1 [00:18<00:00, 18.57s/it]"
     ]
    },
    {
     "name": "stdout",
     "output_type": "stream",
     "text": [
      "\n",
      "\n",
      "\n",
      "the result is saved at:\n",
      "D:\\實習\\evoprompt\\Ress\\record\\experiment_test\\2024_0726_1653_ReSS.json\n"
     ]
    },
    {
     "name": "stderr",
     "output_type": "stream",
     "text": [
      "\n"
     ]
    }
   ],
   "source": [
    "for i in range(1):\n",
    "    test_ReSS()"
   ]
  },
  {
   "cell_type": "markdown",
   "metadata": {},
   "source": [
    "## EvoDE"
   ]
  },
  {
   "cell_type": "code",
   "execution_count": 5,
   "metadata": {},
   "outputs": [
    {
     "name": "stderr",
     "output_type": "stream",
     "text": [
      "C:\\Users\\vicky\\AppData\\Local\\Packages\\PythonSoftwareFoundation.Python.3.11_qbz5n2kfra8p0\\LocalCache\\local-packages\\Python311\\site-packages\\tqdm\\auto.py:21: TqdmWarning: IProgress not found. Please update jupyter and ipywidgets. See https://ipywidgets.readthedocs.io/en/stable/user_install.html\n",
      "  from .autonotebook import tqdm as notebook_tqdm\n"
     ]
    }
   ],
   "source": [
    "import json\n",
    "from pathlib import Path\n",
    "from utils.EvoPrompt import EvoDE\n",
    "from utils.tools import time_now\n",
    "\n",
    "def test_EvoDE():\n",
    "    \"\"\" 每更新一次整個 population 才儲存一次\n",
    "    \"\"\"\n",
    "    t = time_now()\n",
    "    path_folder = FOLDER_EXPERIMENT / f\"{t}_Evo\"\n",
    "    path_folder.mkdir(parents=True, exist_ok=True)\n",
    "    \n",
    "    ttl_model, record_init = get_init()\n",
    "    corpus = record_init[\"corpus\"]\n",
    "    type_llm = record_init[\"type_llm\"]\n",
    "    type_embedding = record_init[\"type_embedding\"]\n",
    "    ttl_pair_os_prompt_scores = record_init[\"prompt_popularion\"]\n",
    "    ttl_dataset = record_init[\"data\"]\n",
    "    \n",
    "    # num_test = 1\n",
    "    # ttl_dataset = {\n",
    "    #     \"train_split\": ttl_dataset[\"train_split\"][:num_test],\n",
    "    #     \"dev_split\": ttl_dataset[\"dev_split\"][:num_test]\n",
    "    # }\n",
    "\n",
    "    stop_run_num = int(NUM_NEW_PROMPT/4)   # 或是設一個回合數來終止(本來我會讓他跑到天荒地老所以沒有用for loop)\n",
    "    # stop_run_num=1\n",
    "\n",
    "    record_population = []\n",
    "\n",
    "    record_population.append(ttl_pair_os_prompt_scores)\n",
    "    sorted_pair = sorted(ttl_pair_os_prompt_scores,  key=lambda x: x['train_score'],  reverse=True)\n",
    "    while(\n",
    "        sorted_pair[0]['train_score']<STOP_SCORE\n",
    "        and stop_run_num>0\n",
    "        and not os.path.exists(PATH_STOP_FILE)   # 人工 early stop\n",
    "    ):\n",
    "        new_population = EvoDE(ttl_model, ttl_dataset, sorted_pair)\n",
    "        \n",
    "        record_population.append(new_population)\n",
    "        sorted_pair = sorted(new_population,  key=lambda x: x['train_score'],  reverse=True)\n",
    "\n",
    "        # 儲存結果\n",
    "        file_path = path_folder / f\"{int(NUM_NEW_PROMPT/4) - stop_run_num:02d}_EvoDE.json\"\n",
    "        data = {\n",
    "            \"corpus\": corpus,\n",
    "            \"type_llm\": type_llm,\n",
    "            \"type_embedding\": type_embedding,\n",
    "            \"best_promt\": sorted_pair[0],\n",
    "            \"record\": sorted_pair\n",
    "        }\n",
    "        with open(file_path, 'w') as file:\n",
    "            json.dump(data, file, indent=4)\n",
    "        print(f\"\\n\\n\\nthe result is saved at:\\n{file_path}\")\n",
    "        \n",
    "        stop_run_num -= 1\n",
    "    "
   ]
  },
  {
   "cell_type": "code",
   "execution_count": 6,
   "metadata": {},
   "outputs": [
    {
     "name": "stdout",
     "output_type": "stream",
     "text": [
      "enter time_now\n",
      "exit time_now\n",
      "enter EvoDE\n",
      "enter get_new_prompt\n",
      "enter api_breeze\n",
      "response=<Response [200]>\n",
      "j_result={'generated_text': \" Identifying the different parts between Prompt 1 and Prompt 2:\\nPrompt 1: The text content should be concise and follow a universal structure.\\nTo ensure a correct answer, the process of creating a summary should focus on identifying the main points and key details of the text.\\nIt should avoid including specific content or names from the original article and instead provide a general overview of the information.\\nThe summary should follow a universal structure, presenting the main idea and supporting details in a clear and concise manner.\\nBy following these guidelines, the summary can accurately reflect the content of the text and lead to a correct answer.\\nPrompt 2: The text content should be concise and follow a universal structure.\\nTo ensure a correct answer, the process of creating a summary should focus on identifying the main points and key details of the text.\\nIt should avoid including specific content or names from the original article and instead provide a general overview of the information.\\nThe summary should follow a universal structure, presenting the main idea and supporting details in a clear and concise manner.\\nBy following these guidelines, the summary can accurately reflect the content of the text and lead to a correct answer.\\n\\n2. Randomly mutate the different parts\\n3. Combine the different parts with Prompt 3, selectively replace it with the different parts in step 2 and generate a new prompt.\\nPrompt 3: Let's break down the process of creating a concise summary, focusing on the main points and key details of the text.\\n\\n4. Crossover the prompt in step 3 with the following basic prompt and generate a final prompt bracketed with <prompt> and </prompt>:\\nBasic Prompt: Let's think step by step.\\nFinal Prompt: <prompt>Let's think step by step: Break down the process of creating a concise summary, focusing on the main points and key details of the text.</prompt>\"}\n",
      "exit api_breeze\n",
      "exit get_new_prompt\n",
      "new_prompt=\"Let's think step by step: Break down the process of creating a concise summary, focusing on the main points and key details of the text.\"\n",
      "enter experiment\n"
     ]
    },
    {
     "name": "stderr",
     "output_type": "stream",
     "text": [
      "  0%|          | 0/30 [00:00<?, ?it/s]"
     ]
    },
    {
     "name": "stdout",
     "output_type": "stream",
     "text": [
      "enter answer\n",
      "enter os_ap_sss_answer\n",
      "enter api_breeze\n"
     ]
    },
    {
     "name": "stderr",
     "output_type": "stream",
     "text": [
      "  3%|▎         | 1/30 [00:02<01:05,  2.27s/it]"
     ]
    },
    {
     "name": "stdout",
     "output_type": "stream",
     "text": [
      "response=<Response [200]>\n",
      "j_result={'generated_text': ' Answer__option3'}\n",
      "exit api_breeze\n",
      "exit os_ap_sss_answer\n",
      "exit answer\n",
      "enter pick_up\n",
      "exit pick_up,  3\n",
      "enter answer\n",
      "enter os_ap_sss_answer\n",
      "enter api_breeze\n",
      "response=<Response [200]>\n",
      "j_result={'generated_text': ' The relationship between conventional publishing and open access is that they both serve different purposes and cater to the needs of authors and readers. Conventional publishing is better for authors who rely on sales and royalties, while open access is better for readers who want free and unrestricted access to research literature. Many people interact with both, and each side is adapting over time to the needs of the readers and authors.'}\n",
      "exit api_breeze\n",
      "enter api_breeze\n",
      "response=<Response [200]>\n",
      "j_result={'generated_text': ' The relationship between conventional publishing and open access is that they both serve the needs of authors and readers, but with different approaches. Conventional publishing is better for authors who work for royalties and make their research articles into commodities, while open access benefits authors as well as readers by providing a larger audience and greater impact. Open access articles are cited more often and downloaded more frequently, leading to increased visibility and potential for career building. Both conventional publishing and open access are adapting over time to the needs of authors and readers, and many people interact with both, making it a dynamic and evolving relationship.'}\n",
      "exit api_breeze\n",
      "enter api_breeze\n",
      "response=<Response [200]>\n",
      "j_result={'generated_text': \" The relationship between conventional publishing and open access is that they are both methods of sharing research and scholarly work. Conventional publishing typically charges readers for access, while open access allows free access to research literature. Open access is not an attempt to replace or undermine conventional publishers, but rather to advance the interests of research, researchers, and research institutions. Many conventional publishers are adapting to open access by allowing author-initiated OA, providing some OA themselves, or experimenting with OA. Open access doesn't require boycotting any kind of literature or publisher, and it doesn't primarily focus on bringing access to lay readers. Instead, it focuses on bringing access to professional researchers whose careers depend on access.\"}\n",
      "exit api_breeze\n",
      "enter api_breeze\n"
     ]
    },
    {
     "name": "stderr",
     "output_type": "stream",
     "text": [
      "  7%|▋         | 2/30 [00:28<07:39, 16.42s/it]"
     ]
    },
    {
     "name": "stdout",
     "output_type": "stream",
     "text": [
      "response=<Response [200]>\n",
      "j_result={'generated_text': ' Answer__option3'}\n",
      "exit api_breeze\n",
      "exit os_ap_sss_answer\n",
      "exit answer\n",
      "enter pick_up\n",
      "exit pick_up,  3\n",
      "enter answer\n",
      "enter os_ap_sss_answer\n",
      "enter api_breeze\n",
      "response=<Response [200]>\n",
      "j_result={'generated_text': ' A Nilly is a person who is able to come back from the dead, but like Lazarus, not like a zombie.'}\n",
      "exit api_breeze\n",
      "enter api_breeze\n",
      "response=<Response [200]>\n",
      "j_result={'generated_text': ' A Nilly is a trained operative used by colony transport ships to keep the colonists focused on a common enemy.'}\n",
      "exit api_breeze\n",
      "enter api_breeze\n"
     ]
    },
    {
     "name": "stderr",
     "output_type": "stream",
     "text": [
      " 10%|█         | 3/30 [00:43<07:06, 15.80s/it]"
     ]
    },
    {
     "name": "stdout",
     "output_type": "stream",
     "text": [
      "response=<Response [200]>\n",
      "j_result={'generated_text': ' Answer__option4'}\n",
      "exit api_breeze\n",
      "exit os_ap_sss_answer\n",
      "exit answer\n",
      "enter pick_up\n",
      "exit pick_up,  4\n",
      "enter answer\n",
      "enter os_ap_sss_answer\n",
      "enter api_breeze\n",
      "response=<Response [200]>\n",
      "j_result={'generated_text': ' The most likely reason for Mrs. Sarah Glubbes calling her neutroid a baby is option2: She became too attached to her neutroid.'}\n",
      "exit api_breeze\n",
      "enter api_breeze\n",
      "response=<Response [200]>\n",
      "j_result={'generated_text': ' Based on the given text, the most likely reason for Mrs. Sarah Glubbes calling her neutroid a baby is option 2: She became too attached to her neutroid.'}\n",
      "exit api_breeze\n",
      "enter api_breeze\n",
      "response=<Response [200]>\n",
      "j_result={'generated_text': ' Based on the provided text, the most likely reason for Mrs. Sarah Glubbes calling her neutroid a baby is option 2: She became too attached to her neutroid.'}\n",
      "exit api_breeze\n",
      "enter api_breeze\n",
      "response=<Response [200]>\n",
      "j_result={'generated_text': ' Based on the provided text, the most likely reason for Mrs. Sarah Glubbes calling her neutroid a baby is option2: She became too attached to her neutroid.'}\n",
      "exit api_breeze\n",
      "enter api_breeze\n",
      "response=<Response [200]>\n",
      "j_result={'generated_text': ' Based on the given text, the most likely reason for Mrs. Sarah Glubbes calling her neutroid a baby is option2: She became too attached to her neutroid.'}\n",
      "exit api_breeze\n",
      "enter api_breeze\n",
      "response=<Response [200]>\n",
      "j_result={'generated_text': ' Based on the information provided in the text, the most likely reason for Mrs. Sarah Glubbes calling her neutroid a baby is option 2: She became too attached to her neutroid. The text does not provide any information about her being a Class C citizen or having a mental or emotional disorder, nor does it mention her trying to distract the authorities from the neutroid black market. The text does not provide any information about the neutroid being a human child, so option 4 is not supported by the text.'}\n",
      "exit api_breeze\n",
      "enter api_breeze\n",
      "response=<Response [200]>\n",
      "j_result={'generated_text': ' Based on the text provided, the most likely reason for Mrs. Sarah Glubbes calling her neutroid a baby is option2: She became too attached to her neutroid.'}\n",
      "exit api_breeze\n",
      "enter api_breeze\n",
      "response=<Response [200]>\n",
      "j_result={'generated_text': ' Based on the text, the most likely reason for Mrs. Sarah Glubbes calling her neutroid a baby is option2: She became too attached to her neutroid.'}\n",
      "exit api_breeze\n",
      "enter api_breeze\n",
      "response=<Response [200]>\n",
      "j_result={'generated_text': ' Based on the text provided, the most likely reason for Mrs. Sarah Glubbes calling her neutroid a baby is option2: She became too attached to her neutroid.'}\n",
      "exit api_breeze\n",
      "enter api_breeze\n",
      "response=<Response [200]>\n",
      "j_result={'generated_text': ' Based on the text provided, the most likely reason for Mrs. Sarah Glubbes calling her neutroid a baby is option 2: She became too attached to her neutroid.'}\n",
      "exit api_breeze\n",
      "enter api_breeze\n",
      "response=<Response [200]>\n",
      "j_result={'generated_text': ' Based on the text provided, the most likely reason for Mrs. Sarah Glubbes calling her neutroid a baby is option2: She became too attached to her neutroid.'}\n",
      "exit api_breeze\n",
      "enter api_breeze\n",
      "response=<Response [200]>\n",
      "j_result={'generated_text': ' Based on the text provided, the most likely reason for Mrs. Sarah Glubbes calling her neutroid a baby is option 2: She became too attached to her neutroid. The text does not provide any information to support options 1, 3, or 4.'}\n",
      "exit api_breeze\n",
      "enter api_breeze\n",
      "response=<Response [200]>\n",
      "j_result={'generated_text': ' The most likely reason for Mrs. Sarah Glubbes calling her neutroid a baby is option2: She became too attached to her neutroid.'}\n",
      "exit api_breeze\n",
      "enter api_breeze\n",
      "response=<Response [200]>\n",
      "j_result={'generated_text': ' Based on the text provided, the most likely reason for Mrs. Sarah Glubbes calling her neutroid a baby is option2: She became too attached to her neutroid.'}\n",
      "exit api_breeze\n",
      "enter api_breeze\n",
      "response=<Response [200]>\n",
      "j_result={'generated_text': ' The most likely reason for Mrs. Sarah Glubbes calling her neutroid a baby is option2: She became too attached to her neutroid.'}\n",
      "exit api_breeze\n",
      "enter api_breeze\n",
      "response=<Response [200]>\n",
      "j_result={'generated_text': ' The most likely reason for Mrs. Sarah Glubbes calling her neutroid a baby is option2: She became too attached to her neutroid.'}\n",
      "exit api_breeze\n",
      "enter api_breeze\n",
      "response=<Response [200]>\n",
      "j_result={'generated_text': ' Based on the text provided, the most likely reason for Mrs. Sarah Glubbes calling her neutroid a baby is option2: She became too attached to her neutroid.'}\n",
      "exit api_breeze\n",
      "enter api_breeze\n",
      "response=<Response [200]>\n",
      "j_result={'generated_text': ' The most likely reason for Mrs. Sarah Glubbes calling her neutroid a baby is option2: She became too attached to her neutroid.'}\n",
      "exit api_breeze\n",
      "enter api_breeze\n"
     ]
    },
    {
     "name": "stderr",
     "output_type": "stream",
     "text": [
      " 13%|█▎        | 4/30 [01:39<13:37, 31.43s/it]"
     ]
    },
    {
     "name": "stdout",
     "output_type": "stream",
     "text": [
      "response=<Response [200]>\n",
      "j_result={'generated_text': ' Answer__option2'}\n",
      "exit api_breeze\n",
      "exit os_ap_sss_answer\n",
      "exit answer\n",
      "enter pick_up\n",
      "exit pick_up,  2\n",
      "enter answer\n",
      "enter os_ap_sss_answer\n",
      "enter api_breeze\n",
      "response=<Response [200]>\n",
      "j_result={'generated_text': \" The overall reaction to Rocsates' suggestions is symbolic of option2: Resistance to intellectualism. The Conclave initially struggles to accept the idea of reproduction without the Maternite Machine, but eventually, they come to terms with the possibility and decide to experiment with it. This resistance to intellectualism is evident in their initial disbelief and reluctance to accept new ideas, but they eventually adapt and consider the potential benefits of the new concept.\"}\n",
      "exit api_breeze\n",
      "enter api_breeze\n",
      "response=<Response [200]>\n",
      "j_result={'generated_text': \" The overall reaction to Rocsates' suggestions is symbolic of option3: Potential of innovation.\"}\n",
      "exit api_breeze\n",
      "enter api_breeze\n"
     ]
    },
    {
     "name": "stderr",
     "output_type": "stream",
     "text": [
      " 17%|█▋        | 5/30 [01:52<10:26, 25.07s/it]"
     ]
    },
    {
     "name": "stdout",
     "output_type": "stream",
     "text": [
      "response=<Response [200]>\n",
      "j_result={'generated_text': ' Answer__option2'}\n",
      "exit api_breeze\n",
      "exit os_ap_sss_answer\n",
      "exit answer\n",
      "enter pick_up\n",
      "exit pick_up,  2\n",
      "enter answer\n",
      "enter os_ap_sss_answer\n",
      "enter api_breeze\n",
      "response=<Response [200]>\n",
      "j_result={'generated_text': \" After the blast, the four Americans discuss the situation and try to communicate with Base Gagarin. They experience a leak in the dome and try to fix it using calking compound. They also try to contact the Russians but face difficulties due to static. Major Winship and Capt. Wilkins stay behind to deal with the leak, while Capt. Lawler and Lt. Chandler go to Base Gagarin for help. Major Winship and Capt. Wilkins report the situation to Earth, mentioning the Russian's actions and the consequences of the blast.\"}\n",
      "exit api_breeze\n",
      "enter api_breeze\n",
      "response=<Response [200]>\n",
      "j_result={'generated_text': ' After the blast, the astronauts experience a minor leak in the dome, which is presently being repaired. The Soviet Union reports the disturbance and tenders their official apology. They will be able to deliver replacements in about ten days. Major Winship forwards a coded report on the occurrence and asks to hear from them again in about three hours. The leak has not yet been repaired.'}\n",
      "exit api_breeze\n",
      "enter api_breeze\n"
     ]
    },
    {
     "name": "stderr",
     "output_type": "stream",
     "text": [
      " 20%|██        | 6/30 [02:21<10:32, 26.35s/it]"
     ]
    },
    {
     "name": "stdout",
     "output_type": "stream",
     "text": [
      "response=<Response [200]>\n",
      "j_result={'generated_text': ' Answer__option4'}\n",
      "exit api_breeze\n",
      "exit os_ap_sss_answer\n",
      "exit answer\n",
      "enter pick_up\n",
      "exit pick_up,  4\n",
      "enter answer\n",
      "enter os_ap_sss_answer\n",
      "enter api_breeze\n"
     ]
    },
    {
     "name": "stderr",
     "output_type": "stream",
     "text": [
      " 23%|██▎       | 7/30 [02:23<07:03, 18.41s/it]"
     ]
    },
    {
     "name": "stdout",
     "output_type": "stream",
     "text": [
      "response=<Response [200]>\n",
      "j_result={'generated_text': ' Answer__option4'}\n",
      "exit api_breeze\n",
      "exit os_ap_sss_answer\n",
      "exit answer\n",
      "enter pick_up\n",
      "exit pick_up,  4\n",
      "enter answer\n",
      "enter os_ap_sss_answer\n",
      "enter api_breeze\n",
      "response=<Response [200]>\n",
      "j_result={'generated_text': ' Tolliver is not described as hot-headed, stubborn, or clever in the text. The word that doesn\\'t describe Tolliver is \"liar.\"'}\n",
      "exit api_breeze\n",
      "enter api_breeze\n",
      "response=<Response [200]>\n",
      "j_result={'generated_text': \" The text does not provide enough information to determine which word doesn't describe Tolliver among the given options.\"}\n",
      "exit api_breeze\n",
      "enter api_breeze\n"
     ]
    },
    {
     "name": "stderr",
     "output_type": "stream",
     "text": [
      " 27%|██▋       | 8/30 [02:39<06:27, 17.60s/it]"
     ]
    },
    {
     "name": "stdout",
     "output_type": "stream",
     "text": [
      "response=<Response [200]>\n",
      "j_result={'generated_text': ' Answer__option4'}\n",
      "exit api_breeze\n",
      "exit os_ap_sss_answer\n",
      "exit answer\n",
      "enter pick_up\n",
      "exit pick_up,  4\n",
      "enter answer\n",
      "enter os_ap_sss_answer\n",
      "enter api_breeze\n",
      "response=<Response [200]>\n",
      "j_result={'generated_text': ' The most hated celebrity of 1999 is Donald Trump, who managed to make an unfavorable impression upon some 70 percent of those polled in the latest Times /CBS poll.'}\n",
      "exit api_breeze\n",
      "enter api_breeze\n",
      "response=<Response [200]>\n",
      "j_result={'generated_text': ' Based on the provided text, there is no mention of a \"most hated celebrity\" in 1999. Therefore, we cannot determine the correct answer from the given options.'}\n",
      "exit api_breeze\n",
      "enter api_breeze\n"
     ]
    },
    {
     "name": "stderr",
     "output_type": "stream",
     "text": [
      " 30%|███       | 9/30 [02:48<05:14, 14.97s/it]"
     ]
    },
    {
     "name": "stdout",
     "output_type": "stream",
     "text": [
      "response=<Response [200]>\n",
      "j_result={'generated_text': ' Answer_option2'}\n",
      "exit api_breeze\n",
      "exit os_ap_sss_answer\n",
      "exit answer\n",
      "enter pick_up\n",
      "exit pick_up,  2\n",
      "enter answer\n",
      "enter os_ap_sss_answer\n",
      "enter api_breeze\n",
      "response=<Response [200]>\n",
      "j_result={'generated_text': ' The central theme of this story is option3: The death of curiosity, combined with overreliance on technology, will lead to an ignorant society.'}\n",
      "exit api_breeze\n",
      "enter api_breeze\n",
      "response=<Response [200]>\n",
      "j_result={'generated_text': ' option4: Too much emphasis on masculine ways of thinking and innovating will ruin a society.'}\n",
      "exit api_breeze\n",
      "enter api_breeze\n"
     ]
    },
    {
     "name": "stderr",
     "output_type": "stream",
     "text": [
      " 33%|███▎      | 10/30 [02:59<04:35, 13.77s/it]"
     ]
    },
    {
     "name": "stdout",
     "output_type": "stream",
     "text": [
      "response=<Response [200]>\n",
      "j_result={'generated_text': ' Answer__option3'}\n",
      "exit api_breeze\n",
      "exit os_ap_sss_answer\n",
      "exit answer\n",
      "enter pick_up\n",
      "exit pick_up,  3\n",
      "enter answer\n",
      "enter os_ap_sss_answer\n",
      "enter api_breeze\n",
      "response=<Response [200]>\n",
      "j_result={'generated_text': \" Orison's main reason for going to floor seven is option3: To find out what else is happening at the bank.\"}\n",
      "exit api_breeze\n",
      "enter api_breeze\n",
      "response=<Response [200]>\n",
      "j_result={'generated_text': \" Orison's main reason for going to floor seven was to give Dink a message from Mr. Wanji about the escudo green being pale.\"}\n",
      "exit api_breeze\n",
      "enter api_breeze\n"
     ]
    },
    {
     "name": "stderr",
     "output_type": "stream",
     "text": [
      " 37%|███▋      | 11/30 [03:19<04:56, 15.63s/it]"
     ]
    },
    {
     "name": "stdout",
     "output_type": "stream",
     "text": [
      "response=<Response [200]>\n",
      "j_result={'generated_text': ' Answer__option3'}\n",
      "exit api_breeze\n",
      "exit os_ap_sss_answer\n",
      "exit answer\n",
      "enter pick_up\n",
      "exit pick_up,  3\n",
      "enter answer\n",
      "enter os_ap_sss_answer\n",
      "enter api_breeze\n",
      "response=<Response [200]>\n",
      "j_result={'generated_text': \" Ben tells Laura he has her wedding ring because he wants to explain that even though he can't stay on Earth and marry her, she is the only woman he'll ever love. He acknowledges the challenges of being a spaceman and the sacrifices it entails, but he still cherishes his feelings for Laura.\"}\n",
      "exit api_breeze\n",
      "enter api_breeze\n",
      "response=<Response [200]>\n",
      "j_result={'generated_text': \" option2: Ben is telling her that even though he can't stay, she is the only woman he'll ever love.\"}\n",
      "exit api_breeze\n",
      "enter api_breeze\n"
     ]
    },
    {
     "name": "stderr",
     "output_type": "stream",
     "text": [
      " 40%|████      | 12/30 [03:37<04:54, 16.38s/it]"
     ]
    },
    {
     "name": "stdout",
     "output_type": "stream",
     "text": [
      "response=<Response [200]>\n",
      "j_result={'generated_text': ' Answer__option2'}\n",
      "exit api_breeze\n",
      "exit os_ap_sss_answer\n",
      "exit answer\n",
      "enter pick_up\n",
      "exit pick_up,  2\n",
      "enter answer\n",
      "enter os_ap_sss_answer\n",
      "enter api_breeze\n",
      "response=<Response [200]>\n",
      "j_result={'generated_text': ' The text does not provide enough information to determine the exact fate of Wyatt and Carpenter. However, it does mention that they were the last people to attempt a Brightside Crossing before the main storyline, which took place at perihelion.'}\n",
      "exit api_breeze\n",
      "enter api_breeze\n",
      "response=<Response [200]>\n",
      "j_result={'generated_text': ' option1: They died when a rock slide crushed their vehicle while they were attempting the Brightside Crossing.'}\n",
      "exit api_breeze\n",
      "enter api_breeze\n"
     ]
    },
    {
     "name": "stderr",
     "output_type": "stream",
     "text": [
      " 43%|████▎     | 13/30 [03:56<04:49, 17.04s/it]"
     ]
    },
    {
     "name": "stdout",
     "output_type": "stream",
     "text": [
      "response=<Response [200]>\n",
      "j_result={'generated_text': ' Answer__option1'}\n",
      "exit api_breeze\n",
      "exit os_ap_sss_answer\n",
      "exit answer\n",
      "enter pick_up\n",
      "exit pick_up,  1\n",
      "enter answer\n",
      "enter os_ap_sss_answer\n",
      "enter api_breeze\n"
     ]
    },
    {
     "name": "stderr",
     "output_type": "stream",
     "text": [
      " 47%|████▋     | 14/30 [03:58<03:20, 12.56s/it]"
     ]
    },
    {
     "name": "stdout",
     "output_type": "stream",
     "text": [
      "response=<Response [200]>\n",
      "j_result={'generated_text': ' Answer__option2'}\n",
      "exit api_breeze\n",
      "exit os_ap_sss_answer\n",
      "exit answer\n",
      "enter pick_up\n",
      "exit pick_up,  2\n",
      "enter answer\n",
      "enter os_ap_sss_answer\n",
      "enter api_breeze\n",
      "response=<Response [200]>\n",
      "j_result={'generated_text': \" The text is about Brian Hanson, the head of Venus Consolidated Research Organization, who gets involved in a series of events after a rebel named Crystal James infiltrates his apartment. Brian is arrested and taken to a jail, but Crystal and her rebels help him escape. They hide in the old mines under Venus City, where they plan to undermine the company's control over the planet.\"}\n",
      "exit api_breeze\n",
      "enter api_breeze\n",
      "response=<Response [200]>\n",
      "j_result={'generated_text': \" The first policeman smirked at Brian's door because he recognized Brian as the boss of Venus Consolidated Research Organization (option1).\"}\n",
      "exit api_breeze\n",
      "enter api_breeze\n"
     ]
    },
    {
     "name": "stderr",
     "output_type": "stream",
     "text": [
      " 50%|█████     | 15/30 [04:19<03:47, 15.15s/it]"
     ]
    },
    {
     "name": "stdout",
     "output_type": "stream",
     "text": [
      "response=<Response [200]>\n",
      "j_result={'generated_text': ' Answer__option1'}\n",
      "exit api_breeze\n",
      "exit os_ap_sss_answer\n",
      "exit answer\n",
      "enter pick_up\n",
      "exit pick_up,  1\n",
      "enter answer\n",
      "enter os_ap_sss_answer\n",
      "enter api_breeze\n",
      "response=<Response [200]>\n",
      "j_result={'generated_text': ' Moran committed treason by trying to help in the carrying out of plans which would mean his destruction.'}\n",
      "exit api_breeze\n",
      "enter api_breeze\n",
      "response=<Response [200]>\n",
      "j_result={'generated_text': ' Moran committed treason. He was a fugitive and was trying to avoid being detected as an extra member of the crew. If the others landed at any colonized world with him on board, they would be investigated, and they would be returned to their home world and executed.'}\n",
      "exit api_breeze\n",
      "enter api_breeze\n"
     ]
    },
    {
     "name": "stderr",
     "output_type": "stream",
     "text": [
      " 53%|█████▎    | 16/30 [04:39<03:51, 16.51s/it]"
     ]
    },
    {
     "name": "stdout",
     "output_type": "stream",
     "text": [
      "response=<Response [200]>\n",
      "j_result={'generated_text': ' Answer__option4.'}\n",
      "exit api_breeze\n",
      "exit os_ap_sss_answer\n",
      "exit answer\n",
      "enter pick_up\n",
      "exit pick_up,  4\n",
      "enter answer\n",
      "enter os_ap_sss_answer\n",
      "enter api_breeze\n",
      "response=<Response [200]>\n",
      "j_result={'generated_text': \" Tremaine's biggest asset in his investigation is his history with the town. Folks knew him and were more willing to help him like Miss Carroll, and he knew how to motivate people, like he did by bribing the record keeper for help.\"}\n",
      "exit api_breeze\n",
      "enter api_breeze\n",
      "response=<Response [200]>\n",
      "j_result={'generated_text': \" Tremaine's biggest asset in his investigation is his history with the town. Folks knew him and were more willing to help him like Miss Carroll, and he knew how to motivate people, like he did by bribing the record keeper for help.\"}\n",
      "exit api_breeze\n",
      "enter api_breeze\n"
     ]
    },
    {
     "name": "stderr",
     "output_type": "stream",
     "text": [
      " 57%|█████▋    | 17/30 [05:02<04:02, 18.62s/it]"
     ]
    },
    {
     "name": "stdout",
     "output_type": "stream",
     "text": [
      "response=<Response [200]>\n",
      "j_result={'generated_text': ' Answer__option1'}\n",
      "exit api_breeze\n",
      "exit os_ap_sss_answer\n",
      "exit answer\n",
      "enter pick_up\n",
      "exit pick_up,  1\n",
      "enter answer\n",
      "enter os_ap_sss_answer\n",
      "enter api_breeze\n",
      "response=<Response [200]>\n",
      "j_result={'generated_text': \" Joe's asteroid fever is cured by Harvey giving him a glass of La-anago Yergis, a medicine that Harvey had brought with them. This medicine is a remedy for asteroid fever and is considered the only panacea in the entire history of therapeutics.\"}\n",
      "exit api_breeze\n",
      "enter api_breeze\n",
      "response=<Response [200]>\n",
      "j_result={'generated_text': \" Joe's asteroid fever is cured by the fresh water from the planet.\"}\n",
      "exit api_breeze\n",
      "enter api_breeze\n"
     ]
    },
    {
     "name": "stderr",
     "output_type": "stream",
     "text": [
      " 60%|██████    | 18/30 [05:20<03:38, 18.25s/it]"
     ]
    },
    {
     "name": "stdout",
     "output_type": "stream",
     "text": [
      "response=<Response [200]>\n",
      "j_result={'generated_text': ' Answer__option1'}\n",
      "exit api_breeze\n",
      "exit os_ap_sss_answer\n",
      "exit answer\n",
      "enter pick_up\n",
      "exit pick_up,  1\n",
      "enter answer\n",
      "enter os_ap_sss_answer\n",
      "enter api_breeze\n",
      "response=<Response [200]>\n",
      "j_result={'generated_text': ' Tremaine is a smart, kind, and determined individual.'}\n",
      "exit api_breeze\n",
      "enter api_breeze\n",
      "response=<Response [200]>\n",
      "j_result={'generated_text': ' Tremaine is best described by option2: Smart, kind, and determined.'}\n",
      "exit api_breeze\n",
      "enter api_breeze\n"
     ]
    },
    {
     "name": "stderr",
     "output_type": "stream",
     "text": [
      " 63%|██████▎   | 19/30 [05:40<03:27, 18.84s/it]"
     ]
    },
    {
     "name": "stdout",
     "output_type": "stream",
     "text": [
      "response=<Response [200]>\n",
      "j_result={'generated_text': ' Answer__option2'}\n",
      "exit api_breeze\n",
      "exit os_ap_sss_answer\n",
      "exit answer\n",
      "enter pick_up\n",
      "exit pick_up,  2\n",
      "enter answer\n",
      "enter os_ap_sss_answer\n",
      "enter api_breeze\n"
     ]
    },
    {
     "name": "stderr",
     "output_type": "stream",
     "text": [
      " 67%|██████▋   | 20/30 [05:42<02:17, 13.72s/it]"
     ]
    },
    {
     "name": "stdout",
     "output_type": "stream",
     "text": [
      "response=<Response [200]>\n",
      "j_result={'generated_text': ' Answer__option1'}\n",
      "exit api_breeze\n",
      "exit os_ap_sss_answer\n",
      "exit answer\n",
      "enter pick_up\n",
      "exit pick_up,  1\n",
      "enter answer\n",
      "enter os_ap_sss_answer\n",
      "enter api_breeze\n",
      "response=<Response [200]>\n",
      "j_result={'generated_text': ' John Smith is Arvid 6, a time traveler from the Ultroom era. He is responsible for various incidents in the story, including pretending to be drunk to avoid suspicion and causing a car accident that killed a mother and her child.'}\n",
      "exit api_breeze\n",
      "enter api_breeze\n",
      "response=<Response [200]>\n",
      "j_result={'generated_text': ' John Smith is Arvid 6, who is using the name John Smith as an alias while in the twentieth century.'}\n",
      "exit api_breeze\n",
      "enter api_breeze\n"
     ]
    },
    {
     "name": "stderr",
     "output_type": "stream",
     "text": [
      " 70%|███████   | 21/30 [05:59<02:12, 14.72s/it]"
     ]
    },
    {
     "name": "stdout",
     "output_type": "stream",
     "text": [
      "response=<Response [200]>\n",
      "j_result={'generated_text': ' Answer__option4'}\n",
      "exit api_breeze\n",
      "exit os_ap_sss_answer\n",
      "exit answer\n",
      "enter pick_up\n",
      "exit pick_up,  4\n",
      "enter answer\n",
      "enter os_ap_sss_answer\n",
      "enter api_breeze\n",
      "response=<Response [200]>\n",
      "j_result={'generated_text': \" Orison McCall, a government spy, applied for a job at the William Howard Taft National Bank and Trust Company. She was offered a job by the First Vice-President, Mr. Wanji, who gave her a higher salary than she expected. The bank had peculiar employees, including a Vice-President who wore a hunter's-tooth check suit and a scarlet vest, and earmuffed elevator operators. Orison was assigned to read the newspaper to her microphone for the bank's scene, which she found peculiar for a secretary. She also encountered a bank president, Dink Gerding, who was handsome and direct. Orison was warned by a colleague, Auga Vingt, to stay away from Dink, as he was posted property. Orison's first day at the bank was filled with peculiarities and quirkiness.\"}\n",
      "exit api_breeze\n",
      "enter api_breeze\n",
      "response=<Response [200]>\n",
      "j_result={'generated_text': ' On the first day of her job, Orison felt confused about her job duties.'}\n",
      "exit api_breeze\n",
      "enter api_breeze\n"
     ]
    },
    {
     "name": "stderr",
     "output_type": "stream",
     "text": [
      " 73%|███████▎  | 22/30 [06:25<02:24, 18.06s/it]"
     ]
    },
    {
     "name": "stdout",
     "output_type": "stream",
     "text": [
      "response=<Response [200]>\n",
      "j_result={'generated_text': ' Answer__option1'}\n",
      "exit api_breeze\n",
      "exit os_ap_sss_answer\n",
      "exit answer\n",
      "enter pick_up\n",
      "exit pick_up,  1\n",
      "enter answer\n",
      "enter os_ap_sss_answer\n",
      "enter api_breeze\n",
      "response=<Response [200]>\n",
      "j_result={'generated_text': \" Stephen's vision for the future of innovation is best described by option1: He thinks innovation should be led by AI developers but checked by people in other industries. He emphasizes the importance of interdisciplinary knowledge-sharing and collaboration, and believes that AI developers should work together with experts from various fields to ensure responsible innovation.\"}\n",
      "exit api_breeze\n",
      "enter api_breeze\n",
      "response=<Response [200]>\n",
      "j_result={'generated_text': ' Option4: He wants people to be responsible and held accountable by different kinds of people'}\n",
      "exit api_breeze\n",
      "enter api_breeze\n"
     ]
    },
    {
     "name": "stderr",
     "output_type": "stream",
     "text": [
      " 77%|███████▋  | 23/30 [06:36<01:52, 16.06s/it]"
     ]
    },
    {
     "name": "stdout",
     "output_type": "stream",
     "text": [
      "response=<Response [200]>\n",
      "j_result={'generated_text': ' Answer__option1'}\n",
      "exit api_breeze\n",
      "exit os_ap_sss_answer\n",
      "exit answer\n",
      "enter pick_up\n",
      "exit pick_up,  1\n",
      "enter answer\n",
      "enter os_ap_sss_answer\n",
      "enter api_breeze\n",
      "response=<Response [200]>\n",
      "j_result={'generated_text': ' The text does not explicitly mention why the prisoners made noise constantly. However, it can be inferred that making noise could have been a way for them to intimidate newcomers like Bradley, as mentioned in option2. The noise could also have served as a form of communication and camaraderie among the prisoners, as well as a way to express their frustration and resentment against the system.'}\n",
      "exit api_breeze\n",
      "enter api_breeze\n",
      "response=<Response [200]>\n",
      "j_result={'generated_text': ' The prisoners in the text were constantly making noise to intimidate newcomers like Bradley (option 2). This noise served as a form of intimidation and helped maintain control within the prison.'}\n",
      "exit api_breeze\n",
      "enter api_breeze\n"
     ]
    },
    {
     "name": "stderr",
     "output_type": "stream",
     "text": [
      " 80%|████████  | 24/30 [06:56<01:43, 17.17s/it]"
     ]
    },
    {
     "name": "stdout",
     "output_type": "stream",
     "text": [
      "response=<Response [200]>\n",
      "j_result={'generated_text': ' Answer__option2'}\n",
      "exit api_breeze\n",
      "exit os_ap_sss_answer\n",
      "exit answer\n",
      "enter pick_up\n",
      "exit pick_up,  2\n",
      "enter answer\n",
      "enter os_ap_sss_answer\n",
      "enter api_breeze\n",
      "response=<Response [200]>\n",
      "j_result={'generated_text': \" option4: It shows Dr. Melrose where the weak points in Dr. Lessing's work is\"}\n",
      "exit api_breeze\n",
      "enter api_breeze\n",
      "response=<Response [200]>\n",
      "j_result={'generated_text': \" option4: It shows Dr. Melrose where the weak points in Dr. Lessing's work is\"}\n",
      "exit api_breeze\n",
      "enter api_breeze\n"
     ]
    },
    {
     "name": "stderr",
     "output_type": "stream",
     "text": [
      " 83%|████████▎ | 25/30 [07:15<01:28, 17.63s/it]"
     ]
    },
    {
     "name": "stdout",
     "output_type": "stream",
     "text": [
      "response=<Response [200]>\n",
      "j_result={'generated_text': ' Answer__option4'}\n",
      "exit api_breeze\n",
      "exit os_ap_sss_answer\n",
      "exit answer\n",
      "enter pick_up\n",
      "exit pick_up,  4\n",
      "enter answer\n",
      "enter os_ap_sss_answer\n",
      "enter api_breeze\n"
     ]
    },
    {
     "name": "stderr",
     "output_type": "stream",
     "text": [
      " 87%|████████▋ | 26/30 [07:16<00:51, 12.83s/it]"
     ]
    },
    {
     "name": "stdout",
     "output_type": "stream",
     "text": [
      "response=<Response [200]>\n",
      "j_result={'generated_text': ' Answer__option2'}\n",
      "exit api_breeze\n",
      "exit os_ap_sss_answer\n",
      "exit answer\n",
      "enter pick_up\n",
      "exit pick_up,  2\n",
      "enter answer\n",
      "enter os_ap_sss_answer\n",
      "enter api_breeze\n",
      "response=<Response [200]>\n",
      "j_result={'generated_text': ' The text does not provide a clear reason for Edith wanting Hank to go out on the town.'}\n",
      "exit api_breeze\n",
      "enter api_breeze\n",
      "response=<Response [200]>\n",
      "j_result={'generated_text': \" Edith wants Hank to go out on the town because she promised Hank's mother that she would make an effort to return to normalcy, as death had not parted them after all. She is also making an effort to return to normalcy, even though she is scared, because she loves Hank.\"}\n",
      "exit api_breeze\n",
      "enter api_breeze\n"
     ]
    },
    {
     "name": "stderr",
     "output_type": "stream",
     "text": [
      " 90%|█████████ | 27/30 [07:32<00:41, 13.84s/it]"
     ]
    },
    {
     "name": "stdout",
     "output_type": "stream",
     "text": [
      "response=<Response [200]>\n",
      "j_result={'generated_text': ' Answer__option1'}\n",
      "exit api_breeze\n",
      "exit os_ap_sss_answer\n",
      "exit answer\n",
      "enter pick_up\n",
      "exit pick_up,  1\n",
      "enter answer\n",
      "enter os_ap_sss_answer\n",
      "enter api_breeze\n"
     ]
    },
    {
     "name": "stderr",
     "output_type": "stream",
     "text": [
      " 93%|█████████▎| 28/30 [07:34<00:20, 10.19s/it]"
     ]
    },
    {
     "name": "stdout",
     "output_type": "stream",
     "text": [
      "response=<Response [200]>\n",
      "j_result={'generated_text': ' Answer__option3'}\n",
      "exit api_breeze\n",
      "exit os_ap_sss_answer\n",
      "exit answer\n",
      "enter pick_up\n",
      "exit pick_up,  3\n",
      "enter answer\n",
      "enter os_ap_sss_answer\n",
      "enter api_breeze\n"
     ]
    },
    {
     "name": "stderr",
     "output_type": "stream",
     "text": [
      " 97%|█████████▋| 29/30 [07:36<00:07,  7.62s/it]"
     ]
    },
    {
     "name": "stdout",
     "output_type": "stream",
     "text": [
      "response=<Response [200]>\n",
      "j_result={'generated_text': ' Answer__option2'}\n",
      "exit api_breeze\n",
      "exit os_ap_sss_answer\n",
      "exit answer\n",
      "enter pick_up\n",
      "exit pick_up,  2\n",
      "enter answer\n",
      "enter os_ap_sss_answer\n",
      "enter api_breeze\n",
      "response=<Response [200]>\n",
      "j_result={'generated_text': \" Thig, an Orthan from the planet Ortha, was sent to Earth to explore and bring back a native for the Horde to learn about the planet's suitability for colonization. Thig encountered Lewis Terry, an Earthman, and captured him to bring back to the space cruiser. After transferring Terry's memories to Thig, Thig returned to Earth and assimilated Terry's memories, including his love for his family. Thig began to question the Horde's actions and the destruction of Earth's civilization, ultimately deciding to return to Earth to protect Ellen and the children.\"}\n",
      "exit api_breeze\n",
      "enter api_breeze\n",
      "response=<Response [200]>\n",
      "j_result={'generated_text': ' option2: The Orthans would have made the voyage to Earth and lived in harmony with the people of Earth.'}\n",
      "exit api_breeze\n",
      "enter api_breeze\n"
     ]
    },
    {
     "name": "stderr",
     "output_type": "stream",
     "text": [
      "100%|██████████| 30/30 [07:54<00:00, 15.83s/it]"
     ]
    },
    {
     "name": "stdout",
     "output_type": "stream",
     "text": [
      "response=<Response [200]>\n",
      "j_result={'generated_text': ' Answer__option2'}\n",
      "exit api_breeze\n",
      "exit os_ap_sss_answer\n",
      "exit answer\n",
      "enter pick_up\n",
      "exit pick_up,  2\n",
      "exit experiment\n",
      "train_score=19\n",
      "i[\"train_score\"]=22\n",
      "enter get_new_prompt\n",
      "enter api_breeze\n"
     ]
    },
    {
     "name": "stderr",
     "output_type": "stream",
     "text": [
      "\n"
     ]
    },
    {
     "name": "stdout",
     "output_type": "stream",
     "text": [
      "response=<Response [200]>\n",
      "j_result={'generated_text': ' <prompt>Create a summary that follows a universal structure and focuses on the main points and key details of the text, avoiding specific content and providing a general overview. The summary should be concise and present the main idea and supporting details in a clear and straightforward manner.</prompt>'}\n",
      "exit api_breeze\n",
      "exit get_new_prompt\n",
      "new_prompt='Create a summary that follows a universal structure and focuses on the main points and key details of the text, avoiding specific content and providing a general overview. The summary should be concise and present the main idea and supporting details in a clear and straightforward manner.'\n",
      "enter experiment\n"
     ]
    },
    {
     "name": "stderr",
     "output_type": "stream",
     "text": [
      "  0%|          | 0/30 [00:00<?, ?it/s]"
     ]
    },
    {
     "name": "stdout",
     "output_type": "stream",
     "text": [
      "enter answer\n",
      "enter os_ap_sss_answer\n",
      "enter api_breeze\n"
     ]
    },
    {
     "name": "stderr",
     "output_type": "stream",
     "text": [
      "  3%|▎         | 1/30 [00:02<01:05,  2.27s/it]"
     ]
    },
    {
     "name": "stdout",
     "output_type": "stream",
     "text": [
      "response=<Response [200]>\n",
      "j_result={'generated_text': ' Answer__option3'}\n",
      "exit api_breeze\n",
      "exit os_ap_sss_answer\n",
      "exit answer\n",
      "enter pick_up\n",
      "exit pick_up,  3\n",
      "enter answer\n",
      "enter os_ap_sss_answer\n",
      "enter api_breeze\n",
      "response=<Response [200]>\n",
      "j_result={'generated_text': ' Open access (OA) is a revolutionary approach to sharing research literature that removes price and permission barriers, making it free and accessible to readers worldwide. Conventional publishing, on the other hand, typically charges for access and may impose copyright and licensing restrictions. The relationship between conventional publishing and open access lies in the evolving landscape of scholarly communication. As more researchers and institutions adopt OA policies, the balance between the two approaches is shifting. Many scholars and institutions are adapting to the needs of authors and readers, recognizing the benefits of OA for both sides.'}\n",
      "exit api_breeze\n",
      "enter api_breeze\n",
      "response=<Response [200]>\n",
      "j_result={'generated_text': ' The relationship between conventional publishing and open access is that they both serve the interests of authors and readers. Conventional publishing is not inherently better for authors or readers, as open access can benefit authors by increasing visibility, retrievability, audience, usage, and citations. Both sides are adapting over time to the needs of readers and authors, and many people interact with both types of publishing.'}\n",
      "exit api_breeze\n",
      "enter api_breeze\n",
      "response=<Response [200]>\n",
      "j_result={'generated_text': \" The relationship between conventional publishing and open access is that they are both methods of sharing research and scholarly work. Conventional publishing typically charges readers for access, while open access allows free access to research literature. Open access is not an attempt to replace or punish conventional publishers, but rather to advance the interests of researchers and research institutions. Many conventional publishers are adapting to open access by allowing author-initiated OA, providing some OA themselves, or experimenting with OA. Open access is not an attempt to reduce authors' rights or academic freedom, and it doesn't require boycotting any kind of literature or publisher.\"}\n",
      "exit api_breeze\n",
      "enter api_breeze\n"
     ]
    },
    {
     "name": "stderr",
     "output_type": "stream",
     "text": [
      "  7%|▋         | 2/30 [00:29<07:55, 16.98s/it]"
     ]
    },
    {
     "name": "stdout",
     "output_type": "stream",
     "text": [
      "response=<Response [200]>\n",
      "j_result={'generated_text': ' Answer__option3'}\n",
      "exit api_breeze\n",
      "exit os_ap_sss_answer\n",
      "exit answer\n",
      "enter pick_up\n",
      "exit pick_up,  3\n",
      "enter answer\n",
      "enter os_ap_sss_answer\n",
      "enter api_breeze\n",
      "response=<Response [200]>\n",
      "j_result={'generated_text': ' A Nilly is a person who is able to come back from the dead, but not like a zombie. They are trained observers sent on interstellar missions to report on the experiences and provide a clean beat for the newsman. In the article, Keith Ellason is a Nilly who is sent on a mission to observe and report on the colonists traveling to Antheon.'}\n",
      "exit api_breeze\n",
      "enter api_breeze\n",
      "response=<Response [200]>\n",
      "j_result={'generated_text': \" A Nilly is a trained operative used by colony transport ships to keep the colonists focused on a common enemy. They are anonymous, nameless individuals who are trained to infiltrate the ship's population and create a scapegoat for any conflicts or disagreements among the passengers. Nillys are designed to stir up hatred and fear among the colonists, providing them with a common enemy to unite against.\"}\n",
      "exit api_breeze\n",
      "enter api_breeze\n"
     ]
    },
    {
     "name": "stderr",
     "output_type": "stream",
     "text": [
      " 10%|█         | 3/30 [00:50<08:24, 18.67s/it]"
     ]
    },
    {
     "name": "stdout",
     "output_type": "stream",
     "text": [
      "response=<Response [200]>\n",
      "j_result={'generated_text': ' Answer__option4'}\n",
      "exit api_breeze\n",
      "exit os_ap_sss_answer\n",
      "exit answer\n",
      "enter pick_up\n",
      "exit pick_up,  4\n",
      "enter answer\n",
      "enter os_ap_sss_answer\n",
      "enter api_breeze\n",
      "response=<Response [200]>\n",
      "j_result={'generated_text': ' The story revolves around Norris, a district pound inspector who is tasked with destroying unclaimed synthetic creatures, known as neutroids. These neutroids are humanoid animals created by Anthropos, a mutant-animal business. Norris struggles with his job, as he finds the neutroids to be intelligent and endearing, making it difficult for him to destroy them. His wife, Anne, is aware of his job and the ethical dilemmas it presents. The story follows Norris as he deals with various situations involving neutroids and the challenges they present.'}\n",
      "exit api_breeze\n",
      "enter api_breeze\n",
      "response=<Response [200]>\n",
      "j_result={'generated_text': ' The most likely reason for Mrs. Sarah Glubbes calling her neutroid a baby is that she became too attached to her neutroid.'}\n",
      "exit api_breeze\n",
      "enter api_breeze\n",
      "response=<Response [200]>\n",
      "j_result={'generated_text': ' The text does not provide enough information to determine the most likely reason for Mrs. Sarah Glubbes calling her neutroid a baby.'}\n",
      "exit api_breeze\n",
      "enter api_breeze\n",
      "response=<Response [200]>\n",
      "j_result={'generated_text': ' The text does not provide enough information to determine the most likely reason for Mrs. Sarah Glubbes calling her neutroid a baby.'}\n",
      "exit api_breeze\n",
      "enter api_breeze\n",
      "response=<Response [200]>\n",
      "j_result={'generated_text': ' The text does not provide enough information to determine the most likely reason for Mrs. Sarah Glubbes calling her neutroid a baby.'}\n",
      "exit api_breeze\n",
      "enter api_breeze\n",
      "response=<Response [200]>\n",
      "j_result={'generated_text': ' Summary: Delmont, an inexperienced evolvotron operator, struggled to perform his job correctly, leading to the spoilage of over a hundred unfertilized chimpanzee ova. Desperate to avoid being fired, he faked a successful ovum, which was later used to create a neutroid. Mrs. Sarah Glubbes, the mother of the neutroid, may have called her neutroid a baby due to her emotional attachment to it.'}\n",
      "exit api_breeze\n",
      "enter api_breeze\n",
      "response=<Response [200]>\n",
      "j_result={'generated_text': \" Summary: Delmont, a green-horn evolvotron operator, struggled with his job of fertilizing chimpanzee ova using sub-atomic particles. After a week of failure, he reported a fake success, passing the neutroid to the incubators. He was worried about the neutroid's flaws and potential dangers. Mrs. Sarah Glubbes called her neutroid a baby, likely due to her attachment to it.\"}\n",
      "exit api_breeze\n",
      "enter api_breeze\n",
      "response=<Response [200]>\n",
      "j_result={'generated_text': ' The most likely reason for Mrs. Sarah Glubbes calling her neutroid a baby is option2: She became too attached to her neutroid.'}\n",
      "exit api_breeze\n",
      "enter api_breeze\n",
      "response=<Response [200]>\n",
      "j_result={'generated_text': ' The most likely reason for Mrs. Sarah Glubbes calling her neutroid a baby is option2: She became too attached to her neutroid.'}\n",
      "exit api_breeze\n",
      "enter api_breeze\n",
      "response=<Response [200]>\n",
      "j_result={'generated_text': ' The most likely reason for Mrs. Sarah Glubbes calling her neutroid a baby is option2: She became too attached to her neutroid.'}\n",
      "exit api_breeze\n",
      "enter api_breeze\n",
      "response=<Response [200]>\n",
      "j_result={'generated_text': \" Summary: Delmont, a good operator, attempted to pass off a non-standard neutroid ovum as a success to avoid being fired. He faked a success by reporting a neutroid ovum with flaws, knowing it wouldn't be caught until after birth. However, he was worried about the ovum being caught and decided to develop its sexuality to make it appear female. He thought this would make it easier to pass without being caught and blamed any issues on equipment malfunction. Unfortunately, the female neutroid went unnoticed and continued through the process. Delmont was eventually caught trying to pass off another neutroid as a success.\"}\n",
      "exit api_breeze\n",
      "enter api_breeze\n",
      "response=<Response [200]>\n",
      "j_result={'generated_text': ' The most likely reason for Mrs. Sarah Glubbes calling her neutroid a baby is option2: She became too attached to her neutroid.'}\n",
      "exit api_breeze\n",
      "enter api_breeze\n",
      "response=<Response [200]>\n",
      "j_result={'generated_text': ' The most likely reason for Mrs. Sarah Glubbes calling her neutroid a baby is option2: She became too attached to her neutroid.'}\n",
      "exit api_breeze\n",
      "enter api_breeze\n",
      "response=<Response [200]>\n",
      "j_result={'generated_text': ' The most likely reason for Mrs. Sarah Glubbes calling her neutroid a baby is option2: She became too attached to her neutroid.'}\n",
      "exit api_breeze\n",
      "enter api_breeze\n",
      "response=<Response [200]>\n",
      "j_result={'generated_text': ' The most likely reason for Mrs. Sarah Glubbes calling her neutroid a baby is option2: She became too attached to her neutroid.'}\n",
      "exit api_breeze\n",
      "enter api_breeze\n",
      "response=<Response [200]>\n",
      "j_result={'generated_text': ' The most likely reason for Mrs. Sarah Glubbes calling her neutroid a baby is option2: She became too attached to her neutroid.'}\n",
      "exit api_breeze\n",
      "enter api_breeze\n",
      "response=<Response [200]>\n",
      "j_result={'generated_text': ' The most likely reason for Mrs. Sarah Glubbes calling her neutroid a baby is option2: She became too attached to her neutroid.'}\n",
      "exit api_breeze\n",
      "enter api_breeze\n",
      "response=<Response [200]>\n",
      "j_result={'generated_text': ' The text discusses a world where artificial children called neutroids are created to satisfy the childless desires of women. The main character, Norris, works with these neutroids and is conflicted by his job, which involves disposing of them when they are no longer needed. Mrs. Sarah Glubbes, a woman who has a neutroid, calls it a baby, which is likely because she has become too attached to it, making it difficult for her to let it go.'}\n",
      "exit api_breeze\n",
      "enter api_breeze\n"
     ]
    },
    {
     "name": "stderr",
     "output_type": "stream",
     "text": [
      " 13%|█▎        | 4/30 [01:57<16:24, 37.88s/it]"
     ]
    },
    {
     "name": "stdout",
     "output_type": "stream",
     "text": [
      "response=<Response [200]>\n",
      "j_result={'generated_text': ' Answer__option2'}\n",
      "exit api_breeze\n",
      "exit os_ap_sss_answer\n",
      "exit answer\n",
      "enter pick_up\n",
      "exit pick_up,  2\n",
      "enter answer\n",
      "enter os_ap_sss_answer\n",
      "enter api_breeze\n",
      "response=<Response [200]>\n",
      "j_result={'generated_text': \" The overall reaction to Rocsates' suggestions is symbolic of option2: Resistance to intellectualism. The Conclave struggles to accept the idea of reproduction without the Maternite Machine and the possibility of it being a natural process.\"}\n",
      "exit api_breeze\n",
      "enter api_breeze\n",
      "response=<Response [200]>\n",
      "j_result={'generated_text': \" The overall reaction to Rocsates' suggestions is symbolic of option3: Potential of innovation. The characters in the text are willing to experiment and try new methods, even if it means facing difficult situations, which demonstrates their potential for innovation and progress.\"}\n",
      "exit api_breeze\n",
      "enter api_breeze\n"
     ]
    },
    {
     "name": "stderr",
     "output_type": "stream",
     "text": [
      " 17%|█▋        | 5/30 [02:12<12:22, 29.71s/it]"
     ]
    },
    {
     "name": "stdout",
     "output_type": "stream",
     "text": [
      "response=<Response [200]>\n",
      "j_result={'generated_text': ' Answer__option2'}\n",
      "exit api_breeze\n",
      "exit os_ap_sss_answer\n",
      "exit answer\n",
      "enter pick_up\n",
      "exit pick_up,  2\n",
      "enter answer\n",
      "enter os_ap_sss_answer\n",
      "enter api_breeze\n",
      "response=<Response [200]>\n",
      "j_result={'generated_text': ' After the blast, the four Americans in the moonbase discuss the situation and try to communicate with Base Gagarin. They experience a leak in the dome and struggle to contact anyone for help. Major Winship and Capt. Lawler go to Base Gagarin for assistance, while Major Winship and Capt. Wilkins remain behind. Major Winship reports the situation to Earth, mentioning the blast and the subsequent leak in the dome.'}\n",
      "exit api_breeze\n",
      "enter api_breeze\n",
      "response=<Response [200]>\n",
      "j_result={'generated_text': ' After the blast, the astronauts experience a minor leak in the dome, which is presently being repaired. The Soviet Union reports the disturbance and tenders their official apology. They are able to deliver replacements in about ten days. The astronauts discuss the situation and plan to fix the leak. They also mention the possibility of an epoxy resin reaction, which could cause further damage to the dome.'}\n",
      "exit api_breeze\n",
      "enter api_breeze\n"
     ]
    },
    {
     "name": "stderr",
     "output_type": "stream",
     "text": [
      " 20%|██        | 6/30 [02:43<12:02, 30.11s/it]"
     ]
    },
    {
     "name": "stdout",
     "output_type": "stream",
     "text": [
      "response=<Response [200]>\n",
      "j_result={'generated_text': ' Answer__option4'}\n",
      "exit api_breeze\n",
      "exit os_ap_sss_answer\n",
      "exit answer\n",
      "enter pick_up\n",
      "exit pick_up,  4\n",
      "enter answer\n",
      "enter os_ap_sss_answer\n",
      "enter api_breeze\n"
     ]
    },
    {
     "name": "stderr",
     "output_type": "stream",
     "text": [
      " 23%|██▎       | 7/30 [02:45<08:02, 20.98s/it]"
     ]
    },
    {
     "name": "stdout",
     "output_type": "stream",
     "text": [
      "response=<Response [200]>\n",
      "j_result={'generated_text': ' Answer__option4'}\n",
      "exit api_breeze\n",
      "exit os_ap_sss_answer\n",
      "exit answer\n",
      "enter pick_up\n",
      "exit pick_up,  4\n",
      "enter answer\n",
      "enter os_ap_sss_answer\n",
      "enter api_breeze\n",
      "response=<Response [200]>\n",
      "j_result={'generated_text': \" Tolliver, a pilot on Ganymede, discovers corruption within the colony and tries to expose it. He encounters Betty, the daughter of the company's president, who is also investigating the mismanagement. Together, they attempt to escape from Jeffers, the manager of the Ganymedan branch of Koslow Spaceways, who is involved in the corruption. Tolliver and Betty work together to find a way out of the warehouse building, and eventually plan to expose Jeffers' illegal activities.\"}\n",
      "exit api_breeze\n",
      "enter api_breeze\n",
      "response=<Response [200]>\n",
      "j_result={'generated_text': ' Tolliver is not described as hot-headed, stubborn, or a liar in the text. He is portrayed as clever and resourceful, as he helps Betty escape from the colony on Ganymede and manages to get them into space.'}\n",
      "exit api_breeze\n",
      "enter api_breeze\n"
     ]
    },
    {
     "name": "stderr",
     "output_type": "stream",
     "text": [
      " 27%|██▋       | 8/30 [03:08<07:54, 21.56s/it]"
     ]
    },
    {
     "name": "stdout",
     "output_type": "stream",
     "text": [
      "response=<Response [200]>\n",
      "j_result={'generated_text': ' Answer__option1'}\n",
      "exit api_breeze\n",
      "exit os_ap_sss_answer\n",
      "exit answer\n",
      "enter pick_up\n",
      "exit pick_up,  1\n",
      "enter answer\n",
      "enter os_ap_sss_answer\n",
      "enter api_breeze\n",
      "response=<Response [200]>\n",
      "j_result={'generated_text': ' The most hated celebrity of 1999 is Donald Trump, who managed to make an unfavorable impression upon some 70% of those polled in the latest Times/CBS poll.'}\n",
      "exit api_breeze\n",
      "enter api_breeze\n",
      "response=<Response [200]>\n",
      "j_result={'generated_text': ' The most hated celebrity of 1999 is not explicitly mentioned in the text. However, Donald Trump is mentioned as one of the individuals in the text.'}\n",
      "exit api_breeze\n",
      "enter api_breeze\n"
     ]
    },
    {
     "name": "stderr",
     "output_type": "stream",
     "text": [
      " 30%|███       | 9/30 [03:17<06:08, 17.53s/it]"
     ]
    },
    {
     "name": "stdout",
     "output_type": "stream",
     "text": [
      "response=<Response [200]>\n",
      "j_result={'generated_text': ' Answer__option2'}\n",
      "exit api_breeze\n",
      "exit os_ap_sss_answer\n",
      "exit answer\n",
      "enter pick_up\n",
      "exit pick_up,  2\n",
      "enter answer\n",
      "enter os_ap_sss_answer\n",
      "enter api_breeze\n",
      "response=<Response [200]>\n",
      "j_result={'generated_text': ' In a society where machines have been relied upon for generations, a failure of the Maternite Machine leads to the disappearance of all Prelife, leaving no more children. The Conclave, the governing body, struggles to find a solution and considers the possibility of rediscovering ancient methods of reproduction. Rocsates, a wise member of the Conclave, discovers a book that suggests the existence of a time before machines when reproduction occurred naturally within individuals. He proposes an experiment involving a She and a man to prove this theory, and the Conclave agrees to allow Melia and Xeon to participate. The story highlights the importance of curiosity, learning from the past, and the potential consequences of overreliance on technology.'}\n",
      "exit api_breeze\n",
      "enter api_breeze\n",
      "response=<Response [200]>\n",
      "j_result={'generated_text': ' In this story, the central theme is option2: A society that does not include younger generations in its governing bodies will fail to evolve. The story highlights the sacrifices and courage of the younger generation, who are willing to undergo an experiment for the betterment of their society. This demonstrates the importance of involving younger people in decision-making processes and acknowledging their contributions to the evolution of a society.'}\n",
      "exit api_breeze\n",
      "enter api_breeze\n"
     ]
    },
    {
     "name": "stderr",
     "output_type": "stream",
     "text": [
      " 33%|███▎      | 10/30 [03:37<06:05, 18.27s/it]"
     ]
    },
    {
     "name": "stdout",
     "output_type": "stream",
     "text": [
      "response=<Response [200]>\n",
      "j_result={'generated_text': ' Answer__option2'}\n",
      "exit api_breeze\n",
      "exit os_ap_sss_answer\n",
      "exit answer\n",
      "enter pick_up\n",
      "exit pick_up,  2\n",
      "enter answer\n",
      "enter os_ap_sss_answer\n",
      "enter api_breeze\n",
      "response=<Response [200]>\n",
      "j_result={'generated_text': \" Orison McCall, a government spy, applies for a job at the William Howard Taft National Bank and Trust Company. The bank's Vice-President, Mr. Wanji, offers her the job as a secretary. Orison notices that the bank is peculiar, with employees wearing earmuffs and the bank being divided into sections. She is tasked with reading the newspaper to her boss, Mr. Wanji, and is warned to keep her withholding tax, social security, credit union, coffee-breaks, union membership, lunch hour, and the like, in order. Orison begins her job and encounters various peculiarities within the bank, including a mysterious book she is asked to read aloud.\"}\n",
      "exit api_breeze\n",
      "enter api_breeze\n",
      "response=<Response [200]>\n",
      "j_result={'generated_text': ' Orison, a secretary at the William Howard Taft National Bank and Trust Company, goes to the seventh floor to investigate the mysterious spider-like creatures and the secret project they are involved in. She is accompanied by Dink Gerding, who explains that the creatures are Microfabridae, related to shellfish, and are used in a commercial process they are developing. Orison also learns about the hymn of the Microfabridae, which is a beautiful song that the creatures sing while they work.'}\n",
      "exit api_breeze\n",
      "enter api_breeze\n"
     ]
    },
    {
     "name": "stderr",
     "output_type": "stream",
     "text": [
      " 37%|███▋      | 11/30 [04:06<06:49, 21.56s/it]"
     ]
    },
    {
     "name": "stdout",
     "output_type": "stream",
     "text": [
      "response=<Response [200]>\n",
      "j_result={'generated_text': ' Answer__option3'}\n",
      "exit api_breeze\n",
      "exit os_ap_sss_answer\n",
      "exit answer\n",
      "enter pick_up\n",
      "exit pick_up,  3\n",
      "enter answer\n",
      "enter os_ap_sss_answer\n",
      "enter api_breeze\n",
      "response=<Response [200]>\n",
      "j_result={'generated_text': \" In the article, Ben tells Laura that he has her wedding ring because he wants to explain that even though he can't stay on Earth, she is the only woman he'll ever love. He acknowledges the challenges and sacrifices that come with being a spaceman, but also expresses his love for Laura and the importance of their relationship.\"}\n",
      "exit api_breeze\n",
      "enter api_breeze\n",
      "response=<Response [200]>\n",
      "j_result={'generated_text': \" Ben tells Laura he has her wedding ring because he wants to show her that even though he can't stay with her, she is the only woman he'll ever love. He is leaving to fulfill his dreams of exploring space, just as Charlie did before him. The wedding ring represents his commitment to Laura, even though he will be away from her for long periods of time.\"}\n",
      "exit api_breeze\n",
      "enter api_breeze\n"
     ]
    },
    {
     "name": "stderr",
     "output_type": "stream",
     "text": [
      " 40%|████      | 12/30 [04:27<06:24, 21.34s/it]"
     ]
    },
    {
     "name": "stdout",
     "output_type": "stream",
     "text": [
      "response=<Response [200]>\n",
      "j_result={'generated_text': ' Answer__option2'}\n",
      "exit api_breeze\n",
      "exit os_ap_sss_answer\n",
      "exit answer\n",
      "enter pick_up\n",
      "exit pick_up,  2\n",
      "enter answer\n",
      "enter os_ap_sss_answer\n",
      "enter api_breeze\n",
      "response=<Response [200]>\n",
      "j_result={'generated_text': ' The text is about a group of explorers planning to attempt a Brightside Crossing on Mercury at perihelion. They have faced challenges in terms of equipment, route planning, and the harsh environment of the Brightside. Peter Claney, a survivor of a previous Brightside Crossing attempt, warns the group that they cannot make the crossing due to the extreme conditions and the planet itself. Despite this, the group is determined to continue with their plans.'}\n",
      "exit api_breeze\n",
      "enter api_breeze\n",
      "response=<Response [200]>\n",
      "j_result={'generated_text': ' Wyatt and Carpenter were two explorers who attempted the Brightside Crossing on Mercury. They reached a certain point in their journey but did not make it further. Their vehicle, a half-track model, got stuck in a rock slide and was wedged tight in a cut in the rock. The wreckage of their vehicle and their insulated suits were found by the main characters, who were also attempting the Brightside Crossing.'}\n",
      "exit api_breeze\n",
      "enter api_breeze\n"
     ]
    },
    {
     "name": "stderr",
     "output_type": "stream",
     "text": [
      " 43%|████▎     | 13/30 [04:50<06:11, 21.84s/it]"
     ]
    },
    {
     "name": "stdout",
     "output_type": "stream",
     "text": [
      "response=<Response [200]>\n",
      "j_result={'generated_text': ' Answer__option1'}\n",
      "exit api_breeze\n",
      "exit os_ap_sss_answer\n",
      "exit answer\n",
      "enter pick_up\n",
      "exit pick_up,  1\n",
      "enter answer\n",
      "enter os_ap_sss_answer\n",
      "enter api_breeze\n"
     ]
    },
    {
     "name": "stderr",
     "output_type": "stream",
     "text": [
      " 47%|████▋     | 14/30 [04:52<04:15, 15.96s/it]"
     ]
    },
    {
     "name": "stdout",
     "output_type": "stream",
     "text": [
      "response=<Response [200]>\n",
      "j_result={'generated_text': ' Answer__option2'}\n",
      "exit api_breeze\n",
      "exit os_ap_sss_answer\n",
      "exit answer\n",
      "enter pick_up\n",
      "exit pick_up,  2\n",
      "enter answer\n",
      "enter os_ap_sss_answer\n",
      "enter api_breeze\n",
      "response=<Response [200]>\n",
      "j_result={'generated_text': ' In the article, Brian Hanson, the head of the Venus Consolidated Research Organization, is arrested after a rebel named Crystal James infiltrates his apartment. Crystal is a rebel leader and daughter of an old Venusian family. Brian is released from jail with the help of rebels, who plan to use him to bring down the Venus Consolidated company. The rebels take Brian to an old mine tunnel system, where they have hidden their operations.'}\n",
      "exit api_breeze\n",
      "enter api_breeze\n",
      "response=<Response [200]>\n",
      "j_result={'generated_text': \" In the text, Brian and Crystal are involved in a rebellion against Venus Consolidated police. They are trying to escape from the police and find a safe place to hide. Crystal leads Brian to the headquarters of the Carlton family, who are on their side and have helped them before. The text does not provide information about a policeman smirking at Brian's door, so none of the options can be confirmed as accurate based on the given information.\"}\n",
      "exit api_breeze\n",
      "enter api_breeze\n"
     ]
    },
    {
     "name": "stderr",
     "output_type": "stream",
     "text": [
      " 50%|█████     | 15/30 [05:17<04:41, 18.76s/it]"
     ]
    },
    {
     "name": "stdout",
     "output_type": "stream",
     "text": [
      "response=<Response [200]>\n",
      "j_result={'generated_text': ' Answer_option4'}\n",
      "exit api_breeze\n",
      "exit os_ap_sss_answer\n",
      "exit answer\n",
      "enter pick_up\n",
      "exit pick_up,  4\n",
      "enter answer\n",
      "enter os_ap_sss_answer\n",
      "enter api_breeze\n",
      "response=<Response [200]>\n",
      "j_result={'generated_text': \" Moran was marooned on a planet of endless terrors after his crew decided to get rid of him. The planet had an ice-cap, indicating a temperate climate, and was covered in thick clouds. Moran observed the planet from the control-room of the space-yacht, Nadine, as they approached. As they descended towards the planet, they heard a thin, wabbling, keening whine, which was not a natural radiation sound. Moran and the crew found a signal coming from a hillock, which turned out to be Moran's crashed ship. The crew planned to take Moran to a location near the ice-cap and provide him with supplies, while also investigating the wreck for any indication of the solar system they were in.\"}\n",
      "exit api_breeze\n",
      "enter api_breeze\n",
      "response=<Response [200]>\n",
      "j_result={'generated_text': \" Moran was suspected of committing a crime, but the specific crime was not mentioned in the text. The text focused on Moran's exploration of a crashed ship on an alien planet and his interactions with the crew of the\\nNadine.\"}\n",
      "exit api_breeze\n",
      "enter api_breeze\n"
     ]
    },
    {
     "name": "stderr",
     "output_type": "stream",
     "text": [
      " 53%|█████▎    | 16/30 [05:44<04:54, 21.06s/it]"
     ]
    },
    {
     "name": "stdout",
     "output_type": "stream",
     "text": [
      "response=<Response [200]>\n",
      "j_result={'generated_text': ' Answer__option4'}\n",
      "exit api_breeze\n",
      "exit os_ap_sss_answer\n",
      "exit answer\n",
      "enter pick_up\n",
      "exit pick_up,  4\n",
      "enter answer\n",
      "enter os_ap_sss_answer\n",
      "enter api_breeze\n",
      "response=<Response [200]>\n",
      "j_result={'generated_text': \" In the article, Tremaine, an investigator, is trying to find the source of a mysterious unauthorized transmitter interfering with a top-secret hyperwave program. He visits Elsby, a small town, to gather information and enlists the help of locals. Tremaine's biggest asset in his investigation is his history with the town, as people knew him and were more willing to help him, like Miss Carroll and the librarian. He also knows how to motivate people, such as bribing the record keeper for assistance.\"}\n",
      "exit api_breeze\n",
      "enter api_breeze\n",
      "response=<Response [200]>\n",
      "j_result={'generated_text': \" Tremaine's biggest asset in his investigation is his history with the town. People knew him and were more willing to help him, like Miss Carroll, and he knew how to motivate people, like bribing the record keeper for help.\"}\n",
      "exit api_breeze\n",
      "enter api_breeze\n"
     ]
    },
    {
     "name": "stderr",
     "output_type": "stream",
     "text": [
      " 57%|█████▋    | 17/30 [06:12<05:00, 23.12s/it]"
     ]
    },
    {
     "name": "stdout",
     "output_type": "stream",
     "text": [
      "response=<Response [200]>\n",
      "j_result={'generated_text': ' Answer__option1'}\n",
      "exit api_breeze\n",
      "exit os_ap_sss_answer\n",
      "exit answer\n",
      "enter pick_up\n",
      "exit pick_up,  1\n",
      "enter answer\n",
      "enter os_ap_sss_answer\n",
      "enter api_breeze\n",
      "response=<Response [200]>\n",
      "j_result={'generated_text': \" Harvey and Joe, two con-men, land on Planetoid 42 in search of water, but are charged exorbitant prices by the planet's mayor, Angus Johnson. They discover a mysterious creature that can perform multiple tasks simultaneously and decide to use it to their advantage. When Joe becomes ill with asteroid fever, Harvey gives him a taste of the bitter water, claiming it's a cure. Later, they sell the mayor a cure for asteroid fever, La-anago Yergis, for a high price. The mayor then invites them to eat at his restaurant, where they are served a unique meal.\"}\n",
      "exit api_breeze\n",
      "enter api_breeze\n",
      "response=<Response [200]>\n",
      "j_result={'generated_text': \" In the text, Joe's asteroid fever is cured by drinking fresh water from the planet. The characters, Harvey and Joe, visit a restaurant on the planet and are served a meal by the native, Genius. After the meal, they discuss the possibility of purchasing Genius as a servant, but the mayor, Johnson, refuses to sell him. Instead, they offer to trade a radio for Genius, but Johnson also refuses this offer. They then show Johnson a fourth-dimensional radio, which they claim can receive broadcasts from a more civilized super-dimension. Johnson, intrigued by the radio, agrees to trade it for Genius.\"}\n",
      "exit api_breeze\n",
      "enter api_breeze\n"
     ]
    },
    {
     "name": "stderr",
     "output_type": "stream",
     "text": [
      " 60%|██████    | 18/30 [06:38<04:50, 24.24s/it]"
     ]
    },
    {
     "name": "stdout",
     "output_type": "stream",
     "text": [
      "response=<Response [200]>\n",
      "j_result={'generated_text': ' Answer__option4.'}\n",
      "exit api_breeze\n",
      "exit os_ap_sss_answer\n",
      "exit answer\n",
      "enter pick_up\n",
      "exit pick_up,  4\n",
      "enter answer\n",
      "enter os_ap_sss_answer\n",
      "enter api_breeze\n",
      "response=<Response [200]>\n",
      "j_result={'generated_text': ' Tremaine, a man from Washington, is investigating a mysterious transmitter interfering with a top-secret project. He visits Elsby, a small town, to gather information and enlists the help of Jess, a local police officer. Tremaine learns that Mr. Bram, a town mystery man, bought a quarter section of land in 1901. Tremaine also discovers that a severe thunderstorm in 1900 destroyed a considerable amount of timber and threatened a house. As Tremaine continues his investigation, he encounters a police car and speaks with Grammond on the car set.'}\n",
      "exit api_breeze\n",
      "enter api_breeze\n",
      "response=<Response [200]>\n",
      "j_result={'generated_text': ' Tremaine is a smart, kind, and determined individual who is working on a secret mission to uncover the truth behind a mysterious situation involving a possible spy ring. He is persistent and resourceful, as demonstrated by his interactions with various characters and his ability to gather information.'}\n",
      "exit api_breeze\n",
      "enter api_breeze\n"
     ]
    },
    {
     "name": "stderr",
     "output_type": "stream",
     "text": [
      " 63%|██████▎   | 19/30 [07:06<04:37, 25.19s/it]"
     ]
    },
    {
     "name": "stdout",
     "output_type": "stream",
     "text": [
      "response=<Response [200]>\n",
      "j_result={'generated_text': ' Answer__option2'}\n",
      "exit api_breeze\n",
      "exit os_ap_sss_answer\n",
      "exit answer\n",
      "enter pick_up\n",
      "exit pick_up,  2\n",
      "enter answer\n",
      "enter os_ap_sss_answer\n",
      "enter api_breeze\n"
     ]
    },
    {
     "name": "stderr",
     "output_type": "stream",
     "text": [
      " 67%|██████▋   | 20/30 [07:08<03:01, 18.19s/it]"
     ]
    },
    {
     "name": "stdout",
     "output_type": "stream",
     "text": [
      "response=<Response [200]>\n",
      "j_result={'generated_text': ' Answer__option1'}\n",
      "exit api_breeze\n",
      "exit os_ap_sss_answer\n",
      "exit answer\n",
      "enter pick_up\n",
      "exit pick_up,  1\n",
      "enter answer\n",
      "enter os_ap_sss_answer\n",
      "enter api_breeze\n",
      "response=<Response [200]>\n",
      "j_result={'generated_text': ' John Smith is a mysterious man who claims to be from the future and has no known family connections. He has been arrested for a hit-and-run accident that resulted in the death of a mother and her child. The police are struggling to understand his motives and actions, as he seems to anticipate their questions and appears to be amused by the situation.'}\n",
      "exit api_breeze\n",
      "enter api_breeze\n",
      "response=<Response [200]>\n",
      "j_result={'generated_text': ' John Smith is Arvid 6, who has been using the name John Smith as a cover while working with Tendal 13. They are time travelers sent to correct mistakes and retrieve the life germ of Kanad, the head of the galactic system. Arvid 6 has made several mistakes during their missions, causing frustration for Tendal 13.'}\n",
      "exit api_breeze\n",
      "enter api_breeze\n"
     ]
    },
    {
     "name": "stderr",
     "output_type": "stream",
     "text": [
      " 70%|███████   | 21/30 [07:29<02:52, 19.18s/it]"
     ]
    },
    {
     "name": "stdout",
     "output_type": "stream",
     "text": [
      "response=<Response [200]>\n",
      "j_result={'generated_text': ' Answer__option4'}\n",
      "exit api_breeze\n",
      "exit os_ap_sss_answer\n",
      "exit answer\n",
      "enter pick_up\n",
      "exit pick_up,  4\n",
      "enter answer\n",
      "enter os_ap_sss_answer\n",
      "enter api_breeze\n",
      "response=<Response [200]>\n",
      "j_result={'generated_text': \" Orison McCall, a government spy, applied for a job at the William Howard Taft National Bank and Trust Company. She found the bank to be peculiar, with employees wearing earmuffs and the bank's Vice-President, Mr. Wanji, offering her a higher salary than she expected. Orison was tasked with reading the newspaper to her colleagues and reporting on her observations to her superiors. Throughout her first day, she encountered various oddities, including a bank president named Dink Gerding and an intimidating woman named Auga Vingt. Orison felt confused about her job duties and the bank's quirkiness but was excited about the raise she received.\"}\n",
      "exit api_breeze\n",
      "enter api_breeze\n",
      "response=<Response [200]>\n",
      "j_result={'generated_text': ' On the first day of her job, Orison felt confused about her job duties and frustrated with the other women that worked there. She was also excited about the quirkiness of the employees and the unique environment of the bank.'}\n",
      "exit api_breeze\n",
      "enter api_breeze\n"
     ]
    },
    {
     "name": "stderr",
     "output_type": "stream",
     "text": [
      " 73%|███████▎  | 22/30 [07:55<02:50, 21.33s/it]"
     ]
    },
    {
     "name": "stdout",
     "output_type": "stream",
     "text": [
      "response=<Response [200]>\n",
      "j_result={'generated_text': ' Answer__option1'}\n",
      "exit api_breeze\n",
      "exit os_ap_sss_answer\n",
      "exit answer\n",
      "enter pick_up\n",
      "exit pick_up,  1\n",
      "enter answer\n",
      "enter os_ap_sss_answer\n",
      "enter api_breeze\n",
      "response=<Response [200]>\n",
      "j_result={'generated_text': ' The Centre for the Future of Intelligence aims to investigate the implications of artificial intelligence (AI) for humanity and ensure that humans take advantage of the opportunities while dodging the risks. The Centre is a collaboration between four universities and colleges, funded with a 10-year, £10 million grant from the Leverhulme Trust. It emphasizes the importance of interdisciplinary knowledge-sharing and collaboration, bringing together researchers, philosophers, psychologists, lawyers, and computer scientists to understand and address the challenges and opportunities presented by AI.'}\n",
      "exit api_breeze\n",
      "enter api_breeze\n",
      "response=<Response [200]>\n",
      "j_result={'generated_text': \" Stephen's vision for the future of innovation is focused on the potential for increased resource efficiency and undoing the damage caused by the last Industrial Revolution. He believes that new technological advancements, such as driverless cars and shared services, can lead to a more intelligent and sustainable way of living. This vision emphasizes the importance of using tools and technology to live more resource-efficiently and reduce the negative impacts of the previous industrial era.\"}\n",
      "exit api_breeze\n",
      "enter api_breeze\n"
     ]
    },
    {
     "name": "stderr",
     "output_type": "stream",
     "text": [
      " 77%|███████▋  | 23/30 [08:11<02:17, 19.70s/it]"
     ]
    },
    {
     "name": "stdout",
     "output_type": "stream",
     "text": [
      "response=<Response [200]>\n",
      "j_result={'generated_text': ' Answer__option4'}\n",
      "exit api_breeze\n",
      "exit os_ap_sss_answer\n",
      "exit answer\n",
      "enter pick_up\n",
      "exit pick_up,  4\n",
      "enter answer\n",
      "enter os_ap_sss_answer\n",
      "enter api_breeze\n",
      "response=<Response [200]>\n",
      "j_result={'generated_text': \" In the article, Captain O'Leary, a guard captain in Estates-General Correctional Institution, notices a smell of trouble and tries to identify its source. He encounters Sue-Ann Bradley, a young girl in detention, who is having trouble adjusting to prison life. O'Leary tries to help her understand the rules and avoid further trouble. The article discusses the importance of specialization in society and how it can lead to problems when different groups interact. The guards in the prison are also mentioned, with their own issues and challenges in maintaining order.\"}\n",
      "exit api_breeze\n",
      "enter api_breeze\n",
      "response=<Response [200]>\n",
      "j_result={'generated_text': ' The text describes a situation in which the inmates of a prison, specifically those in the Greensleeves, are planning a riot. The inmates are using various tactics to cause chaos and draw attention away from their escape plan. One of the key strategies mentioned is making noise constantly, which serves to intimidate new inmates, annoy the guards, and potentially convince others that they are crazy, leaving them alone. This noise-making is a crucial part of their plan to create a riot and ultimately break out of the prison.'}\n",
      "exit api_breeze\n",
      "enter api_breeze\n"
     ]
    },
    {
     "name": "stderr",
     "output_type": "stream",
     "text": [
      " 80%|████████  | 24/30 [08:35<02:04, 20.83s/it]"
     ]
    },
    {
     "name": "stdout",
     "output_type": "stream",
     "text": [
      "response=<Response [200]>\n",
      "j_result={'generated_text': ' Answer__option3'}\n",
      "exit api_breeze\n",
      "exit os_ap_sss_answer\n",
      "exit answer\n",
      "enter pick_up\n",
      "exit pick_up,  3\n",
      "enter answer\n",
      "enter os_ap_sss_answer\n",
      "enter api_breeze\n",
      "response=<Response [200]>\n",
      "j_result={'generated_text': \" The text is about Dr. David Lessing, who is trying to understand the phenomenon of psionics in children. He runs a Farm where children are studied in a controlled environment. Dr. Lessing has a theory about the development of psionic potential in children, which he plans to publish in a book. However, he faces challenges from Dr. Melrose, who questions the validity of Lessing's work.\\n\\nA boy named Tommy is sent to the Farm, and he is terrified of going back. Dr. Lessing tries to understand the reason behind Tommy's fear and discovers that the boy is afraid of the monitor helmet that is used to block external psionic stimuli. Tommy believes that taking off the helmet would make him feel better. Dr. Lessing realizes that the helmet is an insulator and could cause harm if removed.\\n\\nThe text ends with Dr. Lessing and Dr. Melrose discussing the significance of the boy's situation. Dr. Melrose suggests that the incident shows where the weak points in Dr. Lessing's work are.\"}\n",
      "exit api_breeze\n",
      "enter api_breeze\n",
      "response=<Response [200]>\n",
      "j_result={'generated_text': \" The best representation of the significance of the boy who falls sick at the end is option4: It shows Dr. Melrose where the weak points in Dr. Lessing's work is. The incident highlights a discrepancy in Dr. Lessing's theory, which claims that adult psi-contact is harmful to a growing child. The boy's situation, however, shows that adult contact can have a positive effect on the child's potential. This contradiction may lead Dr. Melrose to question Dr. Lessing's work and identify its weaknesses.\"}\n",
      "exit api_breeze\n",
      "enter api_breeze\n"
     ]
    },
    {
     "name": "stderr",
     "output_type": "stream",
     "text": [
      " 83%|████████▎ | 25/30 [09:07<02:01, 24.23s/it]"
     ]
    },
    {
     "name": "stdout",
     "output_type": "stream",
     "text": [
      "response=<Response [200]>\n",
      "j_result={'generated_text': ' Answer__option4'}\n",
      "exit api_breeze\n",
      "exit os_ap_sss_answer\n",
      "exit answer\n",
      "enter pick_up\n",
      "exit pick_up,  4\n",
      "enter answer\n",
      "enter os_ap_sss_answer\n",
      "enter api_breeze\n"
     ]
    },
    {
     "name": "stderr",
     "output_type": "stream",
     "text": [
      " 87%|████████▋ | 26/30 [09:09<01:09, 17.48s/it]"
     ]
    },
    {
     "name": "stdout",
     "output_type": "stream",
     "text": [
      "response=<Response [200]>\n",
      "j_result={'generated_text': ' Answer__option2'}\n",
      "exit api_breeze\n",
      "exit os_ap_sss_answer\n",
      "exit answer\n",
      "enter pick_up\n",
      "exit pick_up,  2\n",
      "enter answer\n",
      "enter os_ap_sss_answer\n",
      "enter api_breeze\n",
      "response=<Response [200]>\n",
      "j_result={'generated_text': ' The First One, Hank Devers, returns from a successful mission beyond the Great Frontier, but faces challenges in readjusting to life at home. The townspeople and his family treat him with awe and fear, making him feel isolated. Hank struggles to communicate his experiences and feelings, while his family and friends try to adapt to his return. As they all attempt to reestablish normalcy, Hank grapples with the changes in his life and the expectations placed upon him as the First One.'}\n",
      "exit api_breeze\n",
      "enter api_breeze\n",
      "response=<Response [200]>\n",
      "j_result={'generated_text': \" Edith wants Hank to go out on the town because she is making an effort to return to normalcy, even though she is scared. She loves Hank and wants to spend time with him, hoping that going out together will help them both adjust to the new reality of Hank's return.\"}\n",
      "exit api_breeze\n",
      "enter api_breeze\n"
     ]
    },
    {
     "name": "stderr",
     "output_type": "stream",
     "text": [
      " 90%|█████████ | 27/30 [09:28<00:54, 18.05s/it]"
     ]
    },
    {
     "name": "stdout",
     "output_type": "stream",
     "text": [
      "response=<Response [200]>\n",
      "j_result={'generated_text': ' Answer__option2'}\n",
      "exit api_breeze\n",
      "exit os_ap_sss_answer\n",
      "exit answer\n",
      "enter pick_up\n",
      "exit pick_up,  2\n",
      "enter answer\n",
      "enter os_ap_sss_answer\n",
      "enter api_breeze\n"
     ]
    },
    {
     "name": "stderr",
     "output_type": "stream",
     "text": [
      " 93%|█████████▎| 28/30 [09:30<00:26, 13.16s/it]"
     ]
    },
    {
     "name": "stdout",
     "output_type": "stream",
     "text": [
      "response=<Response [200]>\n",
      "j_result={'generated_text': ' Answer__option3'}\n",
      "exit api_breeze\n",
      "exit os_ap_sss_answer\n",
      "exit answer\n",
      "enter pick_up\n",
      "exit pick_up,  3\n",
      "enter answer\n",
      "enter os_ap_sss_answer\n",
      "enter api_breeze\n"
     ]
    },
    {
     "name": "stderr",
     "output_type": "stream",
     "text": [
      " 97%|█████████▋| 29/30 [09:32<00:09,  9.73s/it]"
     ]
    },
    {
     "name": "stdout",
     "output_type": "stream",
     "text": [
      "response=<Response [200]>\n",
      "j_result={'generated_text': ' Answer__option2'}\n",
      "exit api_breeze\n",
      "exit os_ap_sss_answer\n",
      "exit answer\n",
      "enter pick_up\n",
      "exit pick_up,  2\n",
      "enter answer\n",
      "enter os_ap_sss_answer\n",
      "enter api_breeze\n",
      "response=<Response [200]>\n",
      "j_result={'generated_text': \" In the story, Thig, an Orthan from the planet Ortha, is sent to Earth to explore and bring back knowledge of the planet. Upon arriving, Thig encounters Earth people and learns about their emotions and culture. He becomes attached to Ellen, a woman on Earth, and questions the Orthan's mission to conquer and destroy Earth. When he returns to Ortha, he tries to convince his fellow Orthans to abandon the conquest of Earth and find another planet to colonize. However, his fellow Orthans prioritize the Horde's interests over individual attachments, and Thig becomes determined to return to Earth to protect Ellen and her family.\"}\n",
      "exit api_breeze\n",
      "enter api_breeze\n",
      "response=<Response [200]>\n",
      "j_result={'generated_text': ' Thig, a member of the Hordes of Ortha, goes on a mission to Earth and falls in love with a woman named Ellen. He later learns that his people plan to destroy Earth, so he decides to save the planet by killing his commander, Torp, and destroying the information that would make Earth habitable to the Orthans. Thig then returns to Earth, where he assumes the identity of Lewis Terry, a writer of cowboy stories, and continues to live with Ellen and her children.'}\n",
      "exit api_breeze\n",
      "enter api_breeze\n"
     ]
    },
    {
     "name": "stderr",
     "output_type": "stream",
     "text": [
      "100%|██████████| 30/30 [09:54<00:00, 19.83s/it]"
     ]
    },
    {
     "name": "stdout",
     "output_type": "stream",
     "text": [
      "response=<Response [200]>\n",
      "j_result={'generated_text': ' Answer__option3'}\n",
      "exit api_breeze\n",
      "exit os_ap_sss_answer\n",
      "exit answer\n",
      "enter pick_up\n",
      "exit pick_up,  3\n",
      "exit experiment\n",
      "train_score=21\n",
      "i[\"train_score\"]=21\n",
      "enter get_new_prompt\n",
      "enter api_breeze\n"
     ]
    },
    {
     "name": "stderr",
     "output_type": "stream",
     "text": [
      "\n"
     ]
    },
    {
     "name": "stdout",
     "output_type": "stream",
     "text": [
      "response=<Response [200]>\n",
      "j_result={'generated_text': ' <prompt>Create a summary that is concise, follows a universal structure, and accurately reflects the content of the text by focusing on main points and key details while avoiding specific content or names from the original article.</prompt>'}\n",
      "exit api_breeze\n",
      "exit get_new_prompt\n",
      "new_prompt='Create a summary that is concise, follows a universal structure, and accurately reflects the content of the text by focusing on main points and key details while avoiding specific content or names from the original article.'\n",
      "enter experiment\n"
     ]
    },
    {
     "name": "stderr",
     "output_type": "stream",
     "text": [
      "  0%|          | 0/30 [00:00<?, ?it/s]"
     ]
    },
    {
     "name": "stdout",
     "output_type": "stream",
     "text": [
      "enter answer\n",
      "enter os_ap_sss_answer\n",
      "enter api_breeze\n"
     ]
    },
    {
     "name": "stderr",
     "output_type": "stream",
     "text": [
      "  3%|▎         | 1/30 [00:02<01:01,  2.12s/it]"
     ]
    },
    {
     "name": "stdout",
     "output_type": "stream",
     "text": [
      "response=<Response [200]>\n",
      "j_result={'generated_text': ' Answer__option3'}\n",
      "exit api_breeze\n",
      "exit os_ap_sss_answer\n",
      "exit answer\n",
      "enter pick_up\n",
      "exit pick_up,  3\n",
      "enter answer\n",
      "enter os_ap_sss_answer\n",
      "enter api_breeze\n",
      "response=<Response [200]>\n",
      "j_result={'generated_text': ' Open access (OA) is a revolutionary approach to sharing research literature that removes price and permission barriers, making it free and accessible to readers worldwide. Conventional publishing, on the other hand, typically charges for access and may impose copyright and licensing restrictions. The relationship between conventional publishing and open access lies in the fact that both serve the needs of authors and readers, with OA offering greater accessibility and impact for authors, while conventional publishing may provide financial benefits for authors who sell their work. As OA continues to grow in popularity, both publishing models are adapting to better serve the needs of scholars and the wider research community.'}\n",
      "exit api_breeze\n",
      "enter api_breeze\n",
      "response=<Response [200]>\n",
      "j_result={'generated_text': ' The relationship between conventional publishing and open access is that they both serve the needs of authors and readers. Conventional publishing may be better for authors who work for royalties, while open access benefits authors by increasing visibility, retrievability, audience, usage, and citations. Both sides are adapting over time to the needs of authors and readers, and many people interact with both types of publishing.'}\n",
      "exit api_breeze\n",
      "enter api_breeze\n",
      "response=<Response [200]>\n",
      "j_result={'generated_text': \" Open access (OA) is a publishing model that aims to make research literature freely available to readers without requiring payment for access. It is not an attempt to bypass peer review, violate copyright, deprive royalty-earning authors of income, deny the reality of costs, reduce authors' rights, or reduce academic freedom. OA is compatible with every kind of peer review and is not an attempt to reform, violate, or abolish copyright. It is not an attempt to reduce authors' rights over their work or academic freedom. OA is an attempt to advance the interests of research, researchers, and research institutions, and it doesn't require boycotting any kind of literature or publisher.\"}\n",
      "exit api_breeze\n",
      "enter api_breeze\n"
     ]
    },
    {
     "name": "stderr",
     "output_type": "stream",
     "text": [
      "  7%|▋         | 2/30 [00:30<08:10, 17.52s/it]"
     ]
    },
    {
     "name": "stdout",
     "output_type": "stream",
     "text": [
      "response=<Response [200]>\n",
      "j_result={'generated_text': ' Answer__option3'}\n",
      "exit api_breeze\n",
      "exit os_ap_sss_answer\n",
      "exit answer\n",
      "enter pick_up\n",
      "exit pick_up,  3\n",
      "enter answer\n",
      "enter os_ap_sss_answer\n",
      "enter api_breeze\n",
      "response=<Response [200]>\n",
      "j_result={'generated_text': ' A Nilly is a person who is able to come back from the dead, but like Lazarus, not like a zombie.'}\n",
      "exit api_breeze\n",
      "enter api_breeze\n",
      "response=<Response [200]>\n",
      "j_result={'generated_text': ' A Nilly is a trained operative used by colony transport ships to keep the colonists focused on a common enemy. They are anonymous, nameless individuals who are trained to incite hatred and fear among the passengers, creating a sense of unity and purpose. Nillys are used to prevent boredom and unrest during long voyages, and they are often involved in staged incidents to maintain order and control.'}\n",
      "exit api_breeze\n",
      "enter api_breeze\n"
     ]
    },
    {
     "name": "stderr",
     "output_type": "stream",
     "text": [
      " 10%|█         | 3/30 [00:49<08:07, 18.05s/it]"
     ]
    },
    {
     "name": "stdout",
     "output_type": "stream",
     "text": [
      "response=<Response [200]>\n",
      "j_result={'generated_text': ' Answer__option4'}\n",
      "exit api_breeze\n",
      "exit os_ap_sss_answer\n",
      "exit answer\n",
      "enter pick_up\n",
      "exit pick_up,  4\n",
      "enter answer\n",
      "enter os_ap_sss_answer\n",
      "enter api_breeze\n",
      "response=<Response [200]>\n",
      "j_result={'generated_text': ' In the article, Mrs. Sarah Glubbes calls her neutroid a baby because she is a Class C citizen, which means she is allowed to have only two lesser units or one neutroid. Neutroids are emotionally safer than other mutant-animal creatures, and families can become quite attached to them. However, if a pet neutroid dies, a family can be devastated. In this case, Mrs. Glubbes is likely emotionally attached to her neutroid, which is why she refers to it as a baby.'}\n",
      "exit api_breeze\n",
      "enter api_breeze\n",
      "response=<Response [200]>\n",
      "j_result={'generated_text': ' The most likely reason for Mrs. Sarah Glubbes calling her neutroid a baby is that she became too attached to her neutroid.'}\n",
      "exit api_breeze\n",
      "enter api_breeze\n",
      "response=<Response [200]>\n",
      "j_result={'generated_text': ' The most likely reason for Mrs. Sarah Glubbes calling her neutroid a baby is that she became too attached to her neutroid.'}\n",
      "exit api_breeze\n",
      "enter api_breeze\n",
      "response=<Response [200]>\n",
      "j_result={'generated_text': ' The most likely reason for Mrs. Sarah Glubbes calling her neutroid a baby is option2: She became too attached to her neutroid.'}\n",
      "exit api_breeze\n",
      "enter api_breeze\n",
      "response=<Response [200]>\n",
      "j_result={'generated_text': ' The most likely reason for Mrs. Sarah Glubbes calling her neutroid a baby is option2: She became too attached to her neutroid.'}\n",
      "exit api_breeze\n",
      "enter api_breeze\n",
      "response=<Response [200]>\n",
      "j_result={'generated_text': ' The most likely reason for Mrs. Sarah Glubbes calling her neutroid a baby is option2: She became too attached to her neutroid.'}\n",
      "exit api_breeze\n",
      "enter api_breeze\n",
      "response=<Response [200]>\n",
      "j_result={'generated_text': ' The most likely reason for Mrs. Sarah Glubbes calling her neutroid a baby is option2: She became too attached to her neutroid.'}\n",
      "exit api_breeze\n",
      "enter api_breeze\n",
      "response=<Response [200]>\n",
      "j_result={'generated_text': ' The most likely reason for Mrs. Sarah Glubbes calling her neutroid a baby is option2: She became too attached to her neutroid.'}\n",
      "exit api_breeze\n",
      "enter api_breeze\n",
      "response=<Response [200]>\n",
      "j_result={'generated_text': ' The most likely reason for Mrs. Sarah Glubbes calling her neutroid a baby is option2: She became too attached to her neutroid.'}\n",
      "exit api_breeze\n",
      "enter api_breeze\n",
      "response=<Response [200]>\n",
      "j_result={'generated_text': ' The most likely reason for Mrs. Sarah Glubbes calling her neutroid a baby is option2: She became too attached to her neutroid.'}\n",
      "exit api_breeze\n",
      "enter api_breeze\n",
      "response=<Response [200]>\n",
      "j_result={'generated_text': ' The most likely reason for Mrs. Sarah Glubbes calling her neutroid a baby is option2: She became too attached to her neutroid.'}\n",
      "exit api_breeze\n",
      "enter api_breeze\n",
      "response=<Response [200]>\n",
      "j_result={'generated_text': ' The most likely reason for Mrs. Sarah Glubbes calling her neutroid a baby is option2: She became too attached to her neutroid.'}\n",
      "exit api_breeze\n",
      "enter api_breeze\n",
      "response=<Response [200]>\n",
      "j_result={'generated_text': ' The most likely reason for Mrs. Sarah Glubbes calling her neutroid a baby is option2: She became too attached to her neutroid.'}\n",
      "exit api_breeze\n",
      "enter api_breeze\n",
      "response=<Response [200]>\n",
      "j_result={'generated_text': ' The most likely reason for Mrs. Sarah Glubbes calling her neutroid a baby is option2: She became too attached to her neutroid.'}\n",
      "exit api_breeze\n",
      "enter api_breeze\n",
      "response=<Response [200]>\n",
      "j_result={'generated_text': ' The most likely reason for Mrs. Sarah Glubbes calling her neutroid a baby is option2: She became too attached to her neutroid.'}\n",
      "exit api_breeze\n",
      "enter api_breeze\n",
      "response=<Response [200]>\n",
      "j_result={'generated_text': ' The most likely reason for Mrs. Sarah Glubbes calling her neutroid a baby is option2: She became too attached to her neutroid.'}\n",
      "exit api_breeze\n",
      "enter api_breeze\n",
      "response=<Response [200]>\n",
      "j_result={'generated_text': ' The most likely reason for Mrs. Sarah Glubbes calling her neutroid a baby is option2: She became too attached to her neutroid.'}\n",
      "exit api_breeze\n",
      "enter api_breeze\n",
      "response=<Response [200]>\n",
      "j_result={'generated_text': ' The most likely reason for Mrs. Sarah Glubbes calling her neutroid a baby is option2: She became too attached to her neutroid.'}\n",
      "exit api_breeze\n",
      "enter api_breeze\n"
     ]
    },
    {
     "name": "stderr",
     "output_type": "stream",
     "text": [
      " 13%|█▎        | 4/30 [01:47<14:43, 33.97s/it]"
     ]
    },
    {
     "name": "stdout",
     "output_type": "stream",
     "text": [
      "response=<Response [200]>\n",
      "j_result={'generated_text': ' Answer__option2'}\n",
      "exit api_breeze\n",
      "exit os_ap_sss_answer\n",
      "exit answer\n",
      "enter pick_up\n",
      "exit pick_up,  2\n",
      "enter answer\n",
      "enter os_ap_sss_answer\n",
      "enter api_breeze\n",
      "response=<Response [200]>\n",
      "j_result={'generated_text': \" In the article, the overall reaction to Rocsates' suggestions is symbolic of option3: Potential of innovation. The characters in the story are faced with a crisis when the Maternite Machine fails, leading to the loss of all Prelife and the possibility of no more children. Rocsates suggests searching ancient books for knowledge that could potentially help them reproduce without the machines. Although his ideas are met with shock and disbelief, they ultimately lead to an experiment that could potentially save their people. This demonstrates the potential for innovation and progress even in the face of adversity.\"}\n",
      "exit api_breeze\n",
      "enter api_breeze\n",
      "response=<Response [200]>\n",
      "j_result={'generated_text': \" The overall reaction to Rocsates' suggestions is symbolic of option3: Potential of innovation. The characters in the text are willing to experiment and try new methods, even if it means facing discomfort and potential harm. This demonstrates their willingness to innovate and push boundaries in order to find a solution.\"}\n",
      "exit api_breeze\n",
      "enter api_breeze\n"
     ]
    },
    {
     "name": "stderr",
     "output_type": "stream",
     "text": [
      " 17%|█▋        | 5/30 [02:05<11:44, 28.17s/it]"
     ]
    },
    {
     "name": "stdout",
     "output_type": "stream",
     "text": [
      "response=<Response [200]>\n",
      "j_result={'generated_text': ' Answer__option3'}\n",
      "exit api_breeze\n",
      "exit os_ap_sss_answer\n",
      "exit answer\n",
      "enter pick_up\n",
      "exit pick_up,  3\n",
      "enter answer\n",
      "enter os_ap_sss_answer\n",
      "enter api_breeze\n",
      "response=<Response [524]>\n",
      "Except in api_breeze = Expecting value: line 1 column 1 (char 0)\n",
      "Exception in answer:\n",
      "cannot access local variable 'r' where it is not associated with a value\n",
      "exit answer\n",
      "enter answer\n",
      "enter os_ap_sss_answer\n",
      "enter api_breeze\n",
      "response=<Response [524]>\n",
      "Except in api_breeze = Expecting value: line 1 column 1 (char 0)\n",
      "Exception in answer:\n",
      "cannot access local variable 'r' where it is not associated with a value\n",
      "exit answer\n",
      "enter answer\n",
      "enter os_ap_sss_answer\n",
      "enter api_breeze\n",
      "response=<Response [524]>\n",
      "Except in api_breeze = Expecting value: line 1 column 1 (char 0)\n",
      "Exception in answer:\n",
      "cannot access local variable 'r' where it is not associated with a value\n",
      "exit answer\n",
      "enter answer\n",
      "enter os_ap_sss_answer\n",
      "enter api_breeze\n",
      "response=<Response [524]>\n",
      "Except in api_breeze = Expecting value: line 1 column 1 (char 0)\n",
      "Exception in answer:\n",
      "cannot access local variable 'r' where it is not associated with a value\n",
      "exit answer\n",
      "enter answer\n",
      "enter os_ap_sss_answer\n",
      "enter api_breeze\n",
      "response=<Response [524]>\n",
      "Except in api_breeze = Expecting value: line 1 column 1 (char 0)\n",
      "Exception in answer:\n",
      "cannot access local variable 'r' where it is not associated with a value\n",
      "exit answer\n",
      "enter answer\n",
      "enter os_ap_sss_answer\n",
      "enter api_breeze\n",
      "response=<Response [524]>\n",
      "Except in api_breeze = Expecting value: line 1 column 1 (char 0)\n",
      "Exception in answer:\n",
      "cannot access local variable 'r' where it is not associated with a value\n",
      "exit answer\n",
      "enter answer\n",
      "enter os_ap_sss_answer\n",
      "enter api_breeze\n",
      "response=<Response [524]>\n",
      "Except in api_breeze = Expecting value: line 1 column 1 (char 0)\n",
      "Exception in answer:\n",
      "cannot access local variable 'r' where it is not associated with a value\n",
      "exit answer\n",
      "enter answer\n",
      "enter os_ap_sss_answer\n",
      "enter api_breeze\n",
      "response=<Response [524]>\n",
      "Except in api_breeze = Expecting value: line 1 column 1 (char 0)\n",
      "Exception in answer:\n",
      "cannot access local variable 'r' where it is not associated with a value\n",
      "exit answer\n",
      "enter answer\n",
      "enter os_ap_sss_answer\n",
      "enter api_breeze\n",
      "response=<Response [524]>\n",
      "Except in api_breeze = Expecting value: line 1 column 1 (char 0)\n",
      "Exception in answer:\n",
      "cannot access local variable 'r' where it is not associated with a value\n",
      "exit answer\n",
      "enter answer\n",
      "enter os_ap_sss_answer\n",
      "enter api_breeze\n",
      "response=<Response [524]>\n",
      "Except in api_breeze = Expecting value: line 1 column 1 (char 0)\n",
      "Exception in answer:\n",
      "cannot access local variable 'r' where it is not associated with a value\n",
      "exit answer\n",
      "enter answer\n",
      "enter os_ap_sss_answer\n",
      "enter api_breeze\n",
      "response=<Response [524]>\n",
      "Except in api_breeze = Expecting value: line 1 column 1 (char 0)\n",
      "Exception in answer:\n",
      "cannot access local variable 'r' where it is not associated with a value\n",
      "exit answer\n",
      "enter answer\n",
      "enter os_ap_sss_answer\n",
      "enter api_breeze\n",
      "response=<Response [524]>\n",
      "Except in api_breeze = Expecting value: line 1 column 1 (char 0)\n",
      "Exception in answer:\n",
      "cannot access local variable 'r' where it is not associated with a value\n",
      "exit answer\n",
      "enter answer\n",
      "enter os_ap_sss_answer\n",
      "enter api_breeze\n",
      "response=<Response [524]>\n",
      "Except in api_breeze = Expecting value: line 1 column 1 (char 0)\n",
      "Exception in answer:\n",
      "cannot access local variable 'r' where it is not associated with a value\n",
      "exit answer\n",
      "enter answer\n",
      "enter os_ap_sss_answer\n",
      "enter api_breeze\n",
      "response=<Response [524]>\n",
      "Except in api_breeze = Expecting value: line 1 column 1 (char 0)\n",
      "Exception in answer:\n",
      "cannot access local variable 'r' where it is not associated with a value\n",
      "exit answer\n",
      "enter answer\n",
      "enter os_ap_sss_answer\n",
      "enter api_breeze\n",
      "response=<Response [524]>\n",
      "Except in api_breeze = Expecting value: line 1 column 1 (char 0)\n",
      "Exception in answer:\n",
      "cannot access local variable 'r' where it is not associated with a value\n",
      "exit answer\n",
      "enter answer\n",
      "enter os_ap_sss_answer\n",
      "enter api_breeze\n",
      "response=<Response [524]>\n",
      "Except in api_breeze = Expecting value: line 1 column 1 (char 0)\n",
      "Exception in answer:\n",
      "cannot access local variable 'r' where it is not associated with a value\n",
      "exit answer\n",
      "enter answer\n",
      "enter os_ap_sss_answer\n",
      "enter api_breeze\n",
      "response=<Response [524]>\n",
      "Except in api_breeze = Expecting value: line 1 column 1 (char 0)\n",
      "Exception in answer:\n",
      "cannot access local variable 'r' where it is not associated with a value\n",
      "exit answer\n",
      "enter answer\n",
      "enter os_ap_sss_answer\n",
      "enter api_breeze\n",
      "response=<Response [524]>\n",
      "Except in api_breeze = Expecting value: line 1 column 1 (char 0)\n",
      "Exception in answer:\n",
      "cannot access local variable 'r' where it is not associated with a value\n",
      "exit answer\n",
      "enter answer\n",
      "enter os_ap_sss_answer\n",
      "enter api_breeze\n",
      "response=<Response [524]>\n",
      "Except in api_breeze = Expecting value: line 1 column 1 (char 0)\n",
      "Exception in answer:\n",
      "cannot access local variable 'r' where it is not associated with a value\n",
      "exit answer\n",
      "enter answer\n",
      "enter os_ap_sss_answer\n",
      "enter api_breeze\n",
      "response=<Response [524]>\n",
      "Except in api_breeze = Expecting value: line 1 column 1 (char 0)\n",
      "Exception in answer:\n",
      "cannot access local variable 'r' where it is not associated with a value\n",
      "exit answer\n",
      "enter answer\n",
      "enter os_ap_sss_answer\n",
      "enter api_breeze\n",
      "response=<Response [524]>\n",
      "Except in api_breeze = Expecting value: line 1 column 1 (char 0)\n",
      "Exception in answer:\n",
      "cannot access local variable 'r' where it is not associated with a value\n",
      "exit answer\n",
      "enter answer\n",
      "enter os_ap_sss_answer\n",
      "enter api_breeze\n",
      "response=<Response [524]>\n",
      "Except in api_breeze = Expecting value: line 1 column 1 (char 0)\n",
      "Exception in answer:\n",
      "cannot access local variable 'r' where it is not associated with a value\n",
      "exit answer\n",
      "enter answer\n",
      "enter os_ap_sss_answer\n",
      "enter api_breeze\n",
      "response=<Response [524]>\n",
      "Except in api_breeze = Expecting value: line 1 column 1 (char 0)\n",
      "Exception in answer:\n",
      "cannot access local variable 'r' where it is not associated with a value\n",
      "exit answer\n",
      "enter answer\n",
      "enter os_ap_sss_answer\n",
      "enter api_breeze\n",
      "response=<Response [524]>\n",
      "Except in api_breeze = Expecting value: line 1 column 1 (char 0)\n",
      "Exception in answer:\n",
      "cannot access local variable 'r' where it is not associated with a value\n",
      "exit answer\n",
      "enter answer\n",
      "enter os_ap_sss_answer\n",
      "enter api_breeze\n",
      "response=<Response [524]>\n",
      "Except in api_breeze = Expecting value: line 1 column 1 (char 0)\n",
      "Exception in answer:\n",
      "cannot access local variable 'r' where it is not associated with a value\n",
      "exit answer\n",
      "enter answer\n",
      "enter os_ap_sss_answer\n",
      "enter api_breeze\n",
      "response=<Response [524]>\n",
      "Except in api_breeze = Expecting value: line 1 column 1 (char 0)\n",
      "Exception in answer:\n",
      "cannot access local variable 'r' where it is not associated with a value\n",
      "exit answer\n",
      "enter answer\n",
      "enter os_ap_sss_answer\n",
      "enter api_breeze\n",
      "response=<Response [524]>\n",
      "Except in api_breeze = Expecting value: line 1 column 1 (char 0)\n",
      "Exception in answer:\n",
      "cannot access local variable 'r' where it is not associated with a value\n",
      "exit answer\n",
      "enter answer\n",
      "enter os_ap_sss_answer\n",
      "enter api_breeze\n",
      "response=<Response [524]>\n",
      "Except in api_breeze = Expecting value: line 1 column 1 (char 0)\n",
      "Exception in answer:\n",
      "cannot access local variable 'r' where it is not associated with a value\n",
      "exit answer\n",
      "enter answer\n",
      "enter os_ap_sss_answer\n",
      "enter api_breeze\n",
      "response=<Response [524]>\n",
      "Except in api_breeze = Expecting value: line 1 column 1 (char 0)\n",
      "Exception in answer:\n",
      "cannot access local variable 'r' where it is not associated with a value\n",
      "exit answer\n",
      "enter answer\n",
      "enter os_ap_sss_answer\n",
      "enter api_breeze\n",
      "response=<Response [524]>\n",
      "Except in api_breeze = Expecting value: line 1 column 1 (char 0)\n",
      "Exception in answer:\n",
      "cannot access local variable 'r' where it is not associated with a value\n",
      "exit answer\n",
      "enter answer\n",
      "enter os_ap_sss_answer\n",
      "enter api_breeze\n",
      "response=<Response [524]>\n",
      "Except in api_breeze = Expecting value: line 1 column 1 (char 0)\n",
      "Exception in answer:\n",
      "cannot access local variable 'r' where it is not associated with a value\n",
      "exit answer\n",
      "enter answer\n",
      "enter os_ap_sss_answer\n",
      "enter api_breeze\n",
      "response=<Response [524]>\n",
      "Except in api_breeze = Expecting value: line 1 column 1 (char 0)\n",
      "Exception in answer:\n",
      "cannot access local variable 'r' where it is not associated with a value\n",
      "exit answer\n",
      "enter answer\n",
      "enter os_ap_sss_answer\n",
      "enter api_breeze\n",
      "response=<Response [524]>\n",
      "Except in api_breeze = Expecting value: line 1 column 1 (char 0)\n",
      "Exception in answer:\n",
      "cannot access local variable 'r' where it is not associated with a value\n",
      "exit answer\n",
      "enter answer\n",
      "enter os_ap_sss_answer\n",
      "enter api_breeze\n",
      "response=<Response [524]>\n",
      "Except in api_breeze = Expecting value: line 1 column 1 (char 0)\n",
      "Exception in answer:\n",
      "cannot access local variable 'r' where it is not associated with a value\n",
      "exit answer\n",
      "enter answer\n",
      "enter os_ap_sss_answer\n",
      "enter api_breeze\n",
      "response=<Response [524]>\n",
      "Except in api_breeze = Expecting value: line 1 column 1 (char 0)\n",
      "Exception in answer:\n",
      "cannot access local variable 'r' where it is not associated with a value\n",
      "exit answer\n",
      "enter answer\n",
      "enter os_ap_sss_answer\n",
      "enter api_breeze\n",
      "response=<Response [524]>\n",
      "Except in api_breeze = Expecting value: line 1 column 1 (char 0)\n",
      "Exception in answer:\n",
      "cannot access local variable 'r' where it is not associated with a value\n",
      "exit answer\n",
      "enter answer\n",
      "enter os_ap_sss_answer\n",
      "enter api_breeze\n",
      "response=<Response [524]>\n",
      "Except in api_breeze = Expecting value: line 1 column 1 (char 0)\n",
      "Exception in answer:\n",
      "cannot access local variable 'r' where it is not associated with a value\n",
      "exit answer\n",
      "enter answer\n",
      "enter os_ap_sss_answer\n",
      "enter api_breeze\n",
      "response=<Response [524]>\n",
      "Except in api_breeze = Expecting value: line 1 column 1 (char 0)\n",
      "Exception in answer:\n",
      "cannot access local variable 'r' where it is not associated with a value\n",
      "exit answer\n",
      "enter answer\n",
      "enter os_ap_sss_answer\n",
      "enter api_breeze\n",
      "response=<Response [524]>\n",
      "Except in api_breeze = Expecting value: line 1 column 1 (char 0)\n",
      "Exception in answer:\n",
      "cannot access local variable 'r' where it is not associated with a value\n",
      "exit answer\n",
      "enter answer\n",
      "enter os_ap_sss_answer\n",
      "enter api_breeze\n"
     ]
    },
    {
     "name": "stderr",
     "output_type": "stream",
     "text": [
      " 17%|█▋        | 5/30 [1:20:23<6:41:59, 964.78s/it]\n"
     ]
    },
    {
     "ename": "KeyboardInterrupt",
     "evalue": "",
     "output_type": "error",
     "traceback": [
      "\u001b[1;31m---------------------------------------------------------------------------\u001b[0m",
      "\u001b[1;31mKeyboardInterrupt\u001b[0m                         Traceback (most recent call last)",
      "Cell \u001b[1;32mIn[6], line 3\u001b[0m\n\u001b[0;32m      1\u001b[0m pre_file_path \u001b[38;5;241m=\u001b[39m \u001b[38;5;28;01mNone\u001b[39;00m\n\u001b[0;32m      2\u001b[0m \u001b[38;5;28;01mfor\u001b[39;00m i \u001b[38;5;129;01min\u001b[39;00m \u001b[38;5;28mrange\u001b[39m(\u001b[38;5;241m5\u001b[39m):\n\u001b[1;32m----> 3\u001b[0m     \u001b[43mtest_EvoDE\u001b[49m\u001b[43m(\u001b[49m\u001b[43m)\u001b[49m\n",
      "Cell \u001b[1;32mIn[5], line 38\u001b[0m, in \u001b[0;36mtest_EvoDE\u001b[1;34m()\u001b[0m\n\u001b[0;32m     32\u001b[0m sorted_pair \u001b[38;5;241m=\u001b[39m \u001b[38;5;28msorted\u001b[39m(ttl_pair_os_prompt_scores,  key\u001b[38;5;241m=\u001b[39m\u001b[38;5;28;01mlambda\u001b[39;00m x: x[\u001b[38;5;124m'\u001b[39m\u001b[38;5;124mtrain_score\u001b[39m\u001b[38;5;124m'\u001b[39m],  reverse\u001b[38;5;241m=\u001b[39m\u001b[38;5;28;01mTrue\u001b[39;00m)\n\u001b[0;32m     33\u001b[0m \u001b[38;5;28;01mwhile\u001b[39;00m(\n\u001b[0;32m     34\u001b[0m     sorted_pair[\u001b[38;5;241m0\u001b[39m][\u001b[38;5;124m'\u001b[39m\u001b[38;5;124mtrain_score\u001b[39m\u001b[38;5;124m'\u001b[39m]\u001b[38;5;241m<\u001b[39mSTOP_SCORE\n\u001b[0;32m     35\u001b[0m     \u001b[38;5;129;01mand\u001b[39;00m stop_run_num\u001b[38;5;241m>\u001b[39m\u001b[38;5;241m0\u001b[39m\n\u001b[0;32m     36\u001b[0m     \u001b[38;5;129;01mand\u001b[39;00m \u001b[38;5;129;01mnot\u001b[39;00m os\u001b[38;5;241m.\u001b[39mpath\u001b[38;5;241m.\u001b[39mexists(PATH_STOP_FILE)   \u001b[38;5;66;03m# 人工 early stop\u001b[39;00m\n\u001b[0;32m     37\u001b[0m ):\n\u001b[1;32m---> 38\u001b[0m     new_population \u001b[38;5;241m=\u001b[39m \u001b[43mEvoDE\u001b[49m\u001b[43m(\u001b[49m\u001b[43mttl_model\u001b[49m\u001b[43m,\u001b[49m\u001b[43m \u001b[49m\u001b[43mttl_dataset\u001b[49m\u001b[43m,\u001b[49m\u001b[43m \u001b[49m\u001b[43msorted_pair\u001b[49m\u001b[43m)\u001b[49m\n\u001b[0;32m     40\u001b[0m     record_population\u001b[38;5;241m.\u001b[39mappend(new_population)\n\u001b[0;32m     41\u001b[0m     sorted_pair \u001b[38;5;241m=\u001b[39m \u001b[38;5;28msorted\u001b[39m(new_population,  key\u001b[38;5;241m=\u001b[39m\u001b[38;5;28;01mlambda\u001b[39;00m x: x[\u001b[38;5;124m'\u001b[39m\u001b[38;5;124mtrain_score\u001b[39m\u001b[38;5;124m'\u001b[39m],  reverse\u001b[38;5;241m=\u001b[39m\u001b[38;5;28;01mTrue\u001b[39;00m)\n",
      "File \u001b[1;32md:\\實習\\evoprompt\\Ress\\utils\\EvoPrompt.py:96\u001b[0m, in \u001b[0;36mEvoDE\u001b[1;34m(ttl_model, ttl_dataset, sorted_pairs)\u001b[0m\n\u001b[0;32m     93\u001b[0m \u001b[38;5;28mprint\u001b[39m(\u001b[38;5;124mf\u001b[39m\u001b[38;5;124m\"\u001b[39m\u001b[38;5;132;01m{\u001b[39;00mnew_prompt\u001b[38;5;132;01m=}\u001b[39;00m\u001b[38;5;124m\"\u001b[39m)\n\u001b[0;32m     95\u001b[0m \u001b[38;5;66;03m# 紀錄\u001b[39;00m\n\u001b[1;32m---> 96\u001b[0m train_score \u001b[38;5;241m=\u001b[39m \u001b[43mget_score\u001b[49m\u001b[43m(\u001b[49m\u001b[43mttl_model\u001b[49m\u001b[43m,\u001b[49m\u001b[43m \u001b[49m\u001b[43mnew_prompt\u001b[49m\u001b[43m,\u001b[49m\u001b[43m \u001b[49m\u001b[43mtrain_split\u001b[49m\u001b[43m,\u001b[49m\u001b[43m \u001b[49m\u001b[38;5;241;43m3000\u001b[39;49m\u001b[43m,\u001b[49m\u001b[43m \u001b[49m\u001b[38;5;241;43m10\u001b[39;49m\u001b[43m)\u001b[49m\n\u001b[0;32m     97\u001b[0m \u001b[38;5;28mprint\u001b[39m(\u001b[38;5;124mf\u001b[39m\u001b[38;5;124m\"\u001b[39m\u001b[38;5;132;01m{\u001b[39;00mtrain_score\u001b[38;5;132;01m=}\u001b[39;00m\u001b[38;5;130;01m\\n\u001b[39;00m\u001b[38;5;124mi[\u001b[39m\u001b[38;5;130;01m\\\"\u001b[39;00m\u001b[38;5;124mtrain_score\u001b[39m\u001b[38;5;130;01m\\\"\u001b[39;00m\u001b[38;5;124m]=\u001b[39m\u001b[38;5;132;01m{\u001b[39;00mi[\u001b[38;5;124m'\u001b[39m\u001b[38;5;124mtrain_score\u001b[39m\u001b[38;5;124m'\u001b[39m]\u001b[38;5;132;01m}\u001b[39;00m\u001b[38;5;124m\"\u001b[39m)\n\u001b[0;32m     98\u001b[0m \u001b[38;5;28;01mif\u001b[39;00m train_score \u001b[38;5;241m<\u001b[39m\u001b[38;5;241m=\u001b[39m i[\u001b[38;5;124m\"\u001b[39m\u001b[38;5;124mtrain_score\u001b[39m\u001b[38;5;124m\"\u001b[39m]:\n",
      "File \u001b[1;32md:\\實習\\evoprompt\\Ress\\utils\\score.py:89\u001b[0m, in \u001b[0;36mget_score\u001b[1;34m(ttl_model, os_prompt, input_data, size_chunck, num_overlap)\u001b[0m\n\u001b[0;32m     88\u001b[0m \u001b[38;5;28;01mdef\u001b[39;00m \u001b[38;5;21mget_score\u001b[39m(ttl_model, os_prompt, input_data, size_chunck, num_overlap):\n\u001b[1;32m---> 89\u001b[0m     score,  _,  _ \u001b[38;5;241m=\u001b[39m \u001b[43mexperiment\u001b[49m\u001b[43m(\u001b[49m\u001b[43mttl_model\u001b[49m\u001b[43m,\u001b[49m\u001b[43m \u001b[49m\u001b[43mos_prompt\u001b[49m\u001b[43m,\u001b[49m\u001b[43m \u001b[49m\u001b[43minput_data\u001b[49m\u001b[43m,\u001b[49m\u001b[43m \u001b[49m\u001b[43msize_chunck\u001b[49m\u001b[43m,\u001b[49m\u001b[43m \u001b[49m\u001b[43mnum_overlap\u001b[49m\u001b[43m)\u001b[49m\n\u001b[0;32m     90\u001b[0m     \u001b[38;5;28;01mreturn\u001b[39;00m score\n",
      "File \u001b[1;32md:\\實習\\evoprompt\\Ress\\utils\\score.py:73\u001b[0m, in \u001b[0;36mexperiment\u001b[1;34m(ttl_model, os_prompt, ttl_data, size_chunck, num_overlap)\u001b[0m\n\u001b[0;32m     71\u001b[0m result \u001b[38;5;241m=\u001b[39m answer(ttl_model, os_prompt, data, size_chunck, num_overlap)\n\u001b[0;32m     72\u001b[0m \u001b[38;5;28;01mwhile\u001b[39;00m(result\u001b[38;5;241m==\u001b[39m\u001b[38;5;124m\"\u001b[39m\u001b[38;5;124mredo\u001b[39m\u001b[38;5;124m\"\u001b[39m):\n\u001b[1;32m---> 73\u001b[0m     result \u001b[38;5;241m=\u001b[39m \u001b[43manswer\u001b[49m\u001b[43m(\u001b[49m\u001b[43mttl_model\u001b[49m\u001b[43m,\u001b[49m\u001b[43m \u001b[49m\u001b[43mos_prompt\u001b[49m\u001b[43m,\u001b[49m\u001b[43m \u001b[49m\u001b[43mdata\u001b[49m\u001b[43m,\u001b[49m\u001b[43m \u001b[49m\u001b[43msize_chunck\u001b[49m\u001b[43m,\u001b[49m\u001b[43m \u001b[49m\u001b[43mnum_overlap\u001b[49m\u001b[43m)\u001b[49m\n\u001b[0;32m     75\u001b[0m \u001b[38;5;66;03m# 對答案、計分數\u001b[39;00m\n\u001b[0;32m     76\u001b[0m truth_answer_number \u001b[38;5;241m=\u001b[39m data[\u001b[38;5;124m'\u001b[39m\u001b[38;5;124manswer\u001b[39m\u001b[38;5;124m'\u001b[39m]\n",
      "File \u001b[1;32md:\\實習\\evoprompt\\Ress\\utils\\score.py:45\u001b[0m, in \u001b[0;36manswer\u001b[1;34m(ttl_model, os_prompt, data, size_chunck, num_overlap)\u001b[0m\n\u001b[0;32m     42\u001b[0m \u001b[38;5;28;01mif\u001b[39;00m DEBUGGER\u001b[38;5;241m==\u001b[39m\u001b[38;5;124m\"\u001b[39m\u001b[38;5;124mTrue\u001b[39m\u001b[38;5;124m\"\u001b[39m: \u001b[38;5;28mprint\u001b[39m(\u001b[38;5;124m\"\u001b[39m\u001b[38;5;124menter answer\u001b[39m\u001b[38;5;124m\"\u001b[39m)\n\u001b[0;32m     44\u001b[0m \u001b[38;5;28;01mtry\u001b[39;00m:\n\u001b[1;32m---> 45\u001b[0m     result \u001b[38;5;241m=\u001b[39m \u001b[43mos_ap_sss_answer\u001b[49m\u001b[43m(\u001b[49m\u001b[43mttl_model\u001b[49m\u001b[43m,\u001b[49m\u001b[43m \u001b[49m\u001b[43mos_prompt\u001b[49m\u001b[43m,\u001b[49m\u001b[43m \u001b[49m\u001b[43mdata\u001b[49m\u001b[43m,\u001b[49m\u001b[43m \u001b[49m\u001b[43msize_chunck\u001b[49m\u001b[43m,\u001b[49m\u001b[43m \u001b[49m\u001b[43mnum_overlap\u001b[49m\u001b[43m)\u001b[49m\n\u001b[0;32m     46\u001b[0m \u001b[38;5;28;01mexcept\u001b[39;00m \u001b[38;5;167;01mException\u001b[39;00m \u001b[38;5;28;01mas\u001b[39;00m e:\n\u001b[0;32m     47\u001b[0m     \u001b[38;5;28mprint\u001b[39m(\u001b[38;5;124mf\u001b[39m\u001b[38;5;124m\"\u001b[39m\u001b[38;5;124mException in answer:\u001b[39m\u001b[38;5;130;01m\\n\u001b[39;00m\u001b[38;5;132;01m{\u001b[39;00me\u001b[38;5;132;01m}\u001b[39;00m\u001b[38;5;124m\"\u001b[39m)\n",
      "File \u001b[1;32md:\\實習\\evoprompt\\Ress\\utils\\method.py:53\u001b[0m, in \u001b[0;36mos_ap_sss_answer\u001b[1;34m(ttl_model, os_prompt, data, size_chunck, num_overlap)\u001b[0m\n\u001b[0;32m     49\u001b[0m \u001b[38;5;28;01mfor\u001b[39;00m chunk \u001b[38;5;129;01min\u001b[39;00m ttl_chunck:\n\u001b[0;32m     50\u001b[0m \n\u001b[0;32m     51\u001b[0m     \u001b[38;5;66;03m# 請llm幫我們把重要資訊留下\u001b[39;00m\n\u001b[0;32m     52\u001b[0m     prompt_4_summarize_chunk \u001b[38;5;241m=\u001b[39m  get_prompt\u001b[38;5;241m.\u001b[39msum(\u001b[38;5;124m\"\u001b[39m\u001b[38;5;124mold\u001b[39m\u001b[38;5;124m\"\u001b[39m, chunk, os_prompt, question)\n\u001b[1;32m---> 53\u001b[0m     chunk_summary \u001b[38;5;241m=\u001b[39m \u001b[43mllm\u001b[49m\u001b[38;5;241;43m.\u001b[39;49m\u001b[43mreply\u001b[49m\u001b[43m(\u001b[49m\u001b[43mprompt_4_summarize_chunk\u001b[49m\u001b[43m)\u001b[49m\n\u001b[0;32m     54\u001b[0m     \u001b[38;5;66;03m# if chunk_summary==None:\u001b[39;00m\n\u001b[0;32m     55\u001b[0m     \u001b[38;5;66;03m#     continue\u001b[39;00m\n\u001b[0;32m     56\u001b[0m     new_content\u001b[38;5;241m+\u001b[39m\u001b[38;5;241m=\u001b[39m chunk_summary\u001b[38;5;241m+\u001b[39m\u001b[38;5;124m\"\u001b[39m\u001b[38;5;124m \u001b[39m\u001b[38;5;124m\"\u001b[39m\n",
      "File \u001b[1;32md:\\實習\\evoprompt\\Ress\\utils\\call_model\\llm.py:62\u001b[0m, in \u001b[0;36mLLM.reply\u001b[1;34m(self, *args)\u001b[0m\n\u001b[0;32m     61\u001b[0m \u001b[38;5;28;01mdef\u001b[39;00m \u001b[38;5;21mreply\u001b[39m(\u001b[38;5;28mself\u001b[39m, \u001b[38;5;241m*\u001b[39margs):\n\u001b[1;32m---> 62\u001b[0m     result \u001b[38;5;241m=\u001b[39m \u001b[38;5;28;43mself\u001b[39;49m\u001b[38;5;241;43m.\u001b[39;49m\u001b[43mmodel\u001b[49m\u001b[43m(\u001b[49m\u001b[38;5;241;43m*\u001b[39;49m\u001b[43margs\u001b[49m\u001b[43m)\u001b[49m\n\u001b[0;32m     63\u001b[0m     \u001b[38;5;28;01mreturn\u001b[39;00m result\n",
      "File \u001b[1;32md:\\實習\\evoprompt\\Ress\\utils\\call_model\\llm.py:40\u001b[0m, in \u001b[0;36mapi_breeze\u001b[1;34m(user_prompt, max_new_tokens, temperature)\u001b[0m\n\u001b[0;32m     35\u001b[0m headers \u001b[38;5;241m=\u001b[39m {\n\u001b[0;32m     36\u001b[0m     \u001b[38;5;124m'\u001b[39m\u001b[38;5;124mContent-Type\u001b[39m\u001b[38;5;124m'\u001b[39m: \u001b[38;5;124m'\u001b[39m\u001b[38;5;124mapplication/json\u001b[39m\u001b[38;5;124m'\u001b[39m,\n\u001b[0;32m     37\u001b[0m     \u001b[38;5;124m'\u001b[39m\u001b[38;5;124maccept\u001b[39m\u001b[38;5;124m'\u001b[39m: \u001b[38;5;124m'\u001b[39m\u001b[38;5;124mapplication/json\u001b[39m\u001b[38;5;124m'\u001b[39m\n\u001b[0;32m     38\u001b[0m }\n\u001b[0;32m     39\u001b[0m \u001b[38;5;28;01mtry\u001b[39;00m:\n\u001b[1;32m---> 40\u001b[0m     response \u001b[38;5;241m=\u001b[39m \u001b[43mrequests\u001b[49m\u001b[38;5;241;43m.\u001b[39;49m\u001b[43mrequest\u001b[49m\u001b[43m(\u001b[49m\u001b[38;5;124;43m\"\u001b[39;49m\u001b[38;5;124;43mPOST\u001b[39;49m\u001b[38;5;124;43m\"\u001b[39;49m\u001b[43m,\u001b[49m\u001b[43m \u001b[49m\u001b[43mURL\u001b[49m\u001b[43m,\u001b[49m\u001b[43m \u001b[49m\u001b[43mheaders\u001b[49m\u001b[38;5;241;43m=\u001b[39;49m\u001b[43mheaders\u001b[49m\u001b[43m,\u001b[49m\u001b[43m \u001b[49m\u001b[43mdata\u001b[49m\u001b[38;5;241;43m=\u001b[39;49m\u001b[43mpayload\u001b[49m\u001b[43m,\u001b[49m\u001b[43m \u001b[49m\u001b[43mtimeout\u001b[49m\u001b[38;5;241;43m=\u001b[39;49m\u001b[38;5;241;43m120\u001b[39;49m\u001b[43m)\u001b[49m\n\u001b[0;32m     41\u001b[0m     \u001b[38;5;28mprint\u001b[39m(\u001b[38;5;124mf\u001b[39m\u001b[38;5;124m\"\u001b[39m\u001b[38;5;132;01m{\u001b[39;00mresponse\u001b[38;5;132;01m=}\u001b[39;00m\u001b[38;5;124m\"\u001b[39m)\n\u001b[0;32m     42\u001b[0m     j_result\u001b[38;5;241m=\u001b[39mjson\u001b[38;5;241m.\u001b[39mloads(response\u001b[38;5;241m.\u001b[39mtext)\n",
      "File \u001b[1;32m~\\AppData\\Local\\Packages\\PythonSoftwareFoundation.Python.3.11_qbz5n2kfra8p0\\LocalCache\\local-packages\\Python311\\site-packages\\requests\\api.py:59\u001b[0m, in \u001b[0;36mrequest\u001b[1;34m(method, url, **kwargs)\u001b[0m\n\u001b[0;32m     55\u001b[0m \u001b[38;5;66;03m# By using the 'with' statement we are sure the session is closed, thus we\u001b[39;00m\n\u001b[0;32m     56\u001b[0m \u001b[38;5;66;03m# avoid leaving sockets open which can trigger a ResourceWarning in some\u001b[39;00m\n\u001b[0;32m     57\u001b[0m \u001b[38;5;66;03m# cases, and look like a memory leak in others.\u001b[39;00m\n\u001b[0;32m     58\u001b[0m \u001b[38;5;28;01mwith\u001b[39;00m sessions\u001b[38;5;241m.\u001b[39mSession() \u001b[38;5;28;01mas\u001b[39;00m session:\n\u001b[1;32m---> 59\u001b[0m     \u001b[38;5;28;01mreturn\u001b[39;00m \u001b[43msession\u001b[49m\u001b[38;5;241;43m.\u001b[39;49m\u001b[43mrequest\u001b[49m\u001b[43m(\u001b[49m\u001b[43mmethod\u001b[49m\u001b[38;5;241;43m=\u001b[39;49m\u001b[43mmethod\u001b[49m\u001b[43m,\u001b[49m\u001b[43m \u001b[49m\u001b[43murl\u001b[49m\u001b[38;5;241;43m=\u001b[39;49m\u001b[43murl\u001b[49m\u001b[43m,\u001b[49m\u001b[43m \u001b[49m\u001b[38;5;241;43m*\u001b[39;49m\u001b[38;5;241;43m*\u001b[39;49m\u001b[43mkwargs\u001b[49m\u001b[43m)\u001b[49m\n",
      "File \u001b[1;32m~\\AppData\\Local\\Packages\\PythonSoftwareFoundation.Python.3.11_qbz5n2kfra8p0\\LocalCache\\local-packages\\Python311\\site-packages\\requests\\sessions.py:589\u001b[0m, in \u001b[0;36mSession.request\u001b[1;34m(self, method, url, params, data, headers, cookies, files, auth, timeout, allow_redirects, proxies, hooks, stream, verify, cert, json)\u001b[0m\n\u001b[0;32m    584\u001b[0m send_kwargs \u001b[38;5;241m=\u001b[39m {\n\u001b[0;32m    585\u001b[0m     \u001b[38;5;124m\"\u001b[39m\u001b[38;5;124mtimeout\u001b[39m\u001b[38;5;124m\"\u001b[39m: timeout,\n\u001b[0;32m    586\u001b[0m     \u001b[38;5;124m\"\u001b[39m\u001b[38;5;124mallow_redirects\u001b[39m\u001b[38;5;124m\"\u001b[39m: allow_redirects,\n\u001b[0;32m    587\u001b[0m }\n\u001b[0;32m    588\u001b[0m send_kwargs\u001b[38;5;241m.\u001b[39mupdate(settings)\n\u001b[1;32m--> 589\u001b[0m resp \u001b[38;5;241m=\u001b[39m \u001b[38;5;28;43mself\u001b[39;49m\u001b[38;5;241;43m.\u001b[39;49m\u001b[43msend\u001b[49m\u001b[43m(\u001b[49m\u001b[43mprep\u001b[49m\u001b[43m,\u001b[49m\u001b[43m \u001b[49m\u001b[38;5;241;43m*\u001b[39;49m\u001b[38;5;241;43m*\u001b[39;49m\u001b[43msend_kwargs\u001b[49m\u001b[43m)\u001b[49m\n\u001b[0;32m    591\u001b[0m \u001b[38;5;28;01mreturn\u001b[39;00m resp\n",
      "File \u001b[1;32m~\\AppData\\Local\\Packages\\PythonSoftwareFoundation.Python.3.11_qbz5n2kfra8p0\\LocalCache\\local-packages\\Python311\\site-packages\\requests\\sessions.py:703\u001b[0m, in \u001b[0;36mSession.send\u001b[1;34m(self, request, **kwargs)\u001b[0m\n\u001b[0;32m    700\u001b[0m start \u001b[38;5;241m=\u001b[39m preferred_clock()\n\u001b[0;32m    702\u001b[0m \u001b[38;5;66;03m# Send the request\u001b[39;00m\n\u001b[1;32m--> 703\u001b[0m r \u001b[38;5;241m=\u001b[39m \u001b[43madapter\u001b[49m\u001b[38;5;241;43m.\u001b[39;49m\u001b[43msend\u001b[49m\u001b[43m(\u001b[49m\u001b[43mrequest\u001b[49m\u001b[43m,\u001b[49m\u001b[43m \u001b[49m\u001b[38;5;241;43m*\u001b[39;49m\u001b[38;5;241;43m*\u001b[39;49m\u001b[43mkwargs\u001b[49m\u001b[43m)\u001b[49m\n\u001b[0;32m    705\u001b[0m \u001b[38;5;66;03m# Total elapsed time of the request (approximately)\u001b[39;00m\n\u001b[0;32m    706\u001b[0m elapsed \u001b[38;5;241m=\u001b[39m preferred_clock() \u001b[38;5;241m-\u001b[39m start\n",
      "File \u001b[1;32m~\\AppData\\Local\\Packages\\PythonSoftwareFoundation.Python.3.11_qbz5n2kfra8p0\\LocalCache\\local-packages\\Python311\\site-packages\\requests\\adapters.py:486\u001b[0m, in \u001b[0;36mHTTPAdapter.send\u001b[1;34m(self, request, stream, timeout, verify, cert, proxies)\u001b[0m\n\u001b[0;32m    483\u001b[0m     timeout \u001b[38;5;241m=\u001b[39m TimeoutSauce(connect\u001b[38;5;241m=\u001b[39mtimeout, read\u001b[38;5;241m=\u001b[39mtimeout)\n\u001b[0;32m    485\u001b[0m \u001b[38;5;28;01mtry\u001b[39;00m:\n\u001b[1;32m--> 486\u001b[0m     resp \u001b[38;5;241m=\u001b[39m \u001b[43mconn\u001b[49m\u001b[38;5;241;43m.\u001b[39;49m\u001b[43murlopen\u001b[49m\u001b[43m(\u001b[49m\n\u001b[0;32m    487\u001b[0m \u001b[43m        \u001b[49m\u001b[43mmethod\u001b[49m\u001b[38;5;241;43m=\u001b[39;49m\u001b[43mrequest\u001b[49m\u001b[38;5;241;43m.\u001b[39;49m\u001b[43mmethod\u001b[49m\u001b[43m,\u001b[49m\n\u001b[0;32m    488\u001b[0m \u001b[43m        \u001b[49m\u001b[43murl\u001b[49m\u001b[38;5;241;43m=\u001b[39;49m\u001b[43murl\u001b[49m\u001b[43m,\u001b[49m\n\u001b[0;32m    489\u001b[0m \u001b[43m        \u001b[49m\u001b[43mbody\u001b[49m\u001b[38;5;241;43m=\u001b[39;49m\u001b[43mrequest\u001b[49m\u001b[38;5;241;43m.\u001b[39;49m\u001b[43mbody\u001b[49m\u001b[43m,\u001b[49m\n\u001b[0;32m    490\u001b[0m \u001b[43m        \u001b[49m\u001b[43mheaders\u001b[49m\u001b[38;5;241;43m=\u001b[39;49m\u001b[43mrequest\u001b[49m\u001b[38;5;241;43m.\u001b[39;49m\u001b[43mheaders\u001b[49m\u001b[43m,\u001b[49m\n\u001b[0;32m    491\u001b[0m \u001b[43m        \u001b[49m\u001b[43mredirect\u001b[49m\u001b[38;5;241;43m=\u001b[39;49m\u001b[38;5;28;43;01mFalse\u001b[39;49;00m\u001b[43m,\u001b[49m\n\u001b[0;32m    492\u001b[0m \u001b[43m        \u001b[49m\u001b[43massert_same_host\u001b[49m\u001b[38;5;241;43m=\u001b[39;49m\u001b[38;5;28;43;01mFalse\u001b[39;49;00m\u001b[43m,\u001b[49m\n\u001b[0;32m    493\u001b[0m \u001b[43m        \u001b[49m\u001b[43mpreload_content\u001b[49m\u001b[38;5;241;43m=\u001b[39;49m\u001b[38;5;28;43;01mFalse\u001b[39;49;00m\u001b[43m,\u001b[49m\n\u001b[0;32m    494\u001b[0m \u001b[43m        \u001b[49m\u001b[43mdecode_content\u001b[49m\u001b[38;5;241;43m=\u001b[39;49m\u001b[38;5;28;43;01mFalse\u001b[39;49;00m\u001b[43m,\u001b[49m\n\u001b[0;32m    495\u001b[0m \u001b[43m        \u001b[49m\u001b[43mretries\u001b[49m\u001b[38;5;241;43m=\u001b[39;49m\u001b[38;5;28;43mself\u001b[39;49m\u001b[38;5;241;43m.\u001b[39;49m\u001b[43mmax_retries\u001b[49m\u001b[43m,\u001b[49m\n\u001b[0;32m    496\u001b[0m \u001b[43m        \u001b[49m\u001b[43mtimeout\u001b[49m\u001b[38;5;241;43m=\u001b[39;49m\u001b[43mtimeout\u001b[49m\u001b[43m,\u001b[49m\n\u001b[0;32m    497\u001b[0m \u001b[43m        \u001b[49m\u001b[43mchunked\u001b[49m\u001b[38;5;241;43m=\u001b[39;49m\u001b[43mchunked\u001b[49m\u001b[43m,\u001b[49m\n\u001b[0;32m    498\u001b[0m \u001b[43m    \u001b[49m\u001b[43m)\u001b[49m\n\u001b[0;32m    500\u001b[0m \u001b[38;5;28;01mexcept\u001b[39;00m (ProtocolError, \u001b[38;5;167;01mOSError\u001b[39;00m) \u001b[38;5;28;01mas\u001b[39;00m err:\n\u001b[0;32m    501\u001b[0m     \u001b[38;5;28;01mraise\u001b[39;00m \u001b[38;5;167;01mConnectionError\u001b[39;00m(err, request\u001b[38;5;241m=\u001b[39mrequest)\n",
      "File \u001b[1;32m~\\AppData\\Local\\Packages\\PythonSoftwareFoundation.Python.3.11_qbz5n2kfra8p0\\LocalCache\\local-packages\\Python311\\site-packages\\urllib3\\connectionpool.py:793\u001b[0m, in \u001b[0;36mHTTPConnectionPool.urlopen\u001b[1;34m(self, method, url, body, headers, retries, redirect, assert_same_host, timeout, pool_timeout, release_conn, chunked, body_pos, preload_content, decode_content, **response_kw)\u001b[0m\n\u001b[0;32m    790\u001b[0m response_conn \u001b[38;5;241m=\u001b[39m conn \u001b[38;5;28;01mif\u001b[39;00m \u001b[38;5;129;01mnot\u001b[39;00m release_conn \u001b[38;5;28;01melse\u001b[39;00m \u001b[38;5;28;01mNone\u001b[39;00m\n\u001b[0;32m    792\u001b[0m \u001b[38;5;66;03m# Make the request on the HTTPConnection object\u001b[39;00m\n\u001b[1;32m--> 793\u001b[0m response \u001b[38;5;241m=\u001b[39m \u001b[38;5;28;43mself\u001b[39;49m\u001b[38;5;241;43m.\u001b[39;49m\u001b[43m_make_request\u001b[49m\u001b[43m(\u001b[49m\n\u001b[0;32m    794\u001b[0m \u001b[43m    \u001b[49m\u001b[43mconn\u001b[49m\u001b[43m,\u001b[49m\n\u001b[0;32m    795\u001b[0m \u001b[43m    \u001b[49m\u001b[43mmethod\u001b[49m\u001b[43m,\u001b[49m\n\u001b[0;32m    796\u001b[0m \u001b[43m    \u001b[49m\u001b[43murl\u001b[49m\u001b[43m,\u001b[49m\n\u001b[0;32m    797\u001b[0m \u001b[43m    \u001b[49m\u001b[43mtimeout\u001b[49m\u001b[38;5;241;43m=\u001b[39;49m\u001b[43mtimeout_obj\u001b[49m\u001b[43m,\u001b[49m\n\u001b[0;32m    798\u001b[0m \u001b[43m    \u001b[49m\u001b[43mbody\u001b[49m\u001b[38;5;241;43m=\u001b[39;49m\u001b[43mbody\u001b[49m\u001b[43m,\u001b[49m\n\u001b[0;32m    799\u001b[0m \u001b[43m    \u001b[49m\u001b[43mheaders\u001b[49m\u001b[38;5;241;43m=\u001b[39;49m\u001b[43mheaders\u001b[49m\u001b[43m,\u001b[49m\n\u001b[0;32m    800\u001b[0m \u001b[43m    \u001b[49m\u001b[43mchunked\u001b[49m\u001b[38;5;241;43m=\u001b[39;49m\u001b[43mchunked\u001b[49m\u001b[43m,\u001b[49m\n\u001b[0;32m    801\u001b[0m \u001b[43m    \u001b[49m\u001b[43mretries\u001b[49m\u001b[38;5;241;43m=\u001b[39;49m\u001b[43mretries\u001b[49m\u001b[43m,\u001b[49m\n\u001b[0;32m    802\u001b[0m \u001b[43m    \u001b[49m\u001b[43mresponse_conn\u001b[49m\u001b[38;5;241;43m=\u001b[39;49m\u001b[43mresponse_conn\u001b[49m\u001b[43m,\u001b[49m\n\u001b[0;32m    803\u001b[0m \u001b[43m    \u001b[49m\u001b[43mpreload_content\u001b[49m\u001b[38;5;241;43m=\u001b[39;49m\u001b[43mpreload_content\u001b[49m\u001b[43m,\u001b[49m\n\u001b[0;32m    804\u001b[0m \u001b[43m    \u001b[49m\u001b[43mdecode_content\u001b[49m\u001b[38;5;241;43m=\u001b[39;49m\u001b[43mdecode_content\u001b[49m\u001b[43m,\u001b[49m\n\u001b[0;32m    805\u001b[0m \u001b[43m    \u001b[49m\u001b[38;5;241;43m*\u001b[39;49m\u001b[38;5;241;43m*\u001b[39;49m\u001b[43mresponse_kw\u001b[49m\u001b[43m,\u001b[49m\n\u001b[0;32m    806\u001b[0m \u001b[43m\u001b[49m\u001b[43m)\u001b[49m\n\u001b[0;32m    808\u001b[0m \u001b[38;5;66;03m# Everything went great!\u001b[39;00m\n\u001b[0;32m    809\u001b[0m clean_exit \u001b[38;5;241m=\u001b[39m \u001b[38;5;28;01mTrue\u001b[39;00m\n",
      "File \u001b[1;32m~\\AppData\\Local\\Packages\\PythonSoftwareFoundation.Python.3.11_qbz5n2kfra8p0\\LocalCache\\local-packages\\Python311\\site-packages\\urllib3\\connectionpool.py:537\u001b[0m, in \u001b[0;36mHTTPConnectionPool._make_request\u001b[1;34m(self, conn, method, url, body, headers, retries, timeout, chunked, response_conn, preload_content, decode_content, enforce_content_length)\u001b[0m\n\u001b[0;32m    535\u001b[0m \u001b[38;5;66;03m# Receive the response from the server\u001b[39;00m\n\u001b[0;32m    536\u001b[0m \u001b[38;5;28;01mtry\u001b[39;00m:\n\u001b[1;32m--> 537\u001b[0m     response \u001b[38;5;241m=\u001b[39m \u001b[43mconn\u001b[49m\u001b[38;5;241;43m.\u001b[39;49m\u001b[43mgetresponse\u001b[49m\u001b[43m(\u001b[49m\u001b[43m)\u001b[49m\n\u001b[0;32m    538\u001b[0m \u001b[38;5;28;01mexcept\u001b[39;00m (BaseSSLError, \u001b[38;5;167;01mOSError\u001b[39;00m) \u001b[38;5;28;01mas\u001b[39;00m e:\n\u001b[0;32m    539\u001b[0m     \u001b[38;5;28mself\u001b[39m\u001b[38;5;241m.\u001b[39m_raise_timeout(err\u001b[38;5;241m=\u001b[39me, url\u001b[38;5;241m=\u001b[39murl, timeout_value\u001b[38;5;241m=\u001b[39mread_timeout)\n",
      "File \u001b[1;32m~\\AppData\\Local\\Packages\\PythonSoftwareFoundation.Python.3.11_qbz5n2kfra8p0\\LocalCache\\local-packages\\Python311\\site-packages\\urllib3\\connection.py:466\u001b[0m, in \u001b[0;36mHTTPConnection.getresponse\u001b[1;34m(self)\u001b[0m\n\u001b[0;32m    463\u001b[0m \u001b[38;5;28;01mfrom\u001b[39;00m \u001b[38;5;21;01m.\u001b[39;00m\u001b[38;5;21;01mresponse\u001b[39;00m \u001b[38;5;28;01mimport\u001b[39;00m HTTPResponse\n\u001b[0;32m    465\u001b[0m \u001b[38;5;66;03m# Get the response from http.client.HTTPConnection\u001b[39;00m\n\u001b[1;32m--> 466\u001b[0m httplib_response \u001b[38;5;241m=\u001b[39m \u001b[38;5;28;43msuper\u001b[39;49m\u001b[43m(\u001b[49m\u001b[43m)\u001b[49m\u001b[38;5;241;43m.\u001b[39;49m\u001b[43mgetresponse\u001b[49m\u001b[43m(\u001b[49m\u001b[43m)\u001b[49m\n\u001b[0;32m    468\u001b[0m \u001b[38;5;28;01mtry\u001b[39;00m:\n\u001b[0;32m    469\u001b[0m     assert_header_parsing(httplib_response\u001b[38;5;241m.\u001b[39mmsg)\n",
      "File \u001b[1;32mC:\\Program Files\\WindowsApps\\PythonSoftwareFoundation.Python.3.11_3.11.2544.0_x64__qbz5n2kfra8p0\\Lib\\http\\client.py:1395\u001b[0m, in \u001b[0;36mHTTPConnection.getresponse\u001b[1;34m(self)\u001b[0m\n\u001b[0;32m   1393\u001b[0m \u001b[38;5;28;01mtry\u001b[39;00m:\n\u001b[0;32m   1394\u001b[0m     \u001b[38;5;28;01mtry\u001b[39;00m:\n\u001b[1;32m-> 1395\u001b[0m         \u001b[43mresponse\u001b[49m\u001b[38;5;241;43m.\u001b[39;49m\u001b[43mbegin\u001b[49m\u001b[43m(\u001b[49m\u001b[43m)\u001b[49m\n\u001b[0;32m   1396\u001b[0m     \u001b[38;5;28;01mexcept\u001b[39;00m \u001b[38;5;167;01mConnectionError\u001b[39;00m:\n\u001b[0;32m   1397\u001b[0m         \u001b[38;5;28mself\u001b[39m\u001b[38;5;241m.\u001b[39mclose()\n",
      "File \u001b[1;32mC:\\Program Files\\WindowsApps\\PythonSoftwareFoundation.Python.3.11_3.11.2544.0_x64__qbz5n2kfra8p0\\Lib\\http\\client.py:325\u001b[0m, in \u001b[0;36mHTTPResponse.begin\u001b[1;34m(self)\u001b[0m\n\u001b[0;32m    323\u001b[0m \u001b[38;5;66;03m# read until we get a non-100 response\u001b[39;00m\n\u001b[0;32m    324\u001b[0m \u001b[38;5;28;01mwhile\u001b[39;00m \u001b[38;5;28;01mTrue\u001b[39;00m:\n\u001b[1;32m--> 325\u001b[0m     version, status, reason \u001b[38;5;241m=\u001b[39m \u001b[38;5;28;43mself\u001b[39;49m\u001b[38;5;241;43m.\u001b[39;49m\u001b[43m_read_status\u001b[49m\u001b[43m(\u001b[49m\u001b[43m)\u001b[49m\n\u001b[0;32m    326\u001b[0m     \u001b[38;5;28;01mif\u001b[39;00m status \u001b[38;5;241m!=\u001b[39m CONTINUE:\n\u001b[0;32m    327\u001b[0m         \u001b[38;5;28;01mbreak\u001b[39;00m\n",
      "File \u001b[1;32mC:\\Program Files\\WindowsApps\\PythonSoftwareFoundation.Python.3.11_3.11.2544.0_x64__qbz5n2kfra8p0\\Lib\\http\\client.py:286\u001b[0m, in \u001b[0;36mHTTPResponse._read_status\u001b[1;34m(self)\u001b[0m\n\u001b[0;32m    285\u001b[0m \u001b[38;5;28;01mdef\u001b[39;00m \u001b[38;5;21m_read_status\u001b[39m(\u001b[38;5;28mself\u001b[39m):\n\u001b[1;32m--> 286\u001b[0m     line \u001b[38;5;241m=\u001b[39m \u001b[38;5;28mstr\u001b[39m(\u001b[38;5;28mself\u001b[39m\u001b[38;5;241m.\u001b[39mfp\u001b[38;5;241m.\u001b[39mreadline(_MAXLINE \u001b[38;5;241m+\u001b[39m \u001b[38;5;241m1\u001b[39m), \u001b[38;5;124m\"\u001b[39m\u001b[38;5;124miso-8859-1\u001b[39m\u001b[38;5;124m\"\u001b[39m)\n\u001b[0;32m    287\u001b[0m     \u001b[38;5;28;01mif\u001b[39;00m \u001b[38;5;28mlen\u001b[39m(line) \u001b[38;5;241m>\u001b[39m _MAXLINE:\n\u001b[0;32m    288\u001b[0m         \u001b[38;5;28;01mraise\u001b[39;00m LineTooLong(\u001b[38;5;124m\"\u001b[39m\u001b[38;5;124mstatus line\u001b[39m\u001b[38;5;124m\"\u001b[39m)\n",
      "File \u001b[1;32mC:\\Program Files\\WindowsApps\\PythonSoftwareFoundation.Python.3.11_3.11.2544.0_x64__qbz5n2kfra8p0\\Lib\\socket.py:706\u001b[0m, in \u001b[0;36mSocketIO.readinto\u001b[1;34m(self, b)\u001b[0m\n\u001b[0;32m    704\u001b[0m \u001b[38;5;28;01mwhile\u001b[39;00m \u001b[38;5;28;01mTrue\u001b[39;00m:\n\u001b[0;32m    705\u001b[0m     \u001b[38;5;28;01mtry\u001b[39;00m:\n\u001b[1;32m--> 706\u001b[0m         \u001b[38;5;28;01mreturn\u001b[39;00m \u001b[38;5;28;43mself\u001b[39;49m\u001b[38;5;241;43m.\u001b[39;49m\u001b[43m_sock\u001b[49m\u001b[38;5;241;43m.\u001b[39;49m\u001b[43mrecv_into\u001b[49m\u001b[43m(\u001b[49m\u001b[43mb\u001b[49m\u001b[43m)\u001b[49m\n\u001b[0;32m    707\u001b[0m     \u001b[38;5;28;01mexcept\u001b[39;00m timeout:\n\u001b[0;32m    708\u001b[0m         \u001b[38;5;28mself\u001b[39m\u001b[38;5;241m.\u001b[39m_timeout_occurred \u001b[38;5;241m=\u001b[39m \u001b[38;5;28;01mTrue\u001b[39;00m\n",
      "File \u001b[1;32mC:\\Program Files\\WindowsApps\\PythonSoftwareFoundation.Python.3.11_3.11.2544.0_x64__qbz5n2kfra8p0\\Lib\\ssl.py:1314\u001b[0m, in \u001b[0;36mSSLSocket.recv_into\u001b[1;34m(self, buffer, nbytes, flags)\u001b[0m\n\u001b[0;32m   1310\u001b[0m     \u001b[38;5;28;01mif\u001b[39;00m flags \u001b[38;5;241m!=\u001b[39m \u001b[38;5;241m0\u001b[39m:\n\u001b[0;32m   1311\u001b[0m         \u001b[38;5;28;01mraise\u001b[39;00m \u001b[38;5;167;01mValueError\u001b[39;00m(\n\u001b[0;32m   1312\u001b[0m           \u001b[38;5;124m\"\u001b[39m\u001b[38;5;124mnon-zero flags not allowed in calls to recv_into() on \u001b[39m\u001b[38;5;132;01m%s\u001b[39;00m\u001b[38;5;124m\"\u001b[39m \u001b[38;5;241m%\u001b[39m\n\u001b[0;32m   1313\u001b[0m           \u001b[38;5;28mself\u001b[39m\u001b[38;5;241m.\u001b[39m\u001b[38;5;18m__class__\u001b[39m)\n\u001b[1;32m-> 1314\u001b[0m     \u001b[38;5;28;01mreturn\u001b[39;00m \u001b[38;5;28;43mself\u001b[39;49m\u001b[38;5;241;43m.\u001b[39;49m\u001b[43mread\u001b[49m\u001b[43m(\u001b[49m\u001b[43mnbytes\u001b[49m\u001b[43m,\u001b[49m\u001b[43m \u001b[49m\u001b[43mbuffer\u001b[49m\u001b[43m)\u001b[49m\n\u001b[0;32m   1315\u001b[0m \u001b[38;5;28;01melse\u001b[39;00m:\n\u001b[0;32m   1316\u001b[0m     \u001b[38;5;28;01mreturn\u001b[39;00m \u001b[38;5;28msuper\u001b[39m()\u001b[38;5;241m.\u001b[39mrecv_into(buffer, nbytes, flags)\n",
      "File \u001b[1;32mC:\\Program Files\\WindowsApps\\PythonSoftwareFoundation.Python.3.11_3.11.2544.0_x64__qbz5n2kfra8p0\\Lib\\ssl.py:1166\u001b[0m, in \u001b[0;36mSSLSocket.read\u001b[1;34m(self, len, buffer)\u001b[0m\n\u001b[0;32m   1164\u001b[0m \u001b[38;5;28;01mtry\u001b[39;00m:\n\u001b[0;32m   1165\u001b[0m     \u001b[38;5;28;01mif\u001b[39;00m buffer \u001b[38;5;129;01mis\u001b[39;00m \u001b[38;5;129;01mnot\u001b[39;00m \u001b[38;5;28;01mNone\u001b[39;00m:\n\u001b[1;32m-> 1166\u001b[0m         \u001b[38;5;28;01mreturn\u001b[39;00m \u001b[38;5;28;43mself\u001b[39;49m\u001b[38;5;241;43m.\u001b[39;49m\u001b[43m_sslobj\u001b[49m\u001b[38;5;241;43m.\u001b[39;49m\u001b[43mread\u001b[49m\u001b[43m(\u001b[49m\u001b[38;5;28;43mlen\u001b[39;49m\u001b[43m,\u001b[49m\u001b[43m \u001b[49m\u001b[43mbuffer\u001b[49m\u001b[43m)\u001b[49m\n\u001b[0;32m   1167\u001b[0m     \u001b[38;5;28;01melse\u001b[39;00m:\n\u001b[0;32m   1168\u001b[0m         \u001b[38;5;28;01mreturn\u001b[39;00m \u001b[38;5;28mself\u001b[39m\u001b[38;5;241m.\u001b[39m_sslobj\u001b[38;5;241m.\u001b[39mread(\u001b[38;5;28mlen\u001b[39m)\n",
      "\u001b[1;31mKeyboardInterrupt\u001b[0m: "
     ]
    }
   ],
   "source": [
    "pre_file_path = None\n",
    "for i in range(5):\n",
    "    test_EvoDE()"
   ]
  },
  {
   "cell_type": "markdown",
   "metadata": {},
   "source": [
    "## EvoGA"
   ]
  },
  {
   "cell_type": "code",
   "execution_count": 7,
   "metadata": {},
   "outputs": [],
   "source": [
    "import json\n",
    "from pathlib import Path\n",
    "from utils.EvoPrompt import EvoGA\n",
    "from utils.tools import time_now\n",
    "\n",
    "def test_EvoGA():\n",
    "    \"\"\" 每更新一次整個 population 才儲存一次\n",
    "    \"\"\"\n",
    "    t = time_now()\n",
    "    path_folder = FOLDER_EXPERIMENT / f\"{t}_EvoGA\"\n",
    "    path_folder.mkdir(parents=True, exist_ok=True)\n",
    "    \n",
    "    ttl_model, record_init = get_init()\n",
    "    corpus = record_init[\"corpus\"]\n",
    "    type_llm = record_init[\"type_llm\"]\n",
    "    type_embedding = record_init[\"type_embedding\"]\n",
    "    ttl_pair_os_prompt_scores = record_init[\"prompt_popularion\"]\n",
    "    ttl_dataset = record_init[\"data\"]\n",
    "    \n",
    "    ttl_dataset = {\n",
    "        \"train_split\": ttl_dataset[\"train_split\"][:1],\n",
    "        \"dev_split\": ttl_dataset[\"dev_split\"][:1]\n",
    "    }\n",
    "\n",
    "    # stop_run_num = int(NUM_NEW_PROMPT/4)   # 或是設一個回合數來終止(本來我會讓他跑到天荒地老所以沒有用for loop)\n",
    "    stop_run_num=1\n",
    "\n",
    "    record_population = []\n",
    "\n",
    "    record_population.append(ttl_pair_os_prompt_scores)\n",
    "    sorted_pair = sorted(ttl_pair_os_prompt_scores,  key=lambda x: x['train_score'],  reverse=True)\n",
    "    while(\n",
    "        sorted_pair[0]['train_score']<STOP_SCORE\n",
    "        and stop_run_num>0\n",
    "        and not os.path.exists(PATH_STOP_FILE)   # 人工 early stop\n",
    "    ):\n",
    "        new_population = EvoGA(ttl_model, ttl_dataset, sorted_pair)\n",
    "        \n",
    "        record_population.append(new_population)\n",
    "        sorted_pair = sorted(new_population,  key=lambda x: x['train_score'],  reverse=True)\n",
    "\n",
    "        # 儲存結果\n",
    "        file_path = f\"{path_folder}\\\\{int(NUM_NEW_PROMPT/4) - stop_run_num+2:02d}_EvoGA.json\"\n",
    "        data = {\n",
    "            \"corpus\": corpus,\n",
    "            \"type_llm\": type_llm,\n",
    "            \"type_embedding\": type_embedding,\n",
    "            \"best_promt\": sorted_pair[0],\n",
    "            \"record\": sorted_pair\n",
    "        }\n",
    "        with open(file_path, 'w') as file:\n",
    "            json.dump(data, file, indent=4)\n",
    "        print(f\"\\n\\n\\nthe result is saved at:\\n{file_path}\")\n",
    "        \n",
    "        stop_run_num -= 1\n",
    "    "
   ]
  },
  {
   "cell_type": "code",
   "execution_count": 8,
   "metadata": {},
   "outputs": [
    {
     "name": "stderr",
     "output_type": "stream",
     "text": [
      "100%|██████████| 1/1 [00:02<00:00,  2.08s/it]\n",
      "100%|██████████| 1/1 [00:27<00:00, 27.48s/it]\n",
      "100%|██████████| 1/1 [00:02<00:00,  2.12s/it]\n",
      "100%|██████████| 1/1 [00:26<00:00, 26.82s/it]\n",
      "100%|██████████| 1/1 [00:02<00:00,  2.13s/it]\n",
      "100%|██████████| 1/1 [00:25<00:00, 25.16s/it]\n",
      "100%|██████████| 1/1 [00:02<00:00,  2.11s/it]\n",
      "100%|██████████| 1/1 [00:23<00:00, 23.16s/it]"
     ]
    },
    {
     "name": "stdout",
     "output_type": "stream",
     "text": [
      "\n",
      "\n",
      "\n",
      "the result is saved at:\n",
      "D:\\實習\\evoprompt\\Ress\\record\\experiment_test\\2024_0726_1715_EvoGA\\06_EvoGA.json\n"
     ]
    },
    {
     "name": "stderr",
     "output_type": "stream",
     "text": [
      "\n"
     ]
    }
   ],
   "source": [
    "pre_file_path = None\n",
    "for i in range(1):\n",
    "    test_EvoGA()"
   ]
  },
  {
   "cell_type": "code",
   "execution_count": null,
   "metadata": {},
   "outputs": [],
   "source": []
  }
 ],
 "metadata": {
  "kernelspec": {
   "display_name": "Python 3",
   "language": "python",
   "name": "python3"
  },
  "language_info": {
   "codemirror_mode": {
    "name": "ipython",
    "version": 3
   },
   "file_extension": ".py",
   "mimetype": "text/x-python",
   "name": "python",
   "nbconvert_exporter": "python",
   "pygments_lexer": "ipython3",
   "version": "3.11.9"
  }
 },
 "nbformat": 4,
 "nbformat_minor": 2
}
