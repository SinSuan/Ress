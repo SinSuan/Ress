{
 "cells": [
  {
   "cell_type": "markdown",
   "metadata": {},
   "source": [
    "# 實驗"
   ]
  },
  {
   "cell_type": "code",
   "execution_count": 1,
   "metadata": {},
   "outputs": [],
   "source": [
    "import configparser\n",
    "import os\n",
    "\n",
    "from dotenv import load_dotenv\n",
    "\n",
    "load_dotenv(\".env\")\n",
    "\n",
    "CONFIG = configparser.ConfigParser()\n",
    "PATH_CONFIG = os.getenv('path_2_config')\n",
    "\n",
    "ENVIRONMENT = os.getenv('environment')\n",
    "if ENVIRONMENT==\"windows\":\n",
    "    CONFIG.read(PATH_CONFIG, encoding='utf-8')\n",
    "else:\n",
    "    CONFIG.read(PATH_CONFIG)\n",
    "\n",
    "DEBUGGER = CONFIG[\"DEBUGGER\"][\"DEBUGGER\"]"
   ]
  },
  {
   "cell_type": "markdown",
   "metadata": {},
   "source": [
    "## 超參數設定\n"
   ]
  },
  {
   "cell_type": "markdown",
   "metadata": {},
   "source": [
    "### 訓練參數"
   ]
  },
  {
   "cell_type": "code",
   "execution_count": 2,
   "metadata": {},
   "outputs": [
    {
     "name": "stdout",
     "output_type": "stream",
     "text": [
      "path_data='D:\\\\實習\\\\evoprompt\\\\Ress\\\\dataset\\\\Final_Quality.json'\n",
      "get_file_name(path_data)=Final_Quality\n"
     ]
    }
   ],
   "source": [
    "from utils.tools import get_file_name\n",
    "\n",
    "\n",
    "path_data = CONFIG[\"datapath\"][\"Final_Quality\"]\n",
    "print(f\"{path_data=}\")\n",
    "print(f\"get_file_name(path_data)={get_file_name(path_data)}\")\n",
    "# path_prompt = CONFIG[\"datapath\"][\"init_os_prompt\"]\n",
    "# path_prompt = \"D:\\\\實習\\\\evoprompt\\\\Ress\\\\dataset\\\\init_os_prompt_corpus_2024_0724_1357.json\"\n",
    "path_prompt = \"D:\\\\實習\\\\evoprompt\\\\Ress\\\\dataset\\\\init_os_prompt_corpus.json\"\n",
    "type_llm = \"Breeze\"\n",
    "\n",
    "# type_embedding = \"multi-qa-mpnet-base-dot-v1\"\n",
    "type_embedding = \"bgem3\"\n",
    "# type_embedding = None"
   ]
  },
  {
   "cell_type": "markdown",
   "metadata": {},
   "source": [
    "### 停止條件"
   ]
  },
  {
   "cell_type": "code",
   "execution_count": 3,
   "metadata": {},
   "outputs": [],
   "source": [
    "path_stop_file = os.path.join(os.getcwd(), 'stop_true.txt') # 人工 early stop 的檔案位置\n",
    "num_new_prompt = 20   # 必須是 prompt_population 的倍數\n",
    "stop_score=100  # 練蠱終止條件(我是設超過baseline做100題後的分數，這邊看你資料量來設)"
   ]
  },
  {
   "cell_type": "markdown",
   "metadata": {},
   "source": [
    "## 製作初始化資料"
   ]
  },
  {
   "cell_type": "code",
   "execution_count": 4,
   "metadata": {},
   "outputs": [
    {
     "name": "stderr",
     "output_type": "stream",
     "text": [
      "C:\\Users\\vicky\\AppData\\Local\\Packages\\PythonSoftwareFoundation.Python.3.11_qbz5n2kfra8p0\\LocalCache\\local-packages\\Python311\\site-packages\\tqdm\\auto.py:21: TqdmWarning: IProgress not found. Please update jupyter and ipywidgets. See https://ipywidgets.readthedocs.io/en/stable/user_install.html\n",
      "  from .autonotebook import tqdm as notebook_tqdm\n"
     ]
    },
    {
     "name": "stdout",
     "output_type": "stream",
     "text": [
      "目前使用模型為:Breeze\n"
     ]
    },
    {
     "name": "stderr",
     "output_type": "stream",
     "text": [
      "100%|██████████| 30/30 [05:48<00:00, 11.63s/it]\n",
      " 23%|██▎       | 10/44 [02:31<07:47, 13.74s/it]"
     ]
    }
   ],
   "source": [
    "from main import init_setting\n",
    "ttl_model, train_set, dev_set, ttl_pair_os_prompt_scores = init_setting(type_llm, type_embedding, path_data, path_prompt)"
   ]
  },
  {
   "cell_type": "code",
   "execution_count": null,
   "metadata": {},
   "outputs": [],
   "source": [
    "import json\n",
    "from utils.tools import time_now\n",
    "\n",
    "t = time_now()\n",
    "path_folder = \"D:\\\\實習\\\\evoprompt\\\\Ress\\\\init_prompt\"\n",
    "file_path = f\"{path_folder}/{t}_20data.json\"\n",
    "data = {\n",
    "    \"corpus\": get_file_name(path_data),\n",
    "    \"type_llm\": type_llm,\n",
    "    \"type_embedding\": type_embedding,\n",
    "    \"train_set\": train_set,\n",
    "    \"dev_set\": dev_set,\n",
    "    \"prompt_popularion\": ttl_pair_os_prompt_scores\n",
    "}\n",
    "with open(file_path, 'w') as file:\n",
    "    json.dump(data, file, indent=4)"
   ]
  },
  {
   "cell_type": "markdown",
   "metadata": {},
   "source": [
    "## 初始化"
   ]
  },
  {
   "cell_type": "code",
   "execution_count": 10,
   "metadata": {},
   "outputs": [],
   "source": [
    "import json\n",
    "\n",
    "from utils.call_model.embedding import Encoder\n",
    "from utils.call_model.llm import get_api\n",
    "\n",
    "def get_init(path_init = None):\n",
    "    \n",
    "    if path_init==None:\n",
    "        path_init = \"D:\\\\實習\\\\evoprompt\\\\Ress\\\\init_prompt\\\\2024_0724_1430_20data.json\"\n",
    "    with open(path_init,  'r') as file:\n",
    "        record_init = json.load(file)\n",
    "    \n",
    "    # 指定 llm\n",
    "    get_llm_reply=get_api(record_init[\"type_llm\"])\n",
    "\n",
    "    # 指定 embedding model\n",
    "    if record_init[\"type_embedding\"] is None:\n",
    "        embedding_model = None\n",
    "    else:\n",
    "        embedding_model = Encoder(record_init[\"type_embedding\"])\n",
    "\n",
    "    ttl_model = (get_llm_reply, embedding_model)\n",
    "    \n",
    "    # 指定訓練資料\n",
    "    train_set = record_init[\"train_set\"]\n",
    "    dev_set = record_init[\"dev_set\"]\n",
    "\n",
    "    # 指定起始的 prompt\n",
    "    prompt_scores = record_init[\"prompt_popularion\"]\n",
    "    \n",
    "    return ttl_model, train_set, dev_set, prompt_scores"
   ]
  },
  {
   "cell_type": "markdown",
   "metadata": {},
   "source": [
    "## ReSS"
   ]
  },
  {
   "cell_type": "code",
   "execution_count": 6,
   "metadata": {},
   "outputs": [],
   "source": [
    "import json\n",
    "from utils.ReSS import ReSS_short\n",
    "from utils.tools import time_now\n",
    "\n",
    "def test_ReSS():\n",
    "    ttl_model, train_set, dev_set, ttl_pair_os_prompt_scores = get_init()\n",
    "\n",
    "    stop_run_num = num_new_prompt   # 或是設一個回合數來終止(本來我會讓他跑到天荒地老所以沒有用for loop)\n",
    "\n",
    "    record_population = []\n",
    "\n",
    "    # record_population.append(ttl_pair_os_prompt_scores)\n",
    "    sorted_pair = sorted(ttl_pair_os_prompt_scores,  key=lambda x: x['train_score'],  reverse=True)\n",
    "    while(\n",
    "        sorted_pair[0]['score']<stop_score\n",
    "        and stop_run_num>0\n",
    "        and not os.path.exists(path_stop_file)   # 人工 early stop\n",
    "    ):\n",
    "        new_population = ReSS_short(ttl_model, train_set, dev_set, sorted_pair)\n",
    "        \n",
    "        record_population.append(new_population)\n",
    "        sorted_pair = sorted(new_population,  key=lambda x: x['train_score'],  reverse=True)\n",
    "\n",
    "        stop_run_num -= 1\n",
    "\n",
    "    # 儲存結果\n",
    "    t = time_now()\n",
    "    path_folder = CONFIG[\"datapath\"][\"record_folder\"]\n",
    "    file_path = f\"{path_folder}\\\\experiment2\\\\{t}_ReSS.json\"\n",
    "    data = {\n",
    "        \"corpus\": get_file_name(path_data),\n",
    "        \"type_llm\": type_llm,\n",
    "        \"type_embedding\": type_embedding,\n",
    "        \"best_promt\": sorted_pair[0],\n",
    "        \"record\": record_population\n",
    "    }\n",
    "    with open(file_path, 'w') as file:\n",
    "        json.dump(data, file, indent=4)\n",
    "    print(f\"\\n\\n\\nthe result is saved at:\\n{file_path}\")"
   ]
  },
  {
   "cell_type": "code",
   "execution_count": 10,
   "metadata": {},
   "outputs": [
    {
     "name": "stdout",
     "output_type": "stream",
     "text": [
      "目前使用模型為:Breeze\n"
     ]
    },
    {
     "name": "stderr",
     "output_type": "stream",
     "text": [
      "100%|██████████| 20/20 [04:54<00:00, 14.71s/it]\n",
      "100%|██████████| 20/20 [05:23<00:00, 16.20s/it]\n",
      "100%|██████████| 20/20 [05:05<00:00, 15.29s/it]\n",
      "100%|██████████| 20/20 [05:00<00:00, 15.05s/it]\n",
      "100%|██████████| 20/20 [05:02<00:00, 15.15s/it]\n",
      "100%|██████████| 20/20 [06:27<00:00, 19.37s/it]\n",
      "100%|██████████| 20/20 [05:18<00:00, 15.94s/it]\n",
      "100%|██████████| 20/20 [05:14<00:00, 15.70s/it]\n",
      "100%|██████████| 20/20 [06:00<00:00, 18.02s/it]\n",
      "100%|██████████| 20/20 [04:58<00:00, 14.95s/it]\n",
      "100%|██████████| 20/20 [05:11<00:00, 15.58s/it]\n",
      "100%|██████████| 20/20 [05:13<00:00, 15.69s/it]\n",
      "100%|██████████| 20/20 [04:55<00:00, 14.80s/it]\n",
      "100%|██████████| 20/20 [05:13<00:00, 15.68s/it]\n",
      "100%|██████████| 20/20 [05:58<00:00, 17.93s/it]\n",
      "100%|██████████| 20/20 [04:42<00:00, 14.14s/it]\n",
      "100%|██████████| 20/20 [04:59<00:00, 14.97s/it]\n",
      "100%|██████████| 20/20 [05:47<00:00, 17.40s/it]\n",
      "100%|██████████| 20/20 [05:45<00:00, 17.26s/it]\n",
      "100%|██████████| 20/20 [05:24<00:00, 16.24s/it]\n"
     ]
    },
    {
     "name": "stdout",
     "output_type": "stream",
     "text": [
      "\n",
      "\n",
      "\n",
      "the result is saved at:\n",
      "D:\\實習\\evoprompt\\Ress\\record\\experiment2\\2024_0725_0254_ReSS.json\n"
     ]
    }
   ],
   "source": [
    "for i in range(1):\n",
    "    test_ReSS()"
   ]
  },
  {
   "cell_type": "markdown",
   "metadata": {},
   "source": [
    "## EvoDE"
   ]
  },
  {
   "cell_type": "code",
   "execution_count": 11,
   "metadata": {},
   "outputs": [],
   "source": [
    "import json\n",
    "from pathlib import Path\n",
    "from utils.EvoPrompt import EvoPrompt_short\n",
    "from utils.tools import time_now\n",
    "\n",
    "def test_EvoDE():\n",
    "    t = time_now()\n",
    "    record_folder = CONFIG[\"datapath\"][\"record_folder\"]\n",
    "    path_folder = f\"{record_folder}\\\\experiment2\\\\{t}_Evo\"\n",
    "    folder_path = Path(path_folder)\n",
    "    folder_path.mkdir(parents=True, exist_ok=True)\n",
    "    \n",
    "    ttl_model, train_set, dev_set, ttl_pair_os_prompt_scores = get_init()\n",
    "    \n",
    "    path = \"D:\\\\實習\\\\evoprompt\\\\Ress\\\\record\\\\experiment2\\\\2024_0725_1414_Evo\\\\01_Evo.json\"\n",
    "    with open(path, 'r', encoding='utf-8') as file:\n",
    "        ttl_pair_os_prompt_scores = json.load(file)[\"record\"]\n",
    "\n",
    "    # training_data = training_data[:1]\n",
    "    stop_run_num = int(num_new_prompt/4)   # 或是設一個回合數來終止(本來我會讓他跑到天荒地老所以沒有用for loop)\n",
    "    # stop_run_num=4\n",
    "\n",
    "    record_population = []\n",
    "\n",
    "    record_population.append(ttl_pair_os_prompt_scores)\n",
    "    sorted_pair = sorted(ttl_pair_os_prompt_scores,  key=lambda x: x['score'],  reverse=True)\n",
    "    while(\n",
    "        sorted_pair[0]['score']<stop_score\n",
    "        and stop_run_num>0\n",
    "        and not os.path.exists(path_stop_file)   # 人工 early stop\n",
    "    ):\n",
    "        new_population = EvoPrompt_short(ttl_model, train_set, dev_set, sorted_pair)\n",
    "        \n",
    "        record_population.append(new_population)\n",
    "        sorted_pair = sorted(new_population,  key=lambda x: x['score'],  reverse=True)\n",
    "\n",
    "        # 儲存結果\n",
    "        file_path = f\"{path_folder}\\\\{int(num_new_prompt/4) - stop_run_num+2:02d}_Evo.json\"\n",
    "        data = {\n",
    "            \"corpus\": get_file_name(path_data),\n",
    "            \"type_llm\": type_llm,\n",
    "            \"type_embedding\": type_embedding,\n",
    "            \"best_promt\": sorted_pair[0],\n",
    "            \"record\": sorted_pair\n",
    "        }\n",
    "        with open(file_path, 'w') as file:\n",
    "            json.dump(data, file, indent=4)\n",
    "        print(f\"\\n\\n\\nthe result is saved at:\\n{file_path}\")\n",
    "        \n",
    "        stop_run_num -= 1\n",
    "\n",
    "    # # 儲存結果\n",
    "    # t = time_now()\n",
    "    # path_folder = CONFIG[\"datapath\"][\"record_folder\"]\n",
    "    # file_path = f\"{path_folder}/{t}_ReSS.json\"\n",
    "    # data = {\n",
    "    #     \"corpus\": get_file_name(path_data),\n",
    "    #     \"type_llm\": type_llm,\n",
    "    #     \"type_embedding\": type_embedding,\n",
    "    #     \"best_promt\": sorted_pair[0],\n",
    "    #     \"record\": record_population\n",
    "    # }\n",
    "    # with open(file_path, 'w') as file:\n",
    "    #     json.dump(data, file, indent=4)\n",
    "    "
   ]
  },
  {
   "cell_type": "code",
   "execution_count": 12,
   "metadata": {},
   "outputs": [
    {
     "name": "stdout",
     "output_type": "stream",
     "text": [
      "目前使用模型為:Breeze\n"
     ]
    },
    {
     "name": "stderr",
     "output_type": "stream",
     "text": [
      "100%|██████████| 20/20 [08:38<00:00, 25.91s/it]\n",
      "100%|██████████| 20/20 [08:17<00:00, 24.86s/it]\n",
      "100%|██████████| 20/20 [04:58<00:00, 14.91s/it]\n",
      "100%|██████████| 20/20 [07:35<00:00, 22.76s/it]\n"
     ]
    },
    {
     "name": "stdout",
     "output_type": "stream",
     "text": [
      "\n",
      "\n",
      "\n",
      "the result is saved at:\n",
      "D:\\實習\\evoprompt\\Ress\\record\\experiment2\\2024_0725_1744_Evo\\02_Evo.json\n"
     ]
    },
    {
     "name": "stderr",
     "output_type": "stream",
     "text": [
      " 15%|█▌        | 3/20 [01:17<07:19, 25.87s/it]\n"
     ]
    },
    {
     "ename": "KeyboardInterrupt",
     "evalue": "",
     "output_type": "error",
     "traceback": [
      "\u001b[1;31m---------------------------------------------------------------------------\u001b[0m",
      "\u001b[1;31mKeyboardInterrupt\u001b[0m                         Traceback (most recent call last)",
      "Cell \u001b[1;32mIn[12], line 3\u001b[0m\n\u001b[0;32m      1\u001b[0m pre_file_path \u001b[38;5;241m=\u001b[39m \u001b[38;5;28;01mNone\u001b[39;00m\n\u001b[0;32m      2\u001b[0m \u001b[38;5;28;01mfor\u001b[39;00m i \u001b[38;5;129;01min\u001b[39;00m \u001b[38;5;28mrange\u001b[39m(\u001b[38;5;241m5\u001b[39m):\n\u001b[1;32m----> 3\u001b[0m     \u001b[43mtest_Evo\u001b[49m\u001b[43m(\u001b[49m\u001b[43m)\u001b[49m\n",
      "Cell \u001b[1;32mIn[11], line 32\u001b[0m, in \u001b[0;36mtest_Evo\u001b[1;34m()\u001b[0m\n\u001b[0;32m     26\u001b[0m sorted_pair \u001b[38;5;241m=\u001b[39m \u001b[38;5;28msorted\u001b[39m(ttl_pair_os_prompt_scores,  key\u001b[38;5;241m=\u001b[39m\u001b[38;5;28;01mlambda\u001b[39;00m x: x[\u001b[38;5;124m'\u001b[39m\u001b[38;5;124mscore\u001b[39m\u001b[38;5;124m'\u001b[39m],  reverse\u001b[38;5;241m=\u001b[39m\u001b[38;5;28;01mTrue\u001b[39;00m)\n\u001b[0;32m     27\u001b[0m \u001b[38;5;28;01mwhile\u001b[39;00m(\n\u001b[0;32m     28\u001b[0m     sorted_pair[\u001b[38;5;241m0\u001b[39m][\u001b[38;5;124m'\u001b[39m\u001b[38;5;124mscore\u001b[39m\u001b[38;5;124m'\u001b[39m]\u001b[38;5;241m<\u001b[39mstop_score\n\u001b[0;32m     29\u001b[0m     \u001b[38;5;129;01mand\u001b[39;00m stop_run_num\u001b[38;5;241m>\u001b[39m\u001b[38;5;241m0\u001b[39m\n\u001b[0;32m     30\u001b[0m     \u001b[38;5;129;01mand\u001b[39;00m \u001b[38;5;129;01mnot\u001b[39;00m os\u001b[38;5;241m.\u001b[39mpath\u001b[38;5;241m.\u001b[39mexists(path_stop_file)   \u001b[38;5;66;03m# 人工 early stop\u001b[39;00m\n\u001b[0;32m     31\u001b[0m ):\n\u001b[1;32m---> 32\u001b[0m     new_population \u001b[38;5;241m=\u001b[39m \u001b[43mEvoPrompt_short\u001b[49m\u001b[43m(\u001b[49m\u001b[43mttl_model\u001b[49m\u001b[43m,\u001b[49m\u001b[43m \u001b[49m\u001b[43mtraining_data\u001b[49m\u001b[43m,\u001b[49m\u001b[43m \u001b[49m\u001b[43msorted_pair\u001b[49m\u001b[43m)\u001b[49m\n\u001b[0;32m     34\u001b[0m     record_population\u001b[38;5;241m.\u001b[39mappend(new_population)\n\u001b[0;32m     35\u001b[0m     sorted_pair \u001b[38;5;241m=\u001b[39m \u001b[38;5;28msorted\u001b[39m(new_population,  key\u001b[38;5;241m=\u001b[39m\u001b[38;5;28;01mlambda\u001b[39;00m x: x[\u001b[38;5;124m'\u001b[39m\u001b[38;5;124mscore\u001b[39m\u001b[38;5;124m'\u001b[39m],  reverse\u001b[38;5;241m=\u001b[39m\u001b[38;5;28;01mTrue\u001b[39;00m)\n",
      "File \u001b[1;32md:\\實習\\evoprompt\\Ress\\utils\\EvoPrompt.py:166\u001b[0m, in \u001b[0;36mEvoPrompt_short\u001b[1;34m(ttl_model, ttl_data, sorted_pairs)\u001b[0m\n\u001b[0;32m    162\u001b[0m new_prompt \u001b[38;5;241m=\u001b[39m match_all[\u001b[38;5;241m-\u001b[39m\u001b[38;5;241m1\u001b[39m]\n\u001b[0;32m    164\u001b[0m \u001b[38;5;66;03m# print(f\"{new_prompt=}\")\u001b[39;00m\n\u001b[1;32m--> 166\u001b[0m new_score \u001b[38;5;241m=\u001b[39m \u001b[43mget_score\u001b[49m\u001b[43m(\u001b[49m\u001b[43mttl_model\u001b[49m\u001b[43m,\u001b[49m\u001b[43m \u001b[49m\u001b[43mnew_prompt\u001b[49m\u001b[43m,\u001b[49m\u001b[43m \u001b[49m\u001b[43mttl_data\u001b[49m\u001b[43m,\u001b[49m\u001b[43m \u001b[49m\u001b[38;5;241;43m3000\u001b[39;49m\u001b[43m,\u001b[49m\u001b[43m \u001b[49m\u001b[38;5;241;43m10\u001b[39;49m\u001b[43m)\u001b[49m\n\u001b[0;32m    167\u001b[0m s_i \u001b[38;5;241m=\u001b[39m i[\u001b[38;5;124m\"\u001b[39m\u001b[38;5;124mscore\u001b[39m\u001b[38;5;124m\"\u001b[39m]\n\u001b[0;32m    169\u001b[0m \u001b[38;5;66;03m# print(f\"{new_score=}\\n{s_i=}\")\u001b[39;00m\n",
      "File \u001b[1;32md:\\實習\\evoprompt\\Ress\\utils\\score.py:83\u001b[0m, in \u001b[0;36mget_score\u001b[1;34m(ttl_model, os_prompt, input_data, size_chunck, num_overlap)\u001b[0m\n\u001b[0;32m      0\u001b[0m <Error retrieving source code with stack_data see ipython/ipython#13598>\n",
      "File \u001b[1;32md:\\實習\\evoprompt\\Ress\\utils\\score.py:62\u001b[0m, in \u001b[0;36mexperiment\u001b[1;34m(ttl_model, os_prompt, ttl_data, size_chunck, num_overlap)\u001b[0m\n\u001b[0;32m     57\u001b[0m score = 0    # 總分數\n\u001b[0;32m     58\u001b[0m num = 0   # 資料計數器\n\u001b[0;32m     60\u001b[0m for data in tqdm(ttl_data):\n\u001b[0;32m     61\u001b[0m     # try:\n\u001b[1;32m---> 62\u001b[0m     #     # 輸入的內容與答案\n\u001b[0;32m     63\u001b[0m \n\u001b[0;32m     64\u001b[0m     #     result = os_ap_sss_answer(ttl_model, os_prompt, data, size_chunck, num_overlap)\n\u001b[0;32m     65\u001b[0m \n\u001b[0;32m     66\u001b[0m     #     # 對答案、計分數\n\u001b[0;32m     67\u001b[0m     #     truth_answer_number = data['answer']\n\u001b[0;32m     68\u001b[0m     #     if pick_up(result)==truth_answer_number:\n\u001b[0;32m     69\u001b[0m     #         score += 1\n\u001b[0;32m     70\u001b[0m     #     num += 1\n\u001b[0;32m     71\u001b[0m \n\u001b[0;32m     72\u001b[0m     #     # print出目前得分正確率\n\u001b[0;32m     73\u001b[0m     #     # print(f\"score:{score}/{num} :({score/num*100}%)\")\n\u001b[0;32m     74\u001b[0m     #     my_result.append(result)\n\u001b[0;32m     75\u001b[0m \n\u001b[0;32m     76\u001b[0m     # except Exception as e:\n\u001b[0;32m     77\u001b[0m     #     # 之前 call api 偶爾會發生網路 timeout 讓我程式卡住，所以才設的\n\u001b[0;32m     78\u001b[0m     #     print(e)\n\u001b[0;32m     79\u001b[0m     #     ttl_data_unanswer.append(data)\n\u001b[0;32m     80\u001b[0m     #     print(f\"目前漏答數量:{len(ttl_data_unanswer)}\")\n\u001b[0;32m     81\u001b[0m     \n\u001b[0;32m     82\u001b[0m                 # 輸入的內容與答案\n\u001b[0;32m     84\u001b[0m     result = os_ap_sss_answer(ttl_model, os_prompt, data, size_chunck, num_overlap)\n\u001b[0;32m     86\u001b[0m     # 對答案、計分數\n",
      "File \u001b[1;32md:\\實習\\evoprompt\\Ress\\utils\\method.py:46\u001b[0m, in \u001b[0;36mos_ap_sss_answer\u001b[1;34m(ttl_model, os_prompt, data, size_chunck, num_overlap)\u001b[0m\n\u001b[0;32m     43\u001b[0m new_content \u001b[38;5;241m=\u001b[39m content\n\u001b[0;32m     44\u001b[0m \u001b[38;5;28;01mwhile\u001b[39;00m \u001b[38;5;28mlen\u001b[39m(new_content\u001b[38;5;241m.\u001b[39msplit(\u001b[38;5;124m\"\u001b[39m\u001b[38;5;124m \u001b[39m\u001b[38;5;124m\"\u001b[39m))\u001b[38;5;241m>\u001b[39msize_chunck:\n\u001b[1;32m---> 46\u001b[0m     ttl_chunck \u001b[38;5;241m=\u001b[39m \u001b[43mget_ttl_chunk\u001b[49m\u001b[43m(\u001b[49m\u001b[43mnew_content\u001b[49m\u001b[43m,\u001b[49m\u001b[43m \u001b[49m\u001b[43msize_chunck\u001b[49m\u001b[43m,\u001b[49m\u001b[43m \u001b[49m\u001b[43mnum_overlap\u001b[49m\u001b[43m,\u001b[49m\u001b[43m \u001b[49m\u001b[43membedding_model\u001b[49m\u001b[43m)\u001b[49m\n\u001b[0;32m     47\u001b[0m     \u001b[38;5;66;03m# 這一輪的新內容\u001b[39;00m\n\u001b[0;32m     48\u001b[0m     new_content \u001b[38;5;241m=\u001b[39m \u001b[38;5;124m\"\u001b[39m\u001b[38;5;124m\"\u001b[39m\n",
      "File \u001b[1;32md:\\實習\\evoprompt\\Ress\\utils\\split_into_chunk.py:239\u001b[0m, in \u001b[0;36mget_ttl_chunk\u001b[1;34m(text, size_chunk, num_overlap, embedding_model)\u001b[0m\n\u001b[0;32m    237\u001b[0m ttl_sentence \u001b[38;5;241m=\u001b[39m text\u001b[38;5;241m.\u001b[39msplit(\u001b[38;5;124m\"\u001b[39m\u001b[38;5;124m.\u001b[39m\u001b[38;5;124m\"\u001b[39m)\n\u001b[0;32m    238\u001b[0m \u001b[38;5;66;03m# 將句子進行encode\u001b[39;00m\n\u001b[1;32m--> 239\u001b[0m ttl_idx_check \u001b[38;5;241m=\u001b[39m \u001b[43mget_ttl_idx_check\u001b[49m\u001b[43m(\u001b[49m\u001b[43mttl_sentence\u001b[49m\u001b[43m,\u001b[49m\u001b[43m \u001b[49m\u001b[43membedding_model\u001b[49m\u001b[43m)\u001b[49m\n\u001b[0;32m    240\u001b[0m ttl_chunk \u001b[38;5;241m=\u001b[39m create_ttl_chunk(ttl_sentence, ttl_idx_check, size_chunk, num_overlap)\n\u001b[0;32m    242\u001b[0m \u001b[38;5;28;01mif\u001b[39;00m DEBUGGER\u001b[38;5;241m==\u001b[39m\u001b[38;5;124m\"\u001b[39m\u001b[38;5;124mTrue\u001b[39m\u001b[38;5;124m\"\u001b[39m:\n",
      "File \u001b[1;32md:\\實習\\evoprompt\\Ress\\utils\\split_into_chunk.py:77\u001b[0m, in \u001b[0;36mget_ttl_idx_check\u001b[1;34m(ttl_sentence, embedding_model)\u001b[0m\n\u001b[0;32m     74\u001b[0m     ttl_idx_check \u001b[38;5;241m=\u001b[39m \u001b[38;5;28mrange\u001b[39m(\u001b[38;5;28mlen\u001b[39m(ttl_sentence))\n\u001b[0;32m     76\u001b[0m \u001b[38;5;28;01melse\u001b[39;00m:   \u001b[38;5;66;03m# Semantic_Sentence_Split\u001b[39;00m\n\u001b[1;32m---> 77\u001b[0m     ttl_embedding \u001b[38;5;241m=\u001b[39m \u001b[43membedding_model\u001b[49m\u001b[38;5;241;43m.\u001b[39;49m\u001b[43mencode\u001b[49m\u001b[43m(\u001b[49m\u001b[43mttl_sentence\u001b[49m\u001b[43m)\u001b[49m\n\u001b[0;32m     78\u001b[0m     ttl_similarity \u001b[38;5;241m=\u001b[39m get_adjacent_similarity(ttl_embedding)\n\u001b[0;32m     79\u001b[0m     ttl_idx_check \u001b[38;5;241m=\u001b[39m find_idx_low_peak(ttl_similarity)\n",
      "File \u001b[1;32md:\\實習\\evoprompt\\Ress\\utils\\call_model\\embedding.py:101\u001b[0m, in \u001b[0;36mEncoder.encode\u001b[1;34m(self, ttl_sentence)\u001b[0m\n\u001b[0;32m     98\u001b[0m \u001b[38;5;28;01mdef\u001b[39;00m \u001b[38;5;21mencode\u001b[39m(\u001b[38;5;28mself\u001b[39m, ttl_sentence: List[\u001b[38;5;28mstr\u001b[39m])\u001b[38;5;241m-\u001b[39m\u001b[38;5;241m>\u001b[39mList:\n\u001b[0;32m     99\u001b[0m \u001b[38;5;250m    \u001b[39m\u001b[38;5;124;03m\"\"\" encode a list of strings at once\u001b[39;00m\n\u001b[0;32m    100\u001b[0m \u001b[38;5;124;03m    \"\"\"\u001b[39;00m\n\u001b[1;32m--> 101\u001b[0m     ttl_embedding \u001b[38;5;241m=\u001b[39m \u001b[38;5;28;43mself\u001b[39;49m\u001b[38;5;241;43m.\u001b[39;49m\u001b[43mmodel\u001b[49m\u001b[38;5;241;43m.\u001b[39;49m\u001b[43mencode\u001b[49m\u001b[43m(\u001b[49m\u001b[43mttl_sentence\u001b[49m\u001b[43m)\u001b[49m\n\u001b[0;32m    102\u001b[0m     \u001b[38;5;28;01mreturn\u001b[39;00m ttl_embedding\n",
      "File \u001b[1;32md:\\實習\\evoprompt\\Ress\\utils\\call_model\\embedding.py:64\u001b[0m, in \u001b[0;36mBgem3.encode\u001b[1;34m(self, ttl_sentence)\u001b[0m\n\u001b[0;32m     62\u001b[0m     \u001b[38;5;28;01mif\u001b[39;00m sentence\u001b[38;5;241m==\u001b[39m\u001b[38;5;124m\"\u001b[39m\u001b[38;5;124m\"\u001b[39m:\n\u001b[0;32m     63\u001b[0m         sentence \u001b[38;5;241m=\u001b[39m \u001b[38;5;124m\"\u001b[39m\u001b[38;5;124m \u001b[39m\u001b[38;5;124m\"\u001b[39m\n\u001b[1;32m---> 64\u001b[0m     embedding \u001b[38;5;241m=\u001b[39m \u001b[38;5;28;43mself\u001b[39;49m\u001b[38;5;241;43m.\u001b[39;49m\u001b[43mmodel\u001b[49m\u001b[43m(\u001b[49m\u001b[43msentence\u001b[49m\u001b[43m)\u001b[49m\n\u001b[0;32m     65\u001b[0m     ttl_embedding\u001b[38;5;241m.\u001b[39mappend(embedding)\n\u001b[0;32m     66\u001b[0m ttl_embedding \u001b[38;5;241m=\u001b[39m np\u001b[38;5;241m.\u001b[39marray(ttl_embedding)\n",
      "File \u001b[1;32md:\\實習\\evoprompt\\Ress\\utils\\call_model\\embedding.py:44\u001b[0m, in \u001b[0;36mapi_bgem3\u001b[1;34m(text)\u001b[0m\n\u001b[0;32m     34\u001b[0m payload \u001b[38;5;241m=\u001b[39m json\u001b[38;5;241m.\u001b[39mdumps({\n\u001b[0;32m     35\u001b[0m     \u001b[38;5;124m\"\u001b[39m\u001b[38;5;124minput\u001b[39m\u001b[38;5;124m\"\u001b[39m: \u001b[38;5;124mf\u001b[39m\u001b[38;5;124m\"\u001b[39m\u001b[38;5;132;01m{\u001b[39;00mtext\u001b[38;5;132;01m}\u001b[39;00m\u001b[38;5;124m\"\u001b[39m,\n\u001b[0;32m     36\u001b[0m     \u001b[38;5;124m\"\u001b[39m\u001b[38;5;124mmodel\u001b[39m\u001b[38;5;124m\"\u001b[39m: \u001b[38;5;124m\"\u001b[39m\u001b[38;5;124mbge-m3\u001b[39m\u001b[38;5;124m\"\u001b[39m,\n\u001b[0;32m     37\u001b[0m     \u001b[38;5;124m\"\u001b[39m\u001b[38;5;124muser\u001b[39m\u001b[38;5;124m\"\u001b[39m: \u001b[38;5;124m\"\u001b[39m\u001b[38;5;124mnull\u001b[39m\u001b[38;5;124m\"\u001b[39m\n\u001b[0;32m     38\u001b[0m })\n\u001b[0;32m     39\u001b[0m headers \u001b[38;5;241m=\u001b[39m {\n\u001b[0;32m     40\u001b[0m     \u001b[38;5;124m'\u001b[39m\u001b[38;5;124maccept\u001b[39m\u001b[38;5;124m'\u001b[39m: \u001b[38;5;124m'\u001b[39m\u001b[38;5;124mapplication/json\u001b[39m\u001b[38;5;124m'\u001b[39m,\n\u001b[0;32m     41\u001b[0m     \u001b[38;5;124m'\u001b[39m\u001b[38;5;124mContent-Type\u001b[39m\u001b[38;5;124m'\u001b[39m: \u001b[38;5;124m'\u001b[39m\u001b[38;5;124mapplication/json\u001b[39m\u001b[38;5;124m'\u001b[39m\n\u001b[0;32m     42\u001b[0m }\n\u001b[1;32m---> 44\u001b[0m response \u001b[38;5;241m=\u001b[39m \u001b[43mrequests\u001b[49m\u001b[38;5;241;43m.\u001b[39;49m\u001b[43mrequest\u001b[49m\u001b[43m(\u001b[49m\u001b[38;5;124;43m\"\u001b[39;49m\u001b[38;5;124;43mPOST\u001b[39;49m\u001b[38;5;124;43m\"\u001b[39;49m\u001b[43m,\u001b[49m\u001b[43m \u001b[49m\u001b[43mURL_BGEM3\u001b[49m\u001b[43m,\u001b[49m\u001b[43m \u001b[49m\u001b[43mheaders\u001b[49m\u001b[38;5;241;43m=\u001b[39;49m\u001b[43mheaders\u001b[49m\u001b[43m,\u001b[49m\u001b[43m \u001b[49m\u001b[43mdata\u001b[49m\u001b[38;5;241;43m=\u001b[39;49m\u001b[43mpayload\u001b[49m\u001b[43m,\u001b[49m\u001b[43m \u001b[49m\u001b[43mtimeout\u001b[49m\u001b[38;5;241;43m=\u001b[39;49m\u001b[38;5;241;43m120\u001b[39;49m\u001b[43m)\u001b[49m\n\u001b[0;32m     45\u001b[0m response \u001b[38;5;241m=\u001b[39m json\u001b[38;5;241m.\u001b[39mloads(response\u001b[38;5;241m.\u001b[39mtext)\n\u001b[0;32m     46\u001b[0m embedding \u001b[38;5;241m=\u001b[39m response[\u001b[38;5;124m'\u001b[39m\u001b[38;5;124mdata\u001b[39m\u001b[38;5;124m'\u001b[39m][\u001b[38;5;241m0\u001b[39m][\u001b[38;5;124m'\u001b[39m\u001b[38;5;124membedding\u001b[39m\u001b[38;5;124m'\u001b[39m]\n",
      "File \u001b[1;32m~\\AppData\\Local\\Packages\\PythonSoftwareFoundation.Python.3.11_qbz5n2kfra8p0\\LocalCache\\local-packages\\Python311\\site-packages\\requests\\api.py:59\u001b[0m, in \u001b[0;36mrequest\u001b[1;34m(method, url, **kwargs)\u001b[0m\n\u001b[0;32m     55\u001b[0m \u001b[38;5;66;03m# By using the 'with' statement we are sure the session is closed, thus we\u001b[39;00m\n\u001b[0;32m     56\u001b[0m \u001b[38;5;66;03m# avoid leaving sockets open which can trigger a ResourceWarning in some\u001b[39;00m\n\u001b[0;32m     57\u001b[0m \u001b[38;5;66;03m# cases, and look like a memory leak in others.\u001b[39;00m\n\u001b[0;32m     58\u001b[0m \u001b[38;5;28;01mwith\u001b[39;00m sessions\u001b[38;5;241m.\u001b[39mSession() \u001b[38;5;28;01mas\u001b[39;00m session:\n\u001b[1;32m---> 59\u001b[0m     \u001b[38;5;28;01mreturn\u001b[39;00m \u001b[43msession\u001b[49m\u001b[38;5;241;43m.\u001b[39;49m\u001b[43mrequest\u001b[49m\u001b[43m(\u001b[49m\u001b[43mmethod\u001b[49m\u001b[38;5;241;43m=\u001b[39;49m\u001b[43mmethod\u001b[49m\u001b[43m,\u001b[49m\u001b[43m \u001b[49m\u001b[43murl\u001b[49m\u001b[38;5;241;43m=\u001b[39;49m\u001b[43murl\u001b[49m\u001b[43m,\u001b[49m\u001b[43m \u001b[49m\u001b[38;5;241;43m*\u001b[39;49m\u001b[38;5;241;43m*\u001b[39;49m\u001b[43mkwargs\u001b[49m\u001b[43m)\u001b[49m\n",
      "File \u001b[1;32m~\\AppData\\Local\\Packages\\PythonSoftwareFoundation.Python.3.11_qbz5n2kfra8p0\\LocalCache\\local-packages\\Python311\\site-packages\\requests\\sessions.py:589\u001b[0m, in \u001b[0;36mSession.request\u001b[1;34m(self, method, url, params, data, headers, cookies, files, auth, timeout, allow_redirects, proxies, hooks, stream, verify, cert, json)\u001b[0m\n\u001b[0;32m    584\u001b[0m send_kwargs \u001b[38;5;241m=\u001b[39m {\n\u001b[0;32m    585\u001b[0m     \u001b[38;5;124m\"\u001b[39m\u001b[38;5;124mtimeout\u001b[39m\u001b[38;5;124m\"\u001b[39m: timeout,\n\u001b[0;32m    586\u001b[0m     \u001b[38;5;124m\"\u001b[39m\u001b[38;5;124mallow_redirects\u001b[39m\u001b[38;5;124m\"\u001b[39m: allow_redirects,\n\u001b[0;32m    587\u001b[0m }\n\u001b[0;32m    588\u001b[0m send_kwargs\u001b[38;5;241m.\u001b[39mupdate(settings)\n\u001b[1;32m--> 589\u001b[0m resp \u001b[38;5;241m=\u001b[39m \u001b[38;5;28;43mself\u001b[39;49m\u001b[38;5;241;43m.\u001b[39;49m\u001b[43msend\u001b[49m\u001b[43m(\u001b[49m\u001b[43mprep\u001b[49m\u001b[43m,\u001b[49m\u001b[43m \u001b[49m\u001b[38;5;241;43m*\u001b[39;49m\u001b[38;5;241;43m*\u001b[39;49m\u001b[43msend_kwargs\u001b[49m\u001b[43m)\u001b[49m\n\u001b[0;32m    591\u001b[0m \u001b[38;5;28;01mreturn\u001b[39;00m resp\n",
      "File \u001b[1;32m~\\AppData\\Local\\Packages\\PythonSoftwareFoundation.Python.3.11_qbz5n2kfra8p0\\LocalCache\\local-packages\\Python311\\site-packages\\requests\\sessions.py:703\u001b[0m, in \u001b[0;36mSession.send\u001b[1;34m(self, request, **kwargs)\u001b[0m\n\u001b[0;32m    700\u001b[0m start \u001b[38;5;241m=\u001b[39m preferred_clock()\n\u001b[0;32m    702\u001b[0m \u001b[38;5;66;03m# Send the request\u001b[39;00m\n\u001b[1;32m--> 703\u001b[0m r \u001b[38;5;241m=\u001b[39m \u001b[43madapter\u001b[49m\u001b[38;5;241;43m.\u001b[39;49m\u001b[43msend\u001b[49m\u001b[43m(\u001b[49m\u001b[43mrequest\u001b[49m\u001b[43m,\u001b[49m\u001b[43m \u001b[49m\u001b[38;5;241;43m*\u001b[39;49m\u001b[38;5;241;43m*\u001b[39;49m\u001b[43mkwargs\u001b[49m\u001b[43m)\u001b[49m\n\u001b[0;32m    705\u001b[0m \u001b[38;5;66;03m# Total elapsed time of the request (approximately)\u001b[39;00m\n\u001b[0;32m    706\u001b[0m elapsed \u001b[38;5;241m=\u001b[39m preferred_clock() \u001b[38;5;241m-\u001b[39m start\n",
      "File \u001b[1;32m~\\AppData\\Local\\Packages\\PythonSoftwareFoundation.Python.3.11_qbz5n2kfra8p0\\LocalCache\\local-packages\\Python311\\site-packages\\requests\\adapters.py:486\u001b[0m, in \u001b[0;36mHTTPAdapter.send\u001b[1;34m(self, request, stream, timeout, verify, cert, proxies)\u001b[0m\n\u001b[0;32m    483\u001b[0m     timeout \u001b[38;5;241m=\u001b[39m TimeoutSauce(connect\u001b[38;5;241m=\u001b[39mtimeout, read\u001b[38;5;241m=\u001b[39mtimeout)\n\u001b[0;32m    485\u001b[0m \u001b[38;5;28;01mtry\u001b[39;00m:\n\u001b[1;32m--> 486\u001b[0m     resp \u001b[38;5;241m=\u001b[39m \u001b[43mconn\u001b[49m\u001b[38;5;241;43m.\u001b[39;49m\u001b[43murlopen\u001b[49m\u001b[43m(\u001b[49m\n\u001b[0;32m    487\u001b[0m \u001b[43m        \u001b[49m\u001b[43mmethod\u001b[49m\u001b[38;5;241;43m=\u001b[39;49m\u001b[43mrequest\u001b[49m\u001b[38;5;241;43m.\u001b[39;49m\u001b[43mmethod\u001b[49m\u001b[43m,\u001b[49m\n\u001b[0;32m    488\u001b[0m \u001b[43m        \u001b[49m\u001b[43murl\u001b[49m\u001b[38;5;241;43m=\u001b[39;49m\u001b[43murl\u001b[49m\u001b[43m,\u001b[49m\n\u001b[0;32m    489\u001b[0m \u001b[43m        \u001b[49m\u001b[43mbody\u001b[49m\u001b[38;5;241;43m=\u001b[39;49m\u001b[43mrequest\u001b[49m\u001b[38;5;241;43m.\u001b[39;49m\u001b[43mbody\u001b[49m\u001b[43m,\u001b[49m\n\u001b[0;32m    490\u001b[0m \u001b[43m        \u001b[49m\u001b[43mheaders\u001b[49m\u001b[38;5;241;43m=\u001b[39;49m\u001b[43mrequest\u001b[49m\u001b[38;5;241;43m.\u001b[39;49m\u001b[43mheaders\u001b[49m\u001b[43m,\u001b[49m\n\u001b[0;32m    491\u001b[0m \u001b[43m        \u001b[49m\u001b[43mredirect\u001b[49m\u001b[38;5;241;43m=\u001b[39;49m\u001b[38;5;28;43;01mFalse\u001b[39;49;00m\u001b[43m,\u001b[49m\n\u001b[0;32m    492\u001b[0m \u001b[43m        \u001b[49m\u001b[43massert_same_host\u001b[49m\u001b[38;5;241;43m=\u001b[39;49m\u001b[38;5;28;43;01mFalse\u001b[39;49;00m\u001b[43m,\u001b[49m\n\u001b[0;32m    493\u001b[0m \u001b[43m        \u001b[49m\u001b[43mpreload_content\u001b[49m\u001b[38;5;241;43m=\u001b[39;49m\u001b[38;5;28;43;01mFalse\u001b[39;49;00m\u001b[43m,\u001b[49m\n\u001b[0;32m    494\u001b[0m \u001b[43m        \u001b[49m\u001b[43mdecode_content\u001b[49m\u001b[38;5;241;43m=\u001b[39;49m\u001b[38;5;28;43;01mFalse\u001b[39;49;00m\u001b[43m,\u001b[49m\n\u001b[0;32m    495\u001b[0m \u001b[43m        \u001b[49m\u001b[43mretries\u001b[49m\u001b[38;5;241;43m=\u001b[39;49m\u001b[38;5;28;43mself\u001b[39;49m\u001b[38;5;241;43m.\u001b[39;49m\u001b[43mmax_retries\u001b[49m\u001b[43m,\u001b[49m\n\u001b[0;32m    496\u001b[0m \u001b[43m        \u001b[49m\u001b[43mtimeout\u001b[49m\u001b[38;5;241;43m=\u001b[39;49m\u001b[43mtimeout\u001b[49m\u001b[43m,\u001b[49m\n\u001b[0;32m    497\u001b[0m \u001b[43m        \u001b[49m\u001b[43mchunked\u001b[49m\u001b[38;5;241;43m=\u001b[39;49m\u001b[43mchunked\u001b[49m\u001b[43m,\u001b[49m\n\u001b[0;32m    498\u001b[0m \u001b[43m    \u001b[49m\u001b[43m)\u001b[49m\n\u001b[0;32m    500\u001b[0m \u001b[38;5;28;01mexcept\u001b[39;00m (ProtocolError, \u001b[38;5;167;01mOSError\u001b[39;00m) \u001b[38;5;28;01mas\u001b[39;00m err:\n\u001b[0;32m    501\u001b[0m     \u001b[38;5;28;01mraise\u001b[39;00m \u001b[38;5;167;01mConnectionError\u001b[39;00m(err, request\u001b[38;5;241m=\u001b[39mrequest)\n",
      "File \u001b[1;32m~\\AppData\\Local\\Packages\\PythonSoftwareFoundation.Python.3.11_qbz5n2kfra8p0\\LocalCache\\local-packages\\Python311\\site-packages\\urllib3\\connectionpool.py:793\u001b[0m, in \u001b[0;36mHTTPConnectionPool.urlopen\u001b[1;34m(self, method, url, body, headers, retries, redirect, assert_same_host, timeout, pool_timeout, release_conn, chunked, body_pos, preload_content, decode_content, **response_kw)\u001b[0m\n\u001b[0;32m    790\u001b[0m response_conn \u001b[38;5;241m=\u001b[39m conn \u001b[38;5;28;01mif\u001b[39;00m \u001b[38;5;129;01mnot\u001b[39;00m release_conn \u001b[38;5;28;01melse\u001b[39;00m \u001b[38;5;28;01mNone\u001b[39;00m\n\u001b[0;32m    792\u001b[0m \u001b[38;5;66;03m# Make the request on the HTTPConnection object\u001b[39;00m\n\u001b[1;32m--> 793\u001b[0m response \u001b[38;5;241m=\u001b[39m \u001b[38;5;28;43mself\u001b[39;49m\u001b[38;5;241;43m.\u001b[39;49m\u001b[43m_make_request\u001b[49m\u001b[43m(\u001b[49m\n\u001b[0;32m    794\u001b[0m \u001b[43m    \u001b[49m\u001b[43mconn\u001b[49m\u001b[43m,\u001b[49m\n\u001b[0;32m    795\u001b[0m \u001b[43m    \u001b[49m\u001b[43mmethod\u001b[49m\u001b[43m,\u001b[49m\n\u001b[0;32m    796\u001b[0m \u001b[43m    \u001b[49m\u001b[43murl\u001b[49m\u001b[43m,\u001b[49m\n\u001b[0;32m    797\u001b[0m \u001b[43m    \u001b[49m\u001b[43mtimeout\u001b[49m\u001b[38;5;241;43m=\u001b[39;49m\u001b[43mtimeout_obj\u001b[49m\u001b[43m,\u001b[49m\n\u001b[0;32m    798\u001b[0m \u001b[43m    \u001b[49m\u001b[43mbody\u001b[49m\u001b[38;5;241;43m=\u001b[39;49m\u001b[43mbody\u001b[49m\u001b[43m,\u001b[49m\n\u001b[0;32m    799\u001b[0m \u001b[43m    \u001b[49m\u001b[43mheaders\u001b[49m\u001b[38;5;241;43m=\u001b[39;49m\u001b[43mheaders\u001b[49m\u001b[43m,\u001b[49m\n\u001b[0;32m    800\u001b[0m \u001b[43m    \u001b[49m\u001b[43mchunked\u001b[49m\u001b[38;5;241;43m=\u001b[39;49m\u001b[43mchunked\u001b[49m\u001b[43m,\u001b[49m\n\u001b[0;32m    801\u001b[0m \u001b[43m    \u001b[49m\u001b[43mretries\u001b[49m\u001b[38;5;241;43m=\u001b[39;49m\u001b[43mretries\u001b[49m\u001b[43m,\u001b[49m\n\u001b[0;32m    802\u001b[0m \u001b[43m    \u001b[49m\u001b[43mresponse_conn\u001b[49m\u001b[38;5;241;43m=\u001b[39;49m\u001b[43mresponse_conn\u001b[49m\u001b[43m,\u001b[49m\n\u001b[0;32m    803\u001b[0m \u001b[43m    \u001b[49m\u001b[43mpreload_content\u001b[49m\u001b[38;5;241;43m=\u001b[39;49m\u001b[43mpreload_content\u001b[49m\u001b[43m,\u001b[49m\n\u001b[0;32m    804\u001b[0m \u001b[43m    \u001b[49m\u001b[43mdecode_content\u001b[49m\u001b[38;5;241;43m=\u001b[39;49m\u001b[43mdecode_content\u001b[49m\u001b[43m,\u001b[49m\n\u001b[0;32m    805\u001b[0m \u001b[43m    \u001b[49m\u001b[38;5;241;43m*\u001b[39;49m\u001b[38;5;241;43m*\u001b[39;49m\u001b[43mresponse_kw\u001b[49m\u001b[43m,\u001b[49m\n\u001b[0;32m    806\u001b[0m \u001b[43m\u001b[49m\u001b[43m)\u001b[49m\n\u001b[0;32m    808\u001b[0m \u001b[38;5;66;03m# Everything went great!\u001b[39;00m\n\u001b[0;32m    809\u001b[0m clean_exit \u001b[38;5;241m=\u001b[39m \u001b[38;5;28;01mTrue\u001b[39;00m\n",
      "File \u001b[1;32m~\\AppData\\Local\\Packages\\PythonSoftwareFoundation.Python.3.11_qbz5n2kfra8p0\\LocalCache\\local-packages\\Python311\\site-packages\\urllib3\\connectionpool.py:496\u001b[0m, in \u001b[0;36mHTTPConnectionPool._make_request\u001b[1;34m(self, conn, method, url, body, headers, retries, timeout, chunked, response_conn, preload_content, decode_content, enforce_content_length)\u001b[0m\n\u001b[0;32m    493\u001b[0m \u001b[38;5;66;03m# conn.request() calls http.client.*.request, not the method in\u001b[39;00m\n\u001b[0;32m    494\u001b[0m \u001b[38;5;66;03m# urllib3.request. It also calls makefile (recv) on the socket.\u001b[39;00m\n\u001b[0;32m    495\u001b[0m \u001b[38;5;28;01mtry\u001b[39;00m:\n\u001b[1;32m--> 496\u001b[0m     \u001b[43mconn\u001b[49m\u001b[38;5;241;43m.\u001b[39;49m\u001b[43mrequest\u001b[49m\u001b[43m(\u001b[49m\n\u001b[0;32m    497\u001b[0m \u001b[43m        \u001b[49m\u001b[43mmethod\u001b[49m\u001b[43m,\u001b[49m\n\u001b[0;32m    498\u001b[0m \u001b[43m        \u001b[49m\u001b[43murl\u001b[49m\u001b[43m,\u001b[49m\n\u001b[0;32m    499\u001b[0m \u001b[43m        \u001b[49m\u001b[43mbody\u001b[49m\u001b[38;5;241;43m=\u001b[39;49m\u001b[43mbody\u001b[49m\u001b[43m,\u001b[49m\n\u001b[0;32m    500\u001b[0m \u001b[43m        \u001b[49m\u001b[43mheaders\u001b[49m\u001b[38;5;241;43m=\u001b[39;49m\u001b[43mheaders\u001b[49m\u001b[43m,\u001b[49m\n\u001b[0;32m    501\u001b[0m \u001b[43m        \u001b[49m\u001b[43mchunked\u001b[49m\u001b[38;5;241;43m=\u001b[39;49m\u001b[43mchunked\u001b[49m\u001b[43m,\u001b[49m\n\u001b[0;32m    502\u001b[0m \u001b[43m        \u001b[49m\u001b[43mpreload_content\u001b[49m\u001b[38;5;241;43m=\u001b[39;49m\u001b[43mpreload_content\u001b[49m\u001b[43m,\u001b[49m\n\u001b[0;32m    503\u001b[0m \u001b[43m        \u001b[49m\u001b[43mdecode_content\u001b[49m\u001b[38;5;241;43m=\u001b[39;49m\u001b[43mdecode_content\u001b[49m\u001b[43m,\u001b[49m\n\u001b[0;32m    504\u001b[0m \u001b[43m        \u001b[49m\u001b[43menforce_content_length\u001b[49m\u001b[38;5;241;43m=\u001b[39;49m\u001b[43menforce_content_length\u001b[49m\u001b[43m,\u001b[49m\n\u001b[0;32m    505\u001b[0m \u001b[43m    \u001b[49m\u001b[43m)\u001b[49m\n\u001b[0;32m    507\u001b[0m \u001b[38;5;66;03m# We are swallowing BrokenPipeError (errno.EPIPE) since the server is\u001b[39;00m\n\u001b[0;32m    508\u001b[0m \u001b[38;5;66;03m# legitimately able to close the connection after sending a valid response.\u001b[39;00m\n\u001b[0;32m    509\u001b[0m \u001b[38;5;66;03m# With this behaviour, the received response is still readable.\u001b[39;00m\n\u001b[0;32m    510\u001b[0m \u001b[38;5;28;01mexcept\u001b[39;00m \u001b[38;5;167;01mBrokenPipeError\u001b[39;00m:\n",
      "File \u001b[1;32m~\\AppData\\Local\\Packages\\PythonSoftwareFoundation.Python.3.11_qbz5n2kfra8p0\\LocalCache\\local-packages\\Python311\\site-packages\\urllib3\\connection.py:400\u001b[0m, in \u001b[0;36mHTTPConnection.request\u001b[1;34m(self, method, url, body, headers, chunked, preload_content, decode_content, enforce_content_length)\u001b[0m\n\u001b[0;32m    398\u001b[0m \u001b[38;5;28;01mfor\u001b[39;00m header, value \u001b[38;5;129;01min\u001b[39;00m headers\u001b[38;5;241m.\u001b[39mitems():\n\u001b[0;32m    399\u001b[0m     \u001b[38;5;28mself\u001b[39m\u001b[38;5;241m.\u001b[39mputheader(header, value)\n\u001b[1;32m--> 400\u001b[0m \u001b[38;5;28;43mself\u001b[39;49m\u001b[38;5;241;43m.\u001b[39;49m\u001b[43mendheaders\u001b[49m\u001b[43m(\u001b[49m\u001b[43m)\u001b[49m\n\u001b[0;32m    402\u001b[0m \u001b[38;5;66;03m# If we're given a body we start sending that in chunks.\u001b[39;00m\n\u001b[0;32m    403\u001b[0m \u001b[38;5;28;01mif\u001b[39;00m chunks \u001b[38;5;129;01mis\u001b[39;00m \u001b[38;5;129;01mnot\u001b[39;00m \u001b[38;5;28;01mNone\u001b[39;00m:\n",
      "File \u001b[1;32mC:\\Program Files\\WindowsApps\\PythonSoftwareFoundation.Python.3.11_3.11.2544.0_x64__qbz5n2kfra8p0\\Lib\\http\\client.py:1298\u001b[0m, in \u001b[0;36mHTTPConnection.endheaders\u001b[1;34m(self, message_body, encode_chunked)\u001b[0m\n\u001b[0;32m   1296\u001b[0m \u001b[38;5;28;01melse\u001b[39;00m:\n\u001b[0;32m   1297\u001b[0m     \u001b[38;5;28;01mraise\u001b[39;00m CannotSendHeader()\n\u001b[1;32m-> 1298\u001b[0m \u001b[38;5;28;43mself\u001b[39;49m\u001b[38;5;241;43m.\u001b[39;49m\u001b[43m_send_output\u001b[49m\u001b[43m(\u001b[49m\u001b[43mmessage_body\u001b[49m\u001b[43m,\u001b[49m\u001b[43m \u001b[49m\u001b[43mencode_chunked\u001b[49m\u001b[38;5;241;43m=\u001b[39;49m\u001b[43mencode_chunked\u001b[49m\u001b[43m)\u001b[49m\n",
      "File \u001b[1;32mC:\\Program Files\\WindowsApps\\PythonSoftwareFoundation.Python.3.11_3.11.2544.0_x64__qbz5n2kfra8p0\\Lib\\http\\client.py:1058\u001b[0m, in \u001b[0;36mHTTPConnection._send_output\u001b[1;34m(self, message_body, encode_chunked)\u001b[0m\n\u001b[0;32m   1056\u001b[0m msg \u001b[38;5;241m=\u001b[39m \u001b[38;5;124mb\u001b[39m\u001b[38;5;124m\"\u001b[39m\u001b[38;5;130;01m\\r\u001b[39;00m\u001b[38;5;130;01m\\n\u001b[39;00m\u001b[38;5;124m\"\u001b[39m\u001b[38;5;241m.\u001b[39mjoin(\u001b[38;5;28mself\u001b[39m\u001b[38;5;241m.\u001b[39m_buffer)\n\u001b[0;32m   1057\u001b[0m \u001b[38;5;28;01mdel\u001b[39;00m \u001b[38;5;28mself\u001b[39m\u001b[38;5;241m.\u001b[39m_buffer[:]\n\u001b[1;32m-> 1058\u001b[0m \u001b[38;5;28;43mself\u001b[39;49m\u001b[38;5;241;43m.\u001b[39;49m\u001b[43msend\u001b[49m\u001b[43m(\u001b[49m\u001b[43mmsg\u001b[49m\u001b[43m)\u001b[49m\n\u001b[0;32m   1060\u001b[0m \u001b[38;5;28;01mif\u001b[39;00m message_body \u001b[38;5;129;01mis\u001b[39;00m \u001b[38;5;129;01mnot\u001b[39;00m \u001b[38;5;28;01mNone\u001b[39;00m:\n\u001b[0;32m   1061\u001b[0m \n\u001b[0;32m   1062\u001b[0m     \u001b[38;5;66;03m# create a consistent interface to message_body\u001b[39;00m\n\u001b[0;32m   1063\u001b[0m     \u001b[38;5;28;01mif\u001b[39;00m \u001b[38;5;28mhasattr\u001b[39m(message_body, \u001b[38;5;124m'\u001b[39m\u001b[38;5;124mread\u001b[39m\u001b[38;5;124m'\u001b[39m):\n\u001b[0;32m   1064\u001b[0m         \u001b[38;5;66;03m# Let file-like take precedence over byte-like.  This\u001b[39;00m\n\u001b[0;32m   1065\u001b[0m         \u001b[38;5;66;03m# is needed to allow the current position of mmap'ed\u001b[39;00m\n\u001b[0;32m   1066\u001b[0m         \u001b[38;5;66;03m# files to be taken into account.\u001b[39;00m\n",
      "File \u001b[1;32mC:\\Program Files\\WindowsApps\\PythonSoftwareFoundation.Python.3.11_3.11.2544.0_x64__qbz5n2kfra8p0\\Lib\\http\\client.py:996\u001b[0m, in \u001b[0;36mHTTPConnection.send\u001b[1;34m(self, data)\u001b[0m\n\u001b[0;32m    994\u001b[0m \u001b[38;5;28;01mif\u001b[39;00m \u001b[38;5;28mself\u001b[39m\u001b[38;5;241m.\u001b[39msock \u001b[38;5;129;01mis\u001b[39;00m \u001b[38;5;28;01mNone\u001b[39;00m:\n\u001b[0;32m    995\u001b[0m     \u001b[38;5;28;01mif\u001b[39;00m \u001b[38;5;28mself\u001b[39m\u001b[38;5;241m.\u001b[39mauto_open:\n\u001b[1;32m--> 996\u001b[0m         \u001b[38;5;28;43mself\u001b[39;49m\u001b[38;5;241;43m.\u001b[39;49m\u001b[43mconnect\u001b[49m\u001b[43m(\u001b[49m\u001b[43m)\u001b[49m\n\u001b[0;32m    997\u001b[0m     \u001b[38;5;28;01melse\u001b[39;00m:\n\u001b[0;32m    998\u001b[0m         \u001b[38;5;28;01mraise\u001b[39;00m NotConnected()\n",
      "File \u001b[1;32m~\\AppData\\Local\\Packages\\PythonSoftwareFoundation.Python.3.11_qbz5n2kfra8p0\\LocalCache\\local-packages\\Python311\\site-packages\\urllib3\\connection.py:238\u001b[0m, in \u001b[0;36mHTTPConnection.connect\u001b[1;34m(self)\u001b[0m\n\u001b[0;32m    237\u001b[0m \u001b[38;5;28;01mdef\u001b[39;00m \u001b[38;5;21mconnect\u001b[39m(\u001b[38;5;28mself\u001b[39m) \u001b[38;5;241m-\u001b[39m\u001b[38;5;241m>\u001b[39m \u001b[38;5;28;01mNone\u001b[39;00m:\n\u001b[1;32m--> 238\u001b[0m     \u001b[38;5;28mself\u001b[39m\u001b[38;5;241m.\u001b[39msock \u001b[38;5;241m=\u001b[39m \u001b[38;5;28;43mself\u001b[39;49m\u001b[38;5;241;43m.\u001b[39;49m\u001b[43m_new_conn\u001b[49m\u001b[43m(\u001b[49m\u001b[43m)\u001b[49m\n\u001b[0;32m    239\u001b[0m     \u001b[38;5;28;01mif\u001b[39;00m \u001b[38;5;28mself\u001b[39m\u001b[38;5;241m.\u001b[39m_tunnel_host:\n\u001b[0;32m    240\u001b[0m         \u001b[38;5;66;03m# If we're tunneling it means we're connected to our proxy.\u001b[39;00m\n\u001b[0;32m    241\u001b[0m         \u001b[38;5;28mself\u001b[39m\u001b[38;5;241m.\u001b[39m_has_connected_to_proxy \u001b[38;5;241m=\u001b[39m \u001b[38;5;28;01mTrue\u001b[39;00m\n",
      "File \u001b[1;32m~\\AppData\\Local\\Packages\\PythonSoftwareFoundation.Python.3.11_qbz5n2kfra8p0\\LocalCache\\local-packages\\Python311\\site-packages\\urllib3\\connection.py:198\u001b[0m, in \u001b[0;36mHTTPConnection._new_conn\u001b[1;34m(self)\u001b[0m\n\u001b[0;32m    193\u001b[0m \u001b[38;5;250m\u001b[39m\u001b[38;5;124;03m\"\"\"Establish a socket connection and set nodelay settings on it.\u001b[39;00m\n\u001b[0;32m    194\u001b[0m \n\u001b[0;32m    195\u001b[0m \u001b[38;5;124;03m:return: New socket connection.\u001b[39;00m\n\u001b[0;32m    196\u001b[0m \u001b[38;5;124;03m\"\"\"\u001b[39;00m\n\u001b[0;32m    197\u001b[0m \u001b[38;5;28;01mtry\u001b[39;00m:\n\u001b[1;32m--> 198\u001b[0m     sock \u001b[38;5;241m=\u001b[39m \u001b[43mconnection\u001b[49m\u001b[38;5;241;43m.\u001b[39;49m\u001b[43mcreate_connection\u001b[49m\u001b[43m(\u001b[49m\n\u001b[0;32m    199\u001b[0m \u001b[43m        \u001b[49m\u001b[43m(\u001b[49m\u001b[38;5;28;43mself\u001b[39;49m\u001b[38;5;241;43m.\u001b[39;49m\u001b[43m_dns_host\u001b[49m\u001b[43m,\u001b[49m\u001b[43m \u001b[49m\u001b[38;5;28;43mself\u001b[39;49m\u001b[38;5;241;43m.\u001b[39;49m\u001b[43mport\u001b[49m\u001b[43m)\u001b[49m\u001b[43m,\u001b[49m\n\u001b[0;32m    200\u001b[0m \u001b[43m        \u001b[49m\u001b[38;5;28;43mself\u001b[39;49m\u001b[38;5;241;43m.\u001b[39;49m\u001b[43mtimeout\u001b[49m\u001b[43m,\u001b[49m\n\u001b[0;32m    201\u001b[0m \u001b[43m        \u001b[49m\u001b[43msource_address\u001b[49m\u001b[38;5;241;43m=\u001b[39;49m\u001b[38;5;28;43mself\u001b[39;49m\u001b[38;5;241;43m.\u001b[39;49m\u001b[43msource_address\u001b[49m\u001b[43m,\u001b[49m\n\u001b[0;32m    202\u001b[0m \u001b[43m        \u001b[49m\u001b[43msocket_options\u001b[49m\u001b[38;5;241;43m=\u001b[39;49m\u001b[38;5;28;43mself\u001b[39;49m\u001b[38;5;241;43m.\u001b[39;49m\u001b[43msocket_options\u001b[49m\u001b[43m,\u001b[49m\n\u001b[0;32m    203\u001b[0m \u001b[43m    \u001b[49m\u001b[43m)\u001b[49m\n\u001b[0;32m    204\u001b[0m \u001b[38;5;28;01mexcept\u001b[39;00m socket\u001b[38;5;241m.\u001b[39mgaierror \u001b[38;5;28;01mas\u001b[39;00m e:\n\u001b[0;32m    205\u001b[0m     \u001b[38;5;28;01mraise\u001b[39;00m NameResolutionError(\u001b[38;5;28mself\u001b[39m\u001b[38;5;241m.\u001b[39mhost, \u001b[38;5;28mself\u001b[39m, e) \u001b[38;5;28;01mfrom\u001b[39;00m \u001b[38;5;21;01me\u001b[39;00m\n",
      "File \u001b[1;32m~\\AppData\\Local\\Packages\\PythonSoftwareFoundation.Python.3.11_qbz5n2kfra8p0\\LocalCache\\local-packages\\Python311\\site-packages\\urllib3\\util\\connection.py:73\u001b[0m, in \u001b[0;36mcreate_connection\u001b[1;34m(address, timeout, source_address, socket_options)\u001b[0m\n\u001b[0;32m     71\u001b[0m \u001b[38;5;28;01mif\u001b[39;00m source_address:\n\u001b[0;32m     72\u001b[0m     sock\u001b[38;5;241m.\u001b[39mbind(source_address)\n\u001b[1;32m---> 73\u001b[0m sock\u001b[38;5;241m.\u001b[39mconnect(sa)\n\u001b[0;32m     74\u001b[0m \u001b[38;5;66;03m# Break explicitly a reference cycle\u001b[39;00m\n\u001b[0;32m     75\u001b[0m err \u001b[38;5;241m=\u001b[39m \u001b[38;5;28;01mNone\u001b[39;00m\n",
      "\u001b[1;31mKeyboardInterrupt\u001b[0m: "
     ]
    }
   ],
   "source": [
    "pre_file_path = None\n",
    "for i in range(5):\n",
    "    test_EvoDE()"
   ]
  },
  {
   "cell_type": "markdown",
   "metadata": {},
   "source": [
    "## EvoGA"
   ]
  },
  {
   "cell_type": "code",
   "execution_count": null,
   "metadata": {},
   "outputs": [],
   "source": [
    "import json\n",
    "from pathlib import Path\n",
    "from utils.EvoPrompt import EvoGA_short\n",
    "from utils.tools import time_now\n",
    "\n",
    "def test_EvoGA():\n",
    "    t = time_now()\n",
    "    record_folder = CONFIG[\"datapath\"][\"record_folder\"]\n",
    "    path_folder = f\"{record_folder}\\\\experiment2\\\\{t}_EvoGA\"\n",
    "    folder_path = Path(path_folder)\n",
    "    folder_path.mkdir(parents=True, exist_ok=True)\n",
    "    \n",
    "    ttl_model, train_set, dev_set, ttl_pair_os_prompt_scores = get_init()\n",
    "\n",
    "    # training_data = training_data[:1]\n",
    "    stop_run_num = int(num_new_prompt/4)   # 或是設一個回合數來終止(本來我會讓他跑到天荒地老所以沒有用for loop)\n",
    "    # stop_run_num=4\n",
    "\n",
    "    record_population = []\n",
    "\n",
    "    record_population.append(ttl_pair_os_prompt_scores)\n",
    "    sorted_pair = sorted(ttl_pair_os_prompt_scores,  key=lambda x: x['train_score'],  reverse=True)\n",
    "    while(\n",
    "        sorted_pair[0]['score']<stop_score\n",
    "        and stop_run_num>0\n",
    "        and not os.path.exists(path_stop_file)   # 人工 early stop\n",
    "    ):\n",
    "        new_population = EvoGA_short(ttl_model, train_set, dev_set, sorted_pair)\n",
    "        \n",
    "        record_population.append(new_population)\n",
    "        sorted_pair = sorted(new_population,  key=lambda x: x['train_score'],  reverse=True)\n",
    "\n",
    "        # 儲存結果\n",
    "        file_path = f\"{path_folder}\\\\{int(num_new_prompt/4) - stop_run_num+2:02d}_Evo.json\"\n",
    "        data = {\n",
    "            \"corpus\": get_file_name(path_data),\n",
    "            \"type_llm\": type_llm,\n",
    "            \"type_embedding\": type_embedding,\n",
    "            \"best_promt\": sorted_pair[0],\n",
    "            \"record\": sorted_pair\n",
    "        }\n",
    "        with open(file_path, 'w') as file:\n",
    "            json.dump(data, file, indent=4)\n",
    "        print(f\"\\n\\n\\nthe result is saved at:\\n{file_path}\")\n",
    "        \n",
    "        stop_run_num -= 1\n",
    "\n",
    "    # # 儲存結果\n",
    "    # t = time_now()\n",
    "    # path_folder = CONFIG[\"datapath\"][\"record_folder\"]\n",
    "    # file_path = f\"{path_folder}/{t}_ReSS.json\"\n",
    "    # data = {\n",
    "    #     \"corpus\": get_file_name(path_data),\n",
    "    #     \"type_llm\": type_llm,\n",
    "    #     \"type_embedding\": type_embedding,\n",
    "    #     \"best_promt\": sorted_pair[0],\n",
    "    #     \"record\": record_population\n",
    "    # }\n",
    "    # with open(file_path, 'w') as file:\n",
    "    #     json.dump(data, file, indent=4)\n",
    "    "
   ]
  },
  {
   "cell_type": "code",
   "execution_count": null,
   "metadata": {},
   "outputs": [],
   "source": []
  }
 ],
 "metadata": {
  "kernelspec": {
   "display_name": "Python 3",
   "language": "python",
   "name": "python3"
  },
  "language_info": {
   "codemirror_mode": {
    "name": "ipython",
    "version": 3
   },
   "file_extension": ".py",
   "mimetype": "text/x-python",
   "name": "python",
   "nbconvert_exporter": "python",
   "pygments_lexer": "ipython3",
   "version": "3.11.9"
  }
 },
 "nbformat": 4,
 "nbformat_minor": 2
}
