{
 "cells": [
  {
   "cell_type": "code",
   "execution_count": 1,
   "metadata": {},
   "outputs": [
    {
     "name": "stderr",
     "output_type": "stream",
     "text": [
      "Python-dotenv could not parse statement starting at line 2\n"
     ]
    }
   ],
   "source": [
    "import configparser\n",
    "import os\n",
    "\n",
    "from dotenv import load_dotenv\n",
    "\n",
    "load_dotenv(\".env\")\n",
    "\n",
    "CONFIG = configparser.ConfigParser()\n",
    "PATH_CONFIG = os.getenv('path_2_config')\n",
    "\n",
    "ENVIRONMENT = os.getenv('environment')\n",
    "if ENVIRONMENT==\"windows\":\n",
    "    CONFIG.read(PATH_CONFIG, encoding='utf-8')\n",
    "else:\n",
    "    CONFIG.read(PATH_CONFIG)"
   ]
  },
  {
   "cell_type": "markdown",
   "metadata": {},
   "source": [
    "## 超參數設定\n"
   ]
  },
  {
   "cell_type": "markdown",
   "metadata": {},
   "source": [
    "### 停止條件"
   ]
  },
  {
   "cell_type": "code",
   "execution_count": 2,
   "metadata": {},
   "outputs": [],
   "source": [
    "PATH_STOP_FILE = os.path.join(os.getcwd(), 'stop_true.txt') # 人工 early stop 的檔案位置\n",
    "NUM_NEW_PROMPT = 20   # 必須是 prompt_population 的倍數\n",
    "STOP_SCORE=100  # 練蠱終止條件(我是設超過baseline做100題後的分數，這邊看你資料量來設)"
   ]
  },
  {
   "cell_type": "markdown",
   "metadata": {},
   "source": [
    "### 路徑"
   ]
  },
  {
   "cell_type": "code",
   "execution_count": 3,
   "metadata": {},
   "outputs": [],
   "source": [
    "from pathlib import Path\n",
    "\n",
    "folder_record = Path(CONFIG[\"datapath\"][\"record_folder\"])\n",
    "name_experiment = \"experiment_4\" # 主要是改這行\n",
    "FOLDER_EXPERIMENT = folder_record / name_experiment\n",
    "\n",
    "PATH_INIT = \"/user_data/intern/Ress/init_prompt/2024_0726_1212_data_30-7.json\"\n",
    "# PATH_INIT = \"/user_data/intern/Ress/init_prompt/test.json\""
   ]
  },
  {
   "cell_type": "markdown",
   "metadata": {},
   "source": [
    "## 製作初始化資料\n",
    "\n",
    "**只有要建立新資料的時候才需要跑**"
   ]
  },
  {
   "cell_type": "code",
   "execution_count": 3,
   "metadata": {},
   "outputs": [
    {
     "name": "stdout",
     "output_type": "stream",
     "text": [
      "path_data='/user_data/intern/Ress/dataset/Final_Quality.json'\n",
      "enter experiment\n"
     ]
    },
    {
     "data": {
      "application/vnd.jupyter.widget-view+json": {
       "model_id": "536232bf21044844a9a39a80ba943127",
       "version_major": 2,
       "version_minor": 0
      },
      "text/plain": [
       "  0%|          | 0/30 [00:00<?, ?it/s]"
      ]
     },
     "metadata": {},
     "output_type": "display_data"
    },
    {
     "name": "stdout",
     "output_type": "stream",
     "text": [
      "enter answer\n",
      "enter os_ap_sss_answer\n",
      "before while\n",
      "len(new_content.split(\" \"))=5073\n",
      "size_chunck=3000\n",
      "enter get_ttl_chunk\n",
      "enter get_ttl_idx_check\n",
      "enter Encoder.encode\n",
      "exit Encoder.encode\n",
      "enter get_adjacent_similarity\n",
      "exit get_adjacent_similarity\n",
      "enter find_idx_low_peak\n",
      "exit find_idx_low_peak\n",
      "exit get_ttl_idx_check\n",
      "enter Sentence_Split\n",
      "enter find_low_peak_4_next_chunk\n",
      "exit find_low_peak_4_next_chunk\n",
      "enter create_single_chunk\n",
      "exit create_single_chunk\n",
      "enter find_low_peak_4_next_chunk\n",
      "exit find_low_peak_4_next_chunk\n",
      "enter create_single_chunk\n",
      "exit create_single_chunk\n",
      "exit Sentence_Split\n",
      "exit get_ttl_chunk\n",
      "\tbefore for-loop\n",
      "enter api_breeze\n",
      "user_prompt='Article excerpt:\\nCharity Case\\nBy JIM HARMON\\n\\n\\n Illustrated by DICK FRANCIS\\n\\n\\n [Transcriber\\'s Note: This etext was produced from\\n\\n Galaxy Science Fiction December 1959. \\n\\n Extensive research did not uncover any evidence that\\n\\n the U. S.  copyright on this publication was renewed. ]\\nCertainly I see things that aren\\'t there\\n \\nand don\\'t say what my voice says—but how\\n \\ncan I prove that I don\\'t have my health?\\nWhen he began his talk with \"You got your health, don\\'t you?\" it\\n touched those spots inside me.  That was when I did it. \\n\\n\\n Why couldn\\'t what he said have been \"The best things in life are free,\\n buddy\" or \"Every dog has his day, fellow\" or \"If at first you don\\'t\\n succeed, man\"? No, he had to use that one line.  You wouldn\\'t blame me. \\n Not if you believe me. \\n\\n\\n The first thing I can remember, the start of all this, was when I was\\n four or five somebody was soiling my bed for me.  I absolutely was not\\n doing it.  I took long naps morning and evening so I could lie awake all\\n night to see that it wouldn\\'t happen.  It couldn\\'t happen.  But in the\\n morning the bed would sit there dispassionately soiled and convict me\\n on circumstantial evidence.  My punishment was as sure as the tide. \\n\\n\\n Dad was a compact man, small eyes, small mouth, tight clothes.  He was\\n narrow but not mean.  For punishment, he locked me in a windowless\\n room and told me to sit still until he came back.  It wasn\\'t so bad a\\n punishment, except that when Dad closed the door, the light turned off\\n and I was left there in the dark. \\n\\n\\n Being four or five, I didn\\'t know any better, so I thought Dad made it\\n dark to add to my punishment.  But I learned he didn\\'t know the light\\n went out.  It came back on when he unlocked the door.  Every time I told\\n him about the light as soon as I could talk again, but he said I was\\n lying. \\nOne day, to prove me a liar, he opened and closed the door a few times\\n from outside.  The light winked off and on, off and on, always shining\\n when Dad stuck his head inside.  He tried using the door from the\\n inside, and the light stayed on, no matter how hard he slammed the\\n door. \\n\\n\\n I stayed in the dark longer for lying about the light. \\n\\n\\n Alone in the dark, I wouldn\\'t have had it so bad if it wasn\\'t for the\\n things that came to me. \\n\\n\\n They were real to me.  They never touched me, but they had a little boy. \\n He looked the way I did in the mirror.  They did unpleasant things to\\n him. \\n\\n\\n Because they were real, I talked about them as if they were real, and\\n I almost earned a bunk in the home for retarded children until I got\\n smart enough to keep the beasts to myself. \\n\\n\\n My mother hated me.  I loved her, of course.  I remember her smell mixed\\n up with flowers and cookies and winter fires.  I remember she hugged me\\n on my ninth birthday.  The trouble came from the notes written in my\\n awkward hand that she found, calling her names I didn\\'t understand. \\n Sometimes there were drawings.  I didn\\'t write those notes or make those\\n drawings. \\n\\n\\n My mother and father must have been glad when I was sent away to reform\\n school after my thirteenth birthday party, the one no one came to. \\n\\n\\n The reform school was nicer.  There were others there who\\'d had it about\\n like me.  We got along.  I didn\\'t watch their shifty eyes too much, or\\n ask them what they shifted to see.  They didn\\'t talk about my screams\\n at night. \\n\\n\\n It was home. \\n\\n\\n My trouble there was that I was always being framed for stealing.  I\\n didn\\'t take any of those things they located in my bunk.  Stealing\\n wasn\\'t in my line.  If you believe any of this at all, you\\'ll see why it\\n couldn\\'t be me who did the stealing. \\n\\n\\n There was reason for me to steal, if I could have got away with it.  The\\n others got money from home to buy the things they needed—razor blades,\\n candy, sticks of tea.  I got a letter from Mom or Dad every now and then\\n before they were killed, saying they had sent money or that it was\\n enclosed, but somehow I never got a dime of it. \\n\\n\\n When I was expelled from reform school, I left with just one idea in\\n mind—to get all the money I could ever use for the things I needed and\\n the things I wanted. \\nIt was two or three years later that I skulked into Brother Partridge\\'s\\n mission on Durbin Street. \\n\\n\\n The preacher and half a dozen men were singing\\nOnward Christian\\n Soldiers\\nin the meeting room.  It was a drafty hall with varnished\\n camp chairs.  I shuffled in at the back with my suitcoat collar turned\\n up around my stubbled jaw.  I made my hand shaky as I ran it through my\\n knotted hair.  Partridge was supposed to think I was just a bum.  As\\n an inspiration, I hugged my chest to make him think I was some wino\\n nursing a flask full of Sneaky Pete.  All I had there was a piece of\\n copper alloy tubing inside a slice of plastic hose for taking care of\\n myself, rolling sailors and the like.  Who had the price of a bottle?\\nPartridge didn\\'t seem to notice me, but I knew that was an act.  I knew\\n people were always watching every move I made.  He braced his red-furred\\n hands on the sides of his auctioneer\\'s stand and leaned his splotched\\n eagle beak toward us.  \"Brothers, this being Thanksgiving, I pray the\\n good Lord that we all are truly thankful for all that we have received. \\n Amen. \"\\n\\n\\n Some skin-and-bones character I didn\\'t know struggled out of his seat,\\n amening.  I could see he had a lot to be thankful for—somewhere he had\\n received a fix. \\n\\n\\n \"Brothers,\" Partridge went on after enjoying the interruption with a\\n beaming smile, \"you shall all be entitled to a bowl of turkey soup\\n prepared by Sister Partridge, a generous supply of sweet rolls and\\n dinner rolls contributed by the Early Morning Bakery of this city,\\n and all the coffee you can drink.  Let us march out to\\nThe Stars and\\n Stripes Forever\\n, John Philip Sousa\\'s grand old patriotic song. \"\\n\\n\\n I had to laugh at all those bums clattering the chairs in front of me,\\n scampering after water soup and stale bread.  As soon as I got cleaned\\n up, I was going to have dinner in a good restaurant, and I was going to\\n order such expensive food and leave such a large tip for the waiter and\\n send one to the chef that they were going to think I was rich, and some\\n executive with some brokerage firm would see me and say to himself,\\n \"Hmm, executive material.  Just the type we need.  I beg your pardon,\\n sir—\" just like the razor-blade comic-strip ads in the old magazines\\n that Frankie the Pig sells three for a quarter. \\n\\n\\n I was marching.  Man, was I ever marching, but the secret of it was I\\n was only marking time the way we did in fire drills at the school. \\n\\n\\n They passed me, every one of them, and marched out of the meeting\\n room into the kitchen.  Even Partridge made his way down from the\\n auctioneer\\'s stand like a vulture with a busted wing and darted through\\n his private door. \\n\\n\\n I was alone, marking time behind the closed half of double doors.  One\\n good breath and I raced past the open door and flattened myself to the\\n wall.  Crockery was ringing and men were slurping inside.  No one had\\n paid any attention to me.  That was pretty odd.  People usually watch my\\n every move, but a man\\'s luck has to change sometime, doesn\\'t it?\\n\\n\\n Following the wallboard, I went down the side of the room and behind\\n the last row of chairs, closer, closer, and halfway up the room again\\n to the entrance—the entrance and the little wooden box fastened to the\\n wall beside it. \\n\\n\\n The box was old and made out of some varnished wood.  There was a slot\\n in the top.  There wasn\\'t any sign anywhere around it, but you knew it\\n wasn\\'t a mailbox. \\n\\n\\n My hand went flat on the top of the box.  One finger at a time drew up\\n and slipped into the slot.  Index, fore, third, little.  I put my thumb\\n in my palm and shoved.  My hand went in. \\n\\n\\n There were coins inside.  I scooped them up with two fingers and held\\n them fast with the other two.  Once I dropped a dime—not a penny,\\n milled edge—and I started to reach for it.  No, don\\'t be greedy.  I knew\\n I would probably lose my hold on all the coins if I tried for that one. \\n I had all the rest.  It felt like about two dollars, or close to it. \\n\\n\\n Then I found the bill.  A neatly folded bill in the box.  Somehow I knew\\n all along it would be there. \\nI tried to read the numbers on the bill with my fingertips, but I\\n couldn\\'t.  It had to be a one.  Who drops anything but a one into a Skid\\n Row collection box? But still there were tourists, slummers.  They might\\n leave a fifty or even a hundred.  A hundred!\\n\\n\\n Yes, it felt new, crisp.  It had to be a hundred.  A single would be\\n creased or worn. \\n\\n\\n I pulled my hand out of the box.  I\\ntried\\nto pull my hand out of the\\n box. \\n\\n\\n I knew what the trouble was, of course.  I was in a monkey trap.  The\\n monkey reaches through the hole for the bait, and when he gets it in\\n his hot little fist, he can\\'t get his hand out.  He\\'s too greedy to let\\n go, so he stays there, caught as securely as if he were caged. \\n\\n\\n I was a man, not a monkey.  I knew why I couldn\\'t get my hand out.  But I\\n couldn\\'t lose that money, especially that century bill.  Calm, I ordered\\n myself. \\nCalm. \\nThe box was fastened to the vertical tongue-and-groove laths of the\\n woodwork, not the wall.  It was old lumber, stiffened by a hundred\\n layers of paint since 1908.  The paint was as thick and strong as the\\n boards.  The box was fastened fast.  Six-inch spike nails, I guessed. \\n\\n\\n Calmly, I flung my whole weight away from the wall.  My wrist almost\\n cracked, but there wasn\\'t even a bend in the box.  Carefully, I tried to\\n jerk my fist straight up, to pry off the top of the box.  It was as if\\n the box had been carved out of one solid piece of timber.  It wouldn\\'t\\n go up, down, left or right. \\n\\n\\n But I kept trying. \\n\\n\\n While keeping a lookout for Partridge and somebody stepping out of the\\n kitchen for a pull on a bottle, I spotted the clock for the first\\n time, a Western Union clock high up at the back of the hall.  Just as\\n I seen it for the first time, the electricity wound the spring motor\\n inside like a chicken having its neck wrung. \\n\\n\\n The next time I glanced at the clock, it said ten minutes had gone by. \\n My hand still wasn\\'t free and I hadn\\'t budged the box. \\n\\n\\n \"This,\" Brother Partridge said, \"is one of the most profound\\n experiences of my life. \"\\n\\n\\n My head hinged until it lined my eyes up with Brother Partridge.  The\\n pipe hung heavy in my pocket, but he was too far from me. \\n\\n\\n \"A vision of you at the box projected itself on the crest of my soup,\"\\n the preacher explained in wonderment. \\n\\n\\n I nodded.  \"Swimming right in there with the dead duck. \"\\n\\n\\n \"Cold turkey,\" he corrected.  \"Are you scoffing at a miracle?\"\\n\\n\\n \"People are always watching me, Brother,\" I said.  \"So now they do it\\n even when they aren\\'t around.  I should have known it would come to\\n that. \"\\n\\n\\n The pipe was suddenly a weight I wanted off me.  I would try robbing\\n a collection box, knowing positively that I would get caught, but I\\n wasn\\'t dumb enough to murder.  Somebody, somewhere, would be a witness\\n to it.  I had never got away with anything in my life.  I was too smart\\n to even try anything but the little things. \\n\\n\\n \"I may be able to help you,\" Brother Partridge said, \"if you have faith\\n and a conscience. \"\\n\\n\\n \"I\\'ve got something better than a conscience,\" I told him. \\nBrother Partridge regarded me solemnly.  \"There must be something\\n special about you, for your apprehension to come through miraculous\\n intervention.  But I can\\'t imagine what. \"\\n\\n\\n \"I\\nalways\\nget apprehended somehow, Brother,\" I said.  \"I\\'m pretty\\n special. \"\\n\\n\\n \"Your name?\"\\n\\n\\n \"William Hagle. \" No sense lying.  I had been booked and printed before. \\n\\n\\n Partridge prodded me with his bony fingers as if making sure I was\\n substantial.  \"Come.  Let\\'s sit down, if you can remove your fist from\\n the money box. \"\\n\\n\\n I opened up my fingers and let the coins ring inside the box and I drew\\n out my hand.  The bill stuck to the sweat on my fingers and slid out\\n along with the digits.  A one, I decided.  I had got into trouble for a\\n grubby single.  It wasn\\'t any century.  I had been kidding myself. \\n\\n\\n I unfolded the note.  Sure enough, it wasn\\'t a hundred-dollar bill, but\\n it was a twenty, and that was almost the same thing to me.  I creased it\\n and put it back into the slot. \\n\\n\\n As long as it stalled off the cops, I\\'d talk to Partridge. \\n\\n\\n We took a couple of camp chairs and I told him the story of my life, or\\n most of it.  It was hard work on an empty stomach; I wished I\\'d had some\\n of that turkey soup.  Then again I was glad I hadn\\'t.  Something always\\n happened to me when I thought back over my life.  The same thing. \\n\\n\\n The men filed out of the kitchen, wiping their chins, and I went right\\n on talking. \\n\\n\\n After some time Sister Partridge bustled in and snapped on the overhead\\n lights and I kept talking.  The brother still hadn\\'t used the phone to\\n call the cops. \\n\\n\\n \"Remarkable,\" Partridge finally said when I got so hoarse I had to take\\n a break.  \"One is almost—\\nalmost\\n—reminded of Job.  William, you are\\n being punished for some great sin.  Of that, I\\'m sure. \"\\n\\n\\n \"Punished for a sin? But, Brother, I\\'ve always had it like this, as\\n long as I can remember.  What kind of a sin could I have committed when\\n I was fresh out of my crib?\"\\n\\n\\n \"William, all I can tell you is that time means nothing in Heaven.  Do\\n you deny the transmigration of souls?\"\\n\\n\\n \"Well,\" I said, \"I\\'ve had no personal experience—\"\\n\\n\\n \"Of course you have, William! Say you don\\'t remember.  Say you don\\'t\\n want to remember.  But don\\'t say you have no personal experience!\"\\n\\n\\n \"And you think I\\'m being punished for something I did in a previous\\n life?\"\\n\\n\\n He looked at me in disbelief.  \"What else could it be?\"\\n\\n\\n \"I don\\'t know,\" I confessed.  \"I certainly haven\\'t done anything that\\n bad in\\nthis\\nlife. \"\\n\\n\\n \"William, if you atone for this sin, perhaps the horde of locusts will\\n lift from you. \"\\n\\n\\n It wasn\\'t much of a chance, but I was unused to having any at all.  I\\n shook off the dizziness of it.  \"By the Lord Harry, Brother, I\\'m going\\n to give it a try!\" I cried. \\n\\n\\n \"I believe you,\" Partridge said, surprised at himself. \\n\\n\\n He ambled over to the money box on the wall.  He tapped the bottom\\n lightly and a box with no top slid out of the slightly larger box.  He\\n reached in, fished out the bill and presented it to me. \\n\\n\\n \"Perhaps this will help in your atonement,\" he said. \\n\\n\\n I crumpled it into my pocket fast.  Not meaning to sound ungrateful, I\\'m\\n pretty sure he hadn\\'t noticed it was a twenty. \\n\\n\\n And then the bill seemed to lie there, heavy, a lead weight.  It would\\n have been different if I had managed to get it out of the box myself. \\n You know how it is. \\n\\n\\n Money you haven\\'t earned doesn\\'t seem real to you. \\nThere was something I forgot to mention so far.  During the year between\\n when I got out of the reformatory and the one when I tried to steal\\n Brother Partridge\\'s money, I killed a man. \\n\\n\\n It was all an accident, but killing somebody is reason enough to get\\n punished.  It didn\\'t have to be a sin in some previous life, you see. \\n\\n\\n I had gotten my first job in too long, stacking boxes at the freight\\n door of Baysinger\\'s.  The drivers unloaded the stuff, but they just\\n dumped it off the truck.  An empty rear end was all they wanted.  The\\n freight boss told me to stack the boxes inside, neat and not too close\\n together. \\n\\n\\n I stacked boxes the first day.  I stacked more the second.  The third day\\n I went outside with my baloney and crackers.  It was warm enough even\\n for November. \\n\\n\\n Two of them, dressed like Harvard seniors, caps and striped duffer\\n jackets, came up to the crate I was dining off. \\n\\n\\n \"Work inside, Jack?\" the taller one asked. \\n\\n\\n \"Yeah,\" I said, chewing. \\n\\n\\n \"What do you do, Jack?\" the fatter one asked. \\n\\n\\n \"Stack boxes\\n\\n\\n\\nQuestion:\\nWhich word doesn\\'t describe Partridge?\\noption1: suspicious\\noption2: compassionate\\noption3: patient\\noption4: sympathetic\\n'\n",
      "enter try\n",
      "response=<Response [200]>\n",
      "j_result={'generated_text': ' option1: suspicious'}\n",
      "exit try\n",
      "exit api_breeze\n",
      "enter api_breeze\n",
      "user_prompt='Article excerpt:\\n It would\\n have been different if I had managed to get it out of the box myself. \\n You know how it is. \\n\\n\\n Money you haven\\'t earned doesn\\'t seem real to you. \\nThere was something I forgot to mention so far.  During the year between\\n when I got out of the reformatory and the one when I tried to steal\\n Brother Partridge\\'s money, I killed a man. \\n\\n\\n It was all an accident, but killing somebody is reason enough to get\\n punished.  It didn\\'t have to be a sin in some previous life, you see. \\n\\n\\n I had gotten my first job in too long, stacking boxes at the freight\\n door of Baysinger\\'s.  The drivers unloaded the stuff, but they just\\n dumped it off the truck.  An empty rear end was all they wanted.  The\\n freight boss told me to stack the boxes inside, neat and not too close\\n together. \\n\\n\\n I stacked boxes the first day.  I stacked more the second.  The third day\\n I went outside with my baloney and crackers.  It was warm enough even\\n for November. \\n\\n\\n Two of them, dressed like Harvard seniors, caps and striped duffer\\n jackets, came up to the crate I was dining off. \\n\\n\\n \"Work inside, Jack?\" the taller one asked. \\n\\n\\n \"Yeah,\" I said, chewing. \\n\\n\\n \"What do you do, Jack?\" the fatter one asked. \\n\\n\\n \"Stack boxes. \"\\n\\n\\n \"Got a union card?\"\\n\\n\\n I shook my head. \\n\\n\\n \"Application?\"\\n\\n\\n \"No,\" I said.  \"I\\'m just helping out during Christmas. \"\\n\\n\\n \"You\\'re a scab, buddy,\" Long-legs said.  \"Don\\'t you read the papers?\"\\n\\n\\n \"I don\\'t like comic strips,\" I said. \\n\\n\\n They sighed.  I think they hated to do it, but I was bucking the system. \\n\\n\\n Fats hit me high.  Long-legs hit me low.  I blew cracker crumbs into\\n their faces.  After that, I just let them go.  I know how to take a\\n beating.  That\\'s one thing I knew. \\n\\n\\n Then lying there, bleeding to myself, I heard them talking.  I heard\\n noises like\\nmake an example of him\\nand\\ndo something permanent\\nand I\\n squirmed away across the rubbish like a polite mouse. \\n\\n\\n I made it around a corner of brick and stood up, hurting my knee on a\\n piece of brown-splotched pipe.  There were noises on the other angle of\\n the corner and so I tested if the pipe was loose and it was.  I closed\\n my eyes and brought the pipe up and then down. \\n\\n\\n It felt as if I connected, but I was so numb, I wasn\\'t sure until I\\n unscrewed my eyes. \\n\\n\\n There was a big man in a heavy wool overcoat and gray homburg spread on\\n a damp centerfold from the\\nNews\\n.  There was a pick-up slip from the\\n warehouse under the fingers of one hand, and somebody had beaten his\\n brains out. \\n\\n\\n The police figured it was part of some labor dispute, I guess, and they\\n never got to me. \\n\\n\\n I suppose I was to blame anyway.  If I hadn\\'t been alive, if I hadn\\'t\\n been there to get beaten up, it wouldn\\'t have happened.  I could see\\n the point in making me suffer for it.  There was a lot to be said for\\n looking at it like that.  But there was nothing to be said for telling\\n Brother Partridge about the accident, or murder, or whatever had\\n happened that day. \\nSearching myself after I left Brother Partridge, I finally found a\\n strip of gray adhesive tape on my side, out of the fuzzy area.  Making\\n the twenty the size of a thick postage stamp, I peeled back the tape\\n and put the folded bill on the white skin and smoothed the tape back. \\n\\n\\n There was only one place for me to go now.  I headed for the public\\n library.  It was only about twenty blocks, but not having had anything\\n to eat since the day before, it enervated me. \\n\\n\\n The downstairs washroom was where I went first.  There was nobody\\n there but an old guy talking urgently to a kid with thick glasses,\\n and somebody building a fix in one of the booths.  I could see charred\\n matches dropping down on the floor next to his tennis shoes, and even a\\n few grains of white stuff.  But he managed to hold still enough to keep\\n from spilling more from the spoon. \\n\\n\\n I washed my hands and face, smoothed my hair down, combing it with my\\n fingers.  Going over my suit with damp toweling got off a lot of the\\n dirt.  I put my collar on the outside of my jacket and creased the\\n wings with my thumbnail so it would look more like a sports shirt. \\n It didn\\'t really.  I still looked like a bum, but sort of a neat,\\n non-objectionable bum. \\n\\n\\n The librarian at the main desk looked sympathetically hostile, or\\n hostilely sympathetic. \\n\\n\\n \"I\\'d like to get into the stacks, miss,\" I said, \"and see some of the\\n old newspapers. \"\\n\\n\\n \"Which newspapers?\" the old girl asked stiffly. \\n\\n\\n I thought back.  I couldn\\'t remember the exact date.  \"Ones for the first\\n week in November last year. \"\\n\\n\\n \"We have the\\nTimes\\nmicrofilmed.  I would have to project them for you. \"\\n\\n\\n \"I didn\\'t want to see the\\nTimes\\n,\" I said, fast.  \"Don\\'t you have any\\n newspapers on paper?\" I didn\\'t want her to see what I wanted to read up\\n on. \\n\\n\\n \"We have the\\nNews\\n, bound, for last year. \"\\n\\n\\n I nodded.  \"That\\'s the one I wanted to see. \"\\n\\n\\n She sniffed and told me to follow her.  I didn\\'t rate a cart to my\\n table, I guess, or else the bound papers weren\\'t supposed to come out\\n of the stacks. \\n\\n\\n The cases of books, row after row, smelled good.  Like old leather and\\n good pipe tobacco.  I had been here before.  In this world, it\\'s the man\\n with education who makes the money.  I had been reading the Funk &amp;\\n Wagnalls Encyclopedia.  So far I knew a lot about Mark Antony, Atomic\\n Energy, Boron, Brussels, Catapults, Demons, and Divans. \\n\\n\\n I guess I had stopped to look around at some of the titles, because the\\n busy librarian said sharply, \"Follow me. \"\\n\\n\\n I heard my voice say, \"A pleasure.  What about after work?\"\\n\\n\\n I didn\\'t say it, but I was used to my voice independently saying\\n things.  Her neck got to flaming, but she walked stiffly ahead.  She\\n didn\\'t say anything.  She must be awful mad, I decided.  But then I got\\n the idea she was flushed with pleasure.  I\\'m pretty ugly and I looked\\n like a bum, but I was young.  You had to grant me that. \\n\\n\\n She waved a hand at the rows of bound\\nNews\\nand left me alone with\\n them.  I wasn\\'t sure if I was allowed to hunt up a table to lay the\\n books on or not, so I took the volume for last year and laid it on the\\n floor.  That was the cleanest floor I ever saw. \\n\\n\\n It didn\\'t take me long to find the story.  The victim was a big man,\\n because the story was on the second page of the Nov.  4 edition. \\n\\n\\n I started to tear the page out, then only memorized the name and home\\n address.  Somebody was sure to see me and I couldn\\'t risk trouble just\\n now. \\n\\n\\n I stuck the book back in line and left by the side door. \\nI went to a dry-cleaner, not the cheapest place I knew, because I\\n wouldn\\'t be safe with the change from a twenty in that neighborhood. \\n My suit was cleaned while I waited.  I paid a little extra and had\\n it mended.  Funny thing about a suit—it\\'s almost never completely\\n shot unless you just have it ripped off you or burned up.  It wasn\\'t\\n exactly in style, but some rich executives wore suits out of style\\n that they had paid a lot of money for.  I remembered Fredric March\\'s\\n double-breasted in\\nExecutive Suite\\nwhile Walter Pidgeon and the rest\\n wore Ivy Leagues.  Maybe I would look like an eccentric executive. \\n\\n\\n I bought a new shirt, a good used pair of shoes, and a dime pack of\\n single-edged razor blades.  I didn\\'t have a razor, but anybody with\\n nerve can shave with a single-edge blade and soap and water. \\n\\n\\n The clerk took my two bucks in advance and I went up to my room. \\n\\n\\n I washed out my socks and underwear, took a bath, shaved and trimmed\\n my hair and nails with the razor blade.  With some soap on my finger, I\\n scrubbed my teeth.  Finally I got dressed. \\n\\n\\n Everything was all right except that I didn\\'t have a tie.  They had\\n them, a quarter a piece, where I got the shoes.  It was only six\\n blocks—I could go back.  But I didn\\'t want to wait.  I wanted to\\n complete the picture. \\n\\n\\n The razor blade sliced through the pink bath towel evenly.  I cut out a\\n nice modern-style tie, narrow, with some horizontal stripes down at the\\n bottom.  I made a tight, thin knot.  It looked pretty good. \\n\\n\\n I was ready to leave, so I started for the door.  I went back.  I had\\n almost forgotten my luggage.  The box still had three unwrapped blades\\n in it.  I pocketed it.  I hefted the used blade, dulled by all the work\\n it had done.  You can run being economical into stinginess.  I tossed it\\n into the wastebasket. \\n\\n\\n I had five hamburgers and five cups of coffee.  I couldn\\'t finish all of\\n the French fries. \\n\\n\\n \"Mac,\" I said to the fat counterman, who looked like all fat\\n countermen, \"give me a Milwaukee beer. \"\\n\\n\\n He stopped polishing the counter in front of his friend.  \"Milwaukee,\\n Wisconsin, or Milwaukee, Oregon?\"\\n\\n\\n \"Wisconsin. \"\\n\\n\\n He didn\\'t argue. \\n\\n\\n It was cold and bitter.  All beer is bitter, no matter what they say on\\n TV.  I like beer.  I like the bitterness of it. \\n\\n\\n It felt like another, but I checked myself.  I needed a clear head. \\n I thought about going back to the hotel for some sleep; I still had\\n the key in my pocket (I wasn\\'t trusting it to any clerk).  No, I had\\n had sleep on Thanksgiving, bracing up for trying the lift at Brother\\n Partridge\\'s.  Let\\'s see, it was daylight outside again, so this was the\\n day after Thanksgiving.  But it had only been sixteen or twenty hours\\n since I had slept.  That was enough. \\n\\n\\n I left the money on the counter for the hamburgers and coffee and the\\n beer.  There was $7. 68 left. \\n\\n\\n As I passed the counterman\\'s friend on his stool, my voice said, \"I\\n think you\\'re yellow. \"\\n\\n\\n He turned slowly, his jaw moving further away from his brain. \\n\\n\\n I winked.  \"It was just a bet for me to say that to you.  I won two\\n bucks.  Half of it is yours. \" I held out the bill to him. \\n\\n\\n His paw closed over the money and punched me on the biceps.  Too hard. \\n He winked back.  \"It\\'s okay. \"\\n\\n\\n I rubbed my shoulder, marching off fast, and I counted my money.  With\\n my luck, I might have given the counterman\\'s friend the five instead of\\n one of the singles.  But I hadn\\'t.  I now had $6. 68 left. \\n\\n\\n \"I\\nstill\\nthink you\\'re yellow,\" my voice said. \\n\\n\\n It was my voice, but it didn\\'t come from me.  There were no words, no\\n feeling of words in my throat.  It just came out of the air the way it\\n always did. \\n\\n\\n I ran. \\nHarold R.  Thompkins, 49, vice-president of Baysinger\\'s, was found\\n dead behind the store last night.  His skull had been crushed by a\\n vicious beating with a heavy implement, Coroner McClain announced in\\n preliminary verdict.  Tompkins, who resided at 1467 Claremont, Edgeway,\\n had been active in seeking labor-management peace in the recent\\n difficulties. . . . \\n\\n\\n I had read that a year before.  The car cards on the clanking subway and\\n the rumbling bus didn\\'t seem nearly so interesting to me.  Outside the\\n van, a tasteful sign announced the limits of the village of Edgeway,\\n and back inside, the monsters of my boyhood went\\nbloomp\\nat me. \\n\\n\\n I hadn\\'t seen anything like them in years. \\n\\n\\n The slimy, scaly beasts were slithering over the newspaper holders,\\n the ad card readers, the girl watchers as the neat little carbon-copy\\n modern homes breezed past the windows. \\nI ignored the devils and concentrated on reading the withered,\\n washed-out political posters on the telephone poles.  My neck ached from\\n holding it so stiff, staring out through the glass.  More than that, I\\n could feel the jabberwocks staring at me.  You know how it is.  You can\\n feel a stare with the back of your neck and between your eyes.  They got\\n one brush of a gaze out of me. \\n\\n\\n The things abruptly started their business, trying to act casually as\\n if they hadn\\'t been waiting for me to look at them at all.  They had a\\n little human being of some sort. \\n\\n\\n It was the size of a small boy, like the small boy who looked like me\\n that they used to destroy when I was locked up with them in the dark. \\n Except this was a man, scaled down to child\\'s size.  He had sort of an\\n ugly, worried, tired, stupid look and he wore a shiny suit with a piece\\n of a welcome mat or something for a necktie.  Yeah, it was me.  I really\\n knew it all the time. \\n\\n\\n They began doing things to the midget me.  I didn\\'t even lift an\\n eyebrow.  They couldn\\'t do anything worse to the small man than they\\n had done to the young boy.  It was sort of nostalgic watching them, but\\n I really got bored with all that violence and killing and killing the\\n same kill over and over.  Like watching the Saturday night string of\\n westerns in a bar. \\n\\n\\n The sunlight through the window was yellow and hot.  After a time, I\\n began to dose. \\n\\n\\n The shrieks woke me up. \\n\\n\\n For the first time, I could hear the shrieks of the monster\\'s victim\\n and listen to their obscene droolings.  For the very first time in my\\n life.  Always before it had been all pantomime, like Charlie Chaplin. \\n Now I heard the sounds of it all. \\n\\n\\n They say it\\'s a bad sign when you start hearing voices. \\n\\n\\n I nearly panicked, but I held myself in the seat and forced myself\\n to be rational about it.  My own voice was always saying things\\neverybody\\ncould hear but which I didn\\'t say.  It wasn\\'t any worse to\\n be the\\nonly\\none who could hear other things I never said.  I was as\\n sane as I ever was.  There was no doubt about that. \\n\\n\\n But a new thought suddenly impressed itself on me. \\n\\n\\n Whatever was punishing me for my sin was determined that I turn back\\n before reaching 1467 Claremont. \\n\\n\\n\\n\\nQuestion:\\nWhich word doesn\\'t describe Partridge?\\noption1: suspicious\\noption2: compassionate\\noption3: patient\\noption4: sympathetic\\n'\n",
      "enter try\n",
      "response=<Response [200]>\n",
      "j_result={'generated_text': \" The article does not provide enough information to determine which word doesn't describe Partridge.\"}\n",
      "exit try\n",
      "exit api_breeze\n",
      "\tafter for-loop\n",
      "after while\n",
      "enter api_breeze\n",
      "user_prompt=\"There will be an article question and four options. \\nPlease choose the option that answers the question based on the article.\\n\\narticle:\\n option1: suspicious  The article does not provide enough information to determine which word doesn't describe Partridge. \\n\\nquestion:\\nWhich word doesn't describe Partridge?\\noption1: suspicious\\noption2: compassionate\\noption3: patient\\noption4: sympathetic\\n\\n\\nYour answer must be the number of one of the options,meaning it should be either option1, option2, option3, or option4. \\nThe format for the answer should be as follows: Answer__optionX.\"\n",
      "enter try\n",
      "response=<Response [200]>\n",
      "j_result={'generated_text': ' Answer__option1'}\n",
      "exit try\n",
      "exit api_breeze\n",
      "exit os_ap_sss_answer\n",
      "exit answer\n",
      "enter pick_up\n",
      "exit pick_up,  1\n",
      "truth_answer_number=1\n",
      "result=' Answer__option1'\n",
      "enter answer\n",
      "enter os_ap_sss_answer\n",
      "before while\n",
      "len(new_content.split(\" \"))=5286\n",
      "size_chunck=3000\n",
      "enter get_ttl_chunk\n",
      "enter get_ttl_idx_check\n",
      "enter Encoder.encode\n",
      "exit Encoder.encode\n",
      "enter get_adjacent_similarity\n"
     ]
    },
    {
     "ename": "KeyboardInterrupt",
     "evalue": "",
     "output_type": "error",
     "traceback": [
      "\u001b[0;31m---------------------------------------------------------------------------\u001b[0m",
      "\u001b[0;31mKeyboardInterrupt\u001b[0m                         Traceback (most recent call last)",
      "Cell \u001b[0;32mIn[3], line 15\u001b[0m\n\u001b[1;32m     12\u001b[0m path_data \u001b[38;5;241m=\u001b[39m CONFIG[\u001b[38;5;124m\"\u001b[39m\u001b[38;5;124mdatapath\u001b[39m\u001b[38;5;124m\"\u001b[39m][\u001b[38;5;124m\"\u001b[39m\u001b[38;5;124mFinal_Quality\u001b[39m\u001b[38;5;124m\"\u001b[39m]\n\u001b[1;32m     13\u001b[0m \u001b[38;5;28mprint\u001b[39m(\u001b[38;5;124mf\u001b[39m\u001b[38;5;124m\"\u001b[39m\u001b[38;5;132;01m{\u001b[39;00mpath_data\u001b[38;5;132;01m=}\u001b[39;00m\u001b[38;5;124m\"\u001b[39m)\n\u001b[0;32m---> 15\u001b[0m ttl_model, ttl_dataset, ttl_pair_os_prompt_scores \u001b[38;5;241m=\u001b[39m \u001b[43minit_setting\u001b[49m\u001b[43m(\u001b[49m\u001b[43mtype_llm\u001b[49m\u001b[43m,\u001b[49m\u001b[43m \u001b[49m\u001b[43mtype_embedding\u001b[49m\u001b[43m,\u001b[49m\u001b[43m \u001b[49m\u001b[43mpath_data\u001b[49m\u001b[43m,\u001b[49m\u001b[43m \u001b[49m\u001b[43mpath_prompt\u001b[49m\u001b[43m)\u001b[49m\n",
      "File \u001b[0;32m~/intern/Ress/main.py:77\u001b[0m, in \u001b[0;36minit_setting\u001b[0;34m(type_llm, type_embedding, path_data, path_prompt)\u001b[0m\n\u001b[1;32m     73\u001b[0m ttl_prompt_scores\u001b[38;5;241m=\u001b[39m[]\n\u001b[1;32m     74\u001b[0m \u001b[38;5;28;01mfor\u001b[39;00m prompt \u001b[38;5;129;01min\u001b[39;00m ttl_prompt:\n\u001b[1;32m     75\u001b[0m     \u001b[38;5;66;03m# print(len(train_split))\u001b[39;00m\n\u001b[1;32m     76\u001b[0m     \u001b[38;5;66;03m# print(len(dev_split))\u001b[39;00m\n\u001b[0;32m---> 77\u001b[0m     train_score \u001b[38;5;241m=\u001b[39m \u001b[43mget_score\u001b[49m\u001b[43m(\u001b[49m\u001b[43mttl_model\u001b[49m\u001b[43m,\u001b[49m\u001b[43m \u001b[49m\u001b[43mprompt\u001b[49m\u001b[43m,\u001b[49m\u001b[43m \u001b[49m\u001b[43mtrain_split\u001b[49m\u001b[43m,\u001b[49m\u001b[43m \u001b[49m\u001b[38;5;241;43m3000\u001b[39;49m\u001b[43m,\u001b[49m\u001b[43m \u001b[49m\u001b[38;5;241;43m10\u001b[39;49m\u001b[43m)\u001b[49m\n\u001b[1;32m     78\u001b[0m     dev_score \u001b[38;5;241m=\u001b[39m get_score(ttl_model, prompt, dev_split, \u001b[38;5;241m3000\u001b[39m, \u001b[38;5;241m10\u001b[39m)\n\u001b[1;32m     79\u001b[0m     prompt_scores \u001b[38;5;241m=\u001b[39m {\n\u001b[1;32m     80\u001b[0m         \u001b[38;5;124m'\u001b[39m\u001b[38;5;124mprompt\u001b[39m\u001b[38;5;124m'\u001b[39m: prompt,\n\u001b[1;32m     81\u001b[0m         \u001b[38;5;124m'\u001b[39m\u001b[38;5;124mtrain_score\u001b[39m\u001b[38;5;124m'\u001b[39m: train_score,\n\u001b[1;32m     82\u001b[0m         \u001b[38;5;124m'\u001b[39m\u001b[38;5;124mdev_score\u001b[39m\u001b[38;5;124m'\u001b[39m: dev_score\n\u001b[1;32m     83\u001b[0m     }\n",
      "File \u001b[0;32m~/intern/Ress/utils/score.py:90\u001b[0m, in \u001b[0;36mget_score\u001b[0;34m(ttl_model, os_prompt, input_data, size_chunck, num_overlap)\u001b[0m\n\u001b[1;32m     89\u001b[0m \u001b[38;5;28;01mdef\u001b[39;00m \u001b[38;5;21mget_score\u001b[39m(ttl_model, os_prompt, input_data, size_chunck, num_overlap):\n\u001b[0;32m---> 90\u001b[0m     score,  _,  _ \u001b[38;5;241m=\u001b[39m \u001b[43mexperiment\u001b[49m\u001b[43m(\u001b[49m\u001b[43mttl_model\u001b[49m\u001b[43m,\u001b[49m\u001b[43m \u001b[49m\u001b[43mos_prompt\u001b[49m\u001b[43m,\u001b[49m\u001b[43m \u001b[49m\u001b[43minput_data\u001b[49m\u001b[43m,\u001b[49m\u001b[43m \u001b[49m\u001b[43msize_chunck\u001b[49m\u001b[43m,\u001b[49m\u001b[43m \u001b[49m\u001b[43mnum_overlap\u001b[49m\u001b[43m)\u001b[49m\n\u001b[1;32m     91\u001b[0m     \u001b[38;5;28;01mreturn\u001b[39;00m score\n",
      "File \u001b[0;32m~/intern/Ress/utils/score.py:71\u001b[0m, in \u001b[0;36mexperiment\u001b[0;34m(ttl_model, os_prompt, ttl_data, size_chunck, num_overlap)\u001b[0m\n\u001b[1;32m     67\u001b[0m num \u001b[38;5;241m=\u001b[39m \u001b[38;5;241m0\u001b[39m   \u001b[38;5;66;03m# 資料計數器\u001b[39;00m\n\u001b[1;32m     69\u001b[0m \u001b[38;5;28;01mfor\u001b[39;00m data \u001b[38;5;129;01min\u001b[39;00m tqdm(ttl_data):\n\u001b[0;32m---> 71\u001b[0m     result \u001b[38;5;241m=\u001b[39m \u001b[43manswer\u001b[49m\u001b[43m(\u001b[49m\u001b[43mttl_model\u001b[49m\u001b[43m,\u001b[49m\u001b[43m \u001b[49m\u001b[43mos_prompt\u001b[49m\u001b[43m,\u001b[49m\u001b[43m \u001b[49m\u001b[43mdata\u001b[49m\u001b[43m,\u001b[49m\u001b[43m \u001b[49m\u001b[43msize_chunck\u001b[49m\u001b[43m,\u001b[49m\u001b[43m \u001b[49m\u001b[43mnum_overlap\u001b[49m\u001b[43m)\u001b[49m\n\u001b[1;32m     72\u001b[0m     \u001b[38;5;28;01mwhile\u001b[39;00m(result\u001b[38;5;241m==\u001b[39m\u001b[38;5;124m\"\u001b[39m\u001b[38;5;124mredo\u001b[39m\u001b[38;5;124m\"\u001b[39m):\n\u001b[1;32m     73\u001b[0m         result \u001b[38;5;241m=\u001b[39m answer(ttl_model, os_prompt, data, size_chunck, num_overlap)\n",
      "File \u001b[0;32m~/intern/Ress/utils/score.py:45\u001b[0m, in \u001b[0;36manswer\u001b[0;34m(ttl_model, os_prompt, data, size_chunck, num_overlap)\u001b[0m\n\u001b[1;32m     42\u001b[0m \u001b[38;5;28;01mif\u001b[39;00m DEBUGGER\u001b[38;5;241m==\u001b[39m\u001b[38;5;124m\"\u001b[39m\u001b[38;5;124mTrue\u001b[39m\u001b[38;5;124m\"\u001b[39m: \u001b[38;5;28mprint\u001b[39m(\u001b[38;5;124m\"\u001b[39m\u001b[38;5;124menter answer\u001b[39m\u001b[38;5;124m\"\u001b[39m)\n\u001b[1;32m     44\u001b[0m \u001b[38;5;28;01mtry\u001b[39;00m:\n\u001b[0;32m---> 45\u001b[0m     result \u001b[38;5;241m=\u001b[39m \u001b[43mos_ap_sss_answer\u001b[49m\u001b[43m(\u001b[49m\u001b[43mttl_model\u001b[49m\u001b[43m,\u001b[49m\u001b[43m \u001b[49m\u001b[43mos_prompt\u001b[49m\u001b[43m,\u001b[49m\u001b[43m \u001b[49m\u001b[43mdata\u001b[49m\u001b[43m,\u001b[49m\u001b[43m \u001b[49m\u001b[43msize_chunck\u001b[49m\u001b[43m,\u001b[49m\u001b[43m \u001b[49m\u001b[43mnum_overlap\u001b[49m\u001b[43m)\u001b[49m\n\u001b[1;32m     46\u001b[0m \u001b[38;5;28;01mexcept\u001b[39;00m \u001b[38;5;167;01mException\u001b[39;00m \u001b[38;5;28;01mas\u001b[39;00m e:\n\u001b[1;32m     47\u001b[0m     \u001b[38;5;28mprint\u001b[39m(\u001b[38;5;124mf\u001b[39m\u001b[38;5;124m\"\u001b[39m\u001b[38;5;124mException in answer:\u001b[39m\u001b[38;5;130;01m\\n\u001b[39;00m\u001b[38;5;132;01m{\u001b[39;00me\u001b[38;5;132;01m}\u001b[39;00m\u001b[38;5;124m\"\u001b[39m)\n",
      "File \u001b[0;32m~/intern/Ress/utils/method.py:48\u001b[0m, in \u001b[0;36mos_ap_sss_answer\u001b[0;34m(ttl_model, os_prompt, data, size_chunck, num_overlap)\u001b[0m\n\u001b[1;32m     45\u001b[0m \u001b[38;5;28mprint\u001b[39m(\u001b[38;5;124mf\u001b[39m\u001b[38;5;124m\"\"\"\u001b[39m\u001b[38;5;124mlen(new_content.split(\u001b[39m\u001b[38;5;124m\"\u001b[39m\u001b[38;5;124m \u001b[39m\u001b[38;5;124m\"\u001b[39m\u001b[38;5;124m))=\u001b[39m\u001b[38;5;132;01m{\u001b[39;00m\u001b[38;5;28mlen\u001b[39m(new_content\u001b[38;5;241m.\u001b[39msplit(\u001b[38;5;124m\"\u001b[39m\u001b[38;5;124m \u001b[39m\u001b[38;5;124m\"\u001b[39m))\u001b[38;5;132;01m}\u001b[39;00m\u001b[38;5;130;01m\\n\u001b[39;00m\u001b[38;5;132;01m{\u001b[39;00msize_chunck\u001b[38;5;132;01m=}\u001b[39;00m\u001b[38;5;124m\"\"\"\u001b[39m)\n\u001b[1;32m     46\u001b[0m \u001b[38;5;28;01mwhile\u001b[39;00m \u001b[38;5;28mlen\u001b[39m(new_content\u001b[38;5;241m.\u001b[39msplit(\u001b[38;5;124m\"\u001b[39m\u001b[38;5;124m \u001b[39m\u001b[38;5;124m\"\u001b[39m))\u001b[38;5;241m>\u001b[39msize_chunck:\n\u001b[0;32m---> 48\u001b[0m     ttl_chunck \u001b[38;5;241m=\u001b[39m \u001b[43mget_ttl_chunk\u001b[49m\u001b[43m(\u001b[49m\u001b[43mnew_content\u001b[49m\u001b[43m,\u001b[49m\u001b[43m \u001b[49m\u001b[43msize_chunck\u001b[49m\u001b[43m,\u001b[49m\u001b[43m \u001b[49m\u001b[43mnum_overlap\u001b[49m\u001b[43m,\u001b[49m\u001b[43m \u001b[49m\u001b[43membedding_model\u001b[49m\u001b[43m)\u001b[49m\n\u001b[1;32m     49\u001b[0m     \u001b[38;5;66;03m# 這一輪的新內容\u001b[39;00m\n\u001b[1;32m     50\u001b[0m     new_content \u001b[38;5;241m=\u001b[39m \u001b[38;5;124m\"\u001b[39m\u001b[38;5;124m\"\u001b[39m\n",
      "File \u001b[0;32m~/intern/Ress/utils/split_into_chunk.py:232\u001b[0m, in \u001b[0;36mget_ttl_chunk\u001b[0;34m(text, size_chunk, num_overlap, embedding_model)\u001b[0m\n\u001b[1;32m    230\u001b[0m ttl_sentence \u001b[38;5;241m=\u001b[39m text\u001b[38;5;241m.\u001b[39msplit(\u001b[38;5;124m\"\u001b[39m\u001b[38;5;124m.\u001b[39m\u001b[38;5;124m\"\u001b[39m)\n\u001b[1;32m    231\u001b[0m \u001b[38;5;66;03m# 將句子進行encode\u001b[39;00m\n\u001b[0;32m--> 232\u001b[0m ttl_idx_check \u001b[38;5;241m=\u001b[39m \u001b[43mget_ttl_idx_check\u001b[49m\u001b[43m(\u001b[49m\u001b[43mttl_sentence\u001b[49m\u001b[43m,\u001b[49m\u001b[43m \u001b[49m\u001b[43membedding_model\u001b[49m\u001b[43m)\u001b[49m\n\u001b[1;32m    233\u001b[0m ttl_chunk \u001b[38;5;241m=\u001b[39m create_ttl_chunk(ttl_sentence, ttl_idx_check, size_chunk, num_overlap)\n\u001b[1;32m    235\u001b[0m \u001b[38;5;28;01mif\u001b[39;00m DEBUGGER\u001b[38;5;241m==\u001b[39m\u001b[38;5;124m\"\u001b[39m\u001b[38;5;124mTrue\u001b[39m\u001b[38;5;124m\"\u001b[39m: \u001b[38;5;28mprint\u001b[39m(\u001b[38;5;124m\"\u001b[39m\u001b[38;5;124mexit get_ttl_chunk\u001b[39m\u001b[38;5;124m\"\u001b[39m)\n",
      "File \u001b[0;32m~/intern/Ress/utils/split_into_chunk.py:79\u001b[0m, in \u001b[0;36mget_ttl_idx_check\u001b[0;34m(ttl_sentence, embedding_model)\u001b[0m\n\u001b[1;32m     77\u001b[0m \u001b[38;5;28;01melse\u001b[39;00m:   \u001b[38;5;66;03m# Semantic_Sentence_Split\u001b[39;00m\n\u001b[1;32m     78\u001b[0m     ttl_embedding \u001b[38;5;241m=\u001b[39m embedding_model\u001b[38;5;241m.\u001b[39mencode(ttl_sentence)\n\u001b[0;32m---> 79\u001b[0m     ttl_similarity \u001b[38;5;241m=\u001b[39m \u001b[43mget_adjacent_similarity\u001b[49m\u001b[43m(\u001b[49m\u001b[43mttl_embedding\u001b[49m\u001b[43m)\u001b[49m\n\u001b[1;32m     80\u001b[0m     ttl_idx_check \u001b[38;5;241m=\u001b[39m find_idx_low_peak(ttl_similarity)\n\u001b[1;32m     82\u001b[0m \u001b[38;5;28;01mif\u001b[39;00m DEBUGGER\u001b[38;5;241m==\u001b[39m\u001b[38;5;124m\"\u001b[39m\u001b[38;5;124mTrue\u001b[39m\u001b[38;5;124m\"\u001b[39m: \u001b[38;5;28mprint\u001b[39m(\u001b[38;5;124m\"\u001b[39m\u001b[38;5;124mexit get_ttl_idx_check\u001b[39m\u001b[38;5;124m\"\u001b[39m)\n",
      "File \u001b[0;32m~/intern/Ress/utils/split_into_chunk.py:50\u001b[0m, in \u001b[0;36mget_adjacent_similarity\u001b[0;34m(ttl_embedding)\u001b[0m\n\u001b[1;32m     47\u001b[0m ttl_similarity \u001b[38;5;241m=\u001b[39m []\n\u001b[1;32m     48\u001b[0m \u001b[38;5;28;01mfor\u001b[39;00m i \u001b[38;5;129;01min\u001b[39;00m \u001b[38;5;28mrange\u001b[39m(\u001b[38;5;28mlen\u001b[39m(ttl_embedding) \u001b[38;5;241m-\u001b[39m \u001b[38;5;241m1\u001b[39m):\n\u001b[1;32m     49\u001b[0m     \u001b[38;5;66;03m# similarity_of_adjacent = util.dot_score(ttl_embedding[i], ttl_embedding[i + 1])\u001b[39;00m\n\u001b[0;32m---> 50\u001b[0m     similarity_of_adjacent \u001b[38;5;241m=\u001b[39m \u001b[43mdot_product\u001b[49m\u001b[43m(\u001b[49m\u001b[43mttl_embedding\u001b[49m\u001b[43m[\u001b[49m\u001b[43mi\u001b[49m\u001b[43m]\u001b[49m\u001b[43m,\u001b[49m\u001b[43m \u001b[49m\u001b[43mttl_embedding\u001b[49m\u001b[43m[\u001b[49m\u001b[43mi\u001b[49m\u001b[43m \u001b[49m\u001b[38;5;241;43m+\u001b[39;49m\u001b[43m \u001b[49m\u001b[38;5;241;43m1\u001b[39;49m\u001b[43m]\u001b[49m\u001b[43m)\u001b[49m\n\u001b[1;32m     51\u001b[0m     similarity_of_adjacent \u001b[38;5;241m=\u001b[39m similarity_of_adjacent\u001b[38;5;241m.\u001b[39mitem()  \u001b[38;5;66;03m# tensor of torch.float64\u001b[39;00m\n\u001b[1;32m     52\u001b[0m     ttl_similarity\u001b[38;5;241m.\u001b[39mappend(similarity_of_adjacent)   \u001b[38;5;66;03m# float\u001b[39;00m\n",
      "File \u001b[0;32m~/intern/Ress/utils/split_into_chunk.py:38\u001b[0m, in \u001b[0;36mdot_product\u001b[0;34m(v1, v2)\u001b[0m\n\u001b[1;32m     36\u001b[0m \u001b[38;5;28;01melse\u001b[39;00m:\n\u001b[1;32m     37\u001b[0m     norm_v1 \u001b[38;5;241m=\u001b[39m normalized(v1)\n\u001b[0;32m---> 38\u001b[0m     norm_v2 \u001b[38;5;241m=\u001b[39m \u001b[43mnormalized\u001b[49m\u001b[43m(\u001b[49m\u001b[43mv2\u001b[49m\u001b[43m)\u001b[49m\n\u001b[1;32m     39\u001b[0m     \u001b[38;5;28;01mreturn\u001b[39;00m np\u001b[38;5;241m.\u001b[39msum(norm_v1\u001b[38;5;241m*\u001b[39mnorm_v2)\n",
      "File \u001b[0;32m~/intern/Ress/utils/split_into_chunk.py:29\u001b[0m, in \u001b[0;36mnormalized\u001b[0;34m(v)\u001b[0m\n\u001b[1;32m     27\u001b[0m len_squared \u001b[38;5;241m=\u001b[39m \u001b[38;5;241m0\u001b[39m\n\u001b[1;32m     28\u001b[0m \u001b[38;5;28;01mfor\u001b[39;00m vi \u001b[38;5;129;01min\u001b[39;00m v:\n\u001b[0;32m---> 29\u001b[0m     len_squared \u001b[38;5;241m+\u001b[39m\u001b[38;5;241m=\u001b[39m vi\u001b[38;5;241m*\u001b[39m\u001b[38;5;241m*\u001b[39m\u001b[38;5;241m2\u001b[39m\n\u001b[1;32m     30\u001b[0m \u001b[38;5;28;01mreturn\u001b[39;00m np\u001b[38;5;241m.\u001b[39marray(v)\u001b[38;5;241m/\u001b[39m(len_squared\u001b[38;5;241m*\u001b[39m\u001b[38;5;241m*\u001b[39m(\u001b[38;5;241m1\u001b[39m\u001b[38;5;241m/\u001b[39m\u001b[38;5;241m2\u001b[39m))\n",
      "\u001b[0;31mKeyboardInterrupt\u001b[0m: "
     ]
    }
   ],
   "source": [
    "from main import init_setting\n",
    "\n",
    "type_llm = \"Breeze\"\n",
    "# type_embedding = \"multi-qa-mpnet-base-dot-v1\"\n",
    "type_embedding = \"bgem3\"\n",
    "# type_embedding = None\n",
    "\n",
    "path_prompt = CONFIG[\"datapath\"][\"init_os_prompt\"]\n",
    "# path_prompt = \"D:\\\\實習\\\\evoprompt\\\\Ress\\\\dataset\\\\init_os_prompt_corpus_2024_0724_1357.json\"\n",
    "# path_prompt = \"D:\\\\實習\\\\evoprompt\\\\Ress\\\\dataset\\\\init_os_prompt_corpus.json\"\n",
    "\n",
    "path_data = CONFIG[\"datapath\"][\"Final_Quality\"]\n",
    "print(f\"{path_data=}\")\n",
    "\n",
    "ttl_model, ttl_dataset, ttl_pair_os_prompt_scores = init_setting(type_llm, type_embedding, path_data, path_prompt)"
   ]
  },
  {
   "cell_type": "code",
   "execution_count": 5,
   "metadata": {},
   "outputs": [],
   "source": [
    "import json\n",
    "from utils.tools import get_file_name, time_now\n",
    "\n",
    "t = time_now()\n",
    "path_folder = \"D:\\\\實習\\\\evoprompt\\\\Ress\\\\init_prompt\"\n",
    "path_file = f\"{path_folder}/{t}_20data.json\"\n",
    "data = {\n",
    "    \"corpus\": get_file_name(path_data),\n",
    "    \"type_llm\": type_llm,\n",
    "    \"type_embedding\": type_embedding,\n",
    "    \"prompt_popularion\": ttl_pair_os_prompt_scores,\n",
    "    \"data\": ttl_dataset\n",
    "}\n",
    "with open(path_file, 'w') as file:\n",
    "    json.dump(data, file, indent=4)"
   ]
  },
  {
   "cell_type": "markdown",
   "metadata": {},
   "source": [
    "## 初始化"
   ]
  },
  {
   "cell_type": "code",
   "execution_count": 4,
   "metadata": {},
   "outputs": [
    {
     "name": "stderr",
     "output_type": "stream",
     "text": [
      "/user_data/.local/lib/python3.10/site-packages/sentence_transformers/cross_encoder/CrossEncoder.py:11: TqdmExperimentalWarning: Using `tqdm.autonotebook.tqdm` in notebook mode. Use `tqdm.tqdm` instead to force console mode (e.g. in jupyter console)\n",
      "  from tqdm.autonotebook import tqdm, trange\n"
     ]
    }
   ],
   "source": [
    "import json\n",
    "\n",
    "from utils.call_model.embedding import Encoder\n",
    "from utils.call_model.llm import LLM\n",
    "\n",
    "def get_init(path_init=PATH_INIT):\n",
    "    \n",
    "    with open(path_init,  'r') as file:\n",
    "        record_init = json.load(file)\n",
    "\n",
    "    # 指定 llm\n",
    "    llm = LLM(record_init[\"type_llm\"])\n",
    "\n",
    "    # 指定 embedding model\n",
    "    if record_init[\"type_embedding\"] is None:\n",
    "        embedding_model = None\n",
    "    else:\n",
    "        embedding_model = Encoder(record_init[\"type_embedding\"])\n",
    "\n",
    "    ttl_model = (llm, embedding_model)\n",
    "    \n",
    "    return ttl_model, record_init"
   ]
  },
  {
   "cell_type": "markdown",
   "metadata": {},
   "source": [
    "# 實驗\n",
    "\n",
    "test_EvoDE 跟 test_EvoGA 的架構一模一樣，但為了方便 debug，所以沒有另外建 function\n",
    "\n",
    "test_ReSS 跟前兩者只差在存檔次數不同<br>\n",
    "前兩者每個 population 都會存，test_ReSS 則只存一次"
   ]
  },
  {
   "cell_type": "markdown",
   "metadata": {},
   "source": [
    "## ReSS"
   ]
  },
  {
   "cell_type": "code",
   "execution_count": 7,
   "metadata": {},
   "outputs": [],
   "source": [
    "import json\n",
    "from utils.ReSS import ReSS\n",
    "from utils.tools import time_now\n",
    "\n",
    "def test_ReSS():\n",
    "    \"\"\" 每生成一個 prompt 就存一次 population\n",
    "    \"\"\"\n",
    "    \n",
    "    # init\n",
    "    ttl_model, record_init = get_init()\n",
    "    corpus = record_init[\"corpus\"]\n",
    "    type_llm = record_init[\"type_llm\"]\n",
    "    type_embedding = record_init[\"type_embedding\"]\n",
    "    ttl_pair_os_prompt_scores = record_init[\"prompt_popularion\"]\n",
    "    ttl_dataset = record_init[\"data\"]\n",
    "\n",
    "    # 停止條件\n",
    "    stop_run_num = NUM_NEW_PROMPT   # 或是設一個回合數來終止(本來我會讓他跑到天荒地老所以沒有用for loop)\n",
    "    \n",
    "    # 跑實驗\n",
    "    record_population = []\n",
    "    record_population.append(ttl_pair_os_prompt_scores) # 起始狀態\n",
    "    \n",
    "    sorted_pair = sorted(ttl_pair_os_prompt_scores,  key=lambda x: x['train_score'],  reverse=True)\n",
    "    while(\n",
    "        sorted_pair[0]['train_score']<STOP_SCORE\n",
    "        and stop_run_num>0\n",
    "        and not os.path.exists(PATH_STOP_FILE)   # 人工 early stop\n",
    "    ):\n",
    "        new_population = ReSS(ttl_model, ttl_dataset, sorted_pair)\n",
    "        \n",
    "        record_population.append(new_population)\n",
    "        sorted_pair = sorted(new_population,  key=lambda x: x['train_score'],  reverse=True)\n",
    "\n",
    "        stop_run_num -= 1\n",
    "\n",
    "    # 儲存結果\n",
    "    t = time_now()\n",
    "    file_path = FOLDER_EXPERIMENT / f\"{t}_ReSS.json\"\n",
    "    data = {\n",
    "        \"corpus\": corpus,\n",
    "        \"type_llm\": type_llm,\n",
    "        \"type_embedding\": type_embedding,\n",
    "        \"best_promt\": sorted_pair[0],\n",
    "        \"record\": record_population\n",
    "    }\n",
    "    with open(file_path, 'w') as file:\n",
    "        json.dump(data, file, indent=4)\n",
    "    print(f\"\\n\\n\\nthe result is saved at:\\n{file_path}\")"
   ]
  },
  {
   "cell_type": "code",
   "execution_count": 8,
   "metadata": {},
   "outputs": [
    {
     "data": {
      "application/vnd.jupyter.widget-view+json": {
       "model_id": "d50311089a5e4babab3f17ddd0c13cc2",
       "version_major": 2,
       "version_minor": 0
      },
      "text/plain": [
       "  0%|          | 0/30 [00:00<?, ?it/s]"
      ]
     },
     "metadata": {},
     "output_type": "display_data"
    },
    {
     "data": {
      "application/vnd.jupyter.widget-view+json": {
       "model_id": "075339554b6e4767a4c2ea13db0d2742",
       "version_major": 2,
       "version_minor": 0
      },
      "text/plain": [
       "  0%|          | 0/7 [00:00<?, ?it/s]"
      ]
     },
     "metadata": {},
     "output_type": "display_data"
    },
    {
     "name": "stdout",
     "output_type": "stream",
     "text": [
      "\n",
      "\n",
      "\n",
      "the result is saved at:\n",
      "/user_data/intern/Ress/record/experiment_3/2024_0727_0022_ReSS.json\n"
     ]
    }
   ],
   "source": [
    "for i in range(1):\n",
    "    test_ReSS()"
   ]
  },
  {
   "cell_type": "markdown",
   "metadata": {},
   "source": [
    "## EvoDE"
   ]
  },
  {
   "cell_type": "code",
   "execution_count": 5,
   "metadata": {},
   "outputs": [],
   "source": [
    "\n",
    "import json\n",
    "from utils.EvoPrompt import EvoDE\n",
    "from utils.tools import time_now\n",
    "\n",
    "def test_EvoDE():\n",
    "    \"\"\" 每更新一次整個 population 才儲存一次\n",
    "    \"\"\"\n",
    "    \n",
    "    # 因為\n",
    "    t = time_now()\n",
    "    path_folder = FOLDER_EXPERIMENT / f\"{t}_Evo\"\n",
    "    path_folder.mkdir(parents=True, exist_ok=True)\n",
    "    \n",
    "    # init\n",
    "    ttl_model, record_init = get_init()\n",
    "    corpus = record_init[\"corpus\"]\n",
    "    type_llm = record_init[\"type_llm\"]\n",
    "    type_embedding = record_init[\"type_embedding\"]\n",
    "    ttl_pair_os_prompt_scores = record_init[\"prompt_popularion\"]\n",
    "    ttl_dataset = record_init[\"data\"]\n",
    "\n",
    "    # 停止條件\n",
    "    stop_run_num = int(NUM_NEW_PROMPT/4)   # 或是設一個回合數來終止(本來我會讓他跑到天荒地老所以沒有用for loop)\n",
    "    \n",
    "    # 跑實驗\n",
    "    record_population = []\n",
    "    record_population.append(ttl_pair_os_prompt_scores) # 起始狀態\n",
    "    \n",
    "    sorted_pair = sorted(ttl_pair_os_prompt_scores,  key=lambda x: x['train_score'],  reverse=True)\n",
    "    while(\n",
    "        sorted_pair[0]['train_score']<STOP_SCORE\n",
    "        and stop_run_num>0\n",
    "        and not os.path.exists(PATH_STOP_FILE)   # 人工 early stop\n",
    "    ):\n",
    "        new_population = EvoDE(ttl_model, ttl_dataset, sorted_pair)\n",
    "        \n",
    "        record_population.append(new_population)\n",
    "        sorted_pair = sorted(new_population,  key=lambda x: x['train_score'],  reverse=True)\n",
    "\n",
    "        # 儲存結果\n",
    "        file_path = path_folder / f\"{int(NUM_NEW_PROMPT/4) - stop_run_num:02d}_EvoDE.json\"\n",
    "        data = {\n",
    "            \"corpus\": corpus,\n",
    "            \"type_llm\": type_llm,\n",
    "            \"type_embedding\": type_embedding,\n",
    "            \"best_promt\": sorted_pair[0],\n",
    "            \"record\": sorted_pair\n",
    "        }\n",
    "        with open(file_path, 'w') as file:\n",
    "            json.dump(data, file, indent=4)\n",
    "        print(f\"\\n\\n\\nthe result is saved at:\\n{file_path}\")\n",
    "        \n",
    "        stop_run_num -= 1\n",
    "    "
   ]
  },
  {
   "cell_type": "code",
   "execution_count": 6,
   "metadata": {},
   "outputs": [
    {
     "data": {
      "application/vnd.jupyter.widget-view+json": {
       "model_id": "83e2fbd0d9c6418e89c4f7085439381a",
       "version_major": 2,
       "version_minor": 0
      },
      "text/plain": [
       "  0%|          | 0/30 [00:00<?, ?it/s]"
      ]
     },
     "metadata": {},
     "output_type": "display_data"
    },
    {
     "data": {
      "application/vnd.jupyter.widget-view+json": {
       "model_id": "4e4b09364c2e454997c952baecb29a18",
       "version_major": 2,
       "version_minor": 0
      },
      "text/plain": [
       "  0%|          | 0/30 [00:00<?, ?it/s]"
      ]
     },
     "metadata": {},
     "output_type": "display_data"
    },
    {
     "data": {
      "application/vnd.jupyter.widget-view+json": {
       "model_id": "3cb34d344be0439bababf61b691fba2c",
       "version_major": 2,
       "version_minor": 0
      },
      "text/plain": [
       "  0%|          | 0/7 [00:00<?, ?it/s]"
      ]
     },
     "metadata": {},
     "output_type": "display_data"
    },
    {
     "data": {
      "application/vnd.jupyter.widget-view+json": {
       "model_id": "4cb087540bc443b5959e1b4df398cb74",
       "version_major": 2,
       "version_minor": 0
      },
      "text/plain": [
       "  0%|          | 0/30 [00:00<?, ?it/s]"
      ]
     },
     "metadata": {},
     "output_type": "display_data"
    },
    {
     "data": {
      "application/vnd.jupyter.widget-view+json": {
       "model_id": "7f6bba9d67134c1a8573edd0ea6eb210",
       "version_major": 2,
       "version_minor": 0
      },
      "text/plain": [
       "  0%|          | 0/7 [00:00<?, ?it/s]"
      ]
     },
     "metadata": {},
     "output_type": "display_data"
    },
    {
     "data": {
      "application/vnd.jupyter.widget-view+json": {
       "model_id": "8fbe361e68214b50a276cf9605c7d96a",
       "version_major": 2,
       "version_minor": 0
      },
      "text/plain": [
       "  0%|          | 0/30 [00:00<?, ?it/s]"
      ]
     },
     "metadata": {},
     "output_type": "display_data"
    },
    {
     "data": {
      "application/vnd.jupyter.widget-view+json": {
       "model_id": "2093d13891ca40349645afce33a90d18",
       "version_major": 2,
       "version_minor": 0
      },
      "text/plain": [
       "  0%|          | 0/7 [00:00<?, ?it/s]"
      ]
     },
     "metadata": {},
     "output_type": "display_data"
    },
    {
     "name": "stdout",
     "output_type": "stream",
     "text": [
      "\n",
      "\n",
      "\n",
      "the result is saved at:\n",
      "/user_data/intern/Ress/record/experiment_3/2024_0726_2313_Evo/00_EvoDE.json\n"
     ]
    },
    {
     "data": {
      "application/vnd.jupyter.widget-view+json": {
       "model_id": "683e809748a146f081f17cdfbfb65372",
       "version_major": 2,
       "version_minor": 0
      },
      "text/plain": [
       "  0%|          | 0/30 [00:00<?, ?it/s]"
      ]
     },
     "metadata": {},
     "output_type": "display_data"
    },
    {
     "ename": "KeyboardInterrupt",
     "evalue": "",
     "output_type": "error",
     "traceback": [
      "\u001b[0;31m---------------------------------------------------------------------------\u001b[0m",
      "\u001b[0;31mKeyboardInterrupt\u001b[0m                         Traceback (most recent call last)",
      "Cell \u001b[0;32mIn[6], line 3\u001b[0m\n\u001b[1;32m      1\u001b[0m pre_file_path \u001b[38;5;241m=\u001b[39m \u001b[38;5;28;01mNone\u001b[39;00m\n\u001b[1;32m      2\u001b[0m \u001b[38;5;28;01mfor\u001b[39;00m i \u001b[38;5;129;01min\u001b[39;00m \u001b[38;5;28mrange\u001b[39m(\u001b[38;5;241m1\u001b[39m):\n\u001b[0;32m----> 3\u001b[0m     \u001b[43mtest_EvoDE\u001b[49m\u001b[43m(\u001b[49m\u001b[43m)\u001b[49m\n",
      "Cell \u001b[0;32mIn[5], line 43\u001b[0m, in \u001b[0;36mtest_EvoDE\u001b[0;34m()\u001b[0m\n\u001b[1;32m     37\u001b[0m sorted_pair \u001b[38;5;241m=\u001b[39m \u001b[38;5;28msorted\u001b[39m(ttl_pair_os_prompt_scores,  key\u001b[38;5;241m=\u001b[39m\u001b[38;5;28;01mlambda\u001b[39;00m x: x[\u001b[38;5;124m'\u001b[39m\u001b[38;5;124mtrain_score\u001b[39m\u001b[38;5;124m'\u001b[39m],  reverse\u001b[38;5;241m=\u001b[39m\u001b[38;5;28;01mTrue\u001b[39;00m)\n\u001b[1;32m     38\u001b[0m \u001b[38;5;28;01mwhile\u001b[39;00m(\n\u001b[1;32m     39\u001b[0m     sorted_pair[\u001b[38;5;241m0\u001b[39m][\u001b[38;5;124m'\u001b[39m\u001b[38;5;124mtrain_score\u001b[39m\u001b[38;5;124m'\u001b[39m]\u001b[38;5;241m<\u001b[39mSTOP_SCORE\n\u001b[1;32m     40\u001b[0m     \u001b[38;5;129;01mand\u001b[39;00m stop_run_num\u001b[38;5;241m>\u001b[39m\u001b[38;5;241m0\u001b[39m\n\u001b[1;32m     41\u001b[0m     \u001b[38;5;129;01mand\u001b[39;00m \u001b[38;5;129;01mnot\u001b[39;00m os\u001b[38;5;241m.\u001b[39mpath\u001b[38;5;241m.\u001b[39mexists(PATH_STOP_FILE)   \u001b[38;5;66;03m# 人工 early stop\u001b[39;00m\n\u001b[1;32m     42\u001b[0m ):\n\u001b[0;32m---> 43\u001b[0m     new_population \u001b[38;5;241m=\u001b[39m \u001b[43mEvoDE\u001b[49m\u001b[43m(\u001b[49m\u001b[43mttl_model\u001b[49m\u001b[43m,\u001b[49m\u001b[43m \u001b[49m\u001b[43mttl_dataset\u001b[49m\u001b[43m,\u001b[49m\u001b[43m \u001b[49m\u001b[43msorted_pair\u001b[49m\u001b[43m)\u001b[49m\n\u001b[1;32m     45\u001b[0m     record_population\u001b[38;5;241m.\u001b[39mappend(new_population)\n\u001b[1;32m     46\u001b[0m     sorted_pair \u001b[38;5;241m=\u001b[39m \u001b[38;5;28msorted\u001b[39m(new_population,  key\u001b[38;5;241m=\u001b[39m\u001b[38;5;28;01mlambda\u001b[39;00m x: x[\u001b[38;5;124m'\u001b[39m\u001b[38;5;124mtrain_score\u001b[39m\u001b[38;5;124m'\u001b[39m],  reverse\u001b[38;5;241m=\u001b[39m\u001b[38;5;28;01mTrue\u001b[39;00m)\n",
      "File \u001b[0;32m~/intern/Ress/utils/EvoPrompt.py:96\u001b[0m, in \u001b[0;36mEvoDE\u001b[0;34m(ttl_model, ttl_dataset, sorted_pairs)\u001b[0m\n\u001b[1;32m     93\u001b[0m \u001b[38;5;28;01mif\u001b[39;00m DEBUGGER\u001b[38;5;241m==\u001b[39m\u001b[38;5;124m\"\u001b[39m\u001b[38;5;124mTrue\u001b[39m\u001b[38;5;124m\"\u001b[39m: \u001b[38;5;28mprint\u001b[39m(\u001b[38;5;124mf\u001b[39m\u001b[38;5;124m\"\u001b[39m\u001b[38;5;132;01m{\u001b[39;00mnew_prompt\u001b[38;5;132;01m=}\u001b[39;00m\u001b[38;5;124m\"\u001b[39m)\n\u001b[1;32m     95\u001b[0m \u001b[38;5;66;03m# 紀錄\u001b[39;00m\n\u001b[0;32m---> 96\u001b[0m train_score \u001b[38;5;241m=\u001b[39m \u001b[43mget_score\u001b[49m\u001b[43m(\u001b[49m\u001b[43mttl_model\u001b[49m\u001b[43m,\u001b[49m\u001b[43m \u001b[49m\u001b[43mnew_prompt\u001b[49m\u001b[43m,\u001b[49m\u001b[43m \u001b[49m\u001b[43mtrain_split\u001b[49m\u001b[43m,\u001b[49m\u001b[43m \u001b[49m\u001b[38;5;241;43m3000\u001b[39;49m\u001b[43m,\u001b[49m\u001b[43m \u001b[49m\u001b[38;5;241;43m10\u001b[39;49m\u001b[43m)\u001b[49m\n\u001b[1;32m     97\u001b[0m \u001b[38;5;28;01mif\u001b[39;00m DEBUGGER\u001b[38;5;241m==\u001b[39m\u001b[38;5;124m\"\u001b[39m\u001b[38;5;124mTrue\u001b[39m\u001b[38;5;124m\"\u001b[39m: \u001b[38;5;28mprint\u001b[39m(\u001b[38;5;124mf\u001b[39m\u001b[38;5;124m\"\u001b[39m\u001b[38;5;132;01m{\u001b[39;00mtrain_score\u001b[38;5;132;01m=}\u001b[39;00m\u001b[38;5;130;01m\\n\u001b[39;00m\u001b[38;5;124mi[\u001b[39m\u001b[38;5;130;01m\\\"\u001b[39;00m\u001b[38;5;124mtrain_score\u001b[39m\u001b[38;5;130;01m\\\"\u001b[39;00m\u001b[38;5;124m]=\u001b[39m\u001b[38;5;132;01m{\u001b[39;00mi[\u001b[38;5;124m'\u001b[39m\u001b[38;5;124mtrain_score\u001b[39m\u001b[38;5;124m'\u001b[39m]\u001b[38;5;132;01m}\u001b[39;00m\u001b[38;5;124m\"\u001b[39m)\n\u001b[1;32m     98\u001b[0m \u001b[38;5;28;01mif\u001b[39;00m train_score \u001b[38;5;241m<\u001b[39m\u001b[38;5;241m=\u001b[39m i[\u001b[38;5;124m\"\u001b[39m\u001b[38;5;124mtrain_score\u001b[39m\u001b[38;5;124m\"\u001b[39m]:\n",
      "File \u001b[0;32m~/intern/Ress/utils/score.py:90\u001b[0m, in \u001b[0;36mget_score\u001b[0;34m(ttl_model, os_prompt, input_data, size_chunck, num_overlap)\u001b[0m\n\u001b[1;32m     89\u001b[0m \u001b[38;5;28;01mdef\u001b[39;00m \u001b[38;5;21mget_score\u001b[39m(ttl_model, os_prompt, input_data, size_chunck, num_overlap):\n\u001b[0;32m---> 90\u001b[0m     score,  _,  _ \u001b[38;5;241m=\u001b[39m \u001b[43mexperiment\u001b[49m\u001b[43m(\u001b[49m\u001b[43mttl_model\u001b[49m\u001b[43m,\u001b[49m\u001b[43m \u001b[49m\u001b[43mos_prompt\u001b[49m\u001b[43m,\u001b[49m\u001b[43m \u001b[49m\u001b[43minput_data\u001b[49m\u001b[43m,\u001b[49m\u001b[43m \u001b[49m\u001b[43msize_chunck\u001b[49m\u001b[43m,\u001b[49m\u001b[43m \u001b[49m\u001b[43mnum_overlap\u001b[49m\u001b[43m)\u001b[49m\n\u001b[1;32m     91\u001b[0m     \u001b[38;5;28;01mreturn\u001b[39;00m score\n",
      "File \u001b[0;32m~/intern/Ress/utils/score.py:71\u001b[0m, in \u001b[0;36mexperiment\u001b[0;34m(ttl_model, os_prompt, ttl_data, size_chunck, num_overlap)\u001b[0m\n\u001b[1;32m     67\u001b[0m num \u001b[38;5;241m=\u001b[39m \u001b[38;5;241m0\u001b[39m   \u001b[38;5;66;03m# 資料計數器\u001b[39;00m\n\u001b[1;32m     69\u001b[0m \u001b[38;5;28;01mfor\u001b[39;00m data \u001b[38;5;129;01min\u001b[39;00m tqdm(ttl_data):\n\u001b[0;32m---> 71\u001b[0m     result \u001b[38;5;241m=\u001b[39m \u001b[43manswer\u001b[49m\u001b[43m(\u001b[49m\u001b[43mttl_model\u001b[49m\u001b[43m,\u001b[49m\u001b[43m \u001b[49m\u001b[43mos_prompt\u001b[49m\u001b[43m,\u001b[49m\u001b[43m \u001b[49m\u001b[43mdata\u001b[49m\u001b[43m,\u001b[49m\u001b[43m \u001b[49m\u001b[43msize_chunck\u001b[49m\u001b[43m,\u001b[49m\u001b[43m \u001b[49m\u001b[43mnum_overlap\u001b[49m\u001b[43m)\u001b[49m\n\u001b[1;32m     72\u001b[0m     \u001b[38;5;28;01mwhile\u001b[39;00m(result\u001b[38;5;241m==\u001b[39m\u001b[38;5;124m\"\u001b[39m\u001b[38;5;124mredo\u001b[39m\u001b[38;5;124m\"\u001b[39m):\n\u001b[1;32m     73\u001b[0m         result \u001b[38;5;241m=\u001b[39m answer(ttl_model, os_prompt, data, size_chunck, num_overlap)\n",
      "File \u001b[0;32m~/intern/Ress/utils/score.py:45\u001b[0m, in \u001b[0;36manswer\u001b[0;34m(ttl_model, os_prompt, data, size_chunck, num_overlap)\u001b[0m\n\u001b[1;32m     42\u001b[0m \u001b[38;5;28;01mif\u001b[39;00m DEBUGGER\u001b[38;5;241m==\u001b[39m\u001b[38;5;124m\"\u001b[39m\u001b[38;5;124mTrue\u001b[39m\u001b[38;5;124m\"\u001b[39m: \u001b[38;5;28mprint\u001b[39m(\u001b[38;5;124m\"\u001b[39m\u001b[38;5;124menter answer\u001b[39m\u001b[38;5;124m\"\u001b[39m)\n\u001b[1;32m     44\u001b[0m \u001b[38;5;28;01mtry\u001b[39;00m:\n\u001b[0;32m---> 45\u001b[0m     result \u001b[38;5;241m=\u001b[39m \u001b[43mos_ap_sss_answer\u001b[49m\u001b[43m(\u001b[49m\u001b[43mttl_model\u001b[49m\u001b[43m,\u001b[49m\u001b[43m \u001b[49m\u001b[43mos_prompt\u001b[49m\u001b[43m,\u001b[49m\u001b[43m \u001b[49m\u001b[43mdata\u001b[49m\u001b[43m,\u001b[49m\u001b[43m \u001b[49m\u001b[43msize_chunck\u001b[49m\u001b[43m,\u001b[49m\u001b[43m \u001b[49m\u001b[43mnum_overlap\u001b[49m\u001b[43m)\u001b[49m\n\u001b[1;32m     46\u001b[0m \u001b[38;5;28;01mexcept\u001b[39;00m \u001b[38;5;167;01mException\u001b[39;00m \u001b[38;5;28;01mas\u001b[39;00m e:\n\u001b[1;32m     47\u001b[0m     \u001b[38;5;28mprint\u001b[39m(\u001b[38;5;124mf\u001b[39m\u001b[38;5;124m\"\u001b[39m\u001b[38;5;124mException in answer:\u001b[39m\u001b[38;5;130;01m\\n\u001b[39;00m\u001b[38;5;132;01m{\u001b[39;00me\u001b[38;5;132;01m}\u001b[39;00m\u001b[38;5;124m\"\u001b[39m)\n",
      "File \u001b[0;32m~/intern/Ress/utils/method.py:56\u001b[0m, in \u001b[0;36mos_ap_sss_answer\u001b[0;34m(ttl_model, os_prompt, data, size_chunck, num_overlap)\u001b[0m\n\u001b[1;32m     52\u001b[0m \u001b[38;5;28;01mfor\u001b[39;00m chunk \u001b[38;5;129;01min\u001b[39;00m ttl_chunck:\n\u001b[1;32m     53\u001b[0m \n\u001b[1;32m     54\u001b[0m     \u001b[38;5;66;03m# 請llm幫我們把重要資訊留下\u001b[39;00m\n\u001b[1;32m     55\u001b[0m     prompt_4_summarize_chunk \u001b[38;5;241m=\u001b[39m  get_prompt\u001b[38;5;241m.\u001b[39msum(\u001b[38;5;124m\"\u001b[39m\u001b[38;5;124mold\u001b[39m\u001b[38;5;124m\"\u001b[39m, chunk, os_prompt, question)\n\u001b[0;32m---> 56\u001b[0m     chunk_summary \u001b[38;5;241m=\u001b[39m \u001b[43mllm\u001b[49m\u001b[38;5;241;43m.\u001b[39;49m\u001b[43mreply\u001b[49m\u001b[43m(\u001b[49m\u001b[43mprompt_4_summarize_chunk\u001b[49m\u001b[43m)\u001b[49m\n\u001b[1;32m     57\u001b[0m     \u001b[38;5;66;03m# if chunk_summary==None:\u001b[39;00m\n\u001b[1;32m     58\u001b[0m     \u001b[38;5;66;03m#     continue\u001b[39;00m\n\u001b[1;32m     59\u001b[0m     new_content\u001b[38;5;241m+\u001b[39m\u001b[38;5;241m=\u001b[39m chunk_summary\u001b[38;5;241m+\u001b[39m\u001b[38;5;124m\"\u001b[39m\u001b[38;5;124m \u001b[39m\u001b[38;5;124m\"\u001b[39m\n",
      "File \u001b[0;32m~/intern/Ress/utils/call_model/llm.py:77\u001b[0m, in \u001b[0;36mLLM.reply\u001b[0;34m(self, *args)\u001b[0m\n\u001b[1;32m     76\u001b[0m \u001b[38;5;28;01mdef\u001b[39;00m \u001b[38;5;21mreply\u001b[39m(\u001b[38;5;28mself\u001b[39m, \u001b[38;5;241m*\u001b[39margs):\n\u001b[0;32m---> 77\u001b[0m     result \u001b[38;5;241m=\u001b[39m \u001b[38;5;28;43mself\u001b[39;49m\u001b[38;5;241;43m.\u001b[39;49m\u001b[43mmodel\u001b[49m\u001b[43m(\u001b[49m\u001b[38;5;241;43m*\u001b[39;49m\u001b[43margs\u001b[49m\u001b[43m)\u001b[49m\n\u001b[1;32m     78\u001b[0m     \u001b[38;5;28;01mreturn\u001b[39;00m result\n",
      "File \u001b[0;32m~/intern/Ress/utils/call_model/llm.py:50\u001b[0m, in \u001b[0;36mapi_breeze\u001b[0;34m(user_prompt, temperature, max_new_tokens)\u001b[0m\n\u001b[1;32m     47\u001b[0m \u001b[38;5;28;01mtry\u001b[39;00m:\n\u001b[1;32m     48\u001b[0m     \u001b[38;5;28;01mif\u001b[39;00m DEBUGGER\u001b[38;5;241m==\u001b[39m\u001b[38;5;124m\"\u001b[39m\u001b[38;5;124mTrue\u001b[39m\u001b[38;5;124m\"\u001b[39m: \u001b[38;5;28mprint\u001b[39m(\u001b[38;5;124m\"\u001b[39m\u001b[38;5;124menter try\u001b[39m\u001b[38;5;124m\"\u001b[39m)\n\u001b[0;32m---> 50\u001b[0m     response \u001b[38;5;241m=\u001b[39m \u001b[43mrequests\u001b[49m\u001b[38;5;241;43m.\u001b[39;49m\u001b[43mrequest\u001b[49m\u001b[43m(\u001b[49m\u001b[38;5;124;43m\"\u001b[39;49m\u001b[38;5;124;43mPOST\u001b[39;49m\u001b[38;5;124;43m\"\u001b[39;49m\u001b[43m,\u001b[49m\u001b[43m \u001b[49m\u001b[43mURL\u001b[49m\u001b[43m,\u001b[49m\u001b[43m \u001b[49m\u001b[43mheaders\u001b[49m\u001b[38;5;241;43m=\u001b[39;49m\u001b[43mheaders\u001b[49m\u001b[43m,\u001b[49m\u001b[43m \u001b[49m\u001b[43mdata\u001b[49m\u001b[38;5;241;43m=\u001b[39;49m\u001b[43mpayload\u001b[49m\u001b[43m,\u001b[49m\u001b[43m \u001b[49m\u001b[43mtimeout\u001b[49m\u001b[38;5;241;43m=\u001b[39;49m\u001b[38;5;241;43m120\u001b[39;49m\u001b[43m)\u001b[49m\n\u001b[1;32m     51\u001b[0m     \u001b[38;5;28;01mif\u001b[39;00m DEBUGGER\u001b[38;5;241m==\u001b[39m\u001b[38;5;124m\"\u001b[39m\u001b[38;5;124mTrue\u001b[39m\u001b[38;5;124m\"\u001b[39m: \u001b[38;5;28mprint\u001b[39m(\u001b[38;5;124mf\u001b[39m\u001b[38;5;124m\"\u001b[39m\u001b[38;5;132;01m{\u001b[39;00mresponse\u001b[38;5;132;01m=}\u001b[39;00m\u001b[38;5;124m\"\u001b[39m)\n\u001b[1;32m     52\u001b[0m     j_result\u001b[38;5;241m=\u001b[39mjson\u001b[38;5;241m.\u001b[39mloads(response\u001b[38;5;241m.\u001b[39mtext)\n",
      "File \u001b[0;32m/usr/local/lib/python3.10/site-packages/requests/api.py:59\u001b[0m, in \u001b[0;36mrequest\u001b[0;34m(method, url, **kwargs)\u001b[0m\n\u001b[1;32m     55\u001b[0m \u001b[38;5;66;03m# By using the 'with' statement we are sure the session is closed, thus we\u001b[39;00m\n\u001b[1;32m     56\u001b[0m \u001b[38;5;66;03m# avoid leaving sockets open which can trigger a ResourceWarning in some\u001b[39;00m\n\u001b[1;32m     57\u001b[0m \u001b[38;5;66;03m# cases, and look like a memory leak in others.\u001b[39;00m\n\u001b[1;32m     58\u001b[0m \u001b[38;5;28;01mwith\u001b[39;00m sessions\u001b[38;5;241m.\u001b[39mSession() \u001b[38;5;28;01mas\u001b[39;00m session:\n\u001b[0;32m---> 59\u001b[0m     \u001b[38;5;28;01mreturn\u001b[39;00m \u001b[43msession\u001b[49m\u001b[38;5;241;43m.\u001b[39;49m\u001b[43mrequest\u001b[49m\u001b[43m(\u001b[49m\u001b[43mmethod\u001b[49m\u001b[38;5;241;43m=\u001b[39;49m\u001b[43mmethod\u001b[49m\u001b[43m,\u001b[49m\u001b[43m \u001b[49m\u001b[43murl\u001b[49m\u001b[38;5;241;43m=\u001b[39;49m\u001b[43murl\u001b[49m\u001b[43m,\u001b[49m\u001b[43m \u001b[49m\u001b[38;5;241;43m*\u001b[39;49m\u001b[38;5;241;43m*\u001b[39;49m\u001b[43mkwargs\u001b[49m\u001b[43m)\u001b[49m\n",
      "File \u001b[0;32m/usr/local/lib/python3.10/site-packages/requests/sessions.py:587\u001b[0m, in \u001b[0;36mSession.request\u001b[0;34m(self, method, url, params, data, headers, cookies, files, auth, timeout, allow_redirects, proxies, hooks, stream, verify, cert, json)\u001b[0m\n\u001b[1;32m    582\u001b[0m send_kwargs \u001b[38;5;241m=\u001b[39m {\n\u001b[1;32m    583\u001b[0m     \u001b[38;5;124m\"\u001b[39m\u001b[38;5;124mtimeout\u001b[39m\u001b[38;5;124m\"\u001b[39m: timeout,\n\u001b[1;32m    584\u001b[0m     \u001b[38;5;124m\"\u001b[39m\u001b[38;5;124mallow_redirects\u001b[39m\u001b[38;5;124m\"\u001b[39m: allow_redirects,\n\u001b[1;32m    585\u001b[0m }\n\u001b[1;32m    586\u001b[0m send_kwargs\u001b[38;5;241m.\u001b[39mupdate(settings)\n\u001b[0;32m--> 587\u001b[0m resp \u001b[38;5;241m=\u001b[39m \u001b[38;5;28;43mself\u001b[39;49m\u001b[38;5;241;43m.\u001b[39;49m\u001b[43msend\u001b[49m\u001b[43m(\u001b[49m\u001b[43mprep\u001b[49m\u001b[43m,\u001b[49m\u001b[43m \u001b[49m\u001b[38;5;241;43m*\u001b[39;49m\u001b[38;5;241;43m*\u001b[39;49m\u001b[43msend_kwargs\u001b[49m\u001b[43m)\u001b[49m\n\u001b[1;32m    589\u001b[0m \u001b[38;5;28;01mreturn\u001b[39;00m resp\n",
      "File \u001b[0;32m/usr/local/lib/python3.10/site-packages/requests/sessions.py:701\u001b[0m, in \u001b[0;36mSession.send\u001b[0;34m(self, request, **kwargs)\u001b[0m\n\u001b[1;32m    698\u001b[0m start \u001b[38;5;241m=\u001b[39m preferred_clock()\n\u001b[1;32m    700\u001b[0m \u001b[38;5;66;03m# Send the request\u001b[39;00m\n\u001b[0;32m--> 701\u001b[0m r \u001b[38;5;241m=\u001b[39m \u001b[43madapter\u001b[49m\u001b[38;5;241;43m.\u001b[39;49m\u001b[43msend\u001b[49m\u001b[43m(\u001b[49m\u001b[43mrequest\u001b[49m\u001b[43m,\u001b[49m\u001b[43m \u001b[49m\u001b[38;5;241;43m*\u001b[39;49m\u001b[38;5;241;43m*\u001b[39;49m\u001b[43mkwargs\u001b[49m\u001b[43m)\u001b[49m\n\u001b[1;32m    703\u001b[0m \u001b[38;5;66;03m# Total elapsed time of the request (approximately)\u001b[39;00m\n\u001b[1;32m    704\u001b[0m elapsed \u001b[38;5;241m=\u001b[39m preferred_clock() \u001b[38;5;241m-\u001b[39m start\n",
      "File \u001b[0;32m/usr/local/lib/python3.10/site-packages/requests/adapters.py:489\u001b[0m, in \u001b[0;36mHTTPAdapter.send\u001b[0;34m(self, request, stream, timeout, verify, cert, proxies)\u001b[0m\n\u001b[1;32m    487\u001b[0m \u001b[38;5;28;01mtry\u001b[39;00m:\n\u001b[1;32m    488\u001b[0m     \u001b[38;5;28;01mif\u001b[39;00m \u001b[38;5;129;01mnot\u001b[39;00m chunked:\n\u001b[0;32m--> 489\u001b[0m         resp \u001b[38;5;241m=\u001b[39m \u001b[43mconn\u001b[49m\u001b[38;5;241;43m.\u001b[39;49m\u001b[43murlopen\u001b[49m\u001b[43m(\u001b[49m\n\u001b[1;32m    490\u001b[0m \u001b[43m            \u001b[49m\u001b[43mmethod\u001b[49m\u001b[38;5;241;43m=\u001b[39;49m\u001b[43mrequest\u001b[49m\u001b[38;5;241;43m.\u001b[39;49m\u001b[43mmethod\u001b[49m\u001b[43m,\u001b[49m\n\u001b[1;32m    491\u001b[0m \u001b[43m            \u001b[49m\u001b[43murl\u001b[49m\u001b[38;5;241;43m=\u001b[39;49m\u001b[43murl\u001b[49m\u001b[43m,\u001b[49m\n\u001b[1;32m    492\u001b[0m \u001b[43m            \u001b[49m\u001b[43mbody\u001b[49m\u001b[38;5;241;43m=\u001b[39;49m\u001b[43mrequest\u001b[49m\u001b[38;5;241;43m.\u001b[39;49m\u001b[43mbody\u001b[49m\u001b[43m,\u001b[49m\n\u001b[1;32m    493\u001b[0m \u001b[43m            \u001b[49m\u001b[43mheaders\u001b[49m\u001b[38;5;241;43m=\u001b[39;49m\u001b[43mrequest\u001b[49m\u001b[38;5;241;43m.\u001b[39;49m\u001b[43mheaders\u001b[49m\u001b[43m,\u001b[49m\n\u001b[1;32m    494\u001b[0m \u001b[43m            \u001b[49m\u001b[43mredirect\u001b[49m\u001b[38;5;241;43m=\u001b[39;49m\u001b[38;5;28;43;01mFalse\u001b[39;49;00m\u001b[43m,\u001b[49m\n\u001b[1;32m    495\u001b[0m \u001b[43m            \u001b[49m\u001b[43massert_same_host\u001b[49m\u001b[38;5;241;43m=\u001b[39;49m\u001b[38;5;28;43;01mFalse\u001b[39;49;00m\u001b[43m,\u001b[49m\n\u001b[1;32m    496\u001b[0m \u001b[43m            \u001b[49m\u001b[43mpreload_content\u001b[49m\u001b[38;5;241;43m=\u001b[39;49m\u001b[38;5;28;43;01mFalse\u001b[39;49;00m\u001b[43m,\u001b[49m\n\u001b[1;32m    497\u001b[0m \u001b[43m            \u001b[49m\u001b[43mdecode_content\u001b[49m\u001b[38;5;241;43m=\u001b[39;49m\u001b[38;5;28;43;01mFalse\u001b[39;49;00m\u001b[43m,\u001b[49m\n\u001b[1;32m    498\u001b[0m \u001b[43m            \u001b[49m\u001b[43mretries\u001b[49m\u001b[38;5;241;43m=\u001b[39;49m\u001b[38;5;28;43mself\u001b[39;49m\u001b[38;5;241;43m.\u001b[39;49m\u001b[43mmax_retries\u001b[49m\u001b[43m,\u001b[49m\n\u001b[1;32m    499\u001b[0m \u001b[43m            \u001b[49m\u001b[43mtimeout\u001b[49m\u001b[38;5;241;43m=\u001b[39;49m\u001b[43mtimeout\u001b[49m\u001b[43m,\u001b[49m\n\u001b[1;32m    500\u001b[0m \u001b[43m        \u001b[49m\u001b[43m)\u001b[49m\n\u001b[1;32m    502\u001b[0m     \u001b[38;5;66;03m# Send the request.\u001b[39;00m\n\u001b[1;32m    503\u001b[0m     \u001b[38;5;28;01melse\u001b[39;00m:\n\u001b[1;32m    504\u001b[0m         \u001b[38;5;28;01mif\u001b[39;00m \u001b[38;5;28mhasattr\u001b[39m(conn, \u001b[38;5;124m\"\u001b[39m\u001b[38;5;124mproxy_pool\u001b[39m\u001b[38;5;124m\"\u001b[39m):\n",
      "File \u001b[0;32m/usr/local/lib/python3.10/site-packages/urllib3/connectionpool.py:703\u001b[0m, in \u001b[0;36mHTTPConnectionPool.urlopen\u001b[0;34m(self, method, url, body, headers, retries, redirect, assert_same_host, timeout, pool_timeout, release_conn, chunked, body_pos, **response_kw)\u001b[0m\n\u001b[1;32m    700\u001b[0m     \u001b[38;5;28mself\u001b[39m\u001b[38;5;241m.\u001b[39m_prepare_proxy(conn)\n\u001b[1;32m    702\u001b[0m \u001b[38;5;66;03m# Make the request on the httplib connection object.\u001b[39;00m\n\u001b[0;32m--> 703\u001b[0m httplib_response \u001b[38;5;241m=\u001b[39m \u001b[38;5;28;43mself\u001b[39;49m\u001b[38;5;241;43m.\u001b[39;49m\u001b[43m_make_request\u001b[49m\u001b[43m(\u001b[49m\n\u001b[1;32m    704\u001b[0m \u001b[43m    \u001b[49m\u001b[43mconn\u001b[49m\u001b[43m,\u001b[49m\n\u001b[1;32m    705\u001b[0m \u001b[43m    \u001b[49m\u001b[43mmethod\u001b[49m\u001b[43m,\u001b[49m\n\u001b[1;32m    706\u001b[0m \u001b[43m    \u001b[49m\u001b[43murl\u001b[49m\u001b[43m,\u001b[49m\n\u001b[1;32m    707\u001b[0m \u001b[43m    \u001b[49m\u001b[43mtimeout\u001b[49m\u001b[38;5;241;43m=\u001b[39;49m\u001b[43mtimeout_obj\u001b[49m\u001b[43m,\u001b[49m\n\u001b[1;32m    708\u001b[0m \u001b[43m    \u001b[49m\u001b[43mbody\u001b[49m\u001b[38;5;241;43m=\u001b[39;49m\u001b[43mbody\u001b[49m\u001b[43m,\u001b[49m\n\u001b[1;32m    709\u001b[0m \u001b[43m    \u001b[49m\u001b[43mheaders\u001b[49m\u001b[38;5;241;43m=\u001b[39;49m\u001b[43mheaders\u001b[49m\u001b[43m,\u001b[49m\n\u001b[1;32m    710\u001b[0m \u001b[43m    \u001b[49m\u001b[43mchunked\u001b[49m\u001b[38;5;241;43m=\u001b[39;49m\u001b[43mchunked\u001b[49m\u001b[43m,\u001b[49m\n\u001b[1;32m    711\u001b[0m \u001b[43m\u001b[49m\u001b[43m)\u001b[49m\n\u001b[1;32m    713\u001b[0m \u001b[38;5;66;03m# If we're going to release the connection in ``finally:``, then\u001b[39;00m\n\u001b[1;32m    714\u001b[0m \u001b[38;5;66;03m# the response doesn't need to know about the connection. Otherwise\u001b[39;00m\n\u001b[1;32m    715\u001b[0m \u001b[38;5;66;03m# it will also try to release it and we'll have a double-release\u001b[39;00m\n\u001b[1;32m    716\u001b[0m \u001b[38;5;66;03m# mess.\u001b[39;00m\n\u001b[1;32m    717\u001b[0m response_conn \u001b[38;5;241m=\u001b[39m conn \u001b[38;5;28;01mif\u001b[39;00m \u001b[38;5;129;01mnot\u001b[39;00m release_conn \u001b[38;5;28;01melse\u001b[39;00m \u001b[38;5;28;01mNone\u001b[39;00m\n",
      "File \u001b[0;32m/usr/local/lib/python3.10/site-packages/urllib3/connectionpool.py:449\u001b[0m, in \u001b[0;36mHTTPConnectionPool._make_request\u001b[0;34m(self, conn, method, url, timeout, chunked, **httplib_request_kw)\u001b[0m\n\u001b[1;32m    444\u001b[0m             httplib_response \u001b[38;5;241m=\u001b[39m conn\u001b[38;5;241m.\u001b[39mgetresponse()\n\u001b[1;32m    445\u001b[0m         \u001b[38;5;28;01mexcept\u001b[39;00m \u001b[38;5;167;01mBaseException\u001b[39;00m \u001b[38;5;28;01mas\u001b[39;00m e:\n\u001b[1;32m    446\u001b[0m             \u001b[38;5;66;03m# Remove the TypeError from the exception chain in\u001b[39;00m\n\u001b[1;32m    447\u001b[0m             \u001b[38;5;66;03m# Python 3 (including for exceptions like SystemExit).\u001b[39;00m\n\u001b[1;32m    448\u001b[0m             \u001b[38;5;66;03m# Otherwise it looks like a bug in the code.\u001b[39;00m\n\u001b[0;32m--> 449\u001b[0m             \u001b[43msix\u001b[49m\u001b[38;5;241;43m.\u001b[39;49m\u001b[43mraise_from\u001b[49m\u001b[43m(\u001b[49m\u001b[43me\u001b[49m\u001b[43m,\u001b[49m\u001b[43m \u001b[49m\u001b[38;5;28;43;01mNone\u001b[39;49;00m\u001b[43m)\u001b[49m\n\u001b[1;32m    450\u001b[0m \u001b[38;5;28;01mexcept\u001b[39;00m (SocketTimeout, BaseSSLError, SocketError) \u001b[38;5;28;01mas\u001b[39;00m e:\n\u001b[1;32m    451\u001b[0m     \u001b[38;5;28mself\u001b[39m\u001b[38;5;241m.\u001b[39m_raise_timeout(err\u001b[38;5;241m=\u001b[39me, url\u001b[38;5;241m=\u001b[39murl, timeout_value\u001b[38;5;241m=\u001b[39mread_timeout)\n",
      "File \u001b[0;32m<string>:3\u001b[0m, in \u001b[0;36mraise_from\u001b[0;34m(value, from_value)\u001b[0m\n",
      "File \u001b[0;32m/usr/local/lib/python3.10/site-packages/urllib3/connectionpool.py:444\u001b[0m, in \u001b[0;36mHTTPConnectionPool._make_request\u001b[0;34m(self, conn, method, url, timeout, chunked, **httplib_request_kw)\u001b[0m\n\u001b[1;32m    441\u001b[0m \u001b[38;5;28;01mexcept\u001b[39;00m \u001b[38;5;167;01mTypeError\u001b[39;00m:\n\u001b[1;32m    442\u001b[0m     \u001b[38;5;66;03m# Python 3\u001b[39;00m\n\u001b[1;32m    443\u001b[0m     \u001b[38;5;28;01mtry\u001b[39;00m:\n\u001b[0;32m--> 444\u001b[0m         httplib_response \u001b[38;5;241m=\u001b[39m \u001b[43mconn\u001b[49m\u001b[38;5;241;43m.\u001b[39;49m\u001b[43mgetresponse\u001b[49m\u001b[43m(\u001b[49m\u001b[43m)\u001b[49m\n\u001b[1;32m    445\u001b[0m     \u001b[38;5;28;01mexcept\u001b[39;00m \u001b[38;5;167;01mBaseException\u001b[39;00m \u001b[38;5;28;01mas\u001b[39;00m e:\n\u001b[1;32m    446\u001b[0m         \u001b[38;5;66;03m# Remove the TypeError from the exception chain in\u001b[39;00m\n\u001b[1;32m    447\u001b[0m         \u001b[38;5;66;03m# Python 3 (including for exceptions like SystemExit).\u001b[39;00m\n\u001b[1;32m    448\u001b[0m         \u001b[38;5;66;03m# Otherwise it looks like a bug in the code.\u001b[39;00m\n\u001b[1;32m    449\u001b[0m         six\u001b[38;5;241m.\u001b[39mraise_from(e, \u001b[38;5;28;01mNone\u001b[39;00m)\n",
      "File \u001b[0;32m/usr/local/lib/python3.10/http/client.py:1375\u001b[0m, in \u001b[0;36mHTTPConnection.getresponse\u001b[0;34m(self)\u001b[0m\n\u001b[1;32m   1373\u001b[0m \u001b[38;5;28;01mtry\u001b[39;00m:\n\u001b[1;32m   1374\u001b[0m     \u001b[38;5;28;01mtry\u001b[39;00m:\n\u001b[0;32m-> 1375\u001b[0m         \u001b[43mresponse\u001b[49m\u001b[38;5;241;43m.\u001b[39;49m\u001b[43mbegin\u001b[49m\u001b[43m(\u001b[49m\u001b[43m)\u001b[49m\n\u001b[1;32m   1376\u001b[0m     \u001b[38;5;28;01mexcept\u001b[39;00m \u001b[38;5;167;01mConnectionError\u001b[39;00m:\n\u001b[1;32m   1377\u001b[0m         \u001b[38;5;28mself\u001b[39m\u001b[38;5;241m.\u001b[39mclose()\n",
      "File \u001b[0;32m/usr/local/lib/python3.10/http/client.py:318\u001b[0m, in \u001b[0;36mHTTPResponse.begin\u001b[0;34m(self)\u001b[0m\n\u001b[1;32m    316\u001b[0m \u001b[38;5;66;03m# read until we get a non-100 response\u001b[39;00m\n\u001b[1;32m    317\u001b[0m \u001b[38;5;28;01mwhile\u001b[39;00m \u001b[38;5;28;01mTrue\u001b[39;00m:\n\u001b[0;32m--> 318\u001b[0m     version, status, reason \u001b[38;5;241m=\u001b[39m \u001b[38;5;28;43mself\u001b[39;49m\u001b[38;5;241;43m.\u001b[39;49m\u001b[43m_read_status\u001b[49m\u001b[43m(\u001b[49m\u001b[43m)\u001b[49m\n\u001b[1;32m    319\u001b[0m     \u001b[38;5;28;01mif\u001b[39;00m status \u001b[38;5;241m!=\u001b[39m CONTINUE:\n\u001b[1;32m    320\u001b[0m         \u001b[38;5;28;01mbreak\u001b[39;00m\n",
      "File \u001b[0;32m/usr/local/lib/python3.10/http/client.py:279\u001b[0m, in \u001b[0;36mHTTPResponse._read_status\u001b[0;34m(self)\u001b[0m\n\u001b[1;32m    278\u001b[0m \u001b[38;5;28;01mdef\u001b[39;00m \u001b[38;5;21m_read_status\u001b[39m(\u001b[38;5;28mself\u001b[39m):\n\u001b[0;32m--> 279\u001b[0m     line \u001b[38;5;241m=\u001b[39m \u001b[38;5;28mstr\u001b[39m(\u001b[38;5;28;43mself\u001b[39;49m\u001b[38;5;241;43m.\u001b[39;49m\u001b[43mfp\u001b[49m\u001b[38;5;241;43m.\u001b[39;49m\u001b[43mreadline\u001b[49m\u001b[43m(\u001b[49m\u001b[43m_MAXLINE\u001b[49m\u001b[43m \u001b[49m\u001b[38;5;241;43m+\u001b[39;49m\u001b[43m \u001b[49m\u001b[38;5;241;43m1\u001b[39;49m\u001b[43m)\u001b[49m, \u001b[38;5;124m\"\u001b[39m\u001b[38;5;124miso-8859-1\u001b[39m\u001b[38;5;124m\"\u001b[39m)\n\u001b[1;32m    280\u001b[0m     \u001b[38;5;28;01mif\u001b[39;00m \u001b[38;5;28mlen\u001b[39m(line) \u001b[38;5;241m>\u001b[39m _MAXLINE:\n\u001b[1;32m    281\u001b[0m         \u001b[38;5;28;01mraise\u001b[39;00m LineTooLong(\u001b[38;5;124m\"\u001b[39m\u001b[38;5;124mstatus line\u001b[39m\u001b[38;5;124m\"\u001b[39m)\n",
      "File \u001b[0;32m/usr/local/lib/python3.10/socket.py:705\u001b[0m, in \u001b[0;36mSocketIO.readinto\u001b[0;34m(self, b)\u001b[0m\n\u001b[1;32m    703\u001b[0m \u001b[38;5;28;01mwhile\u001b[39;00m \u001b[38;5;28;01mTrue\u001b[39;00m:\n\u001b[1;32m    704\u001b[0m     \u001b[38;5;28;01mtry\u001b[39;00m:\n\u001b[0;32m--> 705\u001b[0m         \u001b[38;5;28;01mreturn\u001b[39;00m \u001b[38;5;28;43mself\u001b[39;49m\u001b[38;5;241;43m.\u001b[39;49m\u001b[43m_sock\u001b[49m\u001b[38;5;241;43m.\u001b[39;49m\u001b[43mrecv_into\u001b[49m\u001b[43m(\u001b[49m\u001b[43mb\u001b[49m\u001b[43m)\u001b[49m\n\u001b[1;32m    706\u001b[0m     \u001b[38;5;28;01mexcept\u001b[39;00m timeout:\n\u001b[1;32m    707\u001b[0m         \u001b[38;5;28mself\u001b[39m\u001b[38;5;241m.\u001b[39m_timeout_occurred \u001b[38;5;241m=\u001b[39m \u001b[38;5;28;01mTrue\u001b[39;00m\n",
      "\u001b[0;31mKeyboardInterrupt\u001b[0m: "
     ]
    }
   ],
   "source": [
    "pre_file_path = None\n",
    "for i in range(1):\n",
    "    test_EvoDE()"
   ]
  },
  {
   "cell_type": "markdown",
   "metadata": {},
   "source": [
    "## EvoGA"
   ]
  },
  {
   "cell_type": "code",
   "execution_count": 5,
   "metadata": {},
   "outputs": [],
   "source": [
    "import json\n",
    "from utils.EvoPrompt import EvoGA\n",
    "from utils.tools import time_now\n",
    "\n",
    "def test_EvoGA():\n",
    "    \"\"\" 每更新一次整個 population 才儲存一次\n",
    "    \"\"\"\n",
    "    t = time_now()\n",
    "    path_folder = FOLDER_EXPERIMENT / f\"{t}_EvoGA\"\n",
    "    path_folder.mkdir(parents=True, exist_ok=True)\n",
    "    \n",
    "    # init\n",
    "    ttl_model, record_init = get_init()\n",
    "    corpus = record_init[\"corpus\"]\n",
    "    type_llm = record_init[\"type_llm\"]\n",
    "    type_embedding = record_init[\"type_embedding\"]\n",
    "    ttl_pair_os_prompt_scores = record_init[\"prompt_popularion\"]\n",
    "    ttl_dataset = record_init[\"data\"]\n",
    "\n",
    "    # 停止條件\n",
    "    stop_run_num = int(NUM_NEW_PROMPT/4)   # 或是設一個回合數來終止(本來我會讓他跑到天荒地老所以沒有用for loop)\n",
    "\n",
    "    # 跑實驗\n",
    "    record_population = []\n",
    "    record_population.append(ttl_pair_os_prompt_scores)\n",
    "    \n",
    "    sorted_pair = sorted(ttl_pair_os_prompt_scores,  key=lambda x: x['train_score'],  reverse=True)\n",
    "    while(\n",
    "        sorted_pair[0]['train_score']<STOP_SCORE\n",
    "        and stop_run_num>0\n",
    "        and not os.path.exists(PATH_STOP_FILE)   # 人工 early stop\n",
    "    ):\n",
    "        new_population = EvoGA(ttl_model, ttl_dataset, sorted_pair)\n",
    "        \n",
    "        record_population.append(new_population)\n",
    "        sorted_pair = sorted(new_population,  key=lambda x: x['train_score'],  reverse=True)\n",
    "\n",
    "        # 儲存結果\n",
    "        file_path = path_folder / f\"{int(NUM_NEW_PROMPT/4) - stop_run_num+2:02d}_EvoGA.json\"\n",
    "        data = {\n",
    "            \"corpus\": corpus,\n",
    "            \"type_llm\": type_llm,\n",
    "            \"type_embedding\": type_embedding,\n",
    "            \"best_promt\": sorted_pair[0],\n",
    "            \"record\": sorted_pair\n",
    "        }\n",
    "        with open(file_path, 'w') as file:\n",
    "            json.dump(data, file, indent=4)\n",
    "        print(f\"\\n\\n\\nthe result is saved at:\\n{file_path}\")\n",
    "        \n",
    "        stop_run_num -= 1\n",
    "    "
   ]
  },
  {
   "cell_type": "code",
   "execution_count": 6,
   "metadata": {},
   "outputs": [
    {
     "data": {
      "application/vnd.jupyter.widget-view+json": {
       "model_id": "d4efb4d97fb8400f9b223967f0906f9d",
       "version_major": 2,
       "version_minor": 0
      },
      "text/plain": [
       "  0%|          | 0/30 [00:00<?, ?it/s]"
      ]
     },
     "metadata": {},
     "output_type": "display_data"
    },
    {
     "data": {
      "application/vnd.jupyter.widget-view+json": {
       "model_id": "73f0dfffa27f4b55b6571b0f7f1d7a49",
       "version_major": 2,
       "version_minor": 0
      },
      "text/plain": [
       "  0%|          | 0/7 [00:00<?, ?it/s]"
      ]
     },
     "metadata": {},
     "output_type": "display_data"
    },
    {
     "data": {
      "application/vnd.jupyter.widget-view+json": {
       "model_id": "633b357646294489bef020175230afbe",
       "version_major": 2,
       "version_minor": 0
      },
      "text/plain": [
       "  0%|          | 0/30 [00:00<?, ?it/s]"
      ]
     },
     "metadata": {},
     "output_type": "display_data"
    },
    {
     "data": {
      "application/vnd.jupyter.widget-view+json": {
       "model_id": "29374ab13b9540f5b608f5c87f889915",
       "version_major": 2,
       "version_minor": 0
      },
      "text/plain": [
       "  0%|          | 0/7 [00:00<?, ?it/s]"
      ]
     },
     "metadata": {},
     "output_type": "display_data"
    },
    {
     "data": {
      "application/vnd.jupyter.widget-view+json": {
       "model_id": "1cbf20c0bb5e4cba9d795438c0b6c85f",
       "version_major": 2,
       "version_minor": 0
      },
      "text/plain": [
       "  0%|          | 0/30 [00:00<?, ?it/s]"
      ]
     },
     "metadata": {},
     "output_type": "display_data"
    },
    {
     "data": {
      "application/vnd.jupyter.widget-view+json": {
       "model_id": "35ee7651542841239cbc930cb432dc69",
       "version_major": 2,
       "version_minor": 0
      },
      "text/plain": [
       "  0%|          | 0/7 [00:00<?, ?it/s]"
      ]
     },
     "metadata": {},
     "output_type": "display_data"
    },
    {
     "data": {
      "application/vnd.jupyter.widget-view+json": {
       "model_id": "8f6a17393ed745cb816fdc43929d92fa",
       "version_major": 2,
       "version_minor": 0
      },
      "text/plain": [
       "  0%|          | 0/30 [00:00<?, ?it/s]"
      ]
     },
     "metadata": {},
     "output_type": "display_data"
    },
    {
     "data": {
      "application/vnd.jupyter.widget-view+json": {
       "model_id": "8745a96b13b64240a8d084f885630d6a",
       "version_major": 2,
       "version_minor": 0
      },
      "text/plain": [
       "  0%|          | 0/7 [00:00<?, ?it/s]"
      ]
     },
     "metadata": {},
     "output_type": "display_data"
    },
    {
     "name": "stdout",
     "output_type": "stream",
     "text": [
      "\n",
      "\n",
      "\n",
      "the result is saved at:\n",
      "/user_data/intern/Ress/record/experiment_4/2024_0727_0110_EvoGA\\02_EvoGA.json\n"
     ]
    },
    {
     "data": {
      "application/vnd.jupyter.widget-view+json": {
       "model_id": "f5623a92dd084d0fa1113866acd216cb",
       "version_major": 2,
       "version_minor": 0
      },
      "text/plain": [
       "  0%|          | 0/30 [00:00<?, ?it/s]"
      ]
     },
     "metadata": {},
     "output_type": "display_data"
    },
    {
     "data": {
      "application/vnd.jupyter.widget-view+json": {
       "model_id": "835dab95699249d1bd66e32816de287f",
       "version_major": 2,
       "version_minor": 0
      },
      "text/plain": [
       "  0%|          | 0/7 [00:00<?, ?it/s]"
      ]
     },
     "metadata": {},
     "output_type": "display_data"
    },
    {
     "data": {
      "application/vnd.jupyter.widget-view+json": {
       "model_id": "5db9894157354fb0b45beb20b459b659",
       "version_major": 2,
       "version_minor": 0
      },
      "text/plain": [
       "  0%|          | 0/30 [00:00<?, ?it/s]"
      ]
     },
     "metadata": {},
     "output_type": "display_data"
    },
    {
     "data": {
      "application/vnd.jupyter.widget-view+json": {
       "model_id": "c6c860388e55402aab3ba5271217a1f8",
       "version_major": 2,
       "version_minor": 0
      },
      "text/plain": [
       "  0%|          | 0/7 [00:00<?, ?it/s]"
      ]
     },
     "metadata": {},
     "output_type": "display_data"
    },
    {
     "data": {
      "application/vnd.jupyter.widget-view+json": {
       "model_id": "156dc8c1272d4b6d8defb3327307c935",
       "version_major": 2,
       "version_minor": 0
      },
      "text/plain": [
       "  0%|          | 0/30 [00:00<?, ?it/s]"
      ]
     },
     "metadata": {},
     "output_type": "display_data"
    },
    {
     "data": {
      "application/vnd.jupyter.widget-view+json": {
       "model_id": "fea92bdefbee49ca99b17dc075bc7d22",
       "version_major": 2,
       "version_minor": 0
      },
      "text/plain": [
       "  0%|          | 0/7 [00:00<?, ?it/s]"
      ]
     },
     "metadata": {},
     "output_type": "display_data"
    },
    {
     "data": {
      "application/vnd.jupyter.widget-view+json": {
       "model_id": "542c48569ff645a3abf4c3d4b56e893b",
       "version_major": 2,
       "version_minor": 0
      },
      "text/plain": [
       "  0%|          | 0/30 [00:00<?, ?it/s]"
      ]
     },
     "metadata": {},
     "output_type": "display_data"
    },
    {
     "data": {
      "application/vnd.jupyter.widget-view+json": {
       "model_id": "54c5a877626a4fe4a46669223ee4bcd9",
       "version_major": 2,
       "version_minor": 0
      },
      "text/plain": [
       "  0%|          | 0/7 [00:00<?, ?it/s]"
      ]
     },
     "metadata": {},
     "output_type": "display_data"
    },
    {
     "name": "stdout",
     "output_type": "stream",
     "text": [
      "\n",
      "\n",
      "\n",
      "the result is saved at:\n",
      "/user_data/intern/Ress/record/experiment_4/2024_0727_0110_EvoGA\\03_EvoGA.json\n"
     ]
    },
    {
     "data": {
      "application/vnd.jupyter.widget-view+json": {
       "model_id": "cfc74f839af84e06891567ace4085f08",
       "version_major": 2,
       "version_minor": 0
      },
      "text/plain": [
       "  0%|          | 0/30 [00:00<?, ?it/s]"
      ]
     },
     "metadata": {},
     "output_type": "display_data"
    },
    {
     "data": {
      "application/vnd.jupyter.widget-view+json": {
       "model_id": "eb32d5ebde254576804ff3692b3b1cef",
       "version_major": 2,
       "version_minor": 0
      },
      "text/plain": [
       "  0%|          | 0/7 [00:00<?, ?it/s]"
      ]
     },
     "metadata": {},
     "output_type": "display_data"
    },
    {
     "data": {
      "application/vnd.jupyter.widget-view+json": {
       "model_id": "da0e296032764c3bb2270d9665449b0c",
       "version_major": 2,
       "version_minor": 0
      },
      "text/plain": [
       "  0%|          | 0/30 [00:00<?, ?it/s]"
      ]
     },
     "metadata": {},
     "output_type": "display_data"
    },
    {
     "data": {
      "application/vnd.jupyter.widget-view+json": {
       "model_id": "ccef684d8bac49f6967014fc6e9d496e",
       "version_major": 2,
       "version_minor": 0
      },
      "text/plain": [
       "  0%|          | 0/7 [00:00<?, ?it/s]"
      ]
     },
     "metadata": {},
     "output_type": "display_data"
    },
    {
     "data": {
      "application/vnd.jupyter.widget-view+json": {
       "model_id": "8af65095ab8242a0859587a1472f6969",
       "version_major": 2,
       "version_minor": 0
      },
      "text/plain": [
       "  0%|          | 0/30 [00:00<?, ?it/s]"
      ]
     },
     "metadata": {},
     "output_type": "display_data"
    },
    {
     "data": {
      "application/vnd.jupyter.widget-view+json": {
       "model_id": "65f537b82c3c4e7eb7455ee108525f7c",
       "version_major": 2,
       "version_minor": 0
      },
      "text/plain": [
       "  0%|          | 0/7 [00:00<?, ?it/s]"
      ]
     },
     "metadata": {},
     "output_type": "display_data"
    },
    {
     "data": {
      "application/vnd.jupyter.widget-view+json": {
       "model_id": "3a6c9165d8c544259ec10a082aeae48e",
       "version_major": 2,
       "version_minor": 0
      },
      "text/plain": [
       "  0%|          | 0/30 [00:00<?, ?it/s]"
      ]
     },
     "metadata": {},
     "output_type": "display_data"
    },
    {
     "data": {
      "application/vnd.jupyter.widget-view+json": {
       "model_id": "92a3f3935a7d40e19239be11c251ccd8",
       "version_major": 2,
       "version_minor": 0
      },
      "text/plain": [
       "  0%|          | 0/7 [00:00<?, ?it/s]"
      ]
     },
     "metadata": {},
     "output_type": "display_data"
    },
    {
     "name": "stdout",
     "output_type": "stream",
     "text": [
      "\n",
      "\n",
      "\n",
      "the result is saved at:\n",
      "/user_data/intern/Ress/record/experiment_4/2024_0727_0110_EvoGA\\04_EvoGA.json\n"
     ]
    },
    {
     "data": {
      "application/vnd.jupyter.widget-view+json": {
       "model_id": "c5bd3d736285428d9de5c3fdd4099c2f",
       "version_major": 2,
       "version_minor": 0
      },
      "text/plain": [
       "  0%|          | 0/30 [00:00<?, ?it/s]"
      ]
     },
     "metadata": {},
     "output_type": "display_data"
    },
    {
     "ename": "KeyboardInterrupt",
     "evalue": "",
     "output_type": "error",
     "traceback": [
      "\u001b[0;31m---------------------------------------------------------------------------\u001b[0m",
      "\u001b[0;31mKeyboardInterrupt\u001b[0m                         Traceback (most recent call last)",
      "Cell \u001b[0;32mIn[6], line 3\u001b[0m\n\u001b[1;32m      1\u001b[0m pre_file_path \u001b[38;5;241m=\u001b[39m \u001b[38;5;28;01mNone\u001b[39;00m\n\u001b[1;32m      2\u001b[0m \u001b[38;5;28;01mfor\u001b[39;00m i \u001b[38;5;129;01min\u001b[39;00m \u001b[38;5;28mrange\u001b[39m(\u001b[38;5;241m10\u001b[39m):\n\u001b[0;32m----> 3\u001b[0m     \u001b[43mtest_EvoGA\u001b[49m\u001b[43m(\u001b[49m\u001b[43m)\u001b[49m\n",
      "Cell \u001b[0;32mIn[5], line 33\u001b[0m, in \u001b[0;36mtest_EvoGA\u001b[0;34m()\u001b[0m\n\u001b[1;32m     27\u001b[0m sorted_pair \u001b[38;5;241m=\u001b[39m \u001b[38;5;28msorted\u001b[39m(ttl_pair_os_prompt_scores,  key\u001b[38;5;241m=\u001b[39m\u001b[38;5;28;01mlambda\u001b[39;00m x: x[\u001b[38;5;124m'\u001b[39m\u001b[38;5;124mtrain_score\u001b[39m\u001b[38;5;124m'\u001b[39m],  reverse\u001b[38;5;241m=\u001b[39m\u001b[38;5;28;01mTrue\u001b[39;00m)\n\u001b[1;32m     28\u001b[0m \u001b[38;5;28;01mwhile\u001b[39;00m(\n\u001b[1;32m     29\u001b[0m     sorted_pair[\u001b[38;5;241m0\u001b[39m][\u001b[38;5;124m'\u001b[39m\u001b[38;5;124mtrain_score\u001b[39m\u001b[38;5;124m'\u001b[39m]\u001b[38;5;241m<\u001b[39mSTOP_SCORE\n\u001b[1;32m     30\u001b[0m     \u001b[38;5;129;01mand\u001b[39;00m stop_run_num\u001b[38;5;241m>\u001b[39m\u001b[38;5;241m0\u001b[39m\n\u001b[1;32m     31\u001b[0m     \u001b[38;5;129;01mand\u001b[39;00m \u001b[38;5;129;01mnot\u001b[39;00m os\u001b[38;5;241m.\u001b[39mpath\u001b[38;5;241m.\u001b[39mexists(PATH_STOP_FILE)   \u001b[38;5;66;03m# 人工 early stop\u001b[39;00m\n\u001b[1;32m     32\u001b[0m ):\n\u001b[0;32m---> 33\u001b[0m     new_population \u001b[38;5;241m=\u001b[39m \u001b[43mEvoGA\u001b[49m\u001b[43m(\u001b[49m\u001b[43mttl_model\u001b[49m\u001b[43m,\u001b[49m\u001b[43m \u001b[49m\u001b[43mttl_dataset\u001b[49m\u001b[43m,\u001b[49m\u001b[43m \u001b[49m\u001b[43msorted_pair\u001b[49m\u001b[43m)\u001b[49m\n\u001b[1;32m     35\u001b[0m     record_population\u001b[38;5;241m.\u001b[39mappend(new_population)\n\u001b[1;32m     36\u001b[0m     sorted_pair \u001b[38;5;241m=\u001b[39m \u001b[38;5;28msorted\u001b[39m(new_population,  key\u001b[38;5;241m=\u001b[39m\u001b[38;5;28;01mlambda\u001b[39;00m x: x[\u001b[38;5;124m'\u001b[39m\u001b[38;5;124mtrain_score\u001b[39m\u001b[38;5;124m'\u001b[39m],  reverse\u001b[38;5;241m=\u001b[39m\u001b[38;5;28;01mTrue\u001b[39;00m)\n",
      "File \u001b[0;32m~/intern/Ress/utils/EvoPrompt.py:116\u001b[0m, in \u001b[0;36mEvoGA\u001b[0;34m(ttl_model, ttl_dataset, sorted_pairs)\u001b[0m\n\u001b[1;32m    113\u001b[0m new_prompt \u001b[38;5;241m=\u001b[39m get_new_prompt(llm, prompt_4_create_new_os_prompt)\n\u001b[1;32m    115\u001b[0m \u001b[38;5;66;03m# 紀錄\u001b[39;00m\n\u001b[0;32m--> 116\u001b[0m train_score \u001b[38;5;241m=\u001b[39m \u001b[43mget_score\u001b[49m\u001b[43m(\u001b[49m\u001b[43mttl_model\u001b[49m\u001b[43m,\u001b[49m\u001b[43m \u001b[49m\u001b[43mnew_prompt\u001b[49m\u001b[43m,\u001b[49m\u001b[43m \u001b[49m\u001b[43mtrain_split\u001b[49m\u001b[43m,\u001b[49m\u001b[43m \u001b[49m\u001b[38;5;241;43m3000\u001b[39;49m\u001b[43m,\u001b[49m\u001b[43m \u001b[49m\u001b[38;5;241;43m10\u001b[39;49m\u001b[43m)\u001b[49m\n\u001b[1;32m    117\u001b[0m dev_score \u001b[38;5;241m=\u001b[39m get_score(ttl_model, new_prompt, dev_split, \u001b[38;5;241m3000\u001b[39m, \u001b[38;5;241m10\u001b[39m)\n\u001b[1;32m    118\u001b[0m prompt_score \u001b[38;5;241m=\u001b[39m {\n\u001b[1;32m    119\u001b[0m     \u001b[38;5;124m'\u001b[39m\u001b[38;5;124mprompt\u001b[39m\u001b[38;5;124m'\u001b[39m: new_prompt,\n\u001b[1;32m    120\u001b[0m     \u001b[38;5;124m'\u001b[39m\u001b[38;5;124mtrain_score\u001b[39m\u001b[38;5;124m'\u001b[39m: train_score,\n\u001b[1;32m    121\u001b[0m     \u001b[38;5;124m'\u001b[39m\u001b[38;5;124mdev_score\u001b[39m\u001b[38;5;124m'\u001b[39m: dev_score\n\u001b[1;32m    122\u001b[0m }\n",
      "File \u001b[0;32m~/intern/Ress/utils/score.py:87\u001b[0m, in \u001b[0;36mget_score\u001b[0;34m(ttl_model, os_prompt, input_data, size_chunck, num_overlap)\u001b[0m\n\u001b[1;32m     86\u001b[0m \u001b[38;5;28;01mdef\u001b[39;00m \u001b[38;5;21mget_score\u001b[39m(ttl_model, os_prompt, input_data, size_chunck, num_overlap):\n\u001b[0;32m---> 87\u001b[0m     score,  _,  _ \u001b[38;5;241m=\u001b[39m \u001b[43mexperiment\u001b[49m\u001b[43m(\u001b[49m\u001b[43mttl_model\u001b[49m\u001b[43m,\u001b[49m\u001b[43m \u001b[49m\u001b[43mos_prompt\u001b[49m\u001b[43m,\u001b[49m\u001b[43m \u001b[49m\u001b[43minput_data\u001b[49m\u001b[43m,\u001b[49m\u001b[43m \u001b[49m\u001b[43msize_chunck\u001b[49m\u001b[43m,\u001b[49m\u001b[43m \u001b[49m\u001b[43mnum_overlap\u001b[49m\u001b[43m)\u001b[49m\n\u001b[1;32m     88\u001b[0m     \u001b[38;5;28;01mreturn\u001b[39;00m score\n",
      "File \u001b[0;32m~/intern/Ress/utils/score.py:71\u001b[0m, in \u001b[0;36mexperiment\u001b[0;34m(ttl_model, os_prompt, ttl_data, size_chunck, num_overlap)\u001b[0m\n\u001b[1;32m     67\u001b[0m num \u001b[38;5;241m=\u001b[39m \u001b[38;5;241m0\u001b[39m   \u001b[38;5;66;03m# 資料計數器\u001b[39;00m\n\u001b[1;32m     69\u001b[0m \u001b[38;5;28;01mfor\u001b[39;00m data \u001b[38;5;129;01min\u001b[39;00m tqdm(ttl_data):\n\u001b[0;32m---> 71\u001b[0m     result \u001b[38;5;241m=\u001b[39m \u001b[43manswer\u001b[49m\u001b[43m(\u001b[49m\u001b[43mttl_model\u001b[49m\u001b[43m,\u001b[49m\u001b[43m \u001b[49m\u001b[43mos_prompt\u001b[49m\u001b[43m,\u001b[49m\u001b[43m \u001b[49m\u001b[43mdata\u001b[49m\u001b[43m,\u001b[49m\u001b[43m \u001b[49m\u001b[43msize_chunck\u001b[49m\u001b[43m,\u001b[49m\u001b[43m \u001b[49m\u001b[43mnum_overlap\u001b[49m\u001b[43m)\u001b[49m\n\u001b[1;32m     72\u001b[0m     \u001b[38;5;28;01mwhile\u001b[39;00m(result\u001b[38;5;241m==\u001b[39m\u001b[38;5;124m\"\u001b[39m\u001b[38;5;124mredo\u001b[39m\u001b[38;5;124m\"\u001b[39m):\n\u001b[1;32m     73\u001b[0m         result \u001b[38;5;241m=\u001b[39m answer(ttl_model, os_prompt, data, size_chunck, num_overlap)\n",
      "File \u001b[0;32m~/intern/Ress/utils/score.py:45\u001b[0m, in \u001b[0;36manswer\u001b[0;34m(ttl_model, os_prompt, data, size_chunck, num_overlap)\u001b[0m\n\u001b[1;32m     42\u001b[0m \u001b[38;5;28;01mif\u001b[39;00m DEBUGGER\u001b[38;5;241m==\u001b[39m\u001b[38;5;124m\"\u001b[39m\u001b[38;5;124mTrue\u001b[39m\u001b[38;5;124m\"\u001b[39m: \u001b[38;5;28mprint\u001b[39m(\u001b[38;5;124m\"\u001b[39m\u001b[38;5;124menter answer\u001b[39m\u001b[38;5;124m\"\u001b[39m)\n\u001b[1;32m     44\u001b[0m \u001b[38;5;28;01mtry\u001b[39;00m:\n\u001b[0;32m---> 45\u001b[0m     result \u001b[38;5;241m=\u001b[39m \u001b[43mos_ap_sss_answer\u001b[49m\u001b[43m(\u001b[49m\u001b[43mttl_model\u001b[49m\u001b[43m,\u001b[49m\u001b[43m \u001b[49m\u001b[43mos_prompt\u001b[49m\u001b[43m,\u001b[49m\u001b[43m \u001b[49m\u001b[43mdata\u001b[49m\u001b[43m,\u001b[49m\u001b[43m \u001b[49m\u001b[43msize_chunck\u001b[49m\u001b[43m,\u001b[49m\u001b[43m \u001b[49m\u001b[43mnum_overlap\u001b[49m\u001b[43m)\u001b[49m\n\u001b[1;32m     46\u001b[0m \u001b[38;5;28;01mexcept\u001b[39;00m \u001b[38;5;167;01mException\u001b[39;00m \u001b[38;5;28;01mas\u001b[39;00m e:\n\u001b[1;32m     47\u001b[0m     \u001b[38;5;28mprint\u001b[39m(\u001b[38;5;124mf\u001b[39m\u001b[38;5;124m\"\u001b[39m\u001b[38;5;124mException in answer:\u001b[39m\u001b[38;5;130;01m\\n\u001b[39;00m\u001b[38;5;132;01m{\u001b[39;00me\u001b[38;5;132;01m}\u001b[39;00m\u001b[38;5;124m\"\u001b[39m)\n",
      "File \u001b[0;32m~/intern/Ress/utils/method.py:52\u001b[0m, in \u001b[0;36mos_ap_sss_answer\u001b[0;34m(ttl_model, os_prompt, data, size_chunck, num_overlap)\u001b[0m\n\u001b[1;32m     48\u001b[0m \u001b[38;5;28;01mfor\u001b[39;00m chunk \u001b[38;5;129;01min\u001b[39;00m ttl_chunck:\n\u001b[1;32m     49\u001b[0m \n\u001b[1;32m     50\u001b[0m     \u001b[38;5;66;03m# 請llm幫我們把重要資訊留下\u001b[39;00m\n\u001b[1;32m     51\u001b[0m     prompt_4_summarize_chunk \u001b[38;5;241m=\u001b[39m  get_prompt\u001b[38;5;241m.\u001b[39msum(\u001b[38;5;124m\"\u001b[39m\u001b[38;5;124mold\u001b[39m\u001b[38;5;124m\"\u001b[39m, chunk, os_prompt, question)\n\u001b[0;32m---> 52\u001b[0m     chunk_summary \u001b[38;5;241m=\u001b[39m \u001b[43mllm\u001b[49m\u001b[38;5;241;43m.\u001b[39;49m\u001b[43mreply\u001b[49m\u001b[43m(\u001b[49m\u001b[43mprompt_4_summarize_chunk\u001b[49m\u001b[43m)\u001b[49m\n\u001b[1;32m     53\u001b[0m     \u001b[38;5;66;03m# if chunk_summary==None:\u001b[39;00m\n\u001b[1;32m     54\u001b[0m     \u001b[38;5;66;03m#     continue\u001b[39;00m\n\u001b[1;32m     55\u001b[0m     new_content\u001b[38;5;241m+\u001b[39m\u001b[38;5;241m=\u001b[39m chunk_summary\u001b[38;5;241m+\u001b[39m\u001b[38;5;124m\"\u001b[39m\u001b[38;5;124m \u001b[39m\u001b[38;5;124m\"\u001b[39m\n",
      "File \u001b[0;32m~/intern/Ress/utils/call_model/llm.py:64\u001b[0m, in \u001b[0;36mLLM.reply\u001b[0;34m(self, *args)\u001b[0m\n\u001b[1;32m     63\u001b[0m \u001b[38;5;28;01mdef\u001b[39;00m \u001b[38;5;21mreply\u001b[39m(\u001b[38;5;28mself\u001b[39m, \u001b[38;5;241m*\u001b[39margs):\n\u001b[0;32m---> 64\u001b[0m     result \u001b[38;5;241m=\u001b[39m \u001b[38;5;28;43mself\u001b[39;49m\u001b[38;5;241;43m.\u001b[39;49m\u001b[43mmodel\u001b[49m\u001b[43m(\u001b[49m\u001b[38;5;241;43m*\u001b[39;49m\u001b[43margs\u001b[49m\u001b[43m)\u001b[49m\n\u001b[1;32m     65\u001b[0m     \u001b[38;5;28;01mreturn\u001b[39;00m result\n",
      "File \u001b[0;32m~/intern/Ress/utils/call_model/llm.py:45\u001b[0m, in \u001b[0;36mapi_breeze\u001b[0;34m(user_prompt, temperature, max_new_tokens)\u001b[0m\n\u001b[1;32m     40\u001b[0m headers \u001b[38;5;241m=\u001b[39m {\n\u001b[1;32m     41\u001b[0m     \u001b[38;5;124m'\u001b[39m\u001b[38;5;124mContent-Type\u001b[39m\u001b[38;5;124m'\u001b[39m: \u001b[38;5;124m'\u001b[39m\u001b[38;5;124mapplication/json\u001b[39m\u001b[38;5;124m'\u001b[39m,\n\u001b[1;32m     42\u001b[0m     \u001b[38;5;124m'\u001b[39m\u001b[38;5;124maccept\u001b[39m\u001b[38;5;124m'\u001b[39m: \u001b[38;5;124m'\u001b[39m\u001b[38;5;124mapplication/json\u001b[39m\u001b[38;5;124m'\u001b[39m\n\u001b[1;32m     43\u001b[0m }\n\u001b[1;32m     44\u001b[0m \u001b[38;5;28;01mtry\u001b[39;00m:\n\u001b[0;32m---> 45\u001b[0m     response \u001b[38;5;241m=\u001b[39m \u001b[43mrequests\u001b[49m\u001b[38;5;241;43m.\u001b[39;49m\u001b[43mrequest\u001b[49m\u001b[43m(\u001b[49m\u001b[38;5;124;43m\"\u001b[39;49m\u001b[38;5;124;43mPOST\u001b[39;49m\u001b[38;5;124;43m\"\u001b[39;49m\u001b[43m,\u001b[49m\u001b[43m \u001b[49m\u001b[43mURL\u001b[49m\u001b[43m,\u001b[49m\u001b[43m \u001b[49m\u001b[43mheaders\u001b[49m\u001b[38;5;241;43m=\u001b[39;49m\u001b[43mheaders\u001b[49m\u001b[43m,\u001b[49m\u001b[43m \u001b[49m\u001b[43mdata\u001b[49m\u001b[38;5;241;43m=\u001b[39;49m\u001b[43mpayload\u001b[49m\u001b[43m,\u001b[49m\u001b[43m \u001b[49m\u001b[43mtimeout\u001b[49m\u001b[38;5;241;43m=\u001b[39;49m\u001b[38;5;241;43m120\u001b[39;49m\u001b[43m)\u001b[49m\n\u001b[1;32m     46\u001b[0m     j_result\u001b[38;5;241m=\u001b[39mjson\u001b[38;5;241m.\u001b[39mloads(response\u001b[38;5;241m.\u001b[39mtext)\n\u001b[1;32m     47\u001b[0m     \u001b[38;5;28;01mif\u001b[39;00m \u001b[38;5;124m\"\u001b[39m\u001b[38;5;124mgenerated_text\u001b[39m\u001b[38;5;124m\"\u001b[39m \u001b[38;5;129;01min\u001b[39;00m j_result\u001b[38;5;241m.\u001b[39mkeys():\n",
      "File \u001b[0;32m/usr/local/lib/python3.10/site-packages/requests/api.py:59\u001b[0m, in \u001b[0;36mrequest\u001b[0;34m(method, url, **kwargs)\u001b[0m\n\u001b[1;32m     55\u001b[0m \u001b[38;5;66;03m# By using the 'with' statement we are sure the session is closed, thus we\u001b[39;00m\n\u001b[1;32m     56\u001b[0m \u001b[38;5;66;03m# avoid leaving sockets open which can trigger a ResourceWarning in some\u001b[39;00m\n\u001b[1;32m     57\u001b[0m \u001b[38;5;66;03m# cases, and look like a memory leak in others.\u001b[39;00m\n\u001b[1;32m     58\u001b[0m \u001b[38;5;28;01mwith\u001b[39;00m sessions\u001b[38;5;241m.\u001b[39mSession() \u001b[38;5;28;01mas\u001b[39;00m session:\n\u001b[0;32m---> 59\u001b[0m     \u001b[38;5;28;01mreturn\u001b[39;00m \u001b[43msession\u001b[49m\u001b[38;5;241;43m.\u001b[39;49m\u001b[43mrequest\u001b[49m\u001b[43m(\u001b[49m\u001b[43mmethod\u001b[49m\u001b[38;5;241;43m=\u001b[39;49m\u001b[43mmethod\u001b[49m\u001b[43m,\u001b[49m\u001b[43m \u001b[49m\u001b[43murl\u001b[49m\u001b[38;5;241;43m=\u001b[39;49m\u001b[43murl\u001b[49m\u001b[43m,\u001b[49m\u001b[43m \u001b[49m\u001b[38;5;241;43m*\u001b[39;49m\u001b[38;5;241;43m*\u001b[39;49m\u001b[43mkwargs\u001b[49m\u001b[43m)\u001b[49m\n",
      "File \u001b[0;32m/usr/local/lib/python3.10/site-packages/requests/sessions.py:587\u001b[0m, in \u001b[0;36mSession.request\u001b[0;34m(self, method, url, params, data, headers, cookies, files, auth, timeout, allow_redirects, proxies, hooks, stream, verify, cert, json)\u001b[0m\n\u001b[1;32m    582\u001b[0m send_kwargs \u001b[38;5;241m=\u001b[39m {\n\u001b[1;32m    583\u001b[0m     \u001b[38;5;124m\"\u001b[39m\u001b[38;5;124mtimeout\u001b[39m\u001b[38;5;124m\"\u001b[39m: timeout,\n\u001b[1;32m    584\u001b[0m     \u001b[38;5;124m\"\u001b[39m\u001b[38;5;124mallow_redirects\u001b[39m\u001b[38;5;124m\"\u001b[39m: allow_redirects,\n\u001b[1;32m    585\u001b[0m }\n\u001b[1;32m    586\u001b[0m send_kwargs\u001b[38;5;241m.\u001b[39mupdate(settings)\n\u001b[0;32m--> 587\u001b[0m resp \u001b[38;5;241m=\u001b[39m \u001b[38;5;28;43mself\u001b[39;49m\u001b[38;5;241;43m.\u001b[39;49m\u001b[43msend\u001b[49m\u001b[43m(\u001b[49m\u001b[43mprep\u001b[49m\u001b[43m,\u001b[49m\u001b[43m \u001b[49m\u001b[38;5;241;43m*\u001b[39;49m\u001b[38;5;241;43m*\u001b[39;49m\u001b[43msend_kwargs\u001b[49m\u001b[43m)\u001b[49m\n\u001b[1;32m    589\u001b[0m \u001b[38;5;28;01mreturn\u001b[39;00m resp\n",
      "File \u001b[0;32m/usr/local/lib/python3.10/site-packages/requests/sessions.py:701\u001b[0m, in \u001b[0;36mSession.send\u001b[0;34m(self, request, **kwargs)\u001b[0m\n\u001b[1;32m    698\u001b[0m start \u001b[38;5;241m=\u001b[39m preferred_clock()\n\u001b[1;32m    700\u001b[0m \u001b[38;5;66;03m# Send the request\u001b[39;00m\n\u001b[0;32m--> 701\u001b[0m r \u001b[38;5;241m=\u001b[39m \u001b[43madapter\u001b[49m\u001b[38;5;241;43m.\u001b[39;49m\u001b[43msend\u001b[49m\u001b[43m(\u001b[49m\u001b[43mrequest\u001b[49m\u001b[43m,\u001b[49m\u001b[43m \u001b[49m\u001b[38;5;241;43m*\u001b[39;49m\u001b[38;5;241;43m*\u001b[39;49m\u001b[43mkwargs\u001b[49m\u001b[43m)\u001b[49m\n\u001b[1;32m    703\u001b[0m \u001b[38;5;66;03m# Total elapsed time of the request (approximately)\u001b[39;00m\n\u001b[1;32m    704\u001b[0m elapsed \u001b[38;5;241m=\u001b[39m preferred_clock() \u001b[38;5;241m-\u001b[39m start\n",
      "File \u001b[0;32m/usr/local/lib/python3.10/site-packages/requests/adapters.py:489\u001b[0m, in \u001b[0;36mHTTPAdapter.send\u001b[0;34m(self, request, stream, timeout, verify, cert, proxies)\u001b[0m\n\u001b[1;32m    487\u001b[0m \u001b[38;5;28;01mtry\u001b[39;00m:\n\u001b[1;32m    488\u001b[0m     \u001b[38;5;28;01mif\u001b[39;00m \u001b[38;5;129;01mnot\u001b[39;00m chunked:\n\u001b[0;32m--> 489\u001b[0m         resp \u001b[38;5;241m=\u001b[39m \u001b[43mconn\u001b[49m\u001b[38;5;241;43m.\u001b[39;49m\u001b[43murlopen\u001b[49m\u001b[43m(\u001b[49m\n\u001b[1;32m    490\u001b[0m \u001b[43m            \u001b[49m\u001b[43mmethod\u001b[49m\u001b[38;5;241;43m=\u001b[39;49m\u001b[43mrequest\u001b[49m\u001b[38;5;241;43m.\u001b[39;49m\u001b[43mmethod\u001b[49m\u001b[43m,\u001b[49m\n\u001b[1;32m    491\u001b[0m \u001b[43m            \u001b[49m\u001b[43murl\u001b[49m\u001b[38;5;241;43m=\u001b[39;49m\u001b[43murl\u001b[49m\u001b[43m,\u001b[49m\n\u001b[1;32m    492\u001b[0m \u001b[43m            \u001b[49m\u001b[43mbody\u001b[49m\u001b[38;5;241;43m=\u001b[39;49m\u001b[43mrequest\u001b[49m\u001b[38;5;241;43m.\u001b[39;49m\u001b[43mbody\u001b[49m\u001b[43m,\u001b[49m\n\u001b[1;32m    493\u001b[0m \u001b[43m            \u001b[49m\u001b[43mheaders\u001b[49m\u001b[38;5;241;43m=\u001b[39;49m\u001b[43mrequest\u001b[49m\u001b[38;5;241;43m.\u001b[39;49m\u001b[43mheaders\u001b[49m\u001b[43m,\u001b[49m\n\u001b[1;32m    494\u001b[0m \u001b[43m            \u001b[49m\u001b[43mredirect\u001b[49m\u001b[38;5;241;43m=\u001b[39;49m\u001b[38;5;28;43;01mFalse\u001b[39;49;00m\u001b[43m,\u001b[49m\n\u001b[1;32m    495\u001b[0m \u001b[43m            \u001b[49m\u001b[43massert_same_host\u001b[49m\u001b[38;5;241;43m=\u001b[39;49m\u001b[38;5;28;43;01mFalse\u001b[39;49;00m\u001b[43m,\u001b[49m\n\u001b[1;32m    496\u001b[0m \u001b[43m            \u001b[49m\u001b[43mpreload_content\u001b[49m\u001b[38;5;241;43m=\u001b[39;49m\u001b[38;5;28;43;01mFalse\u001b[39;49;00m\u001b[43m,\u001b[49m\n\u001b[1;32m    497\u001b[0m \u001b[43m            \u001b[49m\u001b[43mdecode_content\u001b[49m\u001b[38;5;241;43m=\u001b[39;49m\u001b[38;5;28;43;01mFalse\u001b[39;49;00m\u001b[43m,\u001b[49m\n\u001b[1;32m    498\u001b[0m \u001b[43m            \u001b[49m\u001b[43mretries\u001b[49m\u001b[38;5;241;43m=\u001b[39;49m\u001b[38;5;28;43mself\u001b[39;49m\u001b[38;5;241;43m.\u001b[39;49m\u001b[43mmax_retries\u001b[49m\u001b[43m,\u001b[49m\n\u001b[1;32m    499\u001b[0m \u001b[43m            \u001b[49m\u001b[43mtimeout\u001b[49m\u001b[38;5;241;43m=\u001b[39;49m\u001b[43mtimeout\u001b[49m\u001b[43m,\u001b[49m\n\u001b[1;32m    500\u001b[0m \u001b[43m        \u001b[49m\u001b[43m)\u001b[49m\n\u001b[1;32m    502\u001b[0m     \u001b[38;5;66;03m# Send the request.\u001b[39;00m\n\u001b[1;32m    503\u001b[0m     \u001b[38;5;28;01melse\u001b[39;00m:\n\u001b[1;32m    504\u001b[0m         \u001b[38;5;28;01mif\u001b[39;00m \u001b[38;5;28mhasattr\u001b[39m(conn, \u001b[38;5;124m\"\u001b[39m\u001b[38;5;124mproxy_pool\u001b[39m\u001b[38;5;124m\"\u001b[39m):\n",
      "File \u001b[0;32m/usr/local/lib/python3.10/site-packages/urllib3/connectionpool.py:703\u001b[0m, in \u001b[0;36mHTTPConnectionPool.urlopen\u001b[0;34m(self, method, url, body, headers, retries, redirect, assert_same_host, timeout, pool_timeout, release_conn, chunked, body_pos, **response_kw)\u001b[0m\n\u001b[1;32m    700\u001b[0m     \u001b[38;5;28mself\u001b[39m\u001b[38;5;241m.\u001b[39m_prepare_proxy(conn)\n\u001b[1;32m    702\u001b[0m \u001b[38;5;66;03m# Make the request on the httplib connection object.\u001b[39;00m\n\u001b[0;32m--> 703\u001b[0m httplib_response \u001b[38;5;241m=\u001b[39m \u001b[38;5;28;43mself\u001b[39;49m\u001b[38;5;241;43m.\u001b[39;49m\u001b[43m_make_request\u001b[49m\u001b[43m(\u001b[49m\n\u001b[1;32m    704\u001b[0m \u001b[43m    \u001b[49m\u001b[43mconn\u001b[49m\u001b[43m,\u001b[49m\n\u001b[1;32m    705\u001b[0m \u001b[43m    \u001b[49m\u001b[43mmethod\u001b[49m\u001b[43m,\u001b[49m\n\u001b[1;32m    706\u001b[0m \u001b[43m    \u001b[49m\u001b[43murl\u001b[49m\u001b[43m,\u001b[49m\n\u001b[1;32m    707\u001b[0m \u001b[43m    \u001b[49m\u001b[43mtimeout\u001b[49m\u001b[38;5;241;43m=\u001b[39;49m\u001b[43mtimeout_obj\u001b[49m\u001b[43m,\u001b[49m\n\u001b[1;32m    708\u001b[0m \u001b[43m    \u001b[49m\u001b[43mbody\u001b[49m\u001b[38;5;241;43m=\u001b[39;49m\u001b[43mbody\u001b[49m\u001b[43m,\u001b[49m\n\u001b[1;32m    709\u001b[0m \u001b[43m    \u001b[49m\u001b[43mheaders\u001b[49m\u001b[38;5;241;43m=\u001b[39;49m\u001b[43mheaders\u001b[49m\u001b[43m,\u001b[49m\n\u001b[1;32m    710\u001b[0m \u001b[43m    \u001b[49m\u001b[43mchunked\u001b[49m\u001b[38;5;241;43m=\u001b[39;49m\u001b[43mchunked\u001b[49m\u001b[43m,\u001b[49m\n\u001b[1;32m    711\u001b[0m \u001b[43m\u001b[49m\u001b[43m)\u001b[49m\n\u001b[1;32m    713\u001b[0m \u001b[38;5;66;03m# If we're going to release the connection in ``finally:``, then\u001b[39;00m\n\u001b[1;32m    714\u001b[0m \u001b[38;5;66;03m# the response doesn't need to know about the connection. Otherwise\u001b[39;00m\n\u001b[1;32m    715\u001b[0m \u001b[38;5;66;03m# it will also try to release it and we'll have a double-release\u001b[39;00m\n\u001b[1;32m    716\u001b[0m \u001b[38;5;66;03m# mess.\u001b[39;00m\n\u001b[1;32m    717\u001b[0m response_conn \u001b[38;5;241m=\u001b[39m conn \u001b[38;5;28;01mif\u001b[39;00m \u001b[38;5;129;01mnot\u001b[39;00m release_conn \u001b[38;5;28;01melse\u001b[39;00m \u001b[38;5;28;01mNone\u001b[39;00m\n",
      "File \u001b[0;32m/usr/local/lib/python3.10/site-packages/urllib3/connectionpool.py:449\u001b[0m, in \u001b[0;36mHTTPConnectionPool._make_request\u001b[0;34m(self, conn, method, url, timeout, chunked, **httplib_request_kw)\u001b[0m\n\u001b[1;32m    444\u001b[0m             httplib_response \u001b[38;5;241m=\u001b[39m conn\u001b[38;5;241m.\u001b[39mgetresponse()\n\u001b[1;32m    445\u001b[0m         \u001b[38;5;28;01mexcept\u001b[39;00m \u001b[38;5;167;01mBaseException\u001b[39;00m \u001b[38;5;28;01mas\u001b[39;00m e:\n\u001b[1;32m    446\u001b[0m             \u001b[38;5;66;03m# Remove the TypeError from the exception chain in\u001b[39;00m\n\u001b[1;32m    447\u001b[0m             \u001b[38;5;66;03m# Python 3 (including for exceptions like SystemExit).\u001b[39;00m\n\u001b[1;32m    448\u001b[0m             \u001b[38;5;66;03m# Otherwise it looks like a bug in the code.\u001b[39;00m\n\u001b[0;32m--> 449\u001b[0m             \u001b[43msix\u001b[49m\u001b[38;5;241;43m.\u001b[39;49m\u001b[43mraise_from\u001b[49m\u001b[43m(\u001b[49m\u001b[43me\u001b[49m\u001b[43m,\u001b[49m\u001b[43m \u001b[49m\u001b[38;5;28;43;01mNone\u001b[39;49;00m\u001b[43m)\u001b[49m\n\u001b[1;32m    450\u001b[0m \u001b[38;5;28;01mexcept\u001b[39;00m (SocketTimeout, BaseSSLError, SocketError) \u001b[38;5;28;01mas\u001b[39;00m e:\n\u001b[1;32m    451\u001b[0m     \u001b[38;5;28mself\u001b[39m\u001b[38;5;241m.\u001b[39m_raise_timeout(err\u001b[38;5;241m=\u001b[39me, url\u001b[38;5;241m=\u001b[39murl, timeout_value\u001b[38;5;241m=\u001b[39mread_timeout)\n",
      "File \u001b[0;32m<string>:3\u001b[0m, in \u001b[0;36mraise_from\u001b[0;34m(value, from_value)\u001b[0m\n",
      "File \u001b[0;32m/usr/local/lib/python3.10/site-packages/urllib3/connectionpool.py:444\u001b[0m, in \u001b[0;36mHTTPConnectionPool._make_request\u001b[0;34m(self, conn, method, url, timeout, chunked, **httplib_request_kw)\u001b[0m\n\u001b[1;32m    441\u001b[0m \u001b[38;5;28;01mexcept\u001b[39;00m \u001b[38;5;167;01mTypeError\u001b[39;00m:\n\u001b[1;32m    442\u001b[0m     \u001b[38;5;66;03m# Python 3\u001b[39;00m\n\u001b[1;32m    443\u001b[0m     \u001b[38;5;28;01mtry\u001b[39;00m:\n\u001b[0;32m--> 444\u001b[0m         httplib_response \u001b[38;5;241m=\u001b[39m \u001b[43mconn\u001b[49m\u001b[38;5;241;43m.\u001b[39;49m\u001b[43mgetresponse\u001b[49m\u001b[43m(\u001b[49m\u001b[43m)\u001b[49m\n\u001b[1;32m    445\u001b[0m     \u001b[38;5;28;01mexcept\u001b[39;00m \u001b[38;5;167;01mBaseException\u001b[39;00m \u001b[38;5;28;01mas\u001b[39;00m e:\n\u001b[1;32m    446\u001b[0m         \u001b[38;5;66;03m# Remove the TypeError from the exception chain in\u001b[39;00m\n\u001b[1;32m    447\u001b[0m         \u001b[38;5;66;03m# Python 3 (including for exceptions like SystemExit).\u001b[39;00m\n\u001b[1;32m    448\u001b[0m         \u001b[38;5;66;03m# Otherwise it looks like a bug in the code.\u001b[39;00m\n\u001b[1;32m    449\u001b[0m         six\u001b[38;5;241m.\u001b[39mraise_from(e, \u001b[38;5;28;01mNone\u001b[39;00m)\n",
      "File \u001b[0;32m/usr/local/lib/python3.10/http/client.py:1375\u001b[0m, in \u001b[0;36mHTTPConnection.getresponse\u001b[0;34m(self)\u001b[0m\n\u001b[1;32m   1373\u001b[0m \u001b[38;5;28;01mtry\u001b[39;00m:\n\u001b[1;32m   1374\u001b[0m     \u001b[38;5;28;01mtry\u001b[39;00m:\n\u001b[0;32m-> 1375\u001b[0m         \u001b[43mresponse\u001b[49m\u001b[38;5;241;43m.\u001b[39;49m\u001b[43mbegin\u001b[49m\u001b[43m(\u001b[49m\u001b[43m)\u001b[49m\n\u001b[1;32m   1376\u001b[0m     \u001b[38;5;28;01mexcept\u001b[39;00m \u001b[38;5;167;01mConnectionError\u001b[39;00m:\n\u001b[1;32m   1377\u001b[0m         \u001b[38;5;28mself\u001b[39m\u001b[38;5;241m.\u001b[39mclose()\n",
      "File \u001b[0;32m/usr/local/lib/python3.10/http/client.py:318\u001b[0m, in \u001b[0;36mHTTPResponse.begin\u001b[0;34m(self)\u001b[0m\n\u001b[1;32m    316\u001b[0m \u001b[38;5;66;03m# read until we get a non-100 response\u001b[39;00m\n\u001b[1;32m    317\u001b[0m \u001b[38;5;28;01mwhile\u001b[39;00m \u001b[38;5;28;01mTrue\u001b[39;00m:\n\u001b[0;32m--> 318\u001b[0m     version, status, reason \u001b[38;5;241m=\u001b[39m \u001b[38;5;28;43mself\u001b[39;49m\u001b[38;5;241;43m.\u001b[39;49m\u001b[43m_read_status\u001b[49m\u001b[43m(\u001b[49m\u001b[43m)\u001b[49m\n\u001b[1;32m    319\u001b[0m     \u001b[38;5;28;01mif\u001b[39;00m status \u001b[38;5;241m!=\u001b[39m CONTINUE:\n\u001b[1;32m    320\u001b[0m         \u001b[38;5;28;01mbreak\u001b[39;00m\n",
      "File \u001b[0;32m/usr/local/lib/python3.10/http/client.py:279\u001b[0m, in \u001b[0;36mHTTPResponse._read_status\u001b[0;34m(self)\u001b[0m\n\u001b[1;32m    278\u001b[0m \u001b[38;5;28;01mdef\u001b[39;00m \u001b[38;5;21m_read_status\u001b[39m(\u001b[38;5;28mself\u001b[39m):\n\u001b[0;32m--> 279\u001b[0m     line \u001b[38;5;241m=\u001b[39m \u001b[38;5;28mstr\u001b[39m(\u001b[38;5;28;43mself\u001b[39;49m\u001b[38;5;241;43m.\u001b[39;49m\u001b[43mfp\u001b[49m\u001b[38;5;241;43m.\u001b[39;49m\u001b[43mreadline\u001b[49m\u001b[43m(\u001b[49m\u001b[43m_MAXLINE\u001b[49m\u001b[43m \u001b[49m\u001b[38;5;241;43m+\u001b[39;49m\u001b[43m \u001b[49m\u001b[38;5;241;43m1\u001b[39;49m\u001b[43m)\u001b[49m, \u001b[38;5;124m\"\u001b[39m\u001b[38;5;124miso-8859-1\u001b[39m\u001b[38;5;124m\"\u001b[39m)\n\u001b[1;32m    280\u001b[0m     \u001b[38;5;28;01mif\u001b[39;00m \u001b[38;5;28mlen\u001b[39m(line) \u001b[38;5;241m>\u001b[39m _MAXLINE:\n\u001b[1;32m    281\u001b[0m         \u001b[38;5;28;01mraise\u001b[39;00m LineTooLong(\u001b[38;5;124m\"\u001b[39m\u001b[38;5;124mstatus line\u001b[39m\u001b[38;5;124m\"\u001b[39m)\n",
      "File \u001b[0;32m/usr/local/lib/python3.10/socket.py:705\u001b[0m, in \u001b[0;36mSocketIO.readinto\u001b[0;34m(self, b)\u001b[0m\n\u001b[1;32m    703\u001b[0m \u001b[38;5;28;01mwhile\u001b[39;00m \u001b[38;5;28;01mTrue\u001b[39;00m:\n\u001b[1;32m    704\u001b[0m     \u001b[38;5;28;01mtry\u001b[39;00m:\n\u001b[0;32m--> 705\u001b[0m         \u001b[38;5;28;01mreturn\u001b[39;00m \u001b[38;5;28;43mself\u001b[39;49m\u001b[38;5;241;43m.\u001b[39;49m\u001b[43m_sock\u001b[49m\u001b[38;5;241;43m.\u001b[39;49m\u001b[43mrecv_into\u001b[49m\u001b[43m(\u001b[49m\u001b[43mb\u001b[49m\u001b[43m)\u001b[49m\n\u001b[1;32m    706\u001b[0m     \u001b[38;5;28;01mexcept\u001b[39;00m timeout:\n\u001b[1;32m    707\u001b[0m         \u001b[38;5;28mself\u001b[39m\u001b[38;5;241m.\u001b[39m_timeout_occurred \u001b[38;5;241m=\u001b[39m \u001b[38;5;28;01mTrue\u001b[39;00m\n",
      "\u001b[0;31mKeyboardInterrupt\u001b[0m: "
     ]
    }
   ],
   "source": [
    "pre_file_path = None\n",
    "for i in range(10):\n",
    "    test_EvoGA()"
   ]
  },
  {
   "cell_type": "code",
   "execution_count": null,
   "metadata": {},
   "outputs": [],
   "source": []
  }
 ],
 "metadata": {
  "kernelspec": {
   "display_name": "Python 3",
   "language": "python",
   "name": "python3"
  },
  "language_info": {
   "codemirror_mode": {
    "name": "ipython",
    "version": 3
   },
   "file_extension": ".py",
   "mimetype": "text/x-python",
   "name": "python",
   "nbconvert_exporter": "python",
   "pygments_lexer": "ipython3",
   "version": "3.10.12"
  }
 },
 "nbformat": 4,
 "nbformat_minor": 2
}
