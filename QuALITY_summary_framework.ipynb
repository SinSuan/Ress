{
 "cells": [
  {
   "cell_type": "markdown",
   "metadata": {},
   "source": [
    "# 1. Load Data"
   ]
  },
  {
   "cell_type": "code",
   "execution_count": 1,
   "metadata": {},
   "outputs": [
    {
     "name": "stdout",
     "output_type": "stream",
     "text": [
      "dict_keys(['question', 'content', 'answer', 'truth_answer'])\n",
      "資料數:2523\n"
     ]
    },
    {
     "data": {
      "text/plain": [
       "{'question': \"Why is Si retirement so significant to the Space Exploration Team? \\noption1: There aren’t enough working people in the world. They won’t be able to find a replacement.\\noption2: As one of two remaining spacemen, it would likely mean the defunding and shut down of the Space Exploration Team.\\noption3: Training new spacemen is costly and time consuming. They won’t have anyone else ready after him.\\noption4: His retirement may inspire others to stop working as well, which would be hugely detrimental as most people don't feel the drive to work as is.  \\n\",\n",
       " 'content': 'SPACEMAN ON A SPREE\\nBY MACK REYNOLDS\\n\\n\\n Illustrated by Nodel\\n\\n\\n [Transcriber\\'s Note: This etext was produced from\\n\\n Worlds of Tomorrow June 1963\\n\\n Extensive research did not uncover any evidence that\\n\\n the U.S. copyright on this publication was renewed.]\\nWhat\\'s more important—Man\\'s conquest\\n\\n of space, or one spaceman\\'s life?\\nI\\n\\n\\n They gave him a gold watch. It was meant to be symbolical, of course.\\n In the old tradition. It was in the way of an antique, being one of the\\n timepieces made generations past in the Alpine area of Eur-Asia. Its\\n quaintness lay in the fact that it was wound, not electronically by\\n power-radio, but by the actual physical movements of the bearer, a free\\n swinging rotor keeping the mainspring at a constant tension.\\n\\n\\n They also had a banquet for him, complete with speeches by such\\n bigwigs of the Department of Space Exploration as Academician Lofting\\n Gubelin and Doctor Hans Girard-Perregaux. There was also somebody\\n from the government who spoke, but he was one of those who were\\n pseudo-elected and didn\\'t know much about the field of space travel\\n nor the significance of Seymour Pond\\'s retirement. Si didn\\'t bother to\\n remember his name. He only wondered vaguely why the cloddy had turned\\n up at all.\\n\\n\\n In common with recipients of gold watches of a score of generations\\n before him, Si Pond would have preferred something a bit more tangible\\n in the way of reward, such as a few shares of Variable Basic to add to\\n his portfolio. But that, he supposed, was asking too much.\\n\\n\\n The fact of the matter was, Si knew that his retiring had set them\\n back. They hadn\\'t figured he had enough shares of Basic to see him\\n through decently. Well, possibly he didn\\'t, given their standards.\\n But Space Pilot Seymour Pond didn\\'t have their standards. He\\'d had\\n plenty of time to think it over. It was better to retire on a limited\\n crediting, on a confoundedly limited crediting, than to take the two or\\n three more trips in hopes of attaining a higher standard.\\n\\n\\n He\\'d had plenty of time to figure it out, there alone in space on the\\n Moon run, there on the Venus or Mars runs. There on the long, long\\n haul to the Jupiter satellites, fearfully checking the symptoms of\\n space cafard, the madness compounded of claustrophobia, monotony,\\n boredom and free fall. Plenty of time. Time to decide that a one\\n room mini-auto-apartment, complete with an autochair and built-in\\n autobar, and with one wall a teevee screen, was all he needed to\\n find contentment for a mighty long time. Possibly somebody like\\n Doc Girard-Perregaux might be horrified at the idea of living in a\\n mini-auto-apartment ... not realizing that to a pilot it was roomy\\n beyond belief compared to the conning tower of a space craft.\\n\\n\\n No. Even as Si listened to their speeches, accepted the watch and\\n made a halting little talk of his own, he was grinning inwardly. There\\n wasn\\'t anything they could do. He had them now. He had enough Basic to\\n keep him comfortably, by his standards, for the rest of his life. He\\n was never going to subject himself to space cafard again. Just thinking\\n about it, now, set the tic to going at the side of his mouth.\\n\\n\\n They could count down and blast off, for all he gave a damn.\\nThe gold watch idea had been that of Lofting Gubelin, which was\\n typical, he being in the way of a living anachronism himself. In fact,\\n Academician Gubelin was possibly the only living man on North America\\n who still wore spectacles. His explanation was that a phobia against\\n having his eyes touched prohibited either surgery to remould his\\n eyeballs and cure his myopia, or contact lenses.\\n\\n\\n That was only an alibi so far as his closest associate, Hans\\n Girard-Perregaux, was concerned. Doctor Girard-Perregaux was convinced\\n Gubelin would have even worn facial hair, had he but a touch more\\n courage. Gubelin longed for yesteryear, a seldom found phenomenon under\\n the Ultrawelfare State.\\n\\n\\n Slumped in an autochair in the escape room of his Floridian home,\\n Lofting Gubelin scowled at his friend. He said, acidly, \"Any more\\n bright schemes, Hans? I presume you now acknowledge that appealing to\\n the cloddy\\'s patriotism, sentiment and desire for public acclaim have\\n miserably failed.\"\\n\\n\\n Girard-Perregaux said easily, \"I wouldn\\'t call Seymour Pond a cloddy.\\n In his position, I am afraid I would do the same thing he has.\"\\n\\n\\n \"That\\'s nonsense, Hans. Zoroaster! Either you or I would gladly take\\n Pond\\'s place were we capable of performing the duties for which he has\\n been trained. There aren\\'t two men on North America—there aren\\'t two\\n men in the world!—who better realize the urgency of continuing our\\n delving into space.\" Gubelin snapped his fingers. \"Like that, either of\\n us would give our lives to prevent man from completely abandoning the\\n road to his destiny.\"\\n\\n\\n His friend said drily, \"Either of us could have volunteered for pilot\\n training forty years ago, Lofting. We didn\\'t.\"\\n\\n\\n \"At that time there wasn\\'t such a blistering percentage of funkers\\n throughout this whole blistering Ultrawelfare State! Who could\\n foresee that eventually our whole program would face ending due to\\n lack of courageous young men willing to take chances, willing to face\\n adventure, willing to react to the stimulus of danger in the manner our\\n ancestors did?\"\\n\\n\\n Girard-Perregaux grunted his sarcasm and dialed a glass of iced tea\\n and tequila. He said, \"Nevertheless, both you and I conform with the\\n present generation in finding it far more pleasant to follow one\\'s\\n way of life in the comfort of one\\'s home than to be confronted with\\n the unpleasantness of facing nature\\'s dangers in more adventurous\\n pastimes.\"\\n\\n\\n Gubelin, half angry at his friend\\'s argument, leaned forward to snap\\n rebuttal, but the other was wagging a finger at him negatively. \"Face\\n reality, Lofting. Don\\'t require or expect from Seymour Pond more\\n than is to be found there. He is an average young man. Born in our\\n Ultrawelfare State, he was guaranteed his fundamental womb-to-tomb\\n security by being issued that minimum number of Basic shares in our\\n society that allows him an income sufficient to secure the food,\\n clothing, shelter, medical care and education to sustain a low level\\n of subsistence. Percentages were against his ever being drafted\\n into industry. Automation being what it is, only a fraction of the\\n population is ever called up. But Pond was. His industrial aptitude\\n dossier revealed him a possible candidate for space pilot, and it was\\n you yourself who talked him into taking the training ... pointing out\\n the more pragmatic advantages such as complete retirement after but six\\n trips, added shares of Basic so that he could enjoy a more comfortable\\n life than most and the fame that would accrue to him as one of the\\n very few who still participate in travel to the planets. Very well.\\n He was sold. Took his training, which, of course, required long years\\n of drudgery to him. Then, performing his duties quite competently, he\\n made his six trips. He is now legally eligible for retirement. He was\\n drafted into the working force reserves, served his time, and is now\\n free from toil for the balance of his life. Why should he listen to\\n our pleas for a few more trips?\"\\n\\n\\n \"But has he no spirit of adventure? Has he no feeling for....\"\\nGirard-Perregaux was wagging his finger again, a gesture that,\\n seemingly mild though it was, had an astonishing ability to break off\\n the conversation of one who debated with the easy-seeming, quiet spoken\\n man.\\n\\n\\n He said, \"No, he hasn\\'t. Few there are who have, nowadays. Man has\\n always paid lip service to adventure, hardships and excitement, but in\\n actuality his instincts, like those of any other animal, lead him to\\n the least dangerous path. Today we\\'ve reached the point where no one\\n need face danger—ever. There are few who don\\'t take advantage of the\\n fact. Including you and me, Lofting, and including Seymour Pond.\"\\n\\n\\n His friend and colleague changed subjects abruptly, impatiently. \"Let\\'s\\n leave this blistering jabber about Pond\\'s motivation and get to the\\n point. The man is the only trained space pilot in the world. It will\\n take months, possibly more than a year, to bring another novitiate\\n pilot to the point where he can safely be trusted to take our next\\n explorer craft out. Appropriations for our expeditions have been\\n increasingly hard to come by—even though in\\nour\\nminds, Hans, we are\\n near important breakthroughs, breakthroughs which might possibly so\\n spark the race that a new dream to push man out to the stars will take\\n hold of us. If it is admitted that our organization has degenerated\\n to the point that we haven\\'t a single pilot, then it might well be\\n that the Economic Planning Board, and especially those cloddies\\n on Appropriations, will terminate the whole Department of Space\\n Exploration.\"\\n\\n\\n \"So....\" Girard-Perregaux said gently.\\n\\n\\n \"So some way we\\'ve got to bring Seymour Pond out of his retirement!\"\\n\\n\\n \"Now we are getting to matters.\" Girard-Perregaux nodded his agreement.\\n Looking over the rim of his glass, his eyes narrowed in thought as his\\n face took on an expression of Machiavellianism. \"And do not the ends\\n justify the means?\"\\n\\n\\n Gubelin blinked at him.\\n\\n\\n The other chuckled. \"The trouble with you, Lofting, is that you have\\n failed to bring history to bear on our problem. Haven\\'t you ever read\\n of the sailor and his way of life?\"\\n\\n\\n \"Sailor? What in the name of the living Zoroaster has the sailor got to\\n do with it?\"\\n\\n\\n \"You must realize, my dear Lofting, that our Si Pond is nothing more\\n than a latter-day sailor, with many of the problems and view-points,\\n tendencies and weaknesses of the voyager of the past. Have you never\\n heard of the seaman who dreamed of returning to the village of his\\n birth and buying a chicken farm or some such? All the long months at\\n sea—and sometimes the tramp freighters or whaling craft would be out\\n for years at a stretch before returning to home port—he would talk\\n of his retirement and his dream. And then? Then in port, it would be\\n one short drink with the boys, before taking his accumulated pay and\\n heading home. The one short drink would lead to another. And morning\\n would find him, drunk, rolled, tattooed and possibly sleeping it off in\\n jail. So back to sea he\\'d have to go.\"\\n\\n\\n Gubelin grunted bitterly. \"Unfortunately, our present-day sailor\\n can\\'t be separated from his money quite so easily. If he could, I\\'d\\n personally be willing to lure him down some dark alley, knock him over\\n the head and roll him myself. Just to bring him back to his job again.\"\\n\\n\\n He brought his wallet from his pocket, and flicked it open to his\\n universal credit card. \"The ultimate means of exchange,\" he grunted.\\n \"Nobody can spend your money, but you, yourself. Nobody can steal it,\\n nobody can, ah,\\ncon\\nyou out of it. Just how do you expect to sever\\n our present-day sailor and his accumulated nest egg?\"\\n\\n\\n The other chuckled again. \"It is simply a matter of finding more modern\\n methods, my dear chap.\"\\nII\\n\\n\\n Si Pond was a great believer in the institution of the spree. Any\\n excuse would do. Back when he had finished basic education at the age\\n of twenty-five and was registered for the labor draft, there hadn\\'t\\n been a chance in a hundred that he\\'d have the bad luck to have his\\n name pulled. But when it had been, Si had celebrated.\\n\\n\\n When he had been informed that his physical and mental qualifications\\n were such that he was eligible for the most dangerous occupation in\\n the Ultrawelfare State and had been pressured into taking training\\n for space pilot, he had celebrated once again. Twenty-two others had\\n taken the training with him, and only he and Rod Cameroon had passed\\n the finals. On this occasion, he and Rod had celebrated together. It\\n had been quite a party. Two weeks later, Rod had burned on a faulty\\n take-off on what should have been a routine Moon run.\\n\\n\\n Each time Si returned from one of his own runs, he celebrated. A spree,\\n a bust, a bat, a wing-ding, a night on the town. A commemoration of\\n dangers met and passed.\\n\\n\\n Now it was all over. At the age of thirty he was retired. Law prevented\\n him from ever being called up for contributing to the country\\'s labor\\n needs again. And he most certainly wasn\\'t going to volunteer.\\n\\n\\n He had taken his schooling much as had his contemporaries. There wasn\\'t\\n any particular reason for trying to excell. You didn\\'t want to get the\\n reputation for being a wise guy, or a cloddy either. Just one of the\\n fellas. You could do the same in life whether you really studied or\\n not. You had your Inalienable Basic stock, didn\\'t you? What else did\\n you need?\\n\\n\\n It had come as a surprise when he\\'d been drafted for the labor force.\\n\\n\\n In the early days of the Ultrawelfare State, they had made a mistake\\n in adapting to the automation of the second industrial revolution.\\n They had attempted to give everyone work by reducing the number of\\n working hours in the day, and the number of working days in the week.\\n It finally became ludicrous when employees of industry were working\\n but two days a week, two hours a day. In fact, it got chaotic. It\\n became obvious that it was more practical to have one worker putting in\\n thirty-five hours a week and getting to know his job well, than it was\\n to have a score of employees, each working a few hours a week and none\\n of them ever really becoming efficient.\\n\\n\\n The only fair thing was to let the technologically unemployed remain\\n unemployed, with their Inalienable Basic stock as the equivalent of\\n unemployment insurance, while the few workers still needed put in a\\n reasonable number of hours a day, a reasonable number of weeks a year\\n and a reasonable number of years in a life time. When new employees\\n were needed, a draft lottery was held.\\n\\n\\n All persons registered in the labor force participated. If you\\n were drawn, you must need serve. The dissatisfaction those chosen\\n might feel at their poor luck was offset by the fact that they were\\n granted additional Variable Basic shares, according to the tasks\\n they fulfilled. Such shares could be added to their portfolios, the\\n dividends becoming part of their current credit balance, or could be\\n sold for a lump sum on the market.\\n\\n\\n Yes, but now it was all over. He had his own little place, his own\\n vacuum-tube vehicle and twice the amount of shares of Basic that most\\n of his fellow citizens could boast. Si Pond had it made. A spree was\\n obviously called for.\\n\\n\\n He was going to do this one right. This was the big one. He\\'d\\n accumulated a lot of dollars these past few months and he intended\\n to blow them, or at least a sizeable number of them. His credit card\\n was burning a hole in his pocket, as the expression went. However, he\\n wasn\\'t going to rush into things. This had to be done correctly.\\n\\n\\n Too many a spree was played by ear. You started off with a few drinks,\\n fell in with some second rate mopsy and usually wound up in a third\\n rate groggery where you spent just as much as though you\\'d been in the\\n classiest joint in town. Came morning and you had nothing to show for\\n all the dollars that had been spent but a rum-head.\\n\\n\\n Thus, Si was vaguely aware, it had always been down through the\\n centuries since the Phoenecian sailor, back from his year-long trip to\\n the tin mines of Cornwall, blew his hard earned share of the voyage\\'s\\n profits in a matter of days in the wine shops of Tyre. Nobody gets\\n quite so little for his money as that loneliest of all workers, he who\\n must leave his home for distant lands, returning only periodically and\\n usually with the salary of lengthy, weary periods of time to be spent\\n hurriedly in an attempt to achieve the pleasure and happiness so long\\n denied him.\\n\\n\\n Si was going to do it differently this time.\\n\\n\\n Nothing but the best. Wine, women, song, food, entertainment. The\\n works. But nothing but the best.\\nTo start off, he dressed with great care in the honorable\\n retirement-rank suit he had so recently purchased. His space pin he\\n attached carefully to the lapel. That was a good beginning, he decided.\\n A bit of prestige didn\\'t hurt you when you went out on the town. In\\n the Ultrawelfare State hardly one person in a hundred actually ever\\n performed anything of value to society. The efforts of most weren\\'t\\n needed. Those few who did contribute were awarded honors, decorations,\\n titles.\\n\\n\\n Attired satisfactorily, Si double-checked to see that his credit\\n card was in his pocket. As an after-thought, he went over to the\\n auto-apartment\\'s teevee-phone, flicked it on, held the card to the\\n screen and said, \"Balance check, please.\"\\n\\n\\n In a moment, the teevee-phone\\'s robot voice reported, \"Ten shares of\\n Inalienable Basic. Twelve shares of Variable Basic, current value, four\\n thousand, two hundred and thirty-three dollars and sixty-two cents\\n apiece. Current cash credit, one thousand and eighty-four dollars.\" The\\n screen went dead.\\n\\n\\n One thousand and eighty-four dollars. That was plenty. He could safely\\n spend as much as half of it, if the spree got as lively as he hoped it\\n would. His monthly dividends were due in another week or so, and he\\n wouldn\\'t have to worry about current expenses. Yes, indeedy, Si Pond\\n was as solvent as he had ever been in his thirty years.\\n\\n\\n He opened the small, closet-like door which housed his vacuum-tube\\n two-seater, and wedged himself into the small vehicle. He brought down\\n the canopy, dropped the pressurizer and considered the dial. Only one\\n place really made sense. The big city.\\n\\n\\n He considered for a moment, decided against the boroughs of Baltimore\\n and Boston, and selected Manhattan instead. He had the resources. He\\n might as well do it up brown.\\n\\n\\n He dialed Manhattan and felt the sinking sensation that presaged his\\n car\\'s dropping to tube level. While it was being taken up by the robot\\n controls, being shuttled here and there preparatory to the shot to his\\n destination, he dialed the vehicle\\'s teevee-phone for information on\\n the hotels of the island of the Hudson. He selected a swank hostelry\\n he\\'d read about and seen on the teevee casts of society and celebrity\\n gossip reporters, and dialed it on the car\\'s destination dial.\\n\\n\\n \"Nothing too good for ex-Space Pilot Si Pond,\" he said aloud.\\n\\n\\n The car hesitated for a moment, that brief hesitation before the\\n shot, and Si took the involuntary breath from which only heroes could\\n refrain. He sank back slowly into the seat. Moments passed, and the\\n direction of the pressure was reversed.\\n\\n\\n Manhattan. The shuttling began again, and one or two more traversing\\n sub-shots. Finally, the dash threw a green light and Si opened the\\n canopy and stepped into his hotel room.\\n\\n\\n A voice said gently, \"If the quarters are satisfactory, please present\\n your credit card within ten minutes.\"\\n\\n\\n Si took his time. Not that he really needed it. It was by far the most\\n swank suite he had ever seen. One wall was a window of whatever size\\n the guest might desire and Si touched the control that dilated it to\\n the full. His view opened in such wise that he could see both the\\n Empire State Building Museum and the Hudson. Beyond the river stretched\\n the all but endless city which was Greater Metropolis.\\n\\n\\n He didn\\'t take the time to flick on the menu, next to the auto-dining\\n table, nor to check the endless potables on the autobar list. All that,\\n he well knew, would be superlative. Besides, he didn\\'t plan to dine\\n or do much drinking in his suite. He made a mock leer. Not unless he\\n managed to acquire some feminine companionship, that was.\\n\\n\\n He looked briefly into the swimming pool and bath, then flopped\\n himself happily onto the bed. It wasn\\'t up to the degree of softness\\n he presently desired, and he dialed the thing to the ultimate in that\\n direction so that with a laugh he sank almost out of sight into the\\n mattress.\\n\\n\\n He came back to his feet, gave his suit a quick patting so that it\\n fell into press and, taking his credit card from his pocket, put it\\n against the teevee-phone screen and pressed the hotel button so that\\n registration could be completed.\\n\\n\\n For a moment he stood in the center of the floor, in thought. Take it\\n easy, Si Pond, take it all easy, this time. No throwing his dollars\\n around in second-class groggeries, no eating in automated luncheterias.\\n This time, be it the only time in his life, he was going to frolic in\\n the grand manner. No cloddy was Si Pond.\\n\\n\\n He decided a drink was in order to help him plan his strategy. A drink\\n at the hotel\\'s famous Kudos Room where celebrities were reputed to be a\\n dime a dozen.\\n\\n\\n He left the suite and stepped into one of the elevators. He said,\\n \"Kudos Room.\"\\n\\n\\n The auto-elevator murmured politely, \"Yes, sir, the Kudos Room.\"\\nAt the door to the famous rendezvous of the swankiest set, Si paused a\\n moment and looked about. He\\'d never been in a place like this, either.\\n However, he stifled his first instinct to wonder about what this was\\n going to do to his current credit balance with an inner grin and made\\n his way to the bar.\\n\\n\\n There was actually a bartender.\\n\\n\\n Si Pond suppressed his astonishment and said, offhand, attempting an\\n air of easy sophistication, \"Slivovitz Sour.\"\\n\\n\\n \"Yes, sir.\"\\n\\n\\n The drinks in the Kudos Room might be concocted by hand, but Si noticed\\n they had the routine teevee screens built into the bar for payment.\\n He put his credit card on the screen immediately before him when the\\n drink came, and had to quell his desire to dial for a balance check, so\\n as to be able to figure out what the Sour had cost him.\\n\\n\\n Well, this was something like it. This was the sort of thing he\\'d\\n dreamed about, out there in the great alone, seated in the confining\\n conning tower of his space craft. He sipped at the drink, finding it up\\n to his highest expectations, and then swiveled slightly on his stool to\\n take a look at the others present.\\n\\n\\n To his disappointment, there were no recognizable celebrities. None\\n that he placed, at least—top teevee stars, top politicians of the\\n Ultrawelfare State or Sports personalities.\\n\\n\\n He turned back to his drink and noticed, for the first time, the girl\\n who occupied the stool two down from him. Si Pond blinked. He blinked\\n and then swallowed.\\n\\n\\n \"\\nZo-ro-as-ter\\n,\" he breathed.\\n\\n\\n She was done in the latest style from Shanghai, even to the point of\\n having cosmetically duplicated the Mongolian fold at the corners of her\\n eyes. Every pore, but\\nevery\\npore, was in place. She sat with the easy\\n grace of the Orient, so seldom found in the West.\\n\\n\\n His stare couldn\\'t be ignored.\\n\\n\\n She looked at him coldly, turned to the bartender and murmured, \"A Far\\n Out Cooler, please, Fredric.\" Then deliberately added, \"I thought the\\n Kudos Room was supposed to be exclusive.\"\\n\\n\\n There was nothing the bartender could say to that, and he went about\\n building the drink.\\n\\n\\n Si cleared his throat. \"Hey,\" he said, \"how about letting this one be\\n on me?\"\\n\\n\\n Her eyebrows, which had been plucked and penciled to carry out her\\n Oriental motif, rose. \"Really!\" she said, drawing it out.\\n\\n\\n The bartender said hurriedly, \"I beg your pardon, sir....\"\\n\\n\\n The girl, her voice suddenly subtly changed, said, \"Why, isn\\'t that a\\n space pin?\"\\n\\n\\n Si, disconcerted by the sudden reversal, said, \"Yeah ... sure.\"\\n\\n\\n \"Good Heavens, you\\'re a spaceman?\"\\n\\n\\n \"Sure.\" He pointed at the lapel pin. \"You can\\'t wear one unless you\\n been on at least a Moon run.\"\\n\\n\\n She was obviously both taken back and impressed. \"Why,\" she said,\\n \"you\\'re Seymour Pond, the pilot. I tuned in on the banquet they gave\\n you.\"\\n\\n\\n Si, carrying his glass, moved over to the stool next to her. \"Call me\\n Si,\" he said. \"Everybody calls me Si.\"\\n\\n\\n She said, \"I\\'m Natalie. Natalie Paskov. Just Natalie. Imagine meeting\\n Seymour Pond. Just sitting down next to him at a bar. Just like that.\"\\n\\n\\n \"Si,\" Si said, gratified. Holy Zoroaster, he\\'d never seen anything\\n like this rarified pulchritude. Maybe on teevee, of course, one of the\\n current sex symbols, but never in person. \"Call me Si,\" he said again.\\n \"I been called Si so long, I don\\'t even know who somebody\\'s talking to\\n if they say Seymour.\"\\n\\n\\n \"I cried when they gave you that antique watch,\" she said, her tone\\n such that it was obvious she hadn\\'t quite adjusted as yet to having\\n met him.\\n\\n\\n Si Pond was surprised. \"Cried?\" he said. \"Well, why? I was kind of\\n bored with the whole thing. But old Doc Gubelin, I used to work under\\n him in the Space Exploration department, he was hot for it.\"\\n\\n\\n \"\\nAcademician\\nGubelin?\" she said. \"You just call him\\nDoc\\n?\"\\n\\n\\n Si was expansive. \"Why, sure. In the Space Department we don\\'t have\\n much time for formality. Everybody\\'s just Si, and Doc, and Jim. Like\\n that. But how come you cried?\"\\nShe looked down into the drink the bartender had placed before her,\\n as though avoiding his face. \"I ... I suppose it was that speech\\n Doctor Girard-Perregaux made. There you stood, so fine and straight in\\n your space-pilot uniform, the veteran of six exploration runs to the\\n planets....\"\\n\\n\\n \"Well,\" Si said modestly, \"two of my runs were only to the Moon.\"\\n\\n\\n \"... and he said all those things about man\\'s conquest of space. And\\n the dream of the stars which man has held so long. And then the fact\\n that you were the last of the space pilots. The last man in the whole\\n world trained to pilot a space craft. And here you were, retiring.\"\\n\\n\\n Si grunted. \"Yeah. That\\'s all part of the Doc\\'s scheme to get me to\\n take on another three runs. They\\'re afraid the whole department\\'ll be\\n dropped by the Appropriations Committee on this here Economic Planning\\n Board. Even if they can find some other patsy to train for the job,\\n it\\'d take maybe a year before you could even send him on a Moon hop.\\n So old man Gubelin, and Girard-Perregaux too, they\\'re both trying to\\n pressure me into more trips. Otherwise they got a Space Exploration\\n Department, with all the expense and all, but nobody to pilot their\\n ships. It\\'s kind of funny, in a way. You know what one of those\\n spaceships costs?\"\\n\\n\\n \"Funny?\" she said. \"Why, I don\\'t think it\\'s funny at all.\"\\n\\n\\n Si said, \"Look, how about another drink?\"\\n\\n\\n Natalie Paskov said, \"Oh, I\\'d love to have a drink with you, Mr....\"\\n\"Si,\" Si said. He motioned to the bartender with a circular twist of\\n the hand indicating their need for two more of the same. \"How come you\\n know so much about it? You don\\'t meet many people who are interested\\n in space any more. In fact, most people are almost contemptuous, like.\\n Think it\\'s kind of a big boondoggle deal to help use up a lot of\\n materials and all and keep the economy going.\"\\n\\n\\n Natalie said earnestly, \"Why, I\\'ve been a space fan all my life. I\\'ve\\n read all about it. Have always known the names of all the space pilots\\n and everything about them, ever since I was a child. I suppose you\\'d\\n say I have the dream that Doctor Girard-Perregaux spoke about.\"\\n\\n\\n Si chuckled. \"A real buff, eh? You know, it\\'s kind of funny. I was\\n never much interested in it. And I got a darn sight less interested\\n after my first run and I found out what space cafard was.\"\\n\\n\\n She frowned. \"I don\\'t believe I know much about that.\"\\n\\n\\n Sitting in the Kudos Room with the most beautiful girl to whom he had\\n ever talked, Si could be nonchalant about the subject. \"Old Gubelin\\n keeps that angle mostly hushed up and out of the magazine and newspaper\\n articles. Says there\\'s enough adverse publicity about space exploration\\n already. But at this stage of the game when the whole ship\\'s crammed\\n tight with this automatic scientific apparatus and all, there\\'s\\n precious little room in the conning tower and you\\'re the only man\\n aboard. The Doc says later on when ships are bigger and there\\'s a whole\\n flock of people aboard, there won\\'t be any such thing as space cafard,\\n but....\" Of a sudden the right side of Si Pond\\'s mouth began to tic\\n and he hurriedly took up his drink and knocked it back.\\n',\n",
       " 'answer': 3,\n",
       " 'truth_answer': 'Training new spacemen is costly and time consuming. They won’t have anyone else ready after him.'}"
      ]
     },
     "execution_count": 1,
     "metadata": {},
     "output_type": "execute_result"
    }
   ],
   "source": [
    "from utils.data_process import get_data\n",
    "path=\"./dataset/Final_Quality.json\"\n",
    "data=get_data(path)\n",
    "print(data[0].keys())\n",
    "print(f\"資料數:{len(data)}\")\n",
    "data[0]"
   ]
  },
  {
   "cell_type": "markdown",
   "metadata": {},
   "source": [
    "# 2. Choose Model Api"
   ]
  },
  {
   "cell_type": "code",
   "execution_count": 2,
   "metadata": {},
   "outputs": [
    {
     "name": "stdout",
     "output_type": "stream",
     "text": [
      "目前使用模型為:Breeze\n",
      " 我是一個由 GPT-4 模型訓練的語言模型。我主要的功能是理解和生成人類自然語言的文本，以回答問題、生成文章或進行其他自然語言處理任務。我被設計用來學習和分析大量的文本資料，以便提供準確且相關的回答。\n"
     ]
    }
   ],
   "source": [
    "# 選擇使用模型 Breeze Taide ChatGPT Llama3 Mistral\n",
    "model_name=\"Breeze\" #Breeze Taide ChatGPT Llama3 Mistral\n",
    "from utils.api_devlop import get_api\n",
    "get_llm_reply=get_api(model_name)\n",
    "print(get_llm_reply(\"請用中文自我介紹，你是誰訓練的模型\"))"
   ]
  },
  {
   "cell_type": "markdown",
   "metadata": {},
   "source": [
    "# 3. Run"
   ]
  },
  {
   "cell_type": "code",
   "execution_count": 3,
   "metadata": {},
   "outputs": [
    {
     "name": "stderr",
     "output_type": "stream",
     "text": [
      "You try to use a model that was created with version 3.0.0.dev0, however, your version is 2.2.2. This might cause unexpected behavior or errors. In that case, try to update to the latest version.\n",
      "\n",
      "\n",
      "\n"
     ]
    }
   ],
   "source": [
    "from tqdm.auto import tqdm\n",
    "from sentence_transformers import SentenceTransformer, util\n",
    "import torch\n",
    "device = torch.device(\"cuda\" if torch.cuda.is_available() else \"cpu\")\n",
    "model = SentenceTransformer(\"multi-qa-mpnet-base-dot-v1\").to(device)\n",
    "device = model.device\n",
    "\n",
    "def pick_up(result):\n",
    "    if \"1\" in result:\n",
    "        return 1\n",
    "    elif \"2\" in result:\n",
    "        return 2\n",
    "    elif \"3\" in result:\n",
    "        return 3\n",
    "    elif \"4\" in result:\n",
    "        return 4\n",
    "    else:\n",
    "        return 5\n",
    "\n",
    "def split_with_overlap_english(text, chunk_size=3000, overlap=1):\n",
    "    chunks=[]\n",
    "    sentences=text.split(\".\")\n",
    "    temp_chunk=[]\n",
    "\n",
    "    pre_overlap_num=0\n",
    "    pre_overlap=[]\n",
    "    af_overlap=[]\n",
    "    word_count=\"\"\n",
    "    for sentence_idx in range(len(sentences)):\n",
    "        word_count+=sentences[sentence_idx]+\" \"\n",
    "        temp_chunk.append(sentences[sentence_idx])\n",
    "\n",
    "        if len(word_count.split(\" \"))>chunk_size:\n",
    "            if chunks!=[]:\n",
    "                pre_overlap_num=-overlap\n",
    "                pre_overlap=chunks[-1].split(\".\")[pre_overlap_num*2:pre_overlap_num]\n",
    "            if sentence_idx<len(sentences)-1:\n",
    "                af_overlap_num=min(len(sentences)-1,sentence_idx+1+overlap)\n",
    "                af_overlap=sentences[sentence_idx+1:af_overlap_num]\n",
    "            chunks.append(\". \".join(pre_overlap)+\". \"+\". \".join(temp_chunk)+\". \"+\". \".join(af_overlap))\n",
    "            temp_chunk.clear()\n",
    "            word_count=\"\"\n",
    "    if chunks!=[]:\n",
    "        pre_overlap_num=-overlap\n",
    "        pre_overlap=chunks[-1].split(\".\")[pre_overlap_num*2:pre_overlap_num]\n",
    "    chunks.append(\". \".join(pre_overlap)+\". \"+\". \".join(temp_chunk))\n",
    "\n",
    "    return chunks\n",
    "\n",
    "def find_smaller_than_neighbors(arr):\n",
    "    result = []\n",
    "    for i in range(1, len(arr) - 1):\n",
    "        if arr[i] < arr[i - 1] and arr[i] < arr[i + 1]:\n",
    "            result.append(i)\n",
    "    return result\n",
    "\n",
    "def Semantic_Sentence_Split(text, chunk_size=3000, overlap=10):\n",
    "    # 將句子以句號分割\n",
    "    sentences = text.split(\".\")\n",
    "    # 將句子進行encode\n",
    "    embedding_sentences = model.encode(sentences)\n",
    "    # 計算句子倆倆相似度\n",
    "    dot_result = []\n",
    "    for i in range(len(embedding_sentences) - 1):\n",
    "        similarity_of_adjacent = util.dot_score(embedding_sentences[i], embedding_sentences[i + 1])\n",
    "        dot_result.append(similarity_of_adjacent.item())\n",
    "    smaller_than_neighbors = find_smaller_than_neighbors(dot_result)\n",
    "    start_num = 0\n",
    "    passages = []\n",
    "    for num in smaller_than_neighbors:\n",
    "        end_num = num + 1  # 确定当前段落的结束位置\n",
    "        if len(\". \".join(sentences[start_num:end_num]).split(\" \")) > chunk_size:\n",
    "            temp_passage = \". \".join(sentences[start_num:end_num])  # 创建当前段落\n",
    "            passages.append(temp_passage)\n",
    "            start_num = max(start_num + 1, num + 1 -overlap)  # 更新下一段的起始位置，添加重叠\n",
    "    temp_passage = \". \".join(sentences[start_num:])  # 添加最后一段\n",
    "    passages.append(temp_passage)\n",
    "    return passages\n",
    "\n",
    "\n",
    "def os_ap_sss_answer(summary_prompt,input_content,input_question,truncate_size=3000,overlap=10):\n",
    "    \"\"\"\n",
    "    url_num 多個api要用哪張顯卡 multithread 用的\n",
    "    input_content 輸入文章\n",
    "    input_question 輸入問題\n",
    "    truncate_size 最常吃的input\n",
    "    overlap 切完文章後要 overlap 多少句\n",
    "    \"\"\"\n",
    "    os_prompt=summary_prompt\n",
    "    \n",
    "    # 切分摘要完要輸入給llm的內容\n",
    "    new_content=input_content\n",
    "    while len(new_content.split(\" \"))>truncate_size:\n",
    "        # 將內容先切成好幾個chunk\n",
    "        content_chuncks=Semantic_Sentence_Split(new_content,truncate_size,overlap)\n",
    "        # 這一輪的新內容\n",
    "        new_content=\"\"\n",
    "        for chunk in content_chuncks:\n",
    "\n",
    "            # 請llm幫我們把重要資訊留下\n",
    "            input_for_reader=f\"\"\"Article excerpt:\n",
    "            {chunk}\n",
    "            \n",
    "            The above is the article excerpt related to my question.\n",
    "            Below is the question I want to ask.\n",
    "            Please select the text content that can answer this question.\n",
    "            {os_prompt}\n",
    "            \n",
    "            Question:\n",
    "            {input_question}\"\"\"\n",
    "            # 將llm認為有關係的地方留下來\n",
    "            chunk_summary=get_llm_reply(input_for_reader)\n",
    "            # if chunk_summary==None:\n",
    "            #     continue\n",
    "            new_content+=chunk_summary+\" \"\n",
    "        # 防錯(如果LLM api無回傳 直接比照truncate)\n",
    "        if new_content==\"\":\n",
    "            new_content=\" \".join(input_content.split(\" \")[:3000])\n",
    "            break\n",
    "    # 找完有用的內容後，進行問答\n",
    "    input_to_llm=f\"\"\"There will be an article question and four options. \n",
    "    Please choose the option that answers the question based on the article.\n",
    "\n",
    "    article:\n",
    "    {new_content}\n",
    "\n",
    "    question:\n",
    "    {input_question}\n",
    "    \n",
    "    Your answer must be the number of one of the options,meaning it should be either option1, option2, option3, or option4. \n",
    "    The format for the answer should be as follows: Answer__optionX.\"\"\"\n",
    "    answer_from_llm=get_llm_reply(input_to_llm)\n",
    "    return answer_from_llm\n"
   ]
  },
  {
   "cell_type": "markdown",
   "metadata": {},
   "source": [
    "# 練蠱"
   ]
  },
  {
   "cell_type": "code",
   "execution_count": 4,
   "metadata": {},
   "outputs": [
    {
     "data": {
      "application/json": {
       "ascii": false,
       "bar_format": null,
       "colour": null,
       "elapsed": 0.006944894790649414,
       "initial": 0,
       "n": 0,
       "ncols": null,
       "nrows": null,
       "postfix": null,
       "prefix": "",
       "rate": null,
       "total": 100,
       "unit": "it",
       "unit_divisor": 1000,
       "unit_scale": false
      },
      "application/vnd.jupyter.widget-view+json": {
       "model_id": "424c9604c6b041fa99fcb5cb422c4798",
       "version_major": 2,
       "version_minor": 0
      },
      "text/plain": [
       "  0%|          | 0/100 [00:00<?, ?it/s]"
      ]
     },
     "metadata": {},
     "output_type": "display_data"
    },
    {
     "ename": "KeyboardInterrupt",
     "evalue": "",
     "output_type": "error",
     "traceback": [
      "\u001b[0;31m---------------------------------------------------------------------------\u001b[0m",
      "\u001b[0;31mKeyboardInterrupt\u001b[0m                         Traceback (most recent call last)",
      "Cell \u001b[0;32mIn[4], line 49\u001b[0m\n\u001b[1;32m     47\u001b[0m \u001b[38;5;66;03m# 初始化prompt算分，這邊先用最後10筆示範\u001b[39;00m\n\u001b[1;32m     48\u001b[0m \u001b[38;5;28;01mfor\u001b[39;00m prompt \u001b[38;5;129;01min\u001b[39;00m prompt_list:\n\u001b[0;32m---> 49\u001b[0m     score\u001b[38;5;241m=\u001b[39m\u001b[43mget_score\u001b[49m\u001b[43m(\u001b[49m\u001b[38;5;241;43m3000\u001b[39;49m\u001b[43m,\u001b[49m\u001b[38;5;241;43m10\u001b[39;49m\u001b[43m,\u001b[49m\u001b[43mprompt\u001b[49m\u001b[43m,\u001b[49m\u001b[43mtraining_data\u001b[49m\u001b[43m)\u001b[49m\n\u001b[1;32m     50\u001b[0m     prompt_scores\u001b[38;5;241m.\u001b[39mappend({\u001b[38;5;124m'\u001b[39m\u001b[38;5;124mprompt\u001b[39m\u001b[38;5;124m'\u001b[39m: prompt, \u001b[38;5;124m'\u001b[39m\u001b[38;5;124mscore\u001b[39m\u001b[38;5;124m'\u001b[39m: score})\n\u001b[1;32m     52\u001b[0m sorted_prompt_scores \u001b[38;5;241m=\u001b[39m \u001b[38;5;28msorted\u001b[39m(prompt_scores, key\u001b[38;5;241m=\u001b[39m\u001b[38;5;28;01mlambda\u001b[39;00m x: x[\u001b[38;5;124m'\u001b[39m\u001b[38;5;124mscore\u001b[39m\u001b[38;5;124m'\u001b[39m], reverse\u001b[38;5;241m=\u001b[39m\u001b[38;5;28;01mTrue\u001b[39;00m)\n",
      "Cell \u001b[0;32mIn[4], line 16\u001b[0m, in \u001b[0;36mget_score\u001b[0;34m(chunck_size, overlap, prompt, test_data)\u001b[0m\n\u001b[1;32m     13\u001b[0m input_question\u001b[38;5;241m=\u001b[39meach_data[\u001b[38;5;124m'\u001b[39m\u001b[38;5;124mquestion\u001b[39m\u001b[38;5;124m'\u001b[39m]\n\u001b[1;32m     14\u001b[0m truth_answer_number\u001b[38;5;241m=\u001b[39meach_data[\u001b[38;5;124m'\u001b[39m\u001b[38;5;124manswer\u001b[39m\u001b[38;5;124m'\u001b[39m]\n\u001b[0;32m---> 16\u001b[0m result\u001b[38;5;241m=\u001b[39m\u001b[43mos_ap_sss_answer\u001b[49m\u001b[43m(\u001b[49m\u001b[43mprompt\u001b[49m\u001b[43m,\u001b[49m\u001b[43minput_content\u001b[49m\u001b[43m,\u001b[49m\u001b[43minput_question\u001b[49m\u001b[43m,\u001b[49m\u001b[43mchunck_size\u001b[49m\u001b[43m,\u001b[49m\u001b[43moverlap\u001b[49m\u001b[43m)\u001b[49m\n\u001b[1;32m     17\u001b[0m \u001b[38;5;66;03m# 對答案計分數\u001b[39;00m\n\u001b[1;32m     18\u001b[0m \u001b[38;5;28;01mif\u001b[39;00m pick_up(result)\u001b[38;5;241m==\u001b[39mtruth_answer_number:\n",
      "Cell \u001b[0;32mIn[3], line 112\u001b[0m, in \u001b[0;36mos_ap_sss_answer\u001b[0;34m(summary_prompt, input_content, input_question, truncate_size, overlap)\u001b[0m\n\u001b[1;32m    101\u001b[0m input_for_reader\u001b[38;5;241m=\u001b[39m\u001b[38;5;124mf\u001b[39m\u001b[38;5;124m\"\"\"\u001b[39m\u001b[38;5;124mArticle excerpt:\u001b[39m\n\u001b[1;32m    102\u001b[0m \u001b[38;5;124m\u001b[39m\u001b[38;5;132;01m{\u001b[39;00mchunk\u001b[38;5;132;01m}\u001b[39;00m\n\u001b[1;32m    103\u001b[0m \u001b[38;5;124m\u001b[39m\n\u001b[0;32m   (...)\u001b[0m\n\u001b[1;32m    109\u001b[0m \u001b[38;5;124mQuestion:\u001b[39m\n\u001b[1;32m    110\u001b[0m \u001b[38;5;124m\u001b[39m\u001b[38;5;132;01m{\u001b[39;00minput_question\u001b[38;5;132;01m}\u001b[39;00m\u001b[38;5;124m\"\"\"\u001b[39m\n\u001b[1;32m    111\u001b[0m \u001b[38;5;66;03m# 將llm認為有關係的地方留下來\u001b[39;00m\n\u001b[0;32m--> 112\u001b[0m chunk_summary\u001b[38;5;241m=\u001b[39m\u001b[43mget_llm_reply\u001b[49m\u001b[43m(\u001b[49m\u001b[43minput_for_reader\u001b[49m\u001b[43m)\u001b[49m\n\u001b[1;32m    113\u001b[0m \u001b[38;5;66;03m# if chunk_summary==None:\u001b[39;00m\n\u001b[1;32m    114\u001b[0m \u001b[38;5;66;03m#     continue\u001b[39;00m\n\u001b[1;32m    115\u001b[0m new_content\u001b[38;5;241m+\u001b[39m\u001b[38;5;241m=\u001b[39mchunk_summary\u001b[38;5;241m+\u001b[39m\u001b[38;5;124m\"\u001b[39m\u001b[38;5;124m \u001b[39m\u001b[38;5;124m\"\u001b[39m\n",
      "File \u001b[0;32m~/itri/Ress/utils/api/Breeze_API_t.py:53\u001b[0m, in \u001b[0;36mget_breeze_t\u001b[0;34m(input_content, max_new_tokens, temperature)\u001b[0m\n\u001b[1;32m     51\u001b[0m     \u001b[38;5;28mprint\u001b[39m(url\u001b[38;5;241m==\u001b[39m\u001b[38;5;124m\"\u001b[39m\u001b[38;5;124mhttps://nlplab-llm.nlpnchu.org/generate\u001b[39m\u001b[38;5;124m\"\u001b[39m)\n\u001b[1;32m     52\u001b[0m     \u001b[38;5;28mprint\u001b[39m(\u001b[38;5;124mf\u001b[39m\u001b[38;5;124m\"\u001b[39m\u001b[38;5;124mtype(url) = \u001b[39m\u001b[38;5;132;01m{\u001b[39;00m\u001b[38;5;28mtype\u001b[39m(url)\u001b[38;5;132;01m}\u001b[39;00m\u001b[38;5;124m\"\u001b[39m)\n\u001b[0;32m---> 53\u001b[0m response \u001b[38;5;241m=\u001b[39m \u001b[43mrequests\u001b[49m\u001b[38;5;241;43m.\u001b[39;49m\u001b[43mrequest\u001b[49m\u001b[43m(\u001b[49m\u001b[38;5;124;43m\"\u001b[39;49m\u001b[38;5;124;43mPOST\u001b[39;49m\u001b[38;5;124;43m\"\u001b[39;49m\u001b[43m,\u001b[49m\u001b[43m \u001b[49m\u001b[43murl\u001b[49m\u001b[43m,\u001b[49m\u001b[43m \u001b[49m\u001b[43mheaders\u001b[49m\u001b[38;5;241;43m=\u001b[39;49m\u001b[43mheaders\u001b[49m\u001b[43m,\u001b[49m\u001b[43m \u001b[49m\u001b[43mdata\u001b[49m\u001b[38;5;241;43m=\u001b[39;49m\u001b[43mpayload\u001b[49m\u001b[43m,\u001b[49m\u001b[43m \u001b[49m\u001b[43mtimeout\u001b[49m\u001b[38;5;241;43m=\u001b[39;49m\u001b[38;5;241;43m120\u001b[39;49m\u001b[43m)\u001b[49m\n\u001b[1;32m     54\u001b[0m \u001b[38;5;28;01mif\u001b[39;00m DEBUGGER\u001b[38;5;241m==\u001b[39m\u001b[38;5;124m\"\u001b[39m\u001b[38;5;124mTrue\u001b[39m\u001b[38;5;124m\"\u001b[39m:\n\u001b[1;32m     55\u001b[0m     \u001b[38;5;28mprint\u001b[39m(\u001b[38;5;124m\"\u001b[39m\u001b[38;5;124m0\u001b[39m\u001b[38;5;124m\"\u001b[39m)\n",
      "File \u001b[0;32m~/.local/lib/python3.9/site-packages/requests/api.py:61\u001b[0m, in \u001b[0;36mrequest\u001b[0;34m(method, url, **kwargs)\u001b[0m\n\u001b[1;32m     57\u001b[0m \u001b[38;5;66;03m# By using the 'with' statement we are sure the session is closed, thus we\u001b[39;00m\n\u001b[1;32m     58\u001b[0m \u001b[38;5;66;03m# avoid leaving sockets open which can trigger a ResourceWarning in some\u001b[39;00m\n\u001b[1;32m     59\u001b[0m \u001b[38;5;66;03m# cases, and look like a memory leak in others.\u001b[39;00m\n\u001b[1;32m     60\u001b[0m \u001b[38;5;28;01mwith\u001b[39;00m sessions\u001b[38;5;241m.\u001b[39mSession() \u001b[38;5;28;01mas\u001b[39;00m session:\n\u001b[0;32m---> 61\u001b[0m     \u001b[38;5;28;01mreturn\u001b[39;00m \u001b[43msession\u001b[49m\u001b[38;5;241;43m.\u001b[39;49m\u001b[43mrequest\u001b[49m\u001b[43m(\u001b[49m\u001b[43mmethod\u001b[49m\u001b[38;5;241;43m=\u001b[39;49m\u001b[43mmethod\u001b[49m\u001b[43m,\u001b[49m\u001b[43m \u001b[49m\u001b[43murl\u001b[49m\u001b[38;5;241;43m=\u001b[39;49m\u001b[43murl\u001b[49m\u001b[43m,\u001b[49m\u001b[43m \u001b[49m\u001b[38;5;241;43m*\u001b[39;49m\u001b[38;5;241;43m*\u001b[39;49m\u001b[43mkwargs\u001b[49m\u001b[43m)\u001b[49m\n",
      "File \u001b[0;32m~/.local/lib/python3.9/site-packages/requests/sessions.py:542\u001b[0m, in \u001b[0;36mSession.request\u001b[0;34m(self, method, url, params, data, headers, cookies, files, auth, timeout, allow_redirects, proxies, hooks, stream, verify, cert, json)\u001b[0m\n\u001b[1;32m    537\u001b[0m send_kwargs \u001b[38;5;241m=\u001b[39m {\n\u001b[1;32m    538\u001b[0m     \u001b[38;5;124m'\u001b[39m\u001b[38;5;124mtimeout\u001b[39m\u001b[38;5;124m'\u001b[39m: timeout,\n\u001b[1;32m    539\u001b[0m     \u001b[38;5;124m'\u001b[39m\u001b[38;5;124mallow_redirects\u001b[39m\u001b[38;5;124m'\u001b[39m: allow_redirects,\n\u001b[1;32m    540\u001b[0m }\n\u001b[1;32m    541\u001b[0m send_kwargs\u001b[38;5;241m.\u001b[39mupdate(settings)\n\u001b[0;32m--> 542\u001b[0m resp \u001b[38;5;241m=\u001b[39m \u001b[38;5;28;43mself\u001b[39;49m\u001b[38;5;241;43m.\u001b[39;49m\u001b[43msend\u001b[49m\u001b[43m(\u001b[49m\u001b[43mprep\u001b[49m\u001b[43m,\u001b[49m\u001b[43m \u001b[49m\u001b[38;5;241;43m*\u001b[39;49m\u001b[38;5;241;43m*\u001b[39;49m\u001b[43msend_kwargs\u001b[49m\u001b[43m)\u001b[49m\n\u001b[1;32m    544\u001b[0m \u001b[38;5;28;01mreturn\u001b[39;00m resp\n",
      "File \u001b[0;32m~/.local/lib/python3.9/site-packages/requests/sessions.py:655\u001b[0m, in \u001b[0;36mSession.send\u001b[0;34m(self, request, **kwargs)\u001b[0m\n\u001b[1;32m    652\u001b[0m start \u001b[38;5;241m=\u001b[39m preferred_clock()\n\u001b[1;32m    654\u001b[0m \u001b[38;5;66;03m# Send the request\u001b[39;00m\n\u001b[0;32m--> 655\u001b[0m r \u001b[38;5;241m=\u001b[39m \u001b[43madapter\u001b[49m\u001b[38;5;241;43m.\u001b[39;49m\u001b[43msend\u001b[49m\u001b[43m(\u001b[49m\u001b[43mrequest\u001b[49m\u001b[43m,\u001b[49m\u001b[43m \u001b[49m\u001b[38;5;241;43m*\u001b[39;49m\u001b[38;5;241;43m*\u001b[39;49m\u001b[43mkwargs\u001b[49m\u001b[43m)\u001b[49m\n\u001b[1;32m    657\u001b[0m \u001b[38;5;66;03m# Total elapsed time of the request (approximately)\u001b[39;00m\n\u001b[1;32m    658\u001b[0m elapsed \u001b[38;5;241m=\u001b[39m preferred_clock() \u001b[38;5;241m-\u001b[39m start\n",
      "File \u001b[0;32m~/.local/lib/python3.9/site-packages/requests/adapters.py:439\u001b[0m, in \u001b[0;36mHTTPAdapter.send\u001b[0;34m(self, request, stream, timeout, verify, cert, proxies)\u001b[0m\n\u001b[1;32m    437\u001b[0m \u001b[38;5;28;01mtry\u001b[39;00m:\n\u001b[1;32m    438\u001b[0m     \u001b[38;5;28;01mif\u001b[39;00m \u001b[38;5;129;01mnot\u001b[39;00m chunked:\n\u001b[0;32m--> 439\u001b[0m         resp \u001b[38;5;241m=\u001b[39m \u001b[43mconn\u001b[49m\u001b[38;5;241;43m.\u001b[39;49m\u001b[43murlopen\u001b[49m\u001b[43m(\u001b[49m\n\u001b[1;32m    440\u001b[0m \u001b[43m            \u001b[49m\u001b[43mmethod\u001b[49m\u001b[38;5;241;43m=\u001b[39;49m\u001b[43mrequest\u001b[49m\u001b[38;5;241;43m.\u001b[39;49m\u001b[43mmethod\u001b[49m\u001b[43m,\u001b[49m\n\u001b[1;32m    441\u001b[0m \u001b[43m            \u001b[49m\u001b[43murl\u001b[49m\u001b[38;5;241;43m=\u001b[39;49m\u001b[43murl\u001b[49m\u001b[43m,\u001b[49m\n\u001b[1;32m    442\u001b[0m \u001b[43m            \u001b[49m\u001b[43mbody\u001b[49m\u001b[38;5;241;43m=\u001b[39;49m\u001b[43mrequest\u001b[49m\u001b[38;5;241;43m.\u001b[39;49m\u001b[43mbody\u001b[49m\u001b[43m,\u001b[49m\n\u001b[1;32m    443\u001b[0m \u001b[43m            \u001b[49m\u001b[43mheaders\u001b[49m\u001b[38;5;241;43m=\u001b[39;49m\u001b[43mrequest\u001b[49m\u001b[38;5;241;43m.\u001b[39;49m\u001b[43mheaders\u001b[49m\u001b[43m,\u001b[49m\n\u001b[1;32m    444\u001b[0m \u001b[43m            \u001b[49m\u001b[43mredirect\u001b[49m\u001b[38;5;241;43m=\u001b[39;49m\u001b[38;5;28;43;01mFalse\u001b[39;49;00m\u001b[43m,\u001b[49m\n\u001b[1;32m    445\u001b[0m \u001b[43m            \u001b[49m\u001b[43massert_same_host\u001b[49m\u001b[38;5;241;43m=\u001b[39;49m\u001b[38;5;28;43;01mFalse\u001b[39;49;00m\u001b[43m,\u001b[49m\n\u001b[1;32m    446\u001b[0m \u001b[43m            \u001b[49m\u001b[43mpreload_content\u001b[49m\u001b[38;5;241;43m=\u001b[39;49m\u001b[38;5;28;43;01mFalse\u001b[39;49;00m\u001b[43m,\u001b[49m\n\u001b[1;32m    447\u001b[0m \u001b[43m            \u001b[49m\u001b[43mdecode_content\u001b[49m\u001b[38;5;241;43m=\u001b[39;49m\u001b[38;5;28;43;01mFalse\u001b[39;49;00m\u001b[43m,\u001b[49m\n\u001b[1;32m    448\u001b[0m \u001b[43m            \u001b[49m\u001b[43mretries\u001b[49m\u001b[38;5;241;43m=\u001b[39;49m\u001b[38;5;28;43mself\u001b[39;49m\u001b[38;5;241;43m.\u001b[39;49m\u001b[43mmax_retries\u001b[49m\u001b[43m,\u001b[49m\n\u001b[1;32m    449\u001b[0m \u001b[43m            \u001b[49m\u001b[43mtimeout\u001b[49m\u001b[38;5;241;43m=\u001b[39;49m\u001b[43mtimeout\u001b[49m\n\u001b[1;32m    450\u001b[0m \u001b[43m        \u001b[49m\u001b[43m)\u001b[49m\n\u001b[1;32m    452\u001b[0m     \u001b[38;5;66;03m# Send the request.\u001b[39;00m\n\u001b[1;32m    453\u001b[0m     \u001b[38;5;28;01melse\u001b[39;00m:\n\u001b[1;32m    454\u001b[0m         \u001b[38;5;28;01mif\u001b[39;00m \u001b[38;5;28mhasattr\u001b[39m(conn, \u001b[38;5;124m'\u001b[39m\u001b[38;5;124mproxy_pool\u001b[39m\u001b[38;5;124m'\u001b[39m):\n",
      "File \u001b[0;32m~/.local/lib/python3.9/site-packages/urllib3/connectionpool.py:699\u001b[0m, in \u001b[0;36mHTTPConnectionPool.urlopen\u001b[0;34m(self, method, url, body, headers, retries, redirect, assert_same_host, timeout, pool_timeout, release_conn, chunked, body_pos, **response_kw)\u001b[0m\n\u001b[1;32m    696\u001b[0m     \u001b[38;5;28mself\u001b[39m\u001b[38;5;241m.\u001b[39m_prepare_proxy(conn)\n\u001b[1;32m    698\u001b[0m \u001b[38;5;66;03m# Make the request on the httplib connection object.\u001b[39;00m\n\u001b[0;32m--> 699\u001b[0m httplib_response \u001b[38;5;241m=\u001b[39m \u001b[38;5;28;43mself\u001b[39;49m\u001b[38;5;241;43m.\u001b[39;49m\u001b[43m_make_request\u001b[49m\u001b[43m(\u001b[49m\n\u001b[1;32m    700\u001b[0m \u001b[43m    \u001b[49m\u001b[43mconn\u001b[49m\u001b[43m,\u001b[49m\n\u001b[1;32m    701\u001b[0m \u001b[43m    \u001b[49m\u001b[43mmethod\u001b[49m\u001b[43m,\u001b[49m\n\u001b[1;32m    702\u001b[0m \u001b[43m    \u001b[49m\u001b[43murl\u001b[49m\u001b[43m,\u001b[49m\n\u001b[1;32m    703\u001b[0m \u001b[43m    \u001b[49m\u001b[43mtimeout\u001b[49m\u001b[38;5;241;43m=\u001b[39;49m\u001b[43mtimeout_obj\u001b[49m\u001b[43m,\u001b[49m\n\u001b[1;32m    704\u001b[0m \u001b[43m    \u001b[49m\u001b[43mbody\u001b[49m\u001b[38;5;241;43m=\u001b[39;49m\u001b[43mbody\u001b[49m\u001b[43m,\u001b[49m\n\u001b[1;32m    705\u001b[0m \u001b[43m    \u001b[49m\u001b[43mheaders\u001b[49m\u001b[38;5;241;43m=\u001b[39;49m\u001b[43mheaders\u001b[49m\u001b[43m,\u001b[49m\n\u001b[1;32m    706\u001b[0m \u001b[43m    \u001b[49m\u001b[43mchunked\u001b[49m\u001b[38;5;241;43m=\u001b[39;49m\u001b[43mchunked\u001b[49m\u001b[43m,\u001b[49m\n\u001b[1;32m    707\u001b[0m \u001b[43m\u001b[49m\u001b[43m)\u001b[49m\n\u001b[1;32m    709\u001b[0m \u001b[38;5;66;03m# If we're going to release the connection in ``finally:``, then\u001b[39;00m\n\u001b[1;32m    710\u001b[0m \u001b[38;5;66;03m# the response doesn't need to know about the connection. Otherwise\u001b[39;00m\n\u001b[1;32m    711\u001b[0m \u001b[38;5;66;03m# it will also try to release it and we'll have a double-release\u001b[39;00m\n\u001b[1;32m    712\u001b[0m \u001b[38;5;66;03m# mess.\u001b[39;00m\n\u001b[1;32m    713\u001b[0m response_conn \u001b[38;5;241m=\u001b[39m conn \u001b[38;5;28;01mif\u001b[39;00m \u001b[38;5;129;01mnot\u001b[39;00m release_conn \u001b[38;5;28;01melse\u001b[39;00m \u001b[38;5;28;01mNone\u001b[39;00m\n",
      "File \u001b[0;32m~/.local/lib/python3.9/site-packages/urllib3/connectionpool.py:382\u001b[0m, in \u001b[0;36mHTTPConnectionPool._make_request\u001b[0;34m(self, conn, method, url, timeout, chunked, **httplib_request_kw)\u001b[0m\n\u001b[1;32m    380\u001b[0m \u001b[38;5;66;03m# Trigger any extra validation we need to do.\u001b[39;00m\n\u001b[1;32m    381\u001b[0m \u001b[38;5;28;01mtry\u001b[39;00m:\n\u001b[0;32m--> 382\u001b[0m     \u001b[38;5;28;43mself\u001b[39;49m\u001b[38;5;241;43m.\u001b[39;49m\u001b[43m_validate_conn\u001b[49m\u001b[43m(\u001b[49m\u001b[43mconn\u001b[49m\u001b[43m)\u001b[49m\n\u001b[1;32m    383\u001b[0m \u001b[38;5;28;01mexcept\u001b[39;00m (SocketTimeout, BaseSSLError) \u001b[38;5;28;01mas\u001b[39;00m e:\n\u001b[1;32m    384\u001b[0m     \u001b[38;5;66;03m# Py2 raises this as a BaseSSLError, Py3 raises it as socket timeout.\u001b[39;00m\n\u001b[1;32m    385\u001b[0m     \u001b[38;5;28mself\u001b[39m\u001b[38;5;241m.\u001b[39m_raise_timeout(err\u001b[38;5;241m=\u001b[39me, url\u001b[38;5;241m=\u001b[39murl, timeout_value\u001b[38;5;241m=\u001b[39mconn\u001b[38;5;241m.\u001b[39mtimeout)\n",
      "File \u001b[0;32m~/.local/lib/python3.9/site-packages/urllib3/connectionpool.py:1010\u001b[0m, in \u001b[0;36mHTTPSConnectionPool._validate_conn\u001b[0;34m(self, conn)\u001b[0m\n\u001b[1;32m   1008\u001b[0m \u001b[38;5;66;03m# Force connect early to allow us to validate the connection.\u001b[39;00m\n\u001b[1;32m   1009\u001b[0m \u001b[38;5;28;01mif\u001b[39;00m \u001b[38;5;129;01mnot\u001b[39;00m \u001b[38;5;28mgetattr\u001b[39m(conn, \u001b[38;5;124m\"\u001b[39m\u001b[38;5;124msock\u001b[39m\u001b[38;5;124m\"\u001b[39m, \u001b[38;5;28;01mNone\u001b[39;00m):  \u001b[38;5;66;03m# AppEngine might not have  `.sock`\u001b[39;00m\n\u001b[0;32m-> 1010\u001b[0m     \u001b[43mconn\u001b[49m\u001b[38;5;241;43m.\u001b[39;49m\u001b[43mconnect\u001b[49m\u001b[43m(\u001b[49m\u001b[43m)\u001b[49m\n\u001b[1;32m   1012\u001b[0m \u001b[38;5;28;01mif\u001b[39;00m \u001b[38;5;129;01mnot\u001b[39;00m conn\u001b[38;5;241m.\u001b[39mis_verified:\n\u001b[1;32m   1013\u001b[0m     warnings\u001b[38;5;241m.\u001b[39mwarn(\n\u001b[1;32m   1014\u001b[0m         (\n\u001b[1;32m   1015\u001b[0m             \u001b[38;5;124m\"\u001b[39m\u001b[38;5;124mUnverified HTTPS request is being made to host \u001b[39m\u001b[38;5;124m'\u001b[39m\u001b[38;5;132;01m%s\u001b[39;00m\u001b[38;5;124m'\u001b[39m\u001b[38;5;124m. \u001b[39m\u001b[38;5;124m\"\u001b[39m\n\u001b[0;32m   (...)\u001b[0m\n\u001b[1;32m   1020\u001b[0m         InsecureRequestWarning,\n\u001b[1;32m   1021\u001b[0m     )\n",
      "File \u001b[0;32m~/.local/lib/python3.9/site-packages/urllib3/connection.py:358\u001b[0m, in \u001b[0;36mHTTPSConnection.connect\u001b[0;34m(self)\u001b[0m\n\u001b[1;32m    356\u001b[0m \u001b[38;5;28;01mdef\u001b[39;00m \u001b[38;5;21mconnect\u001b[39m(\u001b[38;5;28mself\u001b[39m):\n\u001b[1;32m    357\u001b[0m     \u001b[38;5;66;03m# Add certificate verification\u001b[39;00m\n\u001b[0;32m--> 358\u001b[0m     conn \u001b[38;5;241m=\u001b[39m \u001b[38;5;28;43mself\u001b[39;49m\u001b[38;5;241;43m.\u001b[39;49m\u001b[43m_new_conn\u001b[49m\u001b[43m(\u001b[49m\u001b[43m)\u001b[49m\n\u001b[1;32m    359\u001b[0m     hostname \u001b[38;5;241m=\u001b[39m \u001b[38;5;28mself\u001b[39m\u001b[38;5;241m.\u001b[39mhost\n\u001b[1;32m    360\u001b[0m     tls_in_tls \u001b[38;5;241m=\u001b[39m \u001b[38;5;28;01mFalse\u001b[39;00m\n",
      "File \u001b[0;32m~/.local/lib/python3.9/site-packages/urllib3/connection.py:174\u001b[0m, in \u001b[0;36mHTTPConnection._new_conn\u001b[0;34m(self)\u001b[0m\n\u001b[1;32m    171\u001b[0m     extra_kw[\u001b[38;5;124m\"\u001b[39m\u001b[38;5;124msocket_options\u001b[39m\u001b[38;5;124m\"\u001b[39m] \u001b[38;5;241m=\u001b[39m \u001b[38;5;28mself\u001b[39m\u001b[38;5;241m.\u001b[39msocket_options\n\u001b[1;32m    173\u001b[0m \u001b[38;5;28;01mtry\u001b[39;00m:\n\u001b[0;32m--> 174\u001b[0m     conn \u001b[38;5;241m=\u001b[39m \u001b[43mconnection\u001b[49m\u001b[38;5;241;43m.\u001b[39;49m\u001b[43mcreate_connection\u001b[49m\u001b[43m(\u001b[49m\n\u001b[1;32m    175\u001b[0m \u001b[43m        \u001b[49m\u001b[43m(\u001b[49m\u001b[38;5;28;43mself\u001b[39;49m\u001b[38;5;241;43m.\u001b[39;49m\u001b[43m_dns_host\u001b[49m\u001b[43m,\u001b[49m\u001b[43m \u001b[49m\u001b[38;5;28;43mself\u001b[39;49m\u001b[38;5;241;43m.\u001b[39;49m\u001b[43mport\u001b[49m\u001b[43m)\u001b[49m\u001b[43m,\u001b[49m\u001b[43m \u001b[49m\u001b[38;5;28;43mself\u001b[39;49m\u001b[38;5;241;43m.\u001b[39;49m\u001b[43mtimeout\u001b[49m\u001b[43m,\u001b[49m\u001b[43m \u001b[49m\u001b[38;5;241;43m*\u001b[39;49m\u001b[38;5;241;43m*\u001b[39;49m\u001b[43mextra_kw\u001b[49m\n\u001b[1;32m    176\u001b[0m \u001b[43m    \u001b[49m\u001b[43m)\u001b[49m\n\u001b[1;32m    178\u001b[0m \u001b[38;5;28;01mexcept\u001b[39;00m SocketTimeout:\n\u001b[1;32m    179\u001b[0m     \u001b[38;5;28;01mraise\u001b[39;00m ConnectTimeoutError(\n\u001b[1;32m    180\u001b[0m         \u001b[38;5;28mself\u001b[39m,\n\u001b[1;32m    181\u001b[0m         \u001b[38;5;124m\"\u001b[39m\u001b[38;5;124mConnection to \u001b[39m\u001b[38;5;132;01m%s\u001b[39;00m\u001b[38;5;124m timed out. (connect timeout=\u001b[39m\u001b[38;5;132;01m%s\u001b[39;00m\u001b[38;5;124m)\u001b[39m\u001b[38;5;124m\"\u001b[39m\n\u001b[1;32m    182\u001b[0m         \u001b[38;5;241m%\u001b[39m (\u001b[38;5;28mself\u001b[39m\u001b[38;5;241m.\u001b[39mhost, \u001b[38;5;28mself\u001b[39m\u001b[38;5;241m.\u001b[39mtimeout),\n\u001b[1;32m    183\u001b[0m     )\n",
      "File \u001b[0;32m~/.local/lib/python3.9/site-packages/urllib3/util/connection.py:86\u001b[0m, in \u001b[0;36mcreate_connection\u001b[0;34m(address, timeout, source_address, socket_options)\u001b[0m\n\u001b[1;32m     84\u001b[0m     \u001b[38;5;28;01mif\u001b[39;00m source_address:\n\u001b[1;32m     85\u001b[0m         sock\u001b[38;5;241m.\u001b[39mbind(source_address)\n\u001b[0;32m---> 86\u001b[0m     \u001b[43msock\u001b[49m\u001b[38;5;241;43m.\u001b[39;49m\u001b[43mconnect\u001b[49m\u001b[43m(\u001b[49m\u001b[43msa\u001b[49m\u001b[43m)\u001b[49m\n\u001b[1;32m     87\u001b[0m     \u001b[38;5;28;01mreturn\u001b[39;00m sock\n\u001b[1;32m     89\u001b[0m \u001b[38;5;28;01mexcept\u001b[39;00m socket\u001b[38;5;241m.\u001b[39merror \u001b[38;5;28;01mas\u001b[39;00m e:\n",
      "\u001b[0;31mKeyboardInterrupt\u001b[0m: "
     ]
    }
   ],
   "source": [
    "import os\n",
    "from utils.api.Breeze_API_t import get_breeze_t\n",
    "\n",
    "def get_score(chunck_size,overlap,prompt=\"\",test_data=[]):\n",
    "    # 總分數\n",
    "    scores=0 \n",
    "    # 資料計數器\n",
    "    num=0 \n",
    "    for each_data in tqdm(test_data):\n",
    "        try:\n",
    "            # 輸入的內容與答案\n",
    "            input_content=each_data['content']\n",
    "            input_question=each_data['question']\n",
    "            truth_answer_number=each_data['answer']\n",
    "\n",
    "            result=os_ap_sss_answer(prompt,input_content,input_question,chunck_size,overlap)\n",
    "            # 對答案計分數\n",
    "            if pick_up(result)==truth_answer_number:\n",
    "                scores+=1\n",
    "            num+=1\n",
    "        except Exception as e:\n",
    "            print(e)\n",
    "    return scores\n",
    "\n",
    "def prompt_not_in_list(prompt_list, new_prompt):\n",
    "    for item in prompt_list:\n",
    "        if item['prompt'] == new_prompt:\n",
    "            return False\n",
    "    return True\n",
    "\n",
    "# 你要拿來練蠱的Training data\n",
    "training_data=data[-100:]\n",
    "# 練蠱終止條件(我是設超過baseline做100題後的分數，這邊看你資料量來設)\n",
    "stop_score=100\n",
    "# 或是設一個回合數來終止(本來我會讓他跑到天荒地老所以沒有用for loop)\n",
    "stop_run_num=20\n",
    "# 你要給LLM看幾個example\n",
    "example_num=5\n",
    "\n",
    "# 給幾個初始化prompt\n",
    "prompt_list=[\"\",\"Let's think step by step.\",\"Identify the specific information that responds to the question in the article.\",\"\"\"The text content should be concise and follow a universal structure.\n",
    "    To ensure a correct answer, the process of creating a summary should focus on identifying the main points and key details of the text.\n",
    "    It should avoid including specific content or names from the original article and instead provide a general overview of the information.\n",
    "    The summary should follow a universal structure, presenting the main idea and supporting details in a clear and concise manner.\n",
    "    By following these guidelines, the summary can accurately reflect the content of the text and lead to a correct answer.\"\"\"]\n",
    "prompt_scores=[]\n",
    "# 初始化prompt算分，這邊先用最後10筆示範\n",
    "for prompt in prompt_list:\n",
    "    score=get_score(3000,10,prompt,training_data)\n",
    "    prompt_scores.append({'prompt': prompt, 'score': score})\n",
    "\n",
    "sorted_prompt_scores = sorted(prompt_scores, key=lambda x: x['score'], reverse=True)\n",
    "print(f\"initial prompt:\\n{sorted_prompt_scores}\")\n",
    "# 開練\n",
    "while sorted_prompt_scores[0]['score']<stop_score:\n",
    "    stop_run_num-=1\n",
    "    if stop_run_num<0:\n",
    "        break\n",
    "    # 單純用來終止迴圈 你也可以interrupt\n",
    "    if os.path.exists(os.path.join(os.getcwd(),'stop_true.txt')):\n",
    "        break\n",
    "\n",
    "    # 排序你的prompt 拿比較高分的給LLM當example\n",
    "    sorted_prompt_scores = sorted(prompt_scores, key=lambda x: x['score'], reverse=True)\n",
    "\n",
    "    # 整理example格式\n",
    "    example=\"\"\n",
    "    for p in sorted_prompt_scores[:example_num]:\n",
    "        example+=f\"\"\"[Old prompt]:\"{p['prompt']}\"\n",
    "        [Scores]:{p['score']}\"\"\"\n",
    "\n",
    "    # 整理輸入(可以print出來檢查)\n",
    "    input_to_temperature_llm=f\"\"\"You are an expert at crafting prompts.\n",
    "    Based on the example task given below for an LLM, fill in the most suitable prompt in the place marked [new_prompt].\n",
    "    The following describes the task you will undertake:\n",
    "\n",
    "    \"\n",
    "    Article excerpt:\n",
    "    [article_chunk]\n",
    "\n",
    "    The above is the article excerpt related to my question.\n",
    "    Below is the question I want to ask.\n",
    "    Please select the text content that can answer this question.\n",
    "    [new_prompt]\n",
    "\n",
    "    Question:\n",
    "    [input_question]\n",
    "    \"\n",
    "\n",
    "    Here are some example prompts and their scores, ranging from 0 to 100, with higher scores indicating better performance.\n",
    "    Please help me think of a unique new_prompt where higher scores are better.\n",
    "\n",
    "    {example}\n",
    "\n",
    "    ### You only need to return the new_prompt ###\n",
    "    DON'T return the [Scores] or explanation.\n",
    "    Your new_prompt:__\"\"\"\n",
    "\n",
    "    new_prompt=get_breeze_t(input_to_temperature_llm,4090,1)\n",
    "    print(\"=\"*50)\n",
    "    print(new_prompt)\n",
    "    if prompt_not_in_list(prompt_scores,new_prompt):\n",
    "        score=get_score(3000,10,prompt,training_data)\n",
    "        print(\"*\"*50)\n",
    "        print(f\"{new_prompt}\\n{score}\")\n",
    "        prompt_scores.append({'prompt': new_prompt, 'score': score})\n",
    "    else:\n",
    "        print(\"prompt exict\")\n",
    "summary_prompt=sorted_prompt_scores[0]['prompt']\n",
    "print(f\"\"\"新的Prompt: \n",
    "      {summary_prompt}\"\"\")"
   ]
  },
  {
   "cell_type": "code",
   "execution_count": null,
   "metadata": {},
   "outputs": [
    {
     "data": {
      "text/plain": [
       "[{'prompt': 'The text content should be concise and follow a universal structure.\\n    To ensure a correct answer, the process of creating a summary should focus on identifying the main points and key details of the text.\\n    It should avoid including specific content or names from the original article and instead provide a general overview of the information.\\n    The summary should follow a universal structure, presenting the main idea and supporting details in a clear and concise manner.\\n    By following these guidelines, the summary can accurately reflect the content of the text and lead to a correct answer.',\n",
       "  'score': 7},\n",
       " {'prompt': ' \"The text content should be concise and follow a universal structure. To ensure a correct answer, the process of creating a summary should focus on identifying the main points and key details of the text. It should avoid including specific content or names from the original article and instead provide a general overview of the information. The summary should follow a universal structure, presenting the main idea and supporting details in a clear and concise manner. By following these guidelines, the summary can accurately reflect the content of the text and lead to a correct answer.\"',\n",
       "  'score': 7},\n",
       " {'prompt': ' The new_prompt: \"Create a concise and clear summary of the article excerpt, focusing on the main points and key details that directly answer the question.\"',\n",
       "  'score': 7},\n",
       " {'prompt': ' Create a concise and clear summary of the article excerpt, focusing on the main points and key details that directly answer the question.',\n",
       "  'score': 7},\n",
       " {'prompt': '', 'score': 6},\n",
       " {'prompt': \"Let's think step by step.\", 'score': 6},\n",
       " {'prompt': 'Identify the specific information that responds to the question in the article.',\n",
       "  'score': 6}]"
      ]
     },
     "execution_count": 25,
     "metadata": {},
     "output_type": "execute_result"
    }
   ],
   "source": [
    "sorted_prompt_scores"
   ]
  },
  {
   "cell_type": "markdown",
   "metadata": {},
   "source": [
    "# 用新prompt實際跑實驗"
   ]
  },
  {
   "cell_type": "code",
   "execution_count": null,
   "metadata": {},
   "outputs": [],
   "source": [
    "def run(input_data,summary_prompt,chunck_size,overlap):\n",
    "    # 輸出結果\n",
    "    my_result=[]\n",
    "    # 錯誤資料\n",
    "    error_list=[]\n",
    "    # 總分數\n",
    "    scores=0 \n",
    "    # 資料計數器\n",
    "    num=0 \n",
    "\n",
    "    for each_data in tqdm(input_data):\n",
    "        try:\n",
    "            # 輸入的內容與答案\n",
    "            input_content=each_data['content']\n",
    "            input_question=each_data['question']\n",
    "            truth_answer_number=each_data['answer']\n",
    "\n",
    "            result=os_ap_sss_answer(summary_prompt,input_content,input_question,chunck_size,overlap)\n",
    "            # 對答案計分數\n",
    "            if pick_up(result)==truth_answer_number:\n",
    "                scores+=1\n",
    "            num+=1\n",
    "\n",
    "            # print出目前得分正確率\n",
    "            print(f\"score:{scores}/{num} :({scores/num*100}%)\")\n",
    "            my_result.append(result)\n",
    "            \n",
    "        except Exception as e:\n",
    "            error_list.append(each_data)\n",
    "            print(e)\n",
    "            print(f\"目前錯誤數量:{len(error_list)}\")\n",
    "    return f\"score:{scores}/{num} :({scores/num*100}%)\",my_result,error_list\n"
   ]
  },
  {
   "cell_type": "code",
   "execution_count": null,
   "metadata": {},
   "outputs": [],
   "source": [
    "score,results,error_results=run(data[:100],summary_prompt,3000,10)"
   ]
  },
  {
   "cell_type": "code",
   "execution_count": null,
   "metadata": {},
   "outputs": [],
   "source": [
    "results"
   ]
  }
 ],
 "metadata": {
  "kernelspec": {
   "display_name": "base",
   "language": "python",
   "name": "python3"
  },
  "language_info": {
   "codemirror_mode": {
    "name": "ipython",
    "version": 3
   },
   "file_extension": ".py",
   "mimetype": "text/x-python",
   "name": "python",
   "nbconvert_exporter": "python",
   "pygments_lexer": "ipython3",
   "version": "3.9.12"
  }
 },
 "nbformat": 4,
 "nbformat_minor": 2
}
